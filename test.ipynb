{
 "cells": [
  {
   "cell_type": "code",
   "execution_count": 1,
   "metadata": {},
   "outputs": [],
   "source": [
    "from core import *"
   ]
  },
  {
   "cell_type": "code",
   "execution_count": 2,
   "metadata": {},
   "outputs": [
    {
     "data": {
      "text/plain": [
       "[{'provenance': 'affro',\n",
       "  'version': '3.0.0',\n",
       "  'pid': 'ror',\n",
       "  'value': 'https://ror.org/01k97gp34',\n",
       "  'name': 'TU Dortmund University',\n",
       "  'confidence': 1,\n",
       "  'status': 'active',\n",
       "  'country': 'germany'}]"
      ]
     },
     "execution_count": 2,
     "metadata": {},
     "output_type": "execute_result"
    }
   ],
   "source": [
    "run_affro('TU Dortmund University Institute of Forming Technology and Lightweight Components, , Dortmund 44227 , Germany')"
   ]
  },
  {
   "cell_type": "code",
   "execution_count": 3,
   "metadata": {},
   "outputs": [
    {
     "data": {
      "text/plain": [
       "[{'provenance': 'affro',\n",
       "  'version': '3.0.0',\n",
       "  'pid': 'ror',\n",
       "  'value': 'https://ror.org/01hvx5h04',\n",
       "  'name': 'Osaka Metropolitan University',\n",
       "  'confidence': 1,\n",
       "  'status': 'active',\n",
       "  'country': 'japan'}]"
      ]
     },
     "execution_count": 3,
     "metadata": {},
     "output_type": "execute_result"
    }
   ],
   "source": [
    "run_affro(\"Osaka Metropolitan University Department of Aerospace Engineering, Graduate School of Engineering, , Sakai,   ,\")"
   ]
  },
  {
   "cell_type": "code",
   "execution_count": 4,
   "metadata": {},
   "outputs": [
    {
     "data": {
      "text/plain": [
       "[{'provenance': 'affro',\n",
       "  'version': '3.0.0',\n",
       "  'pid': 'ror',\n",
       "  'value': 'https://ror.org/04qb8nc58',\n",
       "  'name': 'Clausthal University of Technology',\n",
       "  'confidence': 0.816496580927726,\n",
       "  'status': 'active',\n",
       "  'country': 'germany'}]"
      ]
     },
     "execution_count": 4,
     "metadata": {},
     "output_type": "execute_result"
    }
   ],
   "source": [
    "run_affro('Institut für Organische Chemie, TU Clausthal, Clausthal-Zellerfeld, Deutschland')"
   ]
  }
 ],
 "metadata": {
  "kernelspec": {
   "display_name": "base",
   "language": "python",
   "name": "python3"
  },
  "language_info": {
   "codemirror_mode": {
    "name": "ipython",
    "version": 3
   },
   "file_extension": ".py",
   "mimetype": "text/x-python",
   "name": "python",
   "nbconvert_exporter": "python",
   "pygments_lexer": "ipython3",
   "version": "3.11.9"
  }
 },
 "nbformat": 4,
 "nbformat_minor": 2
}
