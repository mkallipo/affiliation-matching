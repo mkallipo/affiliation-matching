{
  "cells": [
    {
      "cell_type": "code",
      "execution_count": 1,
      "metadata": {},
      "outputs": [],
      "source": [
        "#This is needed to start a Spark session from the notebook\n",
        "#You may adjust the memory used by the driver program based on your machine's settings\n",
        "import os \n",
        "os.environ['PYSPARK_SUBMIT_ARGS'] =\"--conf spark.driver.memory=4g  pyspark-shell\"\n",
        "\n",
        "from pyspark.sql import SparkSession"
      ]
    },
    {
      "cell_type": "code",
      "execution_count": 3,
      "metadata": {},
      "outputs": [
        {
          "name": "stdout",
          "output_type": "stream",
          "text": [
            "Spark application already started. Terminating existing application and starting new one\n"
          ]
        }
      ],
      "source": [
        "# -------------------------------\n",
        "# Start Spark in LOCAL mode\n",
        "# -------------------------------\n",
        "\n",
        "#The following lines are just there to allow this cell to be re-executed multiple times:\n",
        "#if a spark session was already started, we stop it before starting a new one\n",
        "#(there can be only one spark context per jupyter notebook)\n",
        "try: \n",
        "    spark\n",
        "    print(\"Spark application already started. Terminating existing application and starting new one\")\n",
        "    spark.stop()\n",
        "except: \n",
        "    pass\n",
        "\n",
        "# Create a new spark session (note, the * indicates to use all available CPU cores)\n",
        "spark = SparkSession \\\n",
        "    .builder \\\n",
        "    .master(\"local[*]\") \\\n",
        "    .appName(\"demoRDD\") \\\n",
        "    .getOrCreate()\n",
        "    \n",
        "#When dealing with RDDs, we work the sparkContext object. See https://spark.apache.org/docs/latest/api/python/pyspark.html#pyspark.SparkContext\n",
        "sc=spark.sparkContext"
      ]
    },
    {
      "attachments": {},
      "cell_type": "markdown",
      "metadata": {},
      "source": [
        "# Import packages, files"
      ]
    },
    {
      "cell_type": "code",
      "execution_count": 4,
      "metadata": {},
      "outputs": [],
      "source": [
        "import pandas as pd\n",
        "import json\n",
        "inputPath = './data/'"
      ]
    },
    {
      "cell_type": "code",
      "execution_count": 6,
      "metadata": {
        "autoscroll": "auto"
      },
      "outputs": [],
      "source": [
        "NewOrganization = sc.textFile(inputPath + 'NewOrganization').map(json.loads)"
      ]
    },
    {
      "attachments": {},
      "cell_type": "markdown",
      "metadata": {},
      "source": [
        "# orgDF"
      ]
    },
    {
      "cell_type": "code",
      "execution_count": 7,
      "metadata": {},
      "outputs": [
        {
          "name": "stderr",
          "output_type": "stream",
          "text": [
            "                                                                                \r"
          ]
        }
      ],
      "source": [
        "orgDF = pd.DataFrame(NewOrganization.collect())"
      ]
    },
    {
      "attachments": {},
      "cell_type": "markdown",
      "metadata": {},
      "source": [
        "# Prefix"
      ]
    },
    {
      "cell_type": "code",
      "execution_count": 7,
      "metadata": {},
      "outputs": [],
      "source": [
        "prefix = []\n",
        "for i in range(len(orgDF)):\n",
        "    prefix.append(orgDF['id'].iloc[i][0:15])\n",
        "    \n",
        "orgDF['prefix'] = prefix"
      ]
    },
    {
      "attachments": {},
      "cell_type": "markdown",
      "metadata": {},
      "source": [
        "# Remove rows with NaN pid"
      ]
    },
    {
      "cell_type": "code",
      "execution_count": 8,
      "metadata": {},
      "outputs": [],
      "source": [
        "orgDF.dropna(subset = ['pid'], inplace = True)\n",
        "orgDF.reset_index(inplace = True)\n",
        "orgDF.drop(columns = 'index', inplace = True)"
      ]
    },
    {
      "attachments": {},
      "cell_type": "markdown",
      "metadata": {},
      "source": [
        "# Extract country's name"
      ]
    },
    {
      "cell_type": "code",
      "execution_count": 9,
      "metadata": {},
      "outputs": [],
      "source": [
        "orgDF['country'] = orgDF['country'].fillna('unknown')\n"
      ]
    },
    {
      "cell_type": "code",
      "execution_count": 10,
      "metadata": {},
      "outputs": [],
      "source": [
        "def getCountry(k):\n",
        "   return [orgDF['country'][k]['label'] for j in range(len(orgDF['country'][k]))]\n",
        "\n",
        "\n",
        "countryName = [orgDF['country'][k]['label']  if type(orgDF['country'][k]) == dict else orgDF['country'][k] for k in range(len(orgDF))] \n",
        "\n"
      ]
    },
    {
      "cell_type": "code",
      "execution_count": 11,
      "metadata": {},
      "outputs": [],
      "source": [
        "countryName1 = []\n",
        "\n",
        "for i in range(len(countryName)):\n",
        "    countryName1.append(countryName[i].lower())\n",
        "\n",
        "orgDF['country name'] = countryName1\n"
      ]
    },
    {
      "cell_type": "code",
      "execution_count": 12,
      "metadata": {},
      "outputs": [],
      "source": [
        "\n",
        "orgDF = orgDF[['id','prefix','legalname','legalshortname','alternativenames', 'websiteurl', 'country name','pid']]"
      ]
    },
    {
      "attachments": {},
      "cell_type": "markdown",
      "metadata": {},
      "source": [
        "# Alter lower()"
      ]
    },
    {
      "cell_type": "code",
      "execution_count": 13,
      "metadata": {},
      "outputs": [],
      "source": [
        "altern = [] \n",
        "\n",
        "for i in range(len(orgDF)):\n",
        "    xi = []\n",
        "    for x in orgDF['alternativenames'].iloc[i]:\n",
        "        xi.append(x.lower())\n",
        "    altern.append(xi)\n",
        "        \n",
        "orgDF.loc[:,'alternativenames'] = altern"
      ]
    },
    {
      "attachments": {},
      "cell_type": "markdown",
      "metadata": {},
      "source": [
        "# Label pid y/n"
      ]
    },
    {
      "cell_type": "code",
      "execution_count": 14,
      "metadata": {},
      "outputs": [],
      "source": [
        "label = [] \n",
        "for i in range(len(orgDF)):\n",
        "    if  orgDF['pid'].iloc[i] == []:\n",
        "        label.append('N')\n",
        "    else:\n",
        "        label.append('Y')\n",
        "        \n",
        "orgDF['pid (Y/N)'] = label"
      ]
    },
    {
      "attachments": {},
      "cell_type": "markdown",
      "metadata": {},
      "source": [
        "# Legalnames"
      ]
    },
    {
      "cell_type": "code",
      "execution_count": 15,
      "metadata": {},
      "outputs": [],
      "source": [
        "orgDF['legalname'] = orgDF['legalname'].fillna('unknown')\n",
        "\n",
        "legalnameLow = [s.lower() for s in orgDF['legalname']]\n",
        "\n",
        "orgDF['legalname'] = legalnameLow"
      ]
    },
    {
      "attachments": {},
      "cell_type": "markdown",
      "metadata": {},
      "source": [
        "# pidDF: Dataframe with organizations having pid"
      ]
    },
    {
      "cell_type": "code",
      "execution_count": 16,
      "metadata": {},
      "outputs": [],
      "source": [
        "PID = [i for i in range(len(orgDF)) if orgDF['pid (Y/N)'].iloc[i] == 'Y']\n",
        "\n",
        "pidDF = orgDF.iloc[PID]\n",
        "pidDF.reset_index(inplace = True)\n",
        "pidDF = pidDF.drop(columns = 'index')"
      ]
    },
    {
      "attachments": {},
      "cell_type": "markdown",
      "metadata": {},
      "source": [
        "# Add legalnames to alternative names if missing"
      ]
    },
    {
      "cell_type": "code",
      "execution_count": 17,
      "metadata": {},
      "outputs": [],
      "source": [
        "for i in range(len(pidDF)):\n",
        "    if pidDF['legalname'].iloc[i] not in pidDF['alternativenames'].iloc[i]:\n",
        "        (pidDF['alternativenames'].iloc[i]).append(pidDF['legalname'].iloc[i])"
      ]
    },
    {
      "attachments": {},
      "cell_type": "markdown",
      "metadata": {},
      "source": [
        "# openOrgDF: Dataframe with organizations having a '20|openorgs____' prefix"
      ]
    },
    {
      "cell_type": "code",
      "execution_count": 30,
      "metadata": {},
      "outputs": [],
      "source": [
        "openOrg = [i for i in range(len(pidDF)) if pidDF.prefix.iloc[i] == '20|openorgs____']\n",
        "\n",
        "openOrgDF = pidDF.iloc[openOrg]\n",
        "openOrgDF.reset_index(inplace = True)"
      ]
    },
    {
      "attachments": {},
      "cell_type": "markdown",
      "metadata": {},
      "source": [
        "# Create dictionaries"
      ]
    },
    {
      "cell_type": "code",
      "execution_count": 31,
      "metadata": {},
      "outputs": [],
      "source": [
        "def createDix(df):\n",
        "    allnames = [df['alternativenames'][i] for i in range(len(df))]\n",
        "    id = [df['id'][i] for i in range(len(df))]\n",
        "    dix = {allnames[i][j]: id[i] for i in range(len(allnames)) for j in range(len(allnames[i]))}\n",
        "    return dix\n"
      ]
    },
    {
      "cell_type": "code",
      "execution_count": 32,
      "metadata": {},
      "outputs": [],
      "source": [
        "dixPidAll = createDix(pidDF)  # all organizations with a pid"
      ]
    },
    {
      "cell_type": "code",
      "execution_count": 33,
      "metadata": {},
      "outputs": [],
      "source": [
        "dixOpenOrg = createDix(openOrgDF) # organizations with prefix '20|openorgs____'"
      ]
    },
    {
      "attachments": {},
      "cell_type": "markdown",
      "metadata": {},
      "source": [
        "# Find organizations"
      ]
    },
    {
      "cell_type": "code",
      "execution_count": 34,
      "metadata": {},
      "outputs": [],
      "source": [
        "def is_contained(s, w):\n",
        "    words = s.split() \n",
        "    for word in words:\n",
        "        if word not in w:  \n",
        "            return False  \n",
        "    return True  "
      ]
    },
    {
      "cell_type": "code",
      "execution_count": 35,
      "metadata": {},
      "outputs": [],
      "source": [
        "def findName(name, dix):\n",
        "    lnames = []\n",
        "    for x in list(dix.keys()):\n",
        "        if is_contained(name.lower(), x):\n",
        "            lnames.append(x)\n",
        "    return lnames"
      ]
    },
    {
      "attachments": {},
      "cell_type": "markdown",
      "metadata": {},
      "source": [
        "## Example"
      ]
    },
    {
      "cell_type": "code",
      "execution_count": 36,
      "metadata": {},
      "outputs": [
        {
          "data": {
            "text/plain": [
              "['agricultural university of athens',\n",
              " 'national technical university of athens',\n",
              " 'athens university of economics and business',\n",
              " 'national and kapodistrian university of athens',\n",
              " 'university of athens']"
            ]
          },
          "execution_count": 36,
          "metadata": {},
          "output_type": "execute_result"
        }
      ],
      "source": [
        "findName('University of Athens', dixOpenOrg)"
      ]
    },
    {
      "cell_type": "code",
      "execution_count": 37,
      "metadata": {},
      "outputs": [
        {
          "data": {
            "text/html": [
              "<div>\n",
              "<style scoped>\n",
              "    .dataframe tbody tr th:only-of-type {\n",
              "        vertical-align: middle;\n",
              "    }\n",
              "\n",
              "    .dataframe tbody tr th {\n",
              "        vertical-align: top;\n",
              "    }\n",
              "\n",
              "    .dataframe thead th {\n",
              "        text-align: right;\n",
              "    }\n",
              "</style>\n",
              "<table border=\"1\" class=\"dataframe\">\n",
              "  <thead>\n",
              "    <tr style=\"text-align: right;\">\n",
              "      <th></th>\n",
              "      <th>index</th>\n",
              "      <th>id</th>\n",
              "      <th>prefix</th>\n",
              "      <th>legalname</th>\n",
              "      <th>legalshortname</th>\n",
              "      <th>alternativenames</th>\n",
              "      <th>websiteurl</th>\n",
              "      <th>country name</th>\n",
              "      <th>pid</th>\n",
              "      <th>pid (Y/N)</th>\n",
              "    </tr>\n",
              "  </thead>\n",
              "  <tbody>\n",
              "    <tr>\n",
              "      <th>13531</th>\n",
              "      <td>23382</td>\n",
              "      <td>20|openorgs____::15ee7f73eb676be60ebc7629e42c7bf9</td>\n",
              "      <td>20|openorgs____</td>\n",
              "      <td>agricultural university of athens</td>\n",
              "      <td>AUA</td>\n",
              "      <td>[agricultural university of athens, université...</td>\n",
              "      <td>http://www.aua.gr/index.php</td>\n",
              "      <td>greece</td>\n",
              "      <td>[{'scheme': 'ISNI', 'value': '0000 0001 0794 1...</td>\n",
              "      <td>Y</td>\n",
              "    </tr>\n",
              "  </tbody>\n",
              "</table>\n",
              "</div>"
            ],
            "text/plain": [
              "       index                                                 id  \\\n",
              "13531  23382  20|openorgs____::15ee7f73eb676be60ebc7629e42c7bf9   \n",
              "\n",
              "                prefix                          legalname legalshortname  \\\n",
              "13531  20|openorgs____  agricultural university of athens            AUA   \n",
              "\n",
              "                                        alternativenames  \\\n",
              "13531  [agricultural university of athens, université...   \n",
              "\n",
              "                        websiteurl country name  \\\n",
              "13531  http://www.aua.gr/index.php       greece   \n",
              "\n",
              "                                                     pid pid (Y/N)  \n",
              "13531  [{'scheme': 'ISNI', 'value': '0000 0001 0794 1...         Y  "
            ]
          },
          "metadata": {},
          "output_type": "display_data"
        },
        {
          "data": {
            "text/html": [
              "<div>\n",
              "<style scoped>\n",
              "    .dataframe tbody tr th:only-of-type {\n",
              "        vertical-align: middle;\n",
              "    }\n",
              "\n",
              "    .dataframe tbody tr th {\n",
              "        vertical-align: top;\n",
              "    }\n",
              "\n",
              "    .dataframe thead th {\n",
              "        text-align: right;\n",
              "    }\n",
              "</style>\n",
              "<table border=\"1\" class=\"dataframe\">\n",
              "  <thead>\n",
              "    <tr style=\"text-align: right;\">\n",
              "      <th></th>\n",
              "      <th>index</th>\n",
              "      <th>id</th>\n",
              "      <th>prefix</th>\n",
              "      <th>legalname</th>\n",
              "      <th>legalshortname</th>\n",
              "      <th>alternativenames</th>\n",
              "      <th>websiteurl</th>\n",
              "      <th>country name</th>\n",
              "      <th>pid</th>\n",
              "      <th>pid (Y/N)</th>\n",
              "    </tr>\n",
              "  </thead>\n",
              "  <tbody>\n",
              "    <tr>\n",
              "      <th>52543</th>\n",
              "      <td>90211</td>\n",
              "      <td>20|openorgs____::c2e60d624c889b6217c6fc18d811fd72</td>\n",
              "      <td>20|openorgs____</td>\n",
              "      <td>national technical university of athens</td>\n",
              "      <td>NTUA</td>\n",
              "      <td>[athens polytechnic, école polytechnique d'ath...</td>\n",
              "      <td>http://www.ntua.gr/index_en.html</td>\n",
              "      <td>greece</td>\n",
              "      <td>[{'scheme': 'ISNI', 'value': '0000 0001 2185 9...</td>\n",
              "      <td>Y</td>\n",
              "    </tr>\n",
              "  </tbody>\n",
              "</table>\n",
              "</div>"
            ],
            "text/plain": [
              "       index                                                 id  \\\n",
              "52543  90211  20|openorgs____::c2e60d624c889b6217c6fc18d811fd72   \n",
              "\n",
              "                prefix                                legalname  \\\n",
              "52543  20|openorgs____  national technical university of athens   \n",
              "\n",
              "      legalshortname                                   alternativenames  \\\n",
              "52543           NTUA  [athens polytechnic, école polytechnique d'ath...   \n",
              "\n",
              "                             websiteurl country name  \\\n",
              "52543  http://www.ntua.gr/index_en.html       greece   \n",
              "\n",
              "                                                     pid pid (Y/N)  \n",
              "52543  [{'scheme': 'ISNI', 'value': '0000 0001 2185 9...         Y  "
            ]
          },
          "metadata": {},
          "output_type": "display_data"
        },
        {
          "data": {
            "text/html": [
              "<div>\n",
              "<style scoped>\n",
              "    .dataframe tbody tr th:only-of-type {\n",
              "        vertical-align: middle;\n",
              "    }\n",
              "\n",
              "    .dataframe tbody tr th {\n",
              "        vertical-align: top;\n",
              "    }\n",
              "\n",
              "    .dataframe thead th {\n",
              "        text-align: right;\n",
              "    }\n",
              "</style>\n",
              "<table border=\"1\" class=\"dataframe\">\n",
              "  <thead>\n",
              "    <tr style=\"text-align: right;\">\n",
              "      <th></th>\n",
              "      <th>index</th>\n",
              "      <th>id</th>\n",
              "      <th>prefix</th>\n",
              "      <th>legalname</th>\n",
              "      <th>legalshortname</th>\n",
              "      <th>alternativenames</th>\n",
              "      <th>websiteurl</th>\n",
              "      <th>country name</th>\n",
              "      <th>pid</th>\n",
              "      <th>pid (Y/N)</th>\n",
              "    </tr>\n",
              "  </thead>\n",
              "  <tbody>\n",
              "    <tr>\n",
              "      <th>91182</th>\n",
              "      <td>157257</td>\n",
              "      <td>20|openorgs____::2e07a0cb439178cc32c7dcb5912554fe</td>\n",
              "      <td>20|openorgs____</td>\n",
              "      <td>athens university of economics and business</td>\n",
              "      <td>OPA</td>\n",
              "      <td>[athens university of economics and business, ...</td>\n",
              "      <td>http://www.aueb.gr/index_en.php</td>\n",
              "      <td>greece</td>\n",
              "      <td>[{'scheme': 'ISNI', 'value': '0000 0001 2179 8...</td>\n",
              "      <td>Y</td>\n",
              "    </tr>\n",
              "  </tbody>\n",
              "</table>\n",
              "</div>"
            ],
            "text/plain": [
              "        index                                                 id  \\\n",
              "91182  157257  20|openorgs____::2e07a0cb439178cc32c7dcb5912554fe   \n",
              "\n",
              "                prefix                                    legalname  \\\n",
              "91182  20|openorgs____  athens university of economics and business   \n",
              "\n",
              "      legalshortname                                   alternativenames  \\\n",
              "91182            OPA  [athens university of economics and business, ...   \n",
              "\n",
              "                            websiteurl country name  \\\n",
              "91182  http://www.aueb.gr/index_en.php       greece   \n",
              "\n",
              "                                                     pid pid (Y/N)  \n",
              "91182  [{'scheme': 'ISNI', 'value': '0000 0001 2179 8...         Y  "
            ]
          },
          "metadata": {},
          "output_type": "display_data"
        },
        {
          "data": {
            "text/html": [
              "<div>\n",
              "<style scoped>\n",
              "    .dataframe tbody tr th:only-of-type {\n",
              "        vertical-align: middle;\n",
              "    }\n",
              "\n",
              "    .dataframe tbody tr th {\n",
              "        vertical-align: top;\n",
              "    }\n",
              "\n",
              "    .dataframe thead th {\n",
              "        text-align: right;\n",
              "    }\n",
              "</style>\n",
              "<table border=\"1\" class=\"dataframe\">\n",
              "  <thead>\n",
              "    <tr style=\"text-align: right;\">\n",
              "      <th></th>\n",
              "      <th>index</th>\n",
              "      <th>id</th>\n",
              "      <th>prefix</th>\n",
              "      <th>legalname</th>\n",
              "      <th>legalshortname</th>\n",
              "      <th>alternativenames</th>\n",
              "      <th>websiteurl</th>\n",
              "      <th>country name</th>\n",
              "      <th>pid</th>\n",
              "      <th>pid (Y/N)</th>\n",
              "    </tr>\n",
              "  </thead>\n",
              "  <tbody>\n",
              "    <tr>\n",
              "      <th>97442</th>\n",
              "      <td>168002</td>\n",
              "      <td>20|openorgs____::c0286313e36479eff8676dba9b724b40</td>\n",
              "      <td>20|openorgs____</td>\n",
              "      <td>national and kapodistrian university of athens</td>\n",
              "      <td>NKUA</td>\n",
              "      <td>[national and kapodistrian university of athen...</td>\n",
              "      <td>http://en.uoa.gr/</td>\n",
              "      <td>greece</td>\n",
              "      <td>[{'scheme': 'ISNI', 'value': '0000 0001 2155 0...</td>\n",
              "      <td>Y</td>\n",
              "    </tr>\n",
              "  </tbody>\n",
              "</table>\n",
              "</div>"
            ],
            "text/plain": [
              "        index                                                 id  \\\n",
              "97442  168002  20|openorgs____::c0286313e36479eff8676dba9b724b40   \n",
              "\n",
              "                prefix                                       legalname  \\\n",
              "97442  20|openorgs____  national and kapodistrian university of athens   \n",
              "\n",
              "      legalshortname                                   alternativenames  \\\n",
              "97442           NKUA  [national and kapodistrian university of athen...   \n",
              "\n",
              "              websiteurl country name  \\\n",
              "97442  http://en.uoa.gr/       greece   \n",
              "\n",
              "                                                     pid pid (Y/N)  \n",
              "97442  [{'scheme': 'ISNI', 'value': '0000 0001 2155 0...         Y  "
            ]
          },
          "metadata": {},
          "output_type": "display_data"
        },
        {
          "data": {
            "text/html": [
              "<div>\n",
              "<style scoped>\n",
              "    .dataframe tbody tr th:only-of-type {\n",
              "        vertical-align: middle;\n",
              "    }\n",
              "\n",
              "    .dataframe tbody tr th {\n",
              "        vertical-align: top;\n",
              "    }\n",
              "\n",
              "    .dataframe thead th {\n",
              "        text-align: right;\n",
              "    }\n",
              "</style>\n",
              "<table border=\"1\" class=\"dataframe\">\n",
              "  <thead>\n",
              "    <tr style=\"text-align: right;\">\n",
              "      <th></th>\n",
              "      <th>index</th>\n",
              "      <th>id</th>\n",
              "      <th>prefix</th>\n",
              "      <th>legalname</th>\n",
              "      <th>legalshortname</th>\n",
              "      <th>alternativenames</th>\n",
              "      <th>websiteurl</th>\n",
              "      <th>country name</th>\n",
              "      <th>pid</th>\n",
              "      <th>pid (Y/N)</th>\n",
              "    </tr>\n",
              "  </thead>\n",
              "  <tbody>\n",
              "  </tbody>\n",
              "</table>\n",
              "</div>"
            ],
            "text/plain": [
              "Empty DataFrame\n",
              "Columns: [index, id, prefix, legalname, legalshortname, alternativenames, websiteurl, country name, pid, pid (Y/N)]\n",
              "Index: []"
            ]
          },
          "metadata": {},
          "output_type": "display_data"
        }
      ],
      "source": [
        "for x in findName('university of athens', dixOpenOrg):\n",
        "    display(openOrgDF[openOrgDF['legalname'] == x])\n",
        "\n",
        "    "
      ]
    }
  ],
  "metadata": {
    "kernelspec": {
      "display_name": "base",
      "language": "python",
      "name": "python3"
    },
    "language_info": {
      "codemirror_mode": {
        "name": "ipython",
        "version": 3
      },
      "file_extension": ".py",
      "mimetype": "text/x-python",
      "name": "python",
      "nbconvert_exporter": "python",
      "pygments_lexer": "ipython3",
      "version": "3.9.13"
    },
    "name": "beginners_kit_zeppelin_notebook"
  },
  "nbformat": 4,
  "nbformat_minor": 2
}
