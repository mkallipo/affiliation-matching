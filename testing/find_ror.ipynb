{
 "cells": [
  {
   "cell_type": "code",
   "execution_count": 1,
   "metadata": {},
   "outputs": [],
   "source": [
    "import pandas as pd\n",
    "#import re\n",
    "#import html\n",
    "import sys\n",
    "#import os \n",
    "\n",
    "from collections import defaultdict\n",
    "\n",
    "import pickle\n",
    "\n",
    "from sklearn.feature_extraction.text import CountVectorizer\n",
    "from sklearn.metrics.pairwise import cosine_similarity\n",
    "\n",
    "\n",
    "\n",
    "sys.path.append('..')\n",
    "\n",
    "\n",
    "from helper_functions import *\n",
    "from main_functions import *\n",
    "\n",
    "\n",
    "with open('../dictionaries/dix_acad.pkl', 'rb') as f:\n",
    "    dix_acad = pickle.load(f)\n",
    "\n",
    "with open('../dictionaries/dix_mult.pkl', 'rb') as f:\n",
    "    dix_mult = pickle.load(f)\n",
    "\n",
    "with open('../dictionaries/dix_city.pkl', 'rb') as f:\n",
    "    dix_city = pickle.load(f)\n",
    "    \n",
    "with open('../dictionaries/dix_country.pkl', 'rb') as f:\n",
    "    dix_country = pickle.load(f)\n",
    "    \n",
    "    \n",
    "\n",
    "def find_ror(string, simU, simG):\n",
    "    print(string)\n",
    "    df = pd.DataFrame()\n",
    " \n",
    "    df['Unique affiliations'] = [[string]]\n",
    "    academia = create_df_algorithm(df)\n",
    "    \n",
    "    result = Aff_Ids(len(academia), academia,dix_acad, dix_mult, dix_city, dix_country, simU, simG)\n",
    "    \n",
    "    if len(result)>0:\n",
    "         \n",
    "        \n",
    "        dict_aff_open = {x: y for x, y in zip(result['Original affiliations'], result['Matched organizations'])}\n",
    "        dict_aff_id = {x: y for x, y in zip(result['Original affiliations'], result['ROR'])}\n",
    "    \n",
    "        dict_aff_score = {}\n",
    "        for i in range(len(result)):\n",
    "            if type(result['Similarity score'].iloc[i]) == list:\n",
    "                dict_aff_score[result['Original affiliations'].iloc[i]] = result['Similarity score'].iloc[i]\n",
    "            else:\n",
    "                dict_aff_score[result['Original affiliations'].iloc[i]] = [result['Similarity score'].iloc[i]]\n",
    "                \n",
    "\n",
    "        pids = []\n",
    "        for i in range(len(df)):\n",
    "            pidsi = []\n",
    "            for aff in df['Unique affiliations'].iloc[i]:\n",
    "                if aff in list(dict_aff_id.keys()):\n",
    "                    pidsi = pidsi + dict_aff_id[aff]\n",
    "            # elif 'unmatched organization(s)' not in pidsi:\n",
    "            #     pidsi = pidsi + ['unmatched organization(s)']\n",
    "            pids.append(pidsi)\n",
    "                    \n",
    "                    \n",
    "        names = []\n",
    "        for i in range(len(df)):\n",
    "            namesi = []\n",
    "            for aff in df['Unique affiliations'].iloc[i]:\n",
    "                if aff in list(dict_aff_open.keys()):\n",
    "                    try:\n",
    "                        namesi = namesi + dict_aff_open[aff]\n",
    "                    except TypeError:\n",
    "                        namesi = namesi + [dict_aff_open[aff]]\n",
    "                    \n",
    "            names.append(namesi)\n",
    "            \n",
    "        scores = []\n",
    "        for i in range(len(df)):\n",
    "            scoresi = []\n",
    "            for aff in df['Unique affiliations'].iloc[i]:\n",
    "                if aff in list(dict_aff_score.keys()):\n",
    "                    scoresi = scoresi +  dict_aff_score[aff]\n",
    "                    \n",
    "            scores.append(scoresi)\n",
    "            \n",
    "            \n",
    "        df['Matched organizations'] = names\n",
    "        df['ROR'] = pids\n",
    "        df['Scores'] = scores\n",
    "\n",
    "\n",
    "       \n",
    "        def update_Z(row):\n",
    "            if len(row['ROR']) == 0 or len(row['Scores']) == 0:\n",
    "                return []\n",
    "            \n",
    "            new_Z = []\n",
    "            for ror, score in zip(row['ROR'], row['Scores']):\n",
    "                entry = {'ROR_ID': ror, 'Score': score}\n",
    "                new_Z.append(entry)\n",
    "            return new_Z\n",
    "\n",
    "        matching = df.apply(update_Z, axis=1)\n",
    "\n",
    "        df['Matchings'] = matching\n",
    "        \n",
    "        return df['Matchings'].iloc[0]\n",
    "    else: \n",
    "        return print('no result')\n",
    "\n",
    "     "
   ]
  },
  {
   "cell_type": "markdown",
   "metadata": {},
   "source": [
    "default values: simU = 0.55, simlG = 0.87"
   ]
  },
  {
   "cell_type": "code",
   "execution_count": 2,
   "metadata": {},
   "outputs": [
    {
     "name": "stdout",
     "output_type": "stream",
     "text": [
      "university of athens\n"
     ]
    },
    {
     "data": {
      "text/plain": [
       "[{'ROR_ID': 'https://ror.org/04gnjpq42', 'Score': 1}]"
      ]
     },
     "execution_count": 2,
     "metadata": {},
     "output_type": "execute_result"
    }
   ],
   "source": [
    "find_ror('university of athens', 0.55, 0.87)"
   ]
  },
  {
   "cell_type": "code",
   "execution_count": null,
   "metadata": {},
   "outputs": [],
   "source": []
  }
 ],
 "metadata": {
  "kernelspec": {
   "display_name": "base",
   "language": "python",
   "name": "python3"
  },
  "language_info": {
   "codemirror_mode": {
    "name": "ipython",
    "version": 3
   },
   "file_extension": ".py",
   "mimetype": "text/x-python",
   "name": "python",
   "nbconvert_exporter": "python",
   "pygments_lexer": "ipython3",
   "version": "3.9.16"
  }
 },
 "nbformat": 4,
 "nbformat_minor": 2
}
