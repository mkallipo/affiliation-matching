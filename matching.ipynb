{
  "cells": [
    {
      "attachments": {},
      "cell_type": "markdown",
      "metadata": {},
      "source": [
        "# Import packages"
      ]
    },
    {
      "cell_type": "code",
      "execution_count": 624,
      "metadata": {},
      "outputs": [],
      "source": [
        "import pandas as pd"
      ]
    },
    {
      "cell_type": "code",
      "execution_count": 625,
      "metadata": {},
      "outputs": [
        {
          "data": {
            "text/html": [
              "        <script type=\"text/javascript\">\n",
              "        window.PlotlyConfig = {MathJaxConfig: 'local'};\n",
              "        if (window.MathJax && window.MathJax.Hub && window.MathJax.Hub.Config) {window.MathJax.Hub.Config({SVG: {font: \"STIX-Web\"}});}\n",
              "        if (typeof require !== 'undefined') {\n",
              "        require.undef(\"plotly\");\n",
              "        requirejs.config({\n",
              "            paths: {\n",
              "                'plotly': ['https://cdn.plot.ly/plotly-2.14.0.min']\n",
              "            }\n",
              "        });\n",
              "        require(['plotly'], function(Plotly) {\n",
              "            window._Plotly = Plotly;\n",
              "        });\n",
              "        }\n",
              "        </script>\n",
              "        "
            ]
          },
          "metadata": {},
          "output_type": "display_data"
        }
      ],
      "source": [
        "import plotly\n",
        "import datapane as dp\n",
        "plotly.offline.init_notebook_mode(connected=True)"
      ]
    },
    {
      "cell_type": "code",
      "execution_count": 626,
      "metadata": {},
      "outputs": [],
      "source": [
        "import re\n",
        "import unicodedata\n",
        "\n",
        "import pickle\n",
        "\n",
        "import Levenshtein\n",
        "from sklearn.feature_extraction.text import CountVectorizer\n",
        "from sklearn.metrics.pairwise import cosine_similarity"
      ]
    },
    {
      "attachments": {},
      "cell_type": "markdown",
      "metadata": {},
      "source": [
        "# Upload json files"
      ]
    },
    {
      "cell_type": "code",
      "execution_count": 627,
      "metadata": {},
      "outputs": [],
      "source": [
        "#files= ['0.json', '1.json', '2.json', '3.json', '4.json','42.json', '15693.json']\n",
        "files = ['0.json']\n",
        "# create an empty list to store the DataFrames\n",
        "dfsList = [pd.read_json(file, orient='records') for file in files]\n",
        "\n",
        "# combine all DataFrames into a single DataFrame\n",
        "crossrefDF = pd.concat(dfsList, ignore_index=True)\n"
      ]
    },
    {
      "cell_type": "code",
      "execution_count": 628,
      "metadata": {},
      "outputs": [
        {
          "data": {
            "text/html": [
              "<div>\n",
              "<style scoped>\n",
              "    .dataframe tbody tr th:only-of-type {\n",
              "        vertical-align: middle;\n",
              "    }\n",
              "\n",
              "    .dataframe tbody tr th {\n",
              "        vertical-align: top;\n",
              "    }\n",
              "\n",
              "    .dataframe thead th {\n",
              "        text-align: right;\n",
              "    }\n",
              "</style>\n",
              "<table border=\"1\" class=\"dataframe\">\n",
              "  <thead>\n",
              "    <tr style=\"text-align: right;\">\n",
              "      <th></th>\n",
              "      <th>items</th>\n",
              "    </tr>\n",
              "  </thead>\n",
              "  <tbody>\n",
              "    <tr>\n",
              "      <th>0</th>\n",
              "      <td>{'URL': 'http://dx.doi.org/10.1021/ac020069k',...</td>\n",
              "    </tr>\n",
              "    <tr>\n",
              "      <th>1</th>\n",
              "      <td>{'URL': 'http://dx.doi.org/10.1103/physrevc.65...</td>\n",
              "    </tr>\n",
              "    <tr>\n",
              "      <th>2</th>\n",
              "      <td>{'abstract': '&lt;jats:p&gt;\n",
              "            &lt;jats:bold&gt;...</td>\n",
              "    </tr>\n",
              "    <tr>\n",
              "      <th>3</th>\n",
              "      <td>{'URL': 'http://dx.doi.org/10.1093/jjco/hyf035...</td>\n",
              "    </tr>\n",
              "    <tr>\n",
              "      <th>4</th>\n",
              "      <td>{'abstract': '&lt;jats:p&gt;The integration of the I...</td>\n",
              "    </tr>\n",
              "    <tr>\n",
              "      <th>...</th>\n",
              "      <td>...</td>\n",
              "    </tr>\n",
              "    <tr>\n",
              "      <th>4995</th>\n",
              "      <td>{'URL': 'http://dx.doi.org/10.1053/tvjl.2002.0...</td>\n",
              "    </tr>\n",
              "    <tr>\n",
              "      <th>4996</th>\n",
              "      <td>{'abstract': '&lt;jats:p&gt;This article reports on ...</td>\n",
              "    </tr>\n",
              "    <tr>\n",
              "      <th>4997</th>\n",
              "      <td>{'abstract': '&lt;jats:p&gt; We present a collection...</td>\n",
              "    </tr>\n",
              "    <tr>\n",
              "      <th>4998</th>\n",
              "      <td>{'abstract': '&lt;jats:p&gt;Looks at the nature of w...</td>\n",
              "    </tr>\n",
              "    <tr>\n",
              "      <th>4999</th>\n",
              "      <td>{'URL': 'http://dx.doi.org/10.1016/0166-218x(9...</td>\n",
              "    </tr>\n",
              "  </tbody>\n",
              "</table>\n",
              "<p>5000 rows × 1 columns</p>\n",
              "</div>"
            ],
            "text/plain": [
              "                                                  items\n",
              "0     {'URL': 'http://dx.doi.org/10.1021/ac020069k',...\n",
              "1     {'URL': 'http://dx.doi.org/10.1103/physrevc.65...\n",
              "2     {'abstract': '<jats:p>\n",
              "            <jats:bold>...\n",
              "3     {'URL': 'http://dx.doi.org/10.1093/jjco/hyf035...\n",
              "4     {'abstract': '<jats:p>The integration of the I...\n",
              "...                                                 ...\n",
              "4995  {'URL': 'http://dx.doi.org/10.1053/tvjl.2002.0...\n",
              "4996  {'abstract': '<jats:p>This article reports on ...\n",
              "4997  {'abstract': '<jats:p> We present a collection...\n",
              "4998  {'abstract': '<jats:p>Looks at the nature of w...\n",
              "4999  {'URL': 'http://dx.doi.org/10.1016/0166-218x(9...\n",
              "\n",
              "[5000 rows x 1 columns]"
            ]
          },
          "execution_count": 628,
          "metadata": {},
          "output_type": "execute_result"
        }
      ],
      "source": [
        "crossrefDF"
      ]
    },
    {
      "attachments": {},
      "cell_type": "markdown",
      "metadata": {},
      "source": [
        "# Data preparation "
      ]
    },
    {
      "cell_type": "code",
      "execution_count": 629,
      "metadata": {},
      "outputs": [],
      "source": [
        "noAuthors = [i for i in range(len(crossrefDF)) if 'author' not in crossrefDF['items'][i]]\n",
        "\n",
        "Authors = [i for i in range(len(crossrefDF)) if 'author'  in crossrefDF['items'][i]]"
      ]
    },
    {
      "cell_type": "code",
      "execution_count": 630,
      "metadata": {},
      "outputs": [
        {
          "data": {
            "text/plain": [
              "True"
            ]
          },
          "execution_count": 630,
          "metadata": {},
          "output_type": "execute_result"
        }
      ],
      "source": [
        "len(noAuthors) + len(Authors) == len(crossrefDF)"
      ]
    },
    {
      "attachments": {},
      "cell_type": "markdown",
      "metadata": {},
      "source": [
        "## Rows with authors"
      ]
    },
    {
      "cell_type": "code",
      "execution_count": 631,
      "metadata": {},
      "outputs": [],
      "source": [
        "crossrefAuth = crossrefDF.iloc[Authors].copy()\n",
        "\n",
        "crossrefAuth.reset_index(inplace= True)\n",
        "crossrefAuth.drop(columns = ['index'], inplace = True)\n"
      ]
    },
    {
      "attachments": {},
      "cell_type": "markdown",
      "metadata": {},
      "source": [
        "## Extract 'DOI'"
      ]
    },
    {
      "cell_type": "code",
      "execution_count": 632,
      "metadata": {},
      "outputs": [],
      "source": [
        "crossrefAuth.loc[:, 'DOI'] = crossrefAuth['items'].apply(lambda x: x['DOI'])"
      ]
    },
    {
      "cell_type": "code",
      "execution_count": 633,
      "metadata": {},
      "outputs": [
        {
          "data": {
            "text/html": [
              "<div>\n",
              "<style scoped>\n",
              "    .dataframe tbody tr th:only-of-type {\n",
              "        vertical-align: middle;\n",
              "    }\n",
              "\n",
              "    .dataframe tbody tr th {\n",
              "        vertical-align: top;\n",
              "    }\n",
              "\n",
              "    .dataframe thead th {\n",
              "        text-align: right;\n",
              "    }\n",
              "</style>\n",
              "<table border=\"1\" class=\"dataframe\">\n",
              "  <thead>\n",
              "    <tr style=\"text-align: right;\">\n",
              "      <th></th>\n",
              "      <th>items</th>\n",
              "      <th>DOI</th>\n",
              "    </tr>\n",
              "  </thead>\n",
              "  <tbody>\n",
              "    <tr>\n",
              "      <th>0</th>\n",
              "      <td>{'URL': 'http://dx.doi.org/10.1021/ac020069k',...</td>\n",
              "      <td>10.1021/ac020069k</td>\n",
              "    </tr>\n",
              "    <tr>\n",
              "      <th>1</th>\n",
              "      <td>{'URL': 'http://dx.doi.org/10.1103/physrevc.65...</td>\n",
              "      <td>10.1103/physrevc.65.064904</td>\n",
              "    </tr>\n",
              "    <tr>\n",
              "      <th>2</th>\n",
              "      <td>{'abstract': '&lt;jats:p&gt;\n",
              "            &lt;jats:bold&gt;...</td>\n",
              "      <td>10.1161/01.cir.0000013846.72805.7e</td>\n",
              "    </tr>\n",
              "    <tr>\n",
              "      <th>3</th>\n",
              "      <td>{'URL': 'http://dx.doi.org/10.1093/jjco/hyf035...</td>\n",
              "      <td>10.1093/jjco/hyf035</td>\n",
              "    </tr>\n",
              "    <tr>\n",
              "      <th>4</th>\n",
              "      <td>{'abstract': '&lt;jats:p&gt;The integration of the I...</td>\n",
              "      <td>10.1108/14684520010357338</td>\n",
              "    </tr>\n",
              "  </tbody>\n",
              "</table>\n",
              "</div>"
            ],
            "text/plain": [
              "                                               items  \\\n",
              "0  {'URL': 'http://dx.doi.org/10.1021/ac020069k',...   \n",
              "1  {'URL': 'http://dx.doi.org/10.1103/physrevc.65...   \n",
              "2  {'abstract': '<jats:p>\n",
              "            <jats:bold>...   \n",
              "3  {'URL': 'http://dx.doi.org/10.1093/jjco/hyf035...   \n",
              "4  {'abstract': '<jats:p>The integration of the I...   \n",
              "\n",
              "                                  DOI  \n",
              "0                   10.1021/ac020069k  \n",
              "1          10.1103/physrevc.65.064904  \n",
              "2  10.1161/01.cir.0000013846.72805.7e  \n",
              "3                 10.1093/jjco/hyf035  \n",
              "4           10.1108/14684520010357338  "
            ]
          },
          "execution_count": 633,
          "metadata": {},
          "output_type": "execute_result"
        }
      ],
      "source": [
        "crossrefAuth.head()"
      ]
    },
    {
      "attachments": {},
      "cell_type": "markdown",
      "metadata": {},
      "source": [
        "## Extract 'authors' --- number of authors"
      ]
    },
    {
      "cell_type": "code",
      "execution_count": 634,
      "metadata": {},
      "outputs": [],
      "source": [
        "crossrefAuth.loc[:,'authors'] = crossrefAuth['items'].apply(lambda x: x['author'])\n"
      ]
    },
    {
      "cell_type": "code",
      "execution_count": 635,
      "metadata": {},
      "outputs": [
        {
          "data": {
            "text/html": [
              "<div>\n",
              "<style scoped>\n",
              "    .dataframe tbody tr th:only-of-type {\n",
              "        vertical-align: middle;\n",
              "    }\n",
              "\n",
              "    .dataframe tbody tr th {\n",
              "        vertical-align: top;\n",
              "    }\n",
              "\n",
              "    .dataframe thead th {\n",
              "        text-align: right;\n",
              "    }\n",
              "</style>\n",
              "<table border=\"1\" class=\"dataframe\">\n",
              "  <thead>\n",
              "    <tr style=\"text-align: right;\">\n",
              "      <th></th>\n",
              "      <th>items</th>\n",
              "      <th>DOI</th>\n",
              "      <th>authors</th>\n",
              "    </tr>\n",
              "  </thead>\n",
              "  <tbody>\n",
              "    <tr>\n",
              "      <th>0</th>\n",
              "      <td>{'URL': 'http://dx.doi.org/10.1021/ac020069k',...</td>\n",
              "      <td>10.1021/ac020069k</td>\n",
              "      <td>[{'given': 'Gi Hun', 'family': 'Seong', 'seque...</td>\n",
              "    </tr>\n",
              "    <tr>\n",
              "      <th>1</th>\n",
              "      <td>{'URL': 'http://dx.doi.org/10.1103/physrevc.65...</td>\n",
              "      <td>10.1103/physrevc.65.064904</td>\n",
              "      <td>[{'given': 'S. V.', 'family': 'Akkelin', 'sequ...</td>\n",
              "    </tr>\n",
              "    <tr>\n",
              "      <th>2</th>\n",
              "      <td>{'abstract': '&lt;jats:p&gt;\n",
              "            &lt;jats:bold&gt;...</td>\n",
              "      <td>10.1161/01.cir.0000013846.72805.7e</td>\n",
              "      <td>[{'given': 'Dinesh K.', 'family': 'Kalra', 'se...</td>\n",
              "    </tr>\n",
              "    <tr>\n",
              "      <th>3</th>\n",
              "      <td>{'URL': 'http://dx.doi.org/10.1093/jjco/hyf035...</td>\n",
              "      <td>10.1093/jjco/hyf035</td>\n",
              "      <td>[{'given': 'E.', 'family': 'Bakan', 'sequence'...</td>\n",
              "    </tr>\n",
              "    <tr>\n",
              "      <th>4</th>\n",
              "      <td>{'abstract': '&lt;jats:p&gt;The integration of the I...</td>\n",
              "      <td>10.1108/14684520010357338</td>\n",
              "      <td>[{'given': 'Kaba', 'family': 'Abdoulaye', 'seq...</td>\n",
              "    </tr>\n",
              "  </tbody>\n",
              "</table>\n",
              "</div>"
            ],
            "text/plain": [
              "                                               items  \\\n",
              "0  {'URL': 'http://dx.doi.org/10.1021/ac020069k',...   \n",
              "1  {'URL': 'http://dx.doi.org/10.1103/physrevc.65...   \n",
              "2  {'abstract': '<jats:p>\n",
              "            <jats:bold>...   \n",
              "3  {'URL': 'http://dx.doi.org/10.1093/jjco/hyf035...   \n",
              "4  {'abstract': '<jats:p>The integration of the I...   \n",
              "\n",
              "                                  DOI  \\\n",
              "0                   10.1021/ac020069k   \n",
              "1          10.1103/physrevc.65.064904   \n",
              "2  10.1161/01.cir.0000013846.72805.7e   \n",
              "3                 10.1093/jjco/hyf035   \n",
              "4           10.1108/14684520010357338   \n",
              "\n",
              "                                             authors  \n",
              "0  [{'given': 'Gi Hun', 'family': 'Seong', 'seque...  \n",
              "1  [{'given': 'S. V.', 'family': 'Akkelin', 'sequ...  \n",
              "2  [{'given': 'Dinesh K.', 'family': 'Kalra', 'se...  \n",
              "3  [{'given': 'E.', 'family': 'Bakan', 'sequence'...  \n",
              "4  [{'given': 'Kaba', 'family': 'Abdoulaye', 'seq...  "
            ]
          },
          "execution_count": 635,
          "metadata": {},
          "output_type": "execute_result"
        }
      ],
      "source": [
        "crossrefAuth.head()"
      ]
    },
    {
      "cell_type": "code",
      "execution_count": 636,
      "metadata": {},
      "outputs": [],
      "source": [
        "numAuthors = [len(crossrefAuth.iloc[i]['authors']) for i in range(len(crossrefAuth))]"
      ]
    },
    {
      "cell_type": "code",
      "execution_count": 637,
      "metadata": {},
      "outputs": [],
      "source": [
        "## yparxoun lathi  ---> kalytera number of affiliations\n",
        "crossrefAuth.loc[:,'# authors'] = numAuthors"
      ]
    },
    {
      "cell_type": "code",
      "execution_count": 638,
      "metadata": {},
      "outputs": [
        {
          "data": {
            "text/html": [
              "<div>\n",
              "<style scoped>\n",
              "    .dataframe tbody tr th:only-of-type {\n",
              "        vertical-align: middle;\n",
              "    }\n",
              "\n",
              "    .dataframe tbody tr th {\n",
              "        vertical-align: top;\n",
              "    }\n",
              "\n",
              "    .dataframe thead th {\n",
              "        text-align: right;\n",
              "    }\n",
              "</style>\n",
              "<table border=\"1\" class=\"dataframe\">\n",
              "  <thead>\n",
              "    <tr style=\"text-align: right;\">\n",
              "      <th></th>\n",
              "      <th>items</th>\n",
              "      <th>DOI</th>\n",
              "      <th>authors</th>\n",
              "      <th># authors</th>\n",
              "    </tr>\n",
              "  </thead>\n",
              "  <tbody>\n",
              "    <tr>\n",
              "      <th>0</th>\n",
              "      <td>{'URL': 'http://dx.doi.org/10.1021/ac020069k',...</td>\n",
              "      <td>10.1021/ac020069k</td>\n",
              "      <td>[{'given': 'Gi Hun', 'family': 'Seong', 'seque...</td>\n",
              "      <td>3</td>\n",
              "    </tr>\n",
              "    <tr>\n",
              "      <th>1</th>\n",
              "      <td>{'URL': 'http://dx.doi.org/10.1103/physrevc.65...</td>\n",
              "      <td>10.1103/physrevc.65.064904</td>\n",
              "      <td>[{'given': 'S. V.', 'family': 'Akkelin', 'sequ...</td>\n",
              "      <td>3</td>\n",
              "    </tr>\n",
              "    <tr>\n",
              "      <th>2</th>\n",
              "      <td>{'abstract': '&lt;jats:p&gt;\n",
              "            &lt;jats:bold&gt;...</td>\n",
              "      <td>10.1161/01.cir.0000013846.72805.7e</td>\n",
              "      <td>[{'given': 'Dinesh K.', 'family': 'Kalra', 'se...</td>\n",
              "      <td>10</td>\n",
              "    </tr>\n",
              "    <tr>\n",
              "      <th>3</th>\n",
              "      <td>{'URL': 'http://dx.doi.org/10.1093/jjco/hyf035...</td>\n",
              "      <td>10.1093/jjco/hyf035</td>\n",
              "      <td>[{'given': 'E.', 'family': 'Bakan', 'sequence'...</td>\n",
              "      <td>1</td>\n",
              "    </tr>\n",
              "    <tr>\n",
              "      <th>4</th>\n",
              "      <td>{'abstract': '&lt;jats:p&gt;The integration of the I...</td>\n",
              "      <td>10.1108/14684520010357338</td>\n",
              "      <td>[{'given': 'Kaba', 'family': 'Abdoulaye', 'seq...</td>\n",
              "      <td>2</td>\n",
              "    </tr>\n",
              "  </tbody>\n",
              "</table>\n",
              "</div>"
            ],
            "text/plain": [
              "                                               items  \\\n",
              "0  {'URL': 'http://dx.doi.org/10.1021/ac020069k',...   \n",
              "1  {'URL': 'http://dx.doi.org/10.1103/physrevc.65...   \n",
              "2  {'abstract': '<jats:p>\n",
              "            <jats:bold>...   \n",
              "3  {'URL': 'http://dx.doi.org/10.1093/jjco/hyf035...   \n",
              "4  {'abstract': '<jats:p>The integration of the I...   \n",
              "\n",
              "                                  DOI  \\\n",
              "0                   10.1021/ac020069k   \n",
              "1          10.1103/physrevc.65.064904   \n",
              "2  10.1161/01.cir.0000013846.72805.7e   \n",
              "3                 10.1093/jjco/hyf035   \n",
              "4           10.1108/14684520010357338   \n",
              "\n",
              "                                             authors  # authors  \n",
              "0  [{'given': 'Gi Hun', 'family': 'Seong', 'seque...          3  \n",
              "1  [{'given': 'S. V.', 'family': 'Akkelin', 'sequ...          3  \n",
              "2  [{'given': 'Dinesh K.', 'family': 'Kalra', 'se...         10  \n",
              "3  [{'given': 'E.', 'family': 'Bakan', 'sequence'...          1  \n",
              "4  [{'given': 'Kaba', 'family': 'Abdoulaye', 'seq...          2  "
            ]
          },
          "execution_count": 638,
          "metadata": {},
          "output_type": "execute_result"
        }
      ],
      "source": [
        "crossrefAuth.head()"
      ]
    },
    {
      "attachments": {},
      "cell_type": "markdown",
      "metadata": {},
      "source": [
        "## Extract 'affiliations' --- number of affiliations"
      ]
    },
    {
      "cell_type": "code",
      "execution_count": 639,
      "metadata": {},
      "outputs": [],
      "source": [
        "def getAff(k):\n",
        "   return [crossrefAuth['authors'][k][j]['affiliation'] for j in range(len(crossrefAuth['authors'][k]))]\n",
        "    "
      ]
    },
    {
      "cell_type": "code",
      "execution_count": 640,
      "metadata": {},
      "outputs": [],
      "source": [
        "Affiliations = [getAff(k) for k in range(len(crossrefAuth))]\n",
        "\n",
        "crossrefAuth.loc[:,'affiliations'] = Affiliations\n"
      ]
    },
    {
      "cell_type": "code",
      "execution_count": 641,
      "metadata": {},
      "outputs": [],
      "source": [
        "numAffil = [len(Affiliations[i]) for i in range(len(crossrefAuth))]"
      ]
    },
    {
      "cell_type": "code",
      "execution_count": 642,
      "metadata": {},
      "outputs": [],
      "source": [
        "crossrefAuth.loc[:,'# Affil'] = numAffil"
      ]
    },
    {
      "cell_type": "code",
      "execution_count": 643,
      "metadata": {},
      "outputs": [
        {
          "data": {
            "text/html": [
              "<div>\n",
              "<style scoped>\n",
              "    .dataframe tbody tr th:only-of-type {\n",
              "        vertical-align: middle;\n",
              "    }\n",
              "\n",
              "    .dataframe tbody tr th {\n",
              "        vertical-align: top;\n",
              "    }\n",
              "\n",
              "    .dataframe thead th {\n",
              "        text-align: right;\n",
              "    }\n",
              "</style>\n",
              "<table border=\"1\" class=\"dataframe\">\n",
              "  <thead>\n",
              "    <tr style=\"text-align: right;\">\n",
              "      <th></th>\n",
              "      <th>items</th>\n",
              "      <th>DOI</th>\n",
              "      <th>authors</th>\n",
              "      <th># authors</th>\n",
              "      <th>affiliations</th>\n",
              "      <th># Affil</th>\n",
              "    </tr>\n",
              "  </thead>\n",
              "  <tbody>\n",
              "    <tr>\n",
              "      <th>0</th>\n",
              "      <td>{'URL': 'http://dx.doi.org/10.1021/ac020069k',...</td>\n",
              "      <td>10.1021/ac020069k</td>\n",
              "      <td>[{'given': 'Gi Hun', 'family': 'Seong', 'seque...</td>\n",
              "      <td>3</td>\n",
              "      <td>[[{'name': 'Department of Chemistry, Texas A&amp;M...</td>\n",
              "      <td>3</td>\n",
              "    </tr>\n",
              "    <tr>\n",
              "      <th>1</th>\n",
              "      <td>{'URL': 'http://dx.doi.org/10.1103/physrevc.65...</td>\n",
              "      <td>10.1103/physrevc.65.064904</td>\n",
              "      <td>[{'given': 'S. V.', 'family': 'Akkelin', 'sequ...</td>\n",
              "      <td>3</td>\n",
              "      <td>[[], [], []]</td>\n",
              "      <td>3</td>\n",
              "    </tr>\n",
              "    <tr>\n",
              "      <th>2</th>\n",
              "      <td>{'abstract': '&lt;jats:p&gt;\n",
              "            &lt;jats:bold&gt;...</td>\n",
              "      <td>10.1161/01.cir.0000013846.72805.7e</td>\n",
              "      <td>[{'given': 'Dinesh K.', 'family': 'Kalra', 'se...</td>\n",
              "      <td>10</td>\n",
              "      <td>[[{'name': 'From the Section of Cardiology (D....</td>\n",
              "      <td>10</td>\n",
              "    </tr>\n",
              "    <tr>\n",
              "      <th>3</th>\n",
              "      <td>{'URL': 'http://dx.doi.org/10.1093/jjco/hyf035...</td>\n",
              "      <td>10.1093/jjco/hyf035</td>\n",
              "      <td>[{'given': 'E.', 'family': 'Bakan', 'sequence'...</td>\n",
              "      <td>1</td>\n",
              "      <td>[[]]</td>\n",
              "      <td>1</td>\n",
              "    </tr>\n",
              "    <tr>\n",
              "      <th>4</th>\n",
              "      <td>{'abstract': '&lt;jats:p&gt;The integration of the I...</td>\n",
              "      <td>10.1108/14684520010357338</td>\n",
              "      <td>[{'given': 'Kaba', 'family': 'Abdoulaye', 'seq...</td>\n",
              "      <td>2</td>\n",
              "      <td>[[], []]</td>\n",
              "      <td>2</td>\n",
              "    </tr>\n",
              "  </tbody>\n",
              "</table>\n",
              "</div>"
            ],
            "text/plain": [
              "                                               items  \\\n",
              "0  {'URL': 'http://dx.doi.org/10.1021/ac020069k',...   \n",
              "1  {'URL': 'http://dx.doi.org/10.1103/physrevc.65...   \n",
              "2  {'abstract': '<jats:p>\n",
              "            <jats:bold>...   \n",
              "3  {'URL': 'http://dx.doi.org/10.1093/jjco/hyf035...   \n",
              "4  {'abstract': '<jats:p>The integration of the I...   \n",
              "\n",
              "                                  DOI  \\\n",
              "0                   10.1021/ac020069k   \n",
              "1          10.1103/physrevc.65.064904   \n",
              "2  10.1161/01.cir.0000013846.72805.7e   \n",
              "3                 10.1093/jjco/hyf035   \n",
              "4           10.1108/14684520010357338   \n",
              "\n",
              "                                             authors  # authors  \\\n",
              "0  [{'given': 'Gi Hun', 'family': 'Seong', 'seque...          3   \n",
              "1  [{'given': 'S. V.', 'family': 'Akkelin', 'sequ...          3   \n",
              "2  [{'given': 'Dinesh K.', 'family': 'Kalra', 'se...         10   \n",
              "3  [{'given': 'E.', 'family': 'Bakan', 'sequence'...          1   \n",
              "4  [{'given': 'Kaba', 'family': 'Abdoulaye', 'seq...          2   \n",
              "\n",
              "                                        affiliations  # Affil  \n",
              "0  [[{'name': 'Department of Chemistry, Texas A&M...        3  \n",
              "1                                       [[], [], []]        3  \n",
              "2  [[{'name': 'From the Section of Cardiology (D....       10  \n",
              "3                                               [[]]        1  \n",
              "4                                           [[], []]        2  "
            ]
          },
          "execution_count": 643,
          "metadata": {},
          "output_type": "execute_result"
        }
      ],
      "source": [
        "crossrefAuth.head()"
      ]
    },
    {
      "attachments": {},
      "cell_type": "markdown",
      "metadata": {},
      "source": [
        "## Clean 'empty' affiliations"
      ]
    },
    {
      "cell_type": "code",
      "execution_count": 644,
      "metadata": {},
      "outputs": [],
      "source": [
        "possibleEmptyAff = []\n",
        "\n",
        "for k in range(len(crossrefAuth)):\n",
        "    if len(crossrefAuth['affiliations'][k][0]) == 0:\n",
        "        possibleEmptyAff.append(k)"
      ]
    },
    {
      "cell_type": "code",
      "execution_count": 645,
      "metadata": {},
      "outputs": [
        {
          "data": {
            "text/plain": [
              "3767"
            ]
          },
          "execution_count": 645,
          "metadata": {},
          "output_type": "execute_result"
        }
      ],
      "source": [
        "len(possibleEmptyAff)"
      ]
    },
    {
      "cell_type": "code",
      "execution_count": 646,
      "metadata": {},
      "outputs": [],
      "source": [
        "nonEmptyAff = []\n",
        "\n",
        "for k in possibleEmptyAff:\n",
        "    for j in range(len(crossrefAuth['affiliations'].iloc[k])):\n",
        "        if len(crossrefAuth['affiliations'].iloc[k][j]) != 0:\n",
        "            nonEmptyAff.append(k)\n",
        "    \n",
        "    "
      ]
    },
    {
      "cell_type": "code",
      "execution_count": 647,
      "metadata": {},
      "outputs": [],
      "source": [
        "\n",
        "FinalEmptyyAff=  [x for x in possibleEmptyAff if x not in nonEmptyAff] "
      ]
    },
    {
      "cell_type": "code",
      "execution_count": 648,
      "metadata": {},
      "outputs": [],
      "source": [
        "FinalNonEmptyAff = [x for x in range(len(crossrefAuth)) if x not in FinalEmptyyAff]"
      ]
    },
    {
      "attachments": {},
      "cell_type": "markdown",
      "metadata": {},
      "source": [
        "# affilDF: crossrefAuth subdataframe with nonpempty affiliation lists"
      ]
    },
    {
      "cell_type": "code",
      "execution_count": 649,
      "metadata": {},
      "outputs": [],
      "source": [
        "affilDF = crossrefAuth.iloc[FinalNonEmptyAff].copy()\n",
        "affilDF.reset_index(inplace = True)\n",
        "affilDF.drop(columns = ['index'], inplace = True)"
      ]
    },
    {
      "attachments": {},
      "cell_type": "markdown",
      "metadata": {},
      "source": [
        "## (still some cleaning: cases with empty brackets [{}])"
      ]
    },
    {
      "cell_type": "code",
      "execution_count": 650,
      "metadata": {},
      "outputs": [
        {
          "data": {
            "text/html": [
              "<div>\n",
              "<style scoped>\n",
              "    .dataframe tbody tr th:only-of-type {\n",
              "        vertical-align: middle;\n",
              "    }\n",
              "\n",
              "    .dataframe tbody tr th {\n",
              "        vertical-align: top;\n",
              "    }\n",
              "\n",
              "    .dataframe thead th {\n",
              "        text-align: right;\n",
              "    }\n",
              "</style>\n",
              "<table border=\"1\" class=\"dataframe\">\n",
              "  <thead>\n",
              "    <tr style=\"text-align: right;\">\n",
              "      <th></th>\n",
              "      <th>items</th>\n",
              "      <th>DOI</th>\n",
              "      <th>authors</th>\n",
              "      <th># authors</th>\n",
              "      <th>affiliations</th>\n",
              "      <th># Affil</th>\n",
              "    </tr>\n",
              "  </thead>\n",
              "  <tbody>\n",
              "  </tbody>\n",
              "</table>\n",
              "</div>"
            ],
            "text/plain": [
              "Empty DataFrame\n",
              "Columns: [items, DOI, authors, # authors, affiliations, # Affil]\n",
              "Index: []"
            ]
          },
          "execution_count": 650,
          "metadata": {},
          "output_type": "execute_result"
        }
      ],
      "source": [
        "affilDF[affilDF['DOI'] == '10.48130/emst-2022-0020']"
      ]
    },
    {
      "cell_type": "code",
      "execution_count": 651,
      "metadata": {},
      "outputs": [],
      "source": [
        "for k in range(len(affilDF)):\n",
        "    if len(affilDF['affiliations'][k][0]) != 0 and affilDF['affiliations'][k][0][0] == {}:\n",
        "        print(k)"
      ]
    },
    {
      "cell_type": "code",
      "execution_count": 652,
      "metadata": {},
      "outputs": [],
      "source": [
        "emptyBrackets = [k for k in range(len(affilDF)) if len(affilDF['affiliations'][k][0]) != 0 and affilDF['affiliations'][k][0][0] == {}]"
      ]
    },
    {
      "cell_type": "code",
      "execution_count": 653,
      "metadata": {},
      "outputs": [
        {
          "data": {
            "text/html": [
              "<div>\n",
              "<style scoped>\n",
              "    .dataframe tbody tr th:only-of-type {\n",
              "        vertical-align: middle;\n",
              "    }\n",
              "\n",
              "    .dataframe tbody tr th {\n",
              "        vertical-align: top;\n",
              "    }\n",
              "\n",
              "    .dataframe thead th {\n",
              "        text-align: right;\n",
              "    }\n",
              "</style>\n",
              "<table border=\"1\" class=\"dataframe\">\n",
              "  <thead>\n",
              "    <tr style=\"text-align: right;\">\n",
              "      <th></th>\n",
              "      <th>items</th>\n",
              "      <th>DOI</th>\n",
              "      <th>authors</th>\n",
              "      <th># authors</th>\n",
              "      <th>affiliations</th>\n",
              "      <th># Affil</th>\n",
              "    </tr>\n",
              "  </thead>\n",
              "  <tbody>\n",
              "  </tbody>\n",
              "</table>\n",
              "</div>"
            ],
            "text/plain": [
              "Empty DataFrame\n",
              "Columns: [items, DOI, authors, # authors, affiliations, # Affil]\n",
              "Index: []"
            ]
          },
          "execution_count": 653,
          "metadata": {},
          "output_type": "execute_result"
        }
      ],
      "source": [
        "affilDF.iloc[emptyBrackets]"
      ]
    },
    {
      "cell_type": "code",
      "execution_count": 654,
      "metadata": {},
      "outputs": [
        {
          "data": {
            "text/html": [
              "<div>\n",
              "<style scoped>\n",
              "    .dataframe tbody tr th:only-of-type {\n",
              "        vertical-align: middle;\n",
              "    }\n",
              "\n",
              "    .dataframe tbody tr th {\n",
              "        vertical-align: top;\n",
              "    }\n",
              "\n",
              "    .dataframe thead th {\n",
              "        text-align: right;\n",
              "    }\n",
              "</style>\n",
              "<table border=\"1\" class=\"dataframe\">\n",
              "  <thead>\n",
              "    <tr style=\"text-align: right;\">\n",
              "      <th></th>\n",
              "      <th>items</th>\n",
              "      <th>DOI</th>\n",
              "      <th>authors</th>\n",
              "      <th># authors</th>\n",
              "      <th>affiliations</th>\n",
              "      <th># Affil</th>\n",
              "    </tr>\n",
              "  </thead>\n",
              "  <tbody>\n",
              "    <tr>\n",
              "      <th>0</th>\n",
              "      <td>{'URL': 'http://dx.doi.org/10.1021/ac020069k',...</td>\n",
              "      <td>10.1021/ac020069k</td>\n",
              "      <td>[{'given': 'Gi Hun', 'family': 'Seong', 'seque...</td>\n",
              "      <td>3</td>\n",
              "      <td>[[{'name': 'Department of Chemistry, Texas A&amp;M...</td>\n",
              "      <td>3</td>\n",
              "    </tr>\n",
              "    <tr>\n",
              "      <th>1</th>\n",
              "      <td>{'abstract': '&lt;jats:p&gt;\n",
              "            &lt;jats:bold&gt;...</td>\n",
              "      <td>10.1161/01.cir.0000013846.72805.7e</td>\n",
              "      <td>[{'given': 'Dinesh K.', 'family': 'Kalra', 'se...</td>\n",
              "      <td>10</td>\n",
              "      <td>[[{'name': 'From the Section of Cardiology (D....</td>\n",
              "      <td>10</td>\n",
              "    </tr>\n",
              "    <tr>\n",
              "      <th>2</th>\n",
              "      <td>{'abstract': '&lt;jats:p&gt;Hyperhomocysteinemia (hH...</td>\n",
              "      <td>10.1161/hy02t2.102992</td>\n",
              "      <td>[{'given': 'Ningjun', 'family': 'Li', 'sequenc...</td>\n",
              "      <td>3</td>\n",
              "      <td>[[{'name': 'From the Department of Physiology,...</td>\n",
              "      <td>3</td>\n",
              "    </tr>\n",
              "    <tr>\n",
              "      <th>3</th>\n",
              "      <td>{'abstract': '&lt;jats:p&gt;\n",
              "            The nuclear...</td>\n",
              "      <td>10.1126/science.1073633</td>\n",
              "      <td>[{'given': 'Jianping', 'family': 'Hu', 'sequen...</td>\n",
              "      <td>6</td>\n",
              "      <td>[[{'name': 'Plant Biology Laboratory,'}, {'nam...</td>\n",
              "      <td>6</td>\n",
              "    </tr>\n",
              "    <tr>\n",
              "      <th>4</th>\n",
              "      <td>{'URL': 'http://dx.doi.org/10.1089/10872910260...</td>\n",
              "      <td>10.1089/10872910260066679</td>\n",
              "      <td>[{'given': 'Edward E.', 'family': 'Eaton', 'se...</td>\n",
              "      <td>5</td>\n",
              "      <td>[[{'name': 'Albert Einstein College of Medicin...</td>\n",
              "      <td>5</td>\n",
              "    </tr>\n",
              "    <tr>\n",
              "      <th>...</th>\n",
              "      <td>...</td>\n",
              "      <td>...</td>\n",
              "      <td>...</td>\n",
              "      <td>...</td>\n",
              "      <td>...</td>\n",
              "      <td>...</td>\n",
              "    </tr>\n",
              "    <tr>\n",
              "      <th>882</th>\n",
              "      <td>{'URL': 'http://dx.doi.org/10.1021/ic0255961',...</td>\n",
              "      <td>10.1021/ic0255961</td>\n",
              "      <td>[{'given': 'Fatima', 'family': 'Setifi', 'sequ...</td>\n",
              "      <td>11</td>\n",
              "      <td>[[{'name': 'Laboratoire de Chimie du Solide et...</td>\n",
              "      <td>11</td>\n",
              "    </tr>\n",
              "    <tr>\n",
              "      <th>883</th>\n",
              "      <td>{'URL': 'http://dx.doi.org/10.1021/jf011259j',...</td>\n",
              "      <td>10.1021/jf011259j</td>\n",
              "      <td>[{'given': 'Alexandre G.', 'family': 'Torres',...</td>\n",
              "      <td>3</td>\n",
              "      <td>[[{'name': 'Laboratório de Bioquímica Nutricio...</td>\n",
              "      <td>3</td>\n",
              "    </tr>\n",
              "    <tr>\n",
              "      <th>884</th>\n",
              "      <td>{'URL': 'http://dx.doi.org/10.1021/jp014423e',...</td>\n",
              "      <td>10.1021/jp014423e</td>\n",
              "      <td>[{'given': 'Keisaku', 'family': 'Kimura', 'seq...</td>\n",
              "      <td>3</td>\n",
              "      <td>[[{'name': 'Department of Material Science, Hi...</td>\n",
              "      <td>3</td>\n",
              "    </tr>\n",
              "    <tr>\n",
              "      <th>885</th>\n",
              "      <td>{'abstract': '&lt;jats:p&gt; The actin filament-asso...</td>\n",
              "      <td>10.1091/mbc.e01-12-0148</td>\n",
              "      <td>[{'given': 'Yong', 'family': 'Qian', 'sequence...</td>\n",
              "      <td>12</td>\n",
              "      <td>[[{'name': 'The Mary Babb Randolph Cancer Cent...</td>\n",
              "      <td>12</td>\n",
              "    </tr>\n",
              "    <tr>\n",
              "      <th>886</th>\n",
              "      <td>{'abstract': '&lt;jats:p&gt; We present a collection...</td>\n",
              "      <td>10.1142/s0217979297000812</td>\n",
              "      <td>[{'given': 'Hans', 'family': 'De Raedt', 'sequ...</td>\n",
              "      <td>3</td>\n",
              "      <td>[[{'name': 'Institute for Theoretical Physics ...</td>\n",
              "      <td>3</td>\n",
              "    </tr>\n",
              "  </tbody>\n",
              "</table>\n",
              "<p>887 rows × 6 columns</p>\n",
              "</div>"
            ],
            "text/plain": [
              "                                                 items  \\\n",
              "0    {'URL': 'http://dx.doi.org/10.1021/ac020069k',...   \n",
              "1    {'abstract': '<jats:p>\n",
              "            <jats:bold>...   \n",
              "2    {'abstract': '<jats:p>Hyperhomocysteinemia (hH...   \n",
              "3    {'abstract': '<jats:p>\n",
              "            The nuclear...   \n",
              "4    {'URL': 'http://dx.doi.org/10.1089/10872910260...   \n",
              "..                                                 ...   \n",
              "882  {'URL': 'http://dx.doi.org/10.1021/ic0255961',...   \n",
              "883  {'URL': 'http://dx.doi.org/10.1021/jf011259j',...   \n",
              "884  {'URL': 'http://dx.doi.org/10.1021/jp014423e',...   \n",
              "885  {'abstract': '<jats:p> The actin filament-asso...   \n",
              "886  {'abstract': '<jats:p> We present a collection...   \n",
              "\n",
              "                                    DOI  \\\n",
              "0                     10.1021/ac020069k   \n",
              "1    10.1161/01.cir.0000013846.72805.7e   \n",
              "2                 10.1161/hy02t2.102992   \n",
              "3               10.1126/science.1073633   \n",
              "4             10.1089/10872910260066679   \n",
              "..                                  ...   \n",
              "882                   10.1021/ic0255961   \n",
              "883                   10.1021/jf011259j   \n",
              "884                   10.1021/jp014423e   \n",
              "885             10.1091/mbc.e01-12-0148   \n",
              "886           10.1142/s0217979297000812   \n",
              "\n",
              "                                               authors  # authors  \\\n",
              "0    [{'given': 'Gi Hun', 'family': 'Seong', 'seque...          3   \n",
              "1    [{'given': 'Dinesh K.', 'family': 'Kalra', 'se...         10   \n",
              "2    [{'given': 'Ningjun', 'family': 'Li', 'sequenc...          3   \n",
              "3    [{'given': 'Jianping', 'family': 'Hu', 'sequen...          6   \n",
              "4    [{'given': 'Edward E.', 'family': 'Eaton', 'se...          5   \n",
              "..                                                 ...        ...   \n",
              "882  [{'given': 'Fatima', 'family': 'Setifi', 'sequ...         11   \n",
              "883  [{'given': 'Alexandre G.', 'family': 'Torres',...          3   \n",
              "884  [{'given': 'Keisaku', 'family': 'Kimura', 'seq...          3   \n",
              "885  [{'given': 'Yong', 'family': 'Qian', 'sequence...         12   \n",
              "886  [{'given': 'Hans', 'family': 'De Raedt', 'sequ...          3   \n",
              "\n",
              "                                          affiliations  # Affil  \n",
              "0    [[{'name': 'Department of Chemistry, Texas A&M...        3  \n",
              "1    [[{'name': 'From the Section of Cardiology (D....       10  \n",
              "2    [[{'name': 'From the Department of Physiology,...        3  \n",
              "3    [[{'name': 'Plant Biology Laboratory,'}, {'nam...        6  \n",
              "4    [[{'name': 'Albert Einstein College of Medicin...        5  \n",
              "..                                                 ...      ...  \n",
              "882  [[{'name': 'Laboratoire de Chimie du Solide et...       11  \n",
              "883  [[{'name': 'Laboratório de Bioquímica Nutricio...        3  \n",
              "884  [[{'name': 'Department of Material Science, Hi...        3  \n",
              "885  [[{'name': 'The Mary Babb Randolph Cancer Cent...       12  \n",
              "886  [[{'name': 'Institute for Theoretical Physics ...        3  \n",
              "\n",
              "[887 rows x 6 columns]"
            ]
          },
          "execution_count": 654,
          "metadata": {},
          "output_type": "execute_result"
        }
      ],
      "source": [
        "affilDF.copy()"
      ]
    },
    {
      "cell_type": "code",
      "execution_count": 655,
      "metadata": {},
      "outputs": [],
      "source": [
        "affilDF.drop(emptyBrackets, inplace = True)"
      ]
    },
    {
      "cell_type": "code",
      "execution_count": 656,
      "metadata": {},
      "outputs": [],
      "source": [
        "affilDF.reset_index(inplace = True)"
      ]
    },
    {
      "cell_type": "code",
      "execution_count": 657,
      "metadata": {},
      "outputs": [
        {
          "data": {
            "text/html": [
              "<div>\n",
              "<style scoped>\n",
              "    .dataframe tbody tr th:only-of-type {\n",
              "        vertical-align: middle;\n",
              "    }\n",
              "\n",
              "    .dataframe tbody tr th {\n",
              "        vertical-align: top;\n",
              "    }\n",
              "\n",
              "    .dataframe thead th {\n",
              "        text-align: right;\n",
              "    }\n",
              "</style>\n",
              "<table border=\"1\" class=\"dataframe\">\n",
              "  <thead>\n",
              "    <tr style=\"text-align: right;\">\n",
              "      <th></th>\n",
              "      <th>index</th>\n",
              "      <th>items</th>\n",
              "      <th>DOI</th>\n",
              "      <th>authors</th>\n",
              "      <th># authors</th>\n",
              "      <th>affiliations</th>\n",
              "      <th># Affil</th>\n",
              "    </tr>\n",
              "  </thead>\n",
              "  <tbody>\n",
              "    <tr>\n",
              "      <th>0</th>\n",
              "      <td>0</td>\n",
              "      <td>{'URL': 'http://dx.doi.org/10.1021/ac020069k',...</td>\n",
              "      <td>10.1021/ac020069k</td>\n",
              "      <td>[{'given': 'Gi Hun', 'family': 'Seong', 'seque...</td>\n",
              "      <td>3</td>\n",
              "      <td>[[{'name': 'Department of Chemistry, Texas A&amp;M...</td>\n",
              "      <td>3</td>\n",
              "    </tr>\n",
              "    <tr>\n",
              "      <th>1</th>\n",
              "      <td>1</td>\n",
              "      <td>{'abstract': '&lt;jats:p&gt;\n",
              "            &lt;jats:bold&gt;...</td>\n",
              "      <td>10.1161/01.cir.0000013846.72805.7e</td>\n",
              "      <td>[{'given': 'Dinesh K.', 'family': 'Kalra', 'se...</td>\n",
              "      <td>10</td>\n",
              "      <td>[[{'name': 'From the Section of Cardiology (D....</td>\n",
              "      <td>10</td>\n",
              "    </tr>\n",
              "    <tr>\n",
              "      <th>2</th>\n",
              "      <td>2</td>\n",
              "      <td>{'abstract': '&lt;jats:p&gt;Hyperhomocysteinemia (hH...</td>\n",
              "      <td>10.1161/hy02t2.102992</td>\n",
              "      <td>[{'given': 'Ningjun', 'family': 'Li', 'sequenc...</td>\n",
              "      <td>3</td>\n",
              "      <td>[[{'name': 'From the Department of Physiology,...</td>\n",
              "      <td>3</td>\n",
              "    </tr>\n",
              "    <tr>\n",
              "      <th>3</th>\n",
              "      <td>3</td>\n",
              "      <td>{'abstract': '&lt;jats:p&gt;\n",
              "            The nuclear...</td>\n",
              "      <td>10.1126/science.1073633</td>\n",
              "      <td>[{'given': 'Jianping', 'family': 'Hu', 'sequen...</td>\n",
              "      <td>6</td>\n",
              "      <td>[[{'name': 'Plant Biology Laboratory,'}, {'nam...</td>\n",
              "      <td>6</td>\n",
              "    </tr>\n",
              "    <tr>\n",
              "      <th>4</th>\n",
              "      <td>4</td>\n",
              "      <td>{'URL': 'http://dx.doi.org/10.1089/10872910260...</td>\n",
              "      <td>10.1089/10872910260066679</td>\n",
              "      <td>[{'given': 'Edward E.', 'family': 'Eaton', 'se...</td>\n",
              "      <td>5</td>\n",
              "      <td>[[{'name': 'Albert Einstein College of Medicin...</td>\n",
              "      <td>5</td>\n",
              "    </tr>\n",
              "    <tr>\n",
              "      <th>...</th>\n",
              "      <td>...</td>\n",
              "      <td>...</td>\n",
              "      <td>...</td>\n",
              "      <td>...</td>\n",
              "      <td>...</td>\n",
              "      <td>...</td>\n",
              "      <td>...</td>\n",
              "    </tr>\n",
              "    <tr>\n",
              "      <th>882</th>\n",
              "      <td>882</td>\n",
              "      <td>{'URL': 'http://dx.doi.org/10.1021/ic0255961',...</td>\n",
              "      <td>10.1021/ic0255961</td>\n",
              "      <td>[{'given': 'Fatima', 'family': 'Setifi', 'sequ...</td>\n",
              "      <td>11</td>\n",
              "      <td>[[{'name': 'Laboratoire de Chimie du Solide et...</td>\n",
              "      <td>11</td>\n",
              "    </tr>\n",
              "    <tr>\n",
              "      <th>883</th>\n",
              "      <td>883</td>\n",
              "      <td>{'URL': 'http://dx.doi.org/10.1021/jf011259j',...</td>\n",
              "      <td>10.1021/jf011259j</td>\n",
              "      <td>[{'given': 'Alexandre G.', 'family': 'Torres',...</td>\n",
              "      <td>3</td>\n",
              "      <td>[[{'name': 'Laboratório de Bioquímica Nutricio...</td>\n",
              "      <td>3</td>\n",
              "    </tr>\n",
              "    <tr>\n",
              "      <th>884</th>\n",
              "      <td>884</td>\n",
              "      <td>{'URL': 'http://dx.doi.org/10.1021/jp014423e',...</td>\n",
              "      <td>10.1021/jp014423e</td>\n",
              "      <td>[{'given': 'Keisaku', 'family': 'Kimura', 'seq...</td>\n",
              "      <td>3</td>\n",
              "      <td>[[{'name': 'Department of Material Science, Hi...</td>\n",
              "      <td>3</td>\n",
              "    </tr>\n",
              "    <tr>\n",
              "      <th>885</th>\n",
              "      <td>885</td>\n",
              "      <td>{'abstract': '&lt;jats:p&gt; The actin filament-asso...</td>\n",
              "      <td>10.1091/mbc.e01-12-0148</td>\n",
              "      <td>[{'given': 'Yong', 'family': 'Qian', 'sequence...</td>\n",
              "      <td>12</td>\n",
              "      <td>[[{'name': 'The Mary Babb Randolph Cancer Cent...</td>\n",
              "      <td>12</td>\n",
              "    </tr>\n",
              "    <tr>\n",
              "      <th>886</th>\n",
              "      <td>886</td>\n",
              "      <td>{'abstract': '&lt;jats:p&gt; We present a collection...</td>\n",
              "      <td>10.1142/s0217979297000812</td>\n",
              "      <td>[{'given': 'Hans', 'family': 'De Raedt', 'sequ...</td>\n",
              "      <td>3</td>\n",
              "      <td>[[{'name': 'Institute for Theoretical Physics ...</td>\n",
              "      <td>3</td>\n",
              "    </tr>\n",
              "  </tbody>\n",
              "</table>\n",
              "<p>887 rows × 7 columns</p>\n",
              "</div>"
            ],
            "text/plain": [
              "     index                                              items  \\\n",
              "0        0  {'URL': 'http://dx.doi.org/10.1021/ac020069k',...   \n",
              "1        1  {'abstract': '<jats:p>\n",
              "            <jats:bold>...   \n",
              "2        2  {'abstract': '<jats:p>Hyperhomocysteinemia (hH...   \n",
              "3        3  {'abstract': '<jats:p>\n",
              "            The nuclear...   \n",
              "4        4  {'URL': 'http://dx.doi.org/10.1089/10872910260...   \n",
              "..     ...                                                ...   \n",
              "882    882  {'URL': 'http://dx.doi.org/10.1021/ic0255961',...   \n",
              "883    883  {'URL': 'http://dx.doi.org/10.1021/jf011259j',...   \n",
              "884    884  {'URL': 'http://dx.doi.org/10.1021/jp014423e',...   \n",
              "885    885  {'abstract': '<jats:p> The actin filament-asso...   \n",
              "886    886  {'abstract': '<jats:p> We present a collection...   \n",
              "\n",
              "                                    DOI  \\\n",
              "0                     10.1021/ac020069k   \n",
              "1    10.1161/01.cir.0000013846.72805.7e   \n",
              "2                 10.1161/hy02t2.102992   \n",
              "3               10.1126/science.1073633   \n",
              "4             10.1089/10872910260066679   \n",
              "..                                  ...   \n",
              "882                   10.1021/ic0255961   \n",
              "883                   10.1021/jf011259j   \n",
              "884                   10.1021/jp014423e   \n",
              "885             10.1091/mbc.e01-12-0148   \n",
              "886           10.1142/s0217979297000812   \n",
              "\n",
              "                                               authors  # authors  \\\n",
              "0    [{'given': 'Gi Hun', 'family': 'Seong', 'seque...          3   \n",
              "1    [{'given': 'Dinesh K.', 'family': 'Kalra', 'se...         10   \n",
              "2    [{'given': 'Ningjun', 'family': 'Li', 'sequenc...          3   \n",
              "3    [{'given': 'Jianping', 'family': 'Hu', 'sequen...          6   \n",
              "4    [{'given': 'Edward E.', 'family': 'Eaton', 'se...          5   \n",
              "..                                                 ...        ...   \n",
              "882  [{'given': 'Fatima', 'family': 'Setifi', 'sequ...         11   \n",
              "883  [{'given': 'Alexandre G.', 'family': 'Torres',...          3   \n",
              "884  [{'given': 'Keisaku', 'family': 'Kimura', 'seq...          3   \n",
              "885  [{'given': 'Yong', 'family': 'Qian', 'sequence...         12   \n",
              "886  [{'given': 'Hans', 'family': 'De Raedt', 'sequ...          3   \n",
              "\n",
              "                                          affiliations  # Affil  \n",
              "0    [[{'name': 'Department of Chemistry, Texas A&M...        3  \n",
              "1    [[{'name': 'From the Section of Cardiology (D....       10  \n",
              "2    [[{'name': 'From the Department of Physiology,...        3  \n",
              "3    [[{'name': 'Plant Biology Laboratory,'}, {'nam...        6  \n",
              "4    [[{'name': 'Albert Einstein College of Medicin...        5  \n",
              "..                                                 ...      ...  \n",
              "882  [[{'name': 'Laboratoire de Chimie du Solide et...       11  \n",
              "883  [[{'name': 'Laboratório de Bioquímica Nutricio...        3  \n",
              "884  [[{'name': 'Department of Material Science, Hi...        3  \n",
              "885  [[{'name': 'The Mary Babb Randolph Cancer Cent...       12  \n",
              "886  [[{'name': 'Institute for Theoretical Physics ...        3  \n",
              "\n",
              "[887 rows x 7 columns]"
            ]
          },
          "execution_count": 657,
          "metadata": {},
          "output_type": "execute_result"
        }
      ],
      "source": [
        "affilDF.copy()"
      ]
    },
    {
      "cell_type": "code",
      "execution_count": 658,
      "metadata": {},
      "outputs": [],
      "source": [
        "affilDF.drop(columns = ['index'], inplace = True)"
      ]
    },
    {
      "attachments": {},
      "cell_type": "markdown",
      "metadata": {},
      "source": [
        "# Clean affiliations "
      ]
    },
    {
      "attachments": {},
      "cell_type": "markdown",
      "metadata": {},
      "source": [
        "## is_contained(a,b) map : returns true when a is a substring of b "
      ]
    },
    {
      "cell_type": "code",
      "execution_count": 659,
      "metadata": {},
      "outputs": [],
      "source": [
        "def is_contained(s, w):\n",
        "    words = s.split()  # Split the string 's' into a list of words\n",
        "    for word in words:\n",
        "        if word not in w:  # If a word from 's' is not found in 'w'\n",
        "            return False  # Return False immediately\n",
        "    return True  # If all words from 's' are found in 'w', return True"
      ]
    },
    {
      "attachments": {},
      "cell_type": "markdown",
      "metadata": {},
      "source": [
        "## 1. \"Unique\" affiliations --- number of unique affiliations"
      ]
    },
    {
      "cell_type": "code",
      "execution_count": 660,
      "metadata": {},
      "outputs": [
        {
          "name": "stdout",
          "output_type": "stream",
          "text": [
            "Error indices: []\n"
          ]
        }
      ],
      "source": [
        "uniqueAff = []\n",
        "error_indices =[] # New list to store error indices\n",
        "for i in range(len(affilDF)):\n",
        "    try:\n",
        "        uniqueAff.append(list(set([x[0] for x in [list(d.values()) for d in [item for sublist in affilDF['affiliations'].iloc[i] for item in sublist if sublist !=[{}]]]])))\n",
        "    except TypeError:\n",
        "        print(\"Error occurred for i =\", i)\n",
        "        error_indices.append(i)  # Save the index where the error occurred\n",
        "    #except IndexError:\n",
        "     #   print(\"IndexError occurred for i =\", i)\n",
        "      #  error_indices.append(i)  # Save the index where the IndexError occurred\n",
        "\n",
        "\n",
        "# Print the error indices\n",
        "print(\"Error indices:\", error_indices)"
      ]
    },
    {
      "cell_type": "code",
      "execution_count": 661,
      "metadata": {},
      "outputs": [],
      "source": [
        "affilDF.drop(error_indices, inplace = True)\n",
        "affilDF.reset_index(inplace = True)\n",
        "affilDF.drop(columns = ['index'], inplace = True)"
      ]
    },
    {
      "cell_type": "code",
      "execution_count": 662,
      "metadata": {},
      "outputs": [],
      "source": [
        "affilDF.loc[:,'uniqueAff'] = uniqueAff"
      ]
    },
    {
      "cell_type": "code",
      "execution_count": 663,
      "metadata": {},
      "outputs": [],
      "source": [
        "numUniqueAff = [len(affilDF['uniqueAff'].iloc[i]) for i in range(len(affilDF))]"
      ]
    },
    {
      "cell_type": "code",
      "execution_count": 664,
      "metadata": {},
      "outputs": [],
      "source": [
        "affilDF.loc[:,'# uniqueAff'] = numUniqueAff"
      ]
    },
    {
      "attachments": {},
      "cell_type": "markdown",
      "metadata": {},
      "source": [
        "## 2. Remove stop words ['from', 'the']"
      ]
    },
    {
      "cell_type": "code",
      "execution_count": 665,
      "metadata": {},
      "outputs": [],
      "source": [
        "stopWords = ['from', 'the', 'From', 'The', 'of', 'at', 'de']"
      ]
    },
    {
      "cell_type": "code",
      "execution_count": 666,
      "metadata": {},
      "outputs": [],
      "source": [
        "def remove_stop_words(text):\n",
        "    words = text.split()\n",
        "    filtered_words = [word for word in words if word not in stopWords]\n",
        "    return ' '.join(filtered_words)\n",
        "\n",
        "\n",
        "# apply the function to the column  affilDF['uniqueAff'] to create column affilDF.loc[:,'uniqueAff1']\n",
        "\n",
        "affilDF.loc[:,'uniqueAff1'] = affilDF['uniqueAff'].apply(lambda x: [remove_stop_words(s) for s in x])\n"
      ]
    },
    {
      "attachments": {},
      "cell_type": "markdown",
      "metadata": {},
      "source": [
        "## 3. Remove parenthesis "
      ]
    },
    {
      "cell_type": "code",
      "execution_count": 667,
      "metadata": {},
      "outputs": [],
      "source": [
        "def remove_parentheses(text):\n",
        "   return re.sub(r'\\([^()]*\\)', '', text)\n",
        "\n",
        "# apply the function to each list element of column affilDF['uniqueAff1'] to remove substrings inside parentheses\n",
        "\n",
        "affilDF.loc[:,'uniqueAff1'] = affilDF['uniqueAff1'].apply(lambda x: [remove_parentheses(s) for s in x])\n"
      ]
    },
    {
      "attachments": {},
      "cell_type": "markdown",
      "metadata": {},
      "source": [
        "## 4. Remove @#$%characters and umlauts"
      ]
    },
    {
      "cell_type": "code",
      "execution_count": 668,
      "metadata": {},
      "outputs": [],
      "source": [
        "def replace_umlauts(text):\n",
        "    normalized_text = unicodedata.normalize('NFKD', text)\n",
        "    replaced_text = ''.join(c for c in normalized_text if not unicodedata.combining(c))\n",
        "    return replaced_text\n",
        "\n",
        "affNoSymbols = []\n",
        "\n",
        "for i in range(len(list(affilDF['uniqueAff1']))):\n",
        "    L = list(affilDF['uniqueAff1'])[i]\n",
        "    for j in range(len(L)):\n",
        "        L[j] = re.sub(r'[^\\w\\s,Α-Ωα-ωぁ-んァ-ン一-龯，]', '', L[j])\n",
        "        L[j] = replace_umlauts(L[j])\n",
        "        \n",
        "    affNoSymbols.append(L)\n",
        "\n"
      ]
    },
    {
      "cell_type": "code",
      "execution_count": 669,
      "metadata": {},
      "outputs": [],
      "source": [
        "affNoSymbols = [[item for item in inner_list if item != \"inc\"] for inner_list in affNoSymbols]\n"
      ]
    },
    {
      "cell_type": "code",
      "execution_count": 670,
      "metadata": {},
      "outputs": [],
      "source": [
        "affilDF['uniqueAff1'] = affNoSymbols\n"
      ]
    },
    {
      "attachments": {},
      "cell_type": "markdown",
      "metadata": {},
      "source": [
        "## 5. Check 'sub'-affiliations (affiliations that are contained in other affiliations of the same DOI)"
      ]
    },
    {
      "cell_type": "code",
      "execution_count": 1128,
      "metadata": {},
      "outputs": [],
      "source": [
        "newAff0 = []\n",
        "\n",
        "for k in range(len(affilDF)):\n",
        "    \n",
        "    L2 = []\n",
        "    for s1 in affilDF['uniqueAff1'].iloc[k]:\n",
        "        is_substring = False\n",
        "        for s2 in affilDF['uniqueAff1'].iloc[k]:\n",
        "            if s1 != s2 and s1 in s2:\n",
        "                is_substring = True\n",
        "                break\n",
        "        if not is_substring:\n",
        "            L2.append(s1)\n",
        "    newAff0.append(L2)"
      ]
    },
    {
      "cell_type": "code",
      "execution_count": 1129,
      "metadata": {},
      "outputs": [],
      "source": [
        "newAffList = [list(set(newAff0[k])) for k in range(len(newAff0))]"
      ]
    },
    {
      "cell_type": "code",
      "execution_count": 1130,
      "metadata": {},
      "outputs": [],
      "source": [
        "affilDF['uniqueAff2'] = newAffList"
      ]
    },
    {
      "attachments": {},
      "cell_type": "markdown",
      "metadata": {},
      "source": [
        "## 6. Split strings where ',' or ';' appears    | Apply .lower()"
      ]
    },
    {
      "cell_type": "code",
      "execution_count": 1658,
      "metadata": {},
      "outputs": [],
      "source": [
        "\n",
        "def substringsDict(string):\n",
        "    split_strings = [re.sub(r'^[\\s.]+|[\\s.]+$', '', s.strip()) for s in re.split(r'[,;]', string)]\n",
        "    dict_string = {}\n",
        "    index = 0\n",
        "\n",
        "    for value in split_strings:\n",
        "        if value:\n",
        "            modified_value = re.sub(r'\\buniversit\\w*', 'universit', value, flags=re.IGNORECASE)\n",
        "            dict_string[index] = modified_value.lower()\n",
        "            index += 1\n",
        "\n",
        "    return dict_string\n"
      ]
    },
    {
      "cell_type": "code",
      "execution_count": 1659,
      "metadata": {},
      "outputs": [],
      "source": [
        "newAffkomma = []\n",
        "\n",
        "for k in range(len(affilDF)):\n",
        "    \n",
        "    new_list = []\n",
        "    for item in affilDF['uniqueAff2'].iloc[k]:\n",
        "        new_list.append(substringsDict(item))\n",
        "\n",
        "\n",
        "    newAffkomma.append(new_list)\n",
        "\n"
      ]
    },
    {
      "cell_type": "code",
      "execution_count": 1660,
      "metadata": {},
      "outputs": [],
      "source": [
        "for j in range(len(newAffkomma)):\n",
        "    for y in newAffkomma[j]:\n",
        "        if len(y)>1:\n",
        "            for i in range(len(y)-1):\n",
        "                if is_contained('progr', y[i]) and is_contained('dep', y[i+1]):\n",
        "                    del y[i]\n",
        "                elif (is_contained('assistant', y[i]) or is_contained('researcher', y[i]) or is_contained('phd', y[i]) or is_contained('student', y[i]) or is_contained('section', y[i]) or is_contained('prof', y[i]) or is_contained('director', y[i])) and (not is_contained('school', y[i+1]) or is_contained('univ', y[i+1]) or is_contained('inst', y[i+1]) or is_contained('lab', y[i+1]) or is_contained('fac', y[i+1])):\n",
        "                    del y[i]\n",
        "                elif (is_contained('engineer', y[i]) or is_contained('progr', y[i]) or is_contained('unit', y[i]) or is_contained('lab', y[i]) or is_contained('dep', y[i]) or is_contained('inst', y[i]) or is_contained('hosp', y[i]) or is_contained('school', y[i]) or is_contained('fac', y[i])) and is_contained('univ', y[i+1]):\n",
        "                    del y[i]\n",
        "                elif is_contained('lab', y[i]) and (is_contained('college', y[i+1]) or is_contained('inst', y[i+1]) or is_contained('dep', y[i+1]) or is_contained('school', y[i+1])):\n",
        "                    del y[i]\n",
        "                elif is_contained('dep', y[i]) and (is_contained('college', y[i+1]) or is_contained('inst', y[i+1]) or  is_contained('hosp', y[i+1]) or  is_contained('school', y[i+1]) or  is_contained('fac', y[i+1])):\n",
        "                    del y[i]\n",
        "                elif is_contained('inst', y[i]) and (is_contained('dep', y[i+1]) or is_contained('acad', y[i+1]) or is_contained('hosp', y[i+1]) or is_contained('fac', y[i+1]) or is_contained('cent', y[i+1]) or is_contained('div', y[i+1])):\n",
        "                    del y[i]\n",
        "            #    elif y[i] in city_names+removeList:\n",
        "             #       del y[i]\n",
        "\n",
        "            "
      ]
    },
    {
      "cell_type": "code",
      "execution_count": 1661,
      "metadata": {},
      "outputs": [],
      "source": [
        "lightAff = []\n",
        "for j in range(len(newAffkomma)):\n",
        "    lightAffj = []\n",
        "    for y in newAffkomma[j]:\n",
        "        lightAffj.append(', '.join(list(y.values())))\n",
        "    lightAff.append(lightAffj)"
      ]
    },
    {
      "cell_type": "code",
      "execution_count": 1662,
      "metadata": {},
      "outputs": [],
      "source": [
        "lightAff0 = []\n",
        "\n",
        "for k in range(len(lightAff)):\n",
        "    \n",
        "    L2 = []\n",
        "    for s1 in lightAff[k]:\n",
        "        is_substring = False\n",
        "        for s2 in lightAff[k]:\n",
        "            if s1 != s2 and s1 in s2:\n",
        "                is_substring = True\n",
        "                break\n",
        "        if not is_substring:\n",
        "            L2.append(s1)\n",
        "    lightAff0.append(L2)"
      ]
    },
    {
      "cell_type": "code",
      "execution_count": 1664,
      "metadata": {},
      "outputs": [],
      "source": [
        "affilDF['lightAff'] = lightAff0"
      ]
    },
    {
      "cell_type": "code",
      "execution_count": 1665,
      "metadata": {},
      "outputs": [],
      "source": [
        "removeList = ['university','research institute','laboratory' , 'universit','gmbh', 'inc', 'university of', 'research center', \n",
        "'university college','national institute of', 'school of medicine', \"university school\", 'graduate school of', 'graduate school of engineering', \n",
        "'institute of tropical medicine', 'institute of virology', 'faculty of medicine','laboratory', 'university park', 'institute of science','Polytechnic University']\n",
        "\n",
        "city_names = [\"Aberdeen\", \"Abilene\", \"Akron\", \"Albany\", \"Albuquerque\", \"Alexandria\", \"Allentown\", \"Amarillo\", \"Anaheim\", \"Anchorage\", \"Ann Arbor\", \"Antioch\", \"Apple Valley\", \"Appleton\", \"Arlington\", \"Arvada\", \"Asheville\", \"Athens\", \"Atlanta\", \"Atlantic City\", \"Augusta\", \"Aurora\", \"Austin\", \"Bakersfield\", \"Baltimore\", \"Barnstable\", \"Baton Rouge\", \"Beaumont\", \"Bel Air\", \"Bellevue\", \"Berkeley\", \"Bethlehem\", \"Billings\", \"Birmingham\", \"Bloomington\", \"Boise\", \"Boise City\", \"Bonita Springs\", \"Boston\", \"Boulder\", \"Bradenton\", \"Bremerton\", \"Bridgeport\", \"Brighton\", \"Brownsville\", \"Bryan\", \"Buffalo\", \"Burbank\", \"Burlington\", \"Cambridge\", \"Canton\", \"Cape Coral\", \"Carrollton\", \"Cary\", \"Cathedral City\", \"Cedar Rapids\", \"Champaign\", \"Chandler\", \"Charleston\", \"Charlotte\", \"Chattanooga\", \"Chesapeake\", \"Chicago\", \"Chula Vista\", \"Cincinnati\", \"Clarke County\", \"Clarksville\", \"Clearwater\", \"Cleveland\", \"College Station\", \"Colorado Springs\", \"Columbia\", \"Columbus\", \"Concord\", \"Coral Springs\", \"Corona\", \"Corpus Christi\", \"Costa Mesa\", \"Dallas\", \"Daly City\", \"Danbury\", \"Davenport\", \"Davidson County\", \"Dayton\", \"Daytona Beach\", \"Deltona\", \"Denton\", \"Denver\", \"Des Moines\", \"Detroit\", \"Downey\", \"Duluth\", \"Durham\", \"El Monte\", \"El Paso\", \"Elizabeth\", \"Elk Grove\", \"Elkhart\", \"Erie\", \"Escondido\", \"Eugene\", \"Evansville\", \"Fairfield\", \"Fargo\", \"Fayetteville\", \"Fitchburg\", \"Flint\", \"Fontana\", \"Fort Collins\", \"Fort Lauderdale\", \"Fort Smith\", \"Fort Walton Beach\", \"Fort Wayne\", \"Fort Worth\", \"Frederick\", \"Fremont\", \"Fresno\", \"Fullerton\", \"Gainesville\", \"Garden Grove\", \"Garland\", \"Gastonia\", \"Gilbert\", \"Glendale\", \"Grand Prairie\", \"Grand Rapids\", \"Grayslake\", \"Green Bay\", \"GreenBay\", \"Greensboro\", \"Greenville\", \"Gulfport-Biloxi\", \"Hagerstown\", \"Hampton\", \"Harlingen\", \"Harrisburg\", \"Hartford\", \"Havre de Grace\", \"Hayward\", \"Hemet\", \"Henderson\", \"Hesperia\", \"Hialeah\", \"Hickory\", \"High Point\", \"Hollywood\", \"Honolulu\", \"Houma\", \"Houston\", \"Howell\", \"Huntington\", \"Huntington Beach\", \"Huntsville\", \"Independence\", \"Indianapolis\", \"Inglewood\", \"Irvine\", \"Irving\", \"Jackson\", \"Jacksonville\", \"Jefferson\", \"Jersey City\", \"Johnson City\", \"Joliet\", \"Kailua\", \"Kalamazoo\", \"Kaneohe\", \"Kansas City\", \"Kennewick\", \"Kenosha\", \"Killeen\", \"Kissimmee\", \"Knoxville\", \"Lacey\", \"Lafayette\", \"Lake Charles\", \"Lakeland\", \"Lakewood\", \"Lancaster\", \"Lansing\", \"Laredo\", \"Las Cruces\", \"Las Vegas\", \"Layton\", \"Leominster\", \"Lewisville\", \"Lexington\", \"Lincoln\", \"Little Rock\", \"Long Beach\", \"Lorain\", \"Los Angeles\", \"Louisville\", \"Lowell\", \"Lubbock\", \"Macon\", \"Madison\", \"Manchester\", \"Marina\", \"Marysville\", \"McAllen\", \"McHenry\", \"Medford\", \"Melbourne\", \"Memphis\", \"Merced\", \"Mesa\", \"Mesquite\", \"Miami\", \"Milwaukee\", \"Minneapolis\", \"Miramar\", \"Mission Viejo\", \"Mobile\", \"Modesto\", \"Monroe\", \"Monterey\", \"Montgomery\", \"Moreno Valley\", \"Murfreesboro\", \"Murrieta\", \"Muskegon\", \"Myrtle Beach\", \"Naperville\", \"Naples\", \"Nashua\", \"Nashville\", \"New Bedford\", \"New Haven\", \"New London\", \"New Orleans\", \"New York\", \"New York City\", \"Newark\", \"Newburgh\", \"Newport News\", \"Norfolk\", \"Normal\", \"Norman\", \"North Charleston\", \"North Las Vegas\", \"North Port\", \"Norwalk\", \"Norwich\", \"Oakland\", \"Ocala\", \"Oceanside\", \"Odessa\", \"Ogden\", \"Oklahoma City\", \"Olathe\", \"Olympia\", \"Omaha\", \"Ontario\", \"Orange\", \"Orem\", \"Orlando\", \"Overland Park\", \"Oxnard\", \"Palm Bay\", \"Palm Springs\", \"Palmdale\", \"Panama City\", \"Pasadena\", \"Paterson\", \"Pembroke Pines\", \"Pensacola\", \"Peoria\", \"Philadelphia\", \"Phoenix\", \"Pittsburgh\", \"Plano\", \"Pomona\", \"Pompano Beach\", \"Port Arthur\", \"Port Orange\", \"Port Saint Lucie\", \"Port St. Lucie\", \"Portland\", \"Portsmouth\", \"Poughkeepsie\", \"Providence\", \"Provo\", \"Pueblo\", \"Punta Gorda\", \"Racine\", \"Raleigh\", \"Rancho Cucamonga\", \"Reading\", \"Redding\", \"Reno\", \"Richland\", \"Richmond\", \"Richmond County\", \"Riverside\", \"Roanoke\", \"Rochester\", \"Rockford\", \"Roseville\", \"Round Lake Beach\", \"Sacramento\", \"Saginaw\", \"Saint Louis\", \"Saint Paul\", \"Saint Petersburg\", \"Salem\", \"Salinas\", \"Salt Lake City\", \"San Antonio\", \"San Bernardino\", \"San Buenaventura\", \"San Diego\", \"San Francisco\", \"San Jose\", \"Santa Ana\", \"Santa Barbara\", \"Santa Clara\", \"Santa Clarita\", \"Santa Cruz\", \"Santa Maria\", \"Santa Rosa\", \"Sarasota\", \"Savannah\", \"Scottsdale\", \"Scranton\", \"Seaside\", \"Seattle\", \"Sebastian\", \"Shreveport\", \"Simi Valley\", \"Sioux City\", \"Sioux Falls\", \"South Bend\", \"South Lyon\", \"Spartanburg\", \"Spokane\", \"Springdale\", \"Springfield\", \"St. Louis\", \"St. Paul\", \"St. Petersburg\", \"Stamford\", \"Sterling Heights\", \"Stockton\", \"Sunnyvale\", \"Syracuse\", \"Tacoma\", \"Tallahassee\", \"Tampa\", \"Temecula\", \"Tempe\", \"Thornton\", \"Thousand Oaks\", \"Toledo\", \"Topeka\", \"Torrance\", \"Trenton\", \"Tucson\", \"Tulsa\", \"Tuscaloosa\", \"Tyler\", \"Utica\", \"Vallejo\", \"Vancouver\", \"Vero Beach\", \"Victorville\", \"Virginia Beach\", \"Visalia\", \"Waco\", \"Warren\", \"Washington\", \"Waterbury\", \"Waterloo\", \"West Covina\", \"West Valley City\", \"Westminster\", \"Wichita\", \"Wilmington\", \"Winston\", \"Winter Haven\", \"Worcester\", \"Yakima\", \"Yonkers\", \"York\", \"Youngstown\"]\n",
        "\n",
        "city_names = [x.lower() for x in city_names]"
      ]
    },
    {
      "cell_type": "code",
      "execution_count": 1666,
      "metadata": {},
      "outputs": [],
      "source": [
        "for j in range(len(newAffkomma)):\n",
        "    for y in newAffkomma[j]:\n",
        "        for i in list(y.keys()):\n",
        "\n",
        "            if y[i] in city_names+removeList:\n",
        "                del y[i]\n"
      ]
    },
    {
      "cell_type": "code",
      "execution_count": 1734,
      "metadata": {},
      "outputs": [],
      "source": [
        "affilDF['uniqueAff4'] =  [[list(d.values()) for d in sublist] for sublist in newAffkomma]\n"
      ]
    },
    {
      "attachments": {},
      "cell_type": "markdown",
      "metadata": {},
      "source": [
        "# Labels based on legalnames of openAIRE's organizations"
      ]
    },
    {
      "cell_type": "code",
      "execution_count": 1735,
      "metadata": {},
      "outputs": [],
      "source": [
        "uniList = ['escuela','institu', 'istituto','univ', 'college', 'center', 'centre' , 'cnrs', 'faculty','school' , 'academy' , 'école', 'hochschule' , 'ecole' ]\n",
        "\n",
        "labList = ['lab']\n",
        "\n",
        "hosplList = ['hospital' ,'clinic', 'hôpital']\n",
        "\n",
        "gmbhList = ['gmbh', 'company' , 'industr', 'etaireia' , 'corporation', 'inc']\n",
        "\n",
        "musList =  ['museum', 'library']\n",
        "\n",
        "foundList =  ['foundation' , 'association','organization' ,'society', 'group' ]\n",
        "\n",
        "deptList = ['district' , 'federation'  , 'government' , 'municipal' , 'county','council', 'agency']\n",
        "# miistry -> out\n",
        "\n",
        "unknownList = ['unknown']\n",
        "\n",
        "#######   Dictionaries ##########\n",
        "\n",
        "uniDict = {k: 'Univ/Inst' for k in uniList}   \n",
        "\n",
        "labDict = {k: 'Laboratory' for k in labList} \n",
        "\n",
        "hosplDict = {k: 'Hospital' for k in hosplList}   \n",
        "\n",
        "gmbhDict = {k: 'Company' for k in gmbhList}   \n",
        "\n",
        "musDict = {k: 'Museum' for k in musList}   \n",
        "\n",
        "#schoolDict = {k: 'School' for k in schoolList}   \n",
        "\n",
        "foundDict = {k: 'Foundation' for k in foundList}   \n",
        "\n",
        "deptDict = {k: 'Government' for k in deptList}   \n",
        "\n",
        "unknownDict =  {k: 'Unknown' for k in unknownList}   \n",
        "\n",
        "categDictsList = [uniDict, labDict, hosplDict, gmbhDict, musDict, #schoolDict, \n",
        "                  foundDict, deptDict, unknownDict]\n",
        "\n",
        "################# Final Dictionary #####################\n",
        "\n",
        "categDicts = {}\n",
        "i = 0\n",
        "while i in range(len(categDictsList)):\n",
        "    categDicts.update(categDictsList[i])\n",
        "    i = i+1\n",
        "    \n",
        "    \n"
      ]
    },
    {
      "attachments": {},
      "cell_type": "markdown",
      "metadata": {},
      "source": [
        "## affiliationsDict"
      ]
    },
    {
      "cell_type": "code",
      "execution_count": 1736,
      "metadata": {},
      "outputs": [],
      "source": [
        "affiliationsDict = {}\n",
        "\n",
        "for i in range(len(affilDF)):\n",
        "    affiliationsDict[i] = affilDF['uniqueAff4'].iloc[i]\n",
        "    \n"
      ]
    },
    {
      "cell_type": "code",
      "execution_count": 1737,
      "metadata": {},
      "outputs": [],
      "source": [
        "d_new = {}\n",
        "\n",
        "# iterate over the keys of affiliationsDict\n",
        "for k in range(len(affiliationsDict)):\n",
        "    mappedk = []\n",
        "    # get the list associated with the current key in affiliationsDict\n",
        "    L = affiliationsDict.get(k, [])\n",
        "    \n",
        "    for x in L:\n",
        "        mapped_listx = [[s, v] for s in x for k2, v in categDicts.items() if k2 in s]\n",
        "        mappedk.append(mapped_listx)\n",
        "    \n",
        "    # add the mapped list to the new dictionary d_new\n",
        "    d_new[k] = mappedk"
      ]
    },
    {
      "cell_type": "code",
      "execution_count": 1738,
      "metadata": {},
      "outputs": [],
      "source": [
        "affilDF['Dictionary'] = d_new"
      ]
    },
    {
      "cell_type": "code",
      "execution_count": 1739,
      "metadata": {},
      "outputs": [],
      "source": [
        "notInList = [i for i in range(len(affilDF)) if affilDF['Dictionary'].iloc[i] == [[]]]\n",
        "    "
      ]
    },
    {
      "cell_type": "code",
      "execution_count": 1740,
      "metadata": {},
      "outputs": [
        {
          "data": {
            "text/plain": [
              "844"
            ]
          },
          "execution_count": 1740,
          "metadata": {},
          "output_type": "execute_result"
        }
      ],
      "source": [
        "len(affilDF)  - len(notInList)"
      ]
    },
    {
      "cell_type": "code",
      "execution_count": 1741,
      "metadata": {},
      "outputs": [
        {
          "data": {
            "text/plain": [
              "43"
            ]
          },
          "execution_count": 1741,
          "metadata": {},
          "output_type": "execute_result"
        }
      ],
      "source": [
        "len(notInList)"
      ]
    },
    {
      "attachments": {},
      "cell_type": "markdown",
      "metadata": {},
      "source": [
        "# affilDF1 ['DOI', 'affiliations', 'Dictionary','uniqueAff4', 'uniqueAff2','# authors','# uniqueAff']"
      ]
    },
    {
      "cell_type": "code",
      "execution_count": 1742,
      "metadata": {},
      "outputs": [
        {
          "data": {
            "text/html": [
              "<div>\n",
              "<style scoped>\n",
              "    .dataframe tbody tr th:only-of-type {\n",
              "        vertical-align: middle;\n",
              "    }\n",
              "\n",
              "    .dataframe tbody tr th {\n",
              "        vertical-align: top;\n",
              "    }\n",
              "\n",
              "    .dataframe thead th {\n",
              "        text-align: right;\n",
              "    }\n",
              "</style>\n",
              "<table border=\"1\" class=\"dataframe\">\n",
              "  <thead>\n",
              "    <tr style=\"text-align: right;\">\n",
              "      <th></th>\n",
              "      <th>items</th>\n",
              "      <th>DOI</th>\n",
              "      <th>authors</th>\n",
              "      <th># authors</th>\n",
              "      <th>affiliations</th>\n",
              "      <th># Affil</th>\n",
              "      <th>uniqueAff</th>\n",
              "      <th># uniqueAff</th>\n",
              "      <th>uniqueAff1</th>\n",
              "      <th>uniqueAff2</th>\n",
              "      <th>lightAff</th>\n",
              "      <th>uniqueAff4</th>\n",
              "      <th>Dictionary</th>\n",
              "    </tr>\n",
              "  </thead>\n",
              "  <tbody>\n",
              "    <tr>\n",
              "      <th>0</th>\n",
              "      <td>{'URL': 'http://dx.doi.org/10.1021/ac020069k',...</td>\n",
              "      <td>10.1021/ac020069k</td>\n",
              "      <td>[{'given': 'Gi Hun', 'family': 'Seong', 'seque...</td>\n",
              "      <td>3</td>\n",
              "      <td>[[{'name': 'Department of Chemistry, Texas A&amp;M...</td>\n",
              "      <td>3</td>\n",
              "      <td>[Department of Chemistry, Texas A&amp;M University...</td>\n",
              "      <td>1</td>\n",
              "      <td>[Department Chemistry, Texas AM University, PO...</td>\n",
              "      <td>[Department Chemistry, Texas AM University, PO...</td>\n",
              "      <td>[texas am universit, po box 30012, college sta...</td>\n",
              "      <td>[[texas am universit, po box 30012, texas 7784...</td>\n",
              "      <td>[[[texas am universit, Univ/Inst]]]</td>\n",
              "    </tr>\n",
              "    <tr>\n",
              "      <th>1</th>\n",
              "      <td>{'abstract': '&lt;jats:p&gt;\n",
              "            &lt;jats:bold&gt;...</td>\n",
              "      <td>10.1161/01.cir.0000013846.72805.7e</td>\n",
              "      <td>[{'given': 'Dinesh K.', 'family': 'Kalra', 'se...</td>\n",
              "      <td>10</td>\n",
              "      <td>[[{'name': 'From the Section of Cardiology (D....</td>\n",
              "      <td>10</td>\n",
              "      <td>[From the Section of Cardiology (D.K.K., X.Z.,...</td>\n",
              "      <td>1</td>\n",
              "      <td>[Section Cardiology  and Echocardiography Labo...</td>\n",
              "      <td>[Section Cardiology  and Echocardiography Labo...</td>\n",
              "      <td>[baylor college medicine, houston, tex]</td>\n",
              "      <td>[[baylor college medicine, tex]]</td>\n",
              "      <td>[[[baylor college medicine, Univ/Inst]]]</td>\n",
              "    </tr>\n",
              "    <tr>\n",
              "      <th>2</th>\n",
              "      <td>{'abstract': '&lt;jats:p&gt;Hyperhomocysteinemia (hH...</td>\n",
              "      <td>10.1161/hy02t2.102992</td>\n",
              "      <td>[{'given': 'Ningjun', 'family': 'Li', 'sequenc...</td>\n",
              "      <td>3</td>\n",
              "      <td>[[{'name': 'From the Department of Physiology,...</td>\n",
              "      <td>3</td>\n",
              "      <td>[From the Department of Physiology, Medical Co...</td>\n",
              "      <td>1</td>\n",
              "      <td>[Department Physiology, Medical College Wiscon...</td>\n",
              "      <td>[Department Physiology, Medical College Wiscon...</td>\n",
              "      <td>[medical college wisconsin, milwaukee, tongji ...</td>\n",
              "      <td>[[medical college wisconsin, tongji medical co...</td>\n",
              "      <td>[[[medical college wisconsin, Univ/Inst], [ton...</td>\n",
              "    </tr>\n",
              "    <tr>\n",
              "      <th>3</th>\n",
              "      <td>{'abstract': '&lt;jats:p&gt;\n",
              "            The nuclear...</td>\n",
              "      <td>10.1126/science.1073633</td>\n",
              "      <td>[{'given': 'Jianping', 'family': 'Hu', 'sequen...</td>\n",
              "      <td>6</td>\n",
              "      <td>[[{'name': 'Plant Biology Laboratory,'}, {'nam...</td>\n",
              "      <td>6</td>\n",
              "      <td>[Plant Biology Laboratory,, Howard Hughes Medi...</td>\n",
              "      <td>3</td>\n",
              "      <td>[Plant Biology Laboratory,, Howard Hughes Medi...</td>\n",
              "      <td>[Plant Biology Laboratory,, Howard Hughes Medi...</td>\n",
              "      <td>[plant biology laboratory, howard hughes medic...</td>\n",
              "      <td>[[plant biology laboratory], [howard hughes me...</td>\n",
              "      <td>[[[plant biology laboratory, Laboratory]], [[h...</td>\n",
              "    </tr>\n",
              "    <tr>\n",
              "      <th>4</th>\n",
              "      <td>{'URL': 'http://dx.doi.org/10.1089/10872910260...</td>\n",
              "      <td>10.1089/10872910260066679</td>\n",
              "      <td>[{'given': 'Edward E.', 'family': 'Eaton', 'se...</td>\n",
              "      <td>5</td>\n",
              "      <td>[[{'name': 'Albert Einstein College of Medicin...</td>\n",
              "      <td>5</td>\n",
              "      <td>[Einstein College of Medicine, Bronx, New York...</td>\n",
              "      <td>4</td>\n",
              "      <td>[Einstein College Medicine, Bronx, New York an...</td>\n",
              "      <td>[Albert Einstein College Medicine, Bronx, New ...</td>\n",
              "      <td>[albert einstein college medicine, bronx, new ...</td>\n",
              "      <td>[[albert einstein college medicine, bronx, new...</td>\n",
              "      <td>[[[albert einstein college medicine, Univ/Inst...</td>\n",
              "    </tr>\n",
              "    <tr>\n",
              "      <th>5</th>\n",
              "      <td>{'URL': 'http://dx.doi.org/10.1126/science.296...</td>\n",
              "      <td>10.1126/science.296.5576.2123a</td>\n",
              "      <td>[{'given': 'Wayne', 'family': 'Kondro', 'seque...</td>\n",
              "      <td>1</td>\n",
              "      <td>[[{'name': 'Wayne Kondro writes from Ottawa.'}]]</td>\n",
              "      <td>1</td>\n",
              "      <td>[Wayne Kondro writes from Ottawa.]</td>\n",
              "      <td>1</td>\n",
              "      <td>[Wayne Kondro writes Ottawa]</td>\n",
              "      <td>[Wayne Kondro writes Ottawa]</td>\n",
              "      <td>[wayne kondro writes ottawa]</td>\n",
              "      <td>[[wayne kondro writes ottawa]]</td>\n",
              "      <td>[[]]</td>\n",
              "    </tr>\n",
              "    <tr>\n",
              "      <th>6</th>\n",
              "      <td>{'URL': 'http://dx.doi.org/10.1046/j.1440-1665...</td>\n",
              "      <td>10.1046/j.1440-1665.2002.t01-1-00428.x</td>\n",
              "      <td>[{'given': 'Bob', 'family': 'Adler', 'sequence...</td>\n",
              "      <td>1</td>\n",
              "      <td>[[{'name': 'Melbourne, Victoria'}]]</td>\n",
              "      <td>1</td>\n",
              "      <td>[Melbourne, Victoria]</td>\n",
              "      <td>1</td>\n",
              "      <td>[Melbourne, Victoria]</td>\n",
              "      <td>[Melbourne, Victoria]</td>\n",
              "      <td>[melbourne, victoria]</td>\n",
              "      <td>[[victoria]]</td>\n",
              "      <td>[[]]</td>\n",
              "    </tr>\n",
              "    <tr>\n",
              "      <th>7</th>\n",
              "      <td>{'abstract': '&lt;jats:p&gt;Nonresonant manipulation...</td>\n",
              "      <td>10.1126/science.1072245</td>\n",
              "      <td>[{'given': 'Thilo M.', 'family': 'Brill', 'seq...</td>\n",
              "      <td>8</td>\n",
              "      <td>[[{'name': 'Schlumberger-Doll Research, 36 Old...</td>\n",
              "      <td>8</td>\n",
              "      <td>[Schlumberger-Doll Research, 36 Old Quarry Roa...</td>\n",
              "      <td>1</td>\n",
              "      <td>[SchlumbergerDoll Research, 36 Old Quarry Road...</td>\n",
              "      <td>[SchlumbergerDoll Research, 36 Old Quarry Road...</td>\n",
              "      <td>[schlumbergerdoll research, 36 old quarry road...</td>\n",
              "      <td>[[schlumbergerdoll research, 36 old quarry roa...</td>\n",
              "      <td>[[]]</td>\n",
              "    </tr>\n",
              "    <tr>\n",
              "      <th>8</th>\n",
              "      <td>{'URL': 'http://dx.doi.org/10.1108/02656719610...</td>\n",
              "      <td>10.1108/02656719610116117</td>\n",
              "      <td>[{'given': 'A.J.G.', 'family': 'Babu', 'sequen...</td>\n",
              "      <td>2</td>\n",
              "      <td>[[{'name': 'Seton Hall University, South Orang...</td>\n",
              "      <td>2</td>\n",
              "      <td>[Seton Hall University, South Orange, New Jers...</td>\n",
              "      <td>2</td>\n",
              "      <td>[Seton Hall University, South Orange, New Jers...</td>\n",
              "      <td>[Seton Hall University, South Orange, New Jers...</td>\n",
              "      <td>[seton hall universit, south orange, new jerse...</td>\n",
              "      <td>[[seton hall universit, south orange, new jers...</td>\n",
              "      <td>[[[seton hall universit, Univ/Inst]], [[univer...</td>\n",
              "    </tr>\n",
              "    <tr>\n",
              "      <th>9</th>\n",
              "      <td>{'URL': 'http://dx.doi.org/10.1080/01443610050...</td>\n",
              "      <td>10.1080/01443610050111986</td>\n",
              "      <td>[{'given': 'Sarah', 'family': 'Vause, Julie Wr...</td>\n",
              "      <td>1</td>\n",
              "      <td>[[{'name': 'St Mary's Hospital, Manchester'}, ...</td>\n",
              "      <td>1</td>\n",
              "      <td>[St Mary's Hospital, Manchester, Health Care P...</td>\n",
              "      <td>3</td>\n",
              "      <td>[St Marys Hospital, Manchester, Health Care Pr...</td>\n",
              "      <td>[Health Care Practice RampD Unit, University S...</td>\n",
              "      <td>[universit salford, st marys hospital, manches...</td>\n",
              "      <td>[[universit salford], [st marys hospital], [ro...</td>\n",
              "      <td>[[[universit salford, Univ/Inst]], [[st marys ...</td>\n",
              "    </tr>\n",
              "  </tbody>\n",
              "</table>\n",
              "</div>"
            ],
            "text/plain": [
              "                                               items  \\\n",
              "0  {'URL': 'http://dx.doi.org/10.1021/ac020069k',...   \n",
              "1  {'abstract': '<jats:p>\n",
              "            <jats:bold>...   \n",
              "2  {'abstract': '<jats:p>Hyperhomocysteinemia (hH...   \n",
              "3  {'abstract': '<jats:p>\n",
              "            The nuclear...   \n",
              "4  {'URL': 'http://dx.doi.org/10.1089/10872910260...   \n",
              "5  {'URL': 'http://dx.doi.org/10.1126/science.296...   \n",
              "6  {'URL': 'http://dx.doi.org/10.1046/j.1440-1665...   \n",
              "7  {'abstract': '<jats:p>Nonresonant manipulation...   \n",
              "8  {'URL': 'http://dx.doi.org/10.1108/02656719610...   \n",
              "9  {'URL': 'http://dx.doi.org/10.1080/01443610050...   \n",
              "\n",
              "                                      DOI  \\\n",
              "0                       10.1021/ac020069k   \n",
              "1      10.1161/01.cir.0000013846.72805.7e   \n",
              "2                   10.1161/hy02t2.102992   \n",
              "3                 10.1126/science.1073633   \n",
              "4               10.1089/10872910260066679   \n",
              "5          10.1126/science.296.5576.2123a   \n",
              "6  10.1046/j.1440-1665.2002.t01-1-00428.x   \n",
              "7                 10.1126/science.1072245   \n",
              "8               10.1108/02656719610116117   \n",
              "9               10.1080/01443610050111986   \n",
              "\n",
              "                                             authors  # authors  \\\n",
              "0  [{'given': 'Gi Hun', 'family': 'Seong', 'seque...          3   \n",
              "1  [{'given': 'Dinesh K.', 'family': 'Kalra', 'se...         10   \n",
              "2  [{'given': 'Ningjun', 'family': 'Li', 'sequenc...          3   \n",
              "3  [{'given': 'Jianping', 'family': 'Hu', 'sequen...          6   \n",
              "4  [{'given': 'Edward E.', 'family': 'Eaton', 'se...          5   \n",
              "5  [{'given': 'Wayne', 'family': 'Kondro', 'seque...          1   \n",
              "6  [{'given': 'Bob', 'family': 'Adler', 'sequence...          1   \n",
              "7  [{'given': 'Thilo M.', 'family': 'Brill', 'seq...          8   \n",
              "8  [{'given': 'A.J.G.', 'family': 'Babu', 'sequen...          2   \n",
              "9  [{'given': 'Sarah', 'family': 'Vause, Julie Wr...          1   \n",
              "\n",
              "                                        affiliations  # Affil  \\\n",
              "0  [[{'name': 'Department of Chemistry, Texas A&M...        3   \n",
              "1  [[{'name': 'From the Section of Cardiology (D....       10   \n",
              "2  [[{'name': 'From the Department of Physiology,...        3   \n",
              "3  [[{'name': 'Plant Biology Laboratory,'}, {'nam...        6   \n",
              "4  [[{'name': 'Albert Einstein College of Medicin...        5   \n",
              "5   [[{'name': 'Wayne Kondro writes from Ottawa.'}]]        1   \n",
              "6                [[{'name': 'Melbourne, Victoria'}]]        1   \n",
              "7  [[{'name': 'Schlumberger-Doll Research, 36 Old...        8   \n",
              "8  [[{'name': 'Seton Hall University, South Orang...        2   \n",
              "9  [[{'name': 'St Mary's Hospital, Manchester'}, ...        1   \n",
              "\n",
              "                                           uniqueAff  # uniqueAff  \\\n",
              "0  [Department of Chemistry, Texas A&M University...            1   \n",
              "1  [From the Section of Cardiology (D.K.K., X.Z.,...            1   \n",
              "2  [From the Department of Physiology, Medical Co...            1   \n",
              "3  [Plant Biology Laboratory,, Howard Hughes Medi...            3   \n",
              "4  [Einstein College of Medicine, Bronx, New York...            4   \n",
              "5                 [Wayne Kondro writes from Ottawa.]            1   \n",
              "6                              [Melbourne, Victoria]            1   \n",
              "7  [Schlumberger-Doll Research, 36 Old Quarry Roa...            1   \n",
              "8  [Seton Hall University, South Orange, New Jers...            2   \n",
              "9  [St Mary's Hospital, Manchester, Health Care P...            3   \n",
              "\n",
              "                                          uniqueAff1  \\\n",
              "0  [Department Chemistry, Texas AM University, PO...   \n",
              "1  [Section Cardiology  and Echocardiography Labo...   \n",
              "2  [Department Physiology, Medical College Wiscon...   \n",
              "3  [Plant Biology Laboratory,, Howard Hughes Medi...   \n",
              "4  [Einstein College Medicine, Bronx, New York an...   \n",
              "5                       [Wayne Kondro writes Ottawa]   \n",
              "6                              [Melbourne, Victoria]   \n",
              "7  [SchlumbergerDoll Research, 36 Old Quarry Road...   \n",
              "8  [Seton Hall University, South Orange, New Jers...   \n",
              "9  [St Marys Hospital, Manchester, Health Care Pr...   \n",
              "\n",
              "                                          uniqueAff2  \\\n",
              "0  [Department Chemistry, Texas AM University, PO...   \n",
              "1  [Section Cardiology  and Echocardiography Labo...   \n",
              "2  [Department Physiology, Medical College Wiscon...   \n",
              "3  [Plant Biology Laboratory,, Howard Hughes Medi...   \n",
              "4  [Albert Einstein College Medicine, Bronx, New ...   \n",
              "5                       [Wayne Kondro writes Ottawa]   \n",
              "6                              [Melbourne, Victoria]   \n",
              "7  [SchlumbergerDoll Research, 36 Old Quarry Road...   \n",
              "8  [Seton Hall University, South Orange, New Jers...   \n",
              "9  [Health Care Practice RampD Unit, University S...   \n",
              "\n",
              "                                            lightAff  \\\n",
              "0  [texas am universit, po box 30012, college sta...   \n",
              "1            [baylor college medicine, houston, tex]   \n",
              "2  [medical college wisconsin, milwaukee, tongji ...   \n",
              "3  [plant biology laboratory, howard hughes medic...   \n",
              "4  [albert einstein college medicine, bronx, new ...   \n",
              "5                       [wayne kondro writes ottawa]   \n",
              "6                              [melbourne, victoria]   \n",
              "7  [schlumbergerdoll research, 36 old quarry road...   \n",
              "8  [seton hall universit, south orange, new jerse...   \n",
              "9  [universit salford, st marys hospital, manches...   \n",
              "\n",
              "                                          uniqueAff4  \\\n",
              "0  [[texas am universit, po box 30012, texas 7784...   \n",
              "1                   [[baylor college medicine, tex]]   \n",
              "2  [[medical college wisconsin, tongji medical co...   \n",
              "3  [[plant biology laboratory], [howard hughes me...   \n",
              "4  [[albert einstein college medicine, bronx, new...   \n",
              "5                     [[wayne kondro writes ottawa]]   \n",
              "6                                       [[victoria]]   \n",
              "7  [[schlumbergerdoll research, 36 old quarry roa...   \n",
              "8  [[seton hall universit, south orange, new jers...   \n",
              "9  [[universit salford], [st marys hospital], [ro...   \n",
              "\n",
              "                                          Dictionary  \n",
              "0                [[[texas am universit, Univ/Inst]]]  \n",
              "1           [[[baylor college medicine, Univ/Inst]]]  \n",
              "2  [[[medical college wisconsin, Univ/Inst], [ton...  \n",
              "3  [[[plant biology laboratory, Laboratory]], [[h...  \n",
              "4  [[[albert einstein college medicine, Univ/Inst...  \n",
              "5                                               [[]]  \n",
              "6                                               [[]]  \n",
              "7                                               [[]]  \n",
              "8  [[[seton hall universit, Univ/Inst]], [[univer...  \n",
              "9  [[[universit salford, Univ/Inst]], [[st marys ...  "
            ]
          },
          "execution_count": 1742,
          "metadata": {},
          "output_type": "execute_result"
        }
      ],
      "source": [
        "affilDF.head(10)"
      ]
    },
    {
      "cell_type": "code",
      "execution_count": 1743,
      "metadata": {},
      "outputs": [],
      "source": [
        "affilDF1 = affilDF[['DOI', 'affiliations','lightAff','Dictionary','uniqueAff4', 'uniqueAff2','# authors','# uniqueAff']]"
      ]
    },
    {
      "cell_type": "code",
      "execution_count": 1744,
      "metadata": {},
      "outputs": [
        {
          "data": {
            "text/plain": [
              "887"
            ]
          },
          "execution_count": 1744,
          "metadata": {},
          "output_type": "execute_result"
        }
      ],
      "source": [
        "len(affilDF1)"
      ]
    },
    {
      "cell_type": "code",
      "execution_count": 1745,
      "metadata": {},
      "outputs": [
        {
          "data": {
            "text/plain": [
              "887"
            ]
          },
          "execution_count": 1745,
          "metadata": {},
          "output_type": "execute_result"
        }
      ],
      "source": [
        "len(affilDF1.drop_duplicates(subset=['DOI']))"
      ]
    },
    {
      "attachments": {},
      "cell_type": "markdown",
      "metadata": {},
      "source": [
        "## New column: category based on the labels "
      ]
    },
    {
      "cell_type": "code",
      "execution_count": 1746,
      "metadata": {},
      "outputs": [],
      "source": [
        "category = [', '.join(list(set([x[1] for y in affilDF1['Dictionary'].iloc[i] for x in y]))) for i in range(len(affilDF1))]\n",
        "    \n"
      ]
    },
    {
      "cell_type": "code",
      "execution_count": 1747,
      "metadata": {},
      "outputs": [],
      "source": [
        "affilDF1 = affilDF1.copy()"
      ]
    },
    {
      "cell_type": "code",
      "execution_count": 1748,
      "metadata": {},
      "outputs": [],
      "source": [
        "affilDF1.loc[:, 'category'] = category\n"
      ]
    },
    {
      "attachments": {},
      "cell_type": "markdown",
      "metadata": {},
      "source": [
        "### new label: rest"
      ]
    },
    {
      "cell_type": "code",
      "execution_count": 1749,
      "metadata": {},
      "outputs": [],
      "source": [
        "for i in range(len(affilDF1)):\n",
        "    if affilDF1['category'].iloc[i] == '':\n",
        "        affilDF1.iloc[i, affilDF1.columns.get_loc('category')] = 'Rest'\n"
      ]
    },
    {
      "cell_type": "code",
      "execution_count": 1750,
      "metadata": {},
      "outputs": [],
      "source": [
        "affiliationsSimple = [\n",
        "    list(set([inner_list[0] for outer_list in affilDF1['Dictionary'].iloc[i] for inner_list in outer_list]))\n",
        "    for i in range(len(affilDF1))\n",
        "]\n"
      ]
    },
    {
      "cell_type": "code",
      "execution_count": 1751,
      "metadata": {},
      "outputs": [],
      "source": [
        "affilDF1.loc[:,'affilSimple'] = affiliationsSimple"
      ]
    },
    {
      "cell_type": "code",
      "execution_count": 1752,
      "metadata": {},
      "outputs": [],
      "source": [
        "def strRadiusU(string):\n",
        "    string = string.lower()\n",
        "    radius = 3\n",
        "    \n",
        "    strList = string.split()\n",
        "    indices = []\n",
        "    result = []\n",
        "\n",
        "    for i, x in enumerate(strList):\n",
        "        if is_contained('univers',x):\n",
        "            indices.append(i)\n",
        "            \n",
        "    for r0 in indices:\n",
        "        lmin =max(0,r0-radius)\n",
        "        lmax =min(r0+radius, len(strList))\n",
        "        s = strList[lmin:lmax]\n",
        "        \n",
        "        result.append(' '.join(s))\n",
        "    \n",
        "    return result "
      ]
    },
    {
      "cell_type": "code",
      "execution_count": 1753,
      "metadata": {},
      "outputs": [],
      "source": [
        "def strRadiusH(string):\n",
        "    string = string.lower()\n",
        "    radius = 3\n",
        "    \n",
        "    strList = string.split()\n",
        "    indices = []\n",
        "    result = []\n",
        "\n",
        "    for i, x in enumerate(strList):\n",
        "        if is_contained('hospital',x):\n",
        "            indices.append(i)\n",
        "            \n",
        "    for r0 in indices:\n",
        "        lmin =max(0,r0-radius-1)\n",
        "        lmax =min(r0+radius, len(strList))\n",
        "        s = strList[lmin:lmax]\n",
        "        \n",
        "        result.append(' '.join(s))\n",
        "    \n",
        "    return result "
      ]
    },
    {
      "cell_type": "code",
      "execution_count": 1754,
      "metadata": {},
      "outputs": [],
      "source": [
        "affiliationsSimpleN = []\n",
        "\n",
        "for i in range(len(affiliationsSimple)):\n",
        "    inner = []\n",
        "    for str in affiliationsSimple[i]:\n",
        "        if 'university' in str.split():\n",
        "            for x in strRadiusU(str):\n",
        "                inner.append(x)\n",
        "        elif 'hospital' in str.split():\n",
        "            for x in strRadiusH(str):\n",
        "                inner.append(x)\n",
        "        else:\n",
        "            inner.append(str)\n",
        "    \n",
        "    affiliationsSimpleN.append(inner)      \n",
        "            \n",
        "            \n",
        "    "
      ]
    },
    {
      "cell_type": "code",
      "execution_count": 1690,
      "metadata": {},
      "outputs": [],
      "source": [
        "affilDF1.loc[:,'affilSimpleNew'] = affiliationsSimpleN"
      ]
    },
    {
      "cell_type": "code",
      "execution_count": 1691,
      "metadata": {},
      "outputs": [
        {
          "data": {
            "text/plain": [
              "46"
            ]
          },
          "execution_count": 1691,
          "metadata": {},
          "output_type": "execute_result"
        }
      ],
      "source": [
        "len(affilDF1[affilDF1['category'] == 'Rest'])"
      ]
    },
    {
      "attachments": {},
      "cell_type": "markdown",
      "metadata": {},
      "source": [
        "# UNIVS & LABS"
      ]
    },
    {
      "cell_type": "code",
      "execution_count": 1692,
      "metadata": {},
      "outputs": [],
      "source": [
        "univLabs = [i for i in range(len(affilDF1)) if 'Laboratory' in affilDF1['category'].iloc[i] \n",
        "            or 'Univ/Inst' in  affilDF1['category'].iloc[i]]"
      ]
    },
    {
      "cell_type": "code",
      "execution_count": 1693,
      "metadata": {},
      "outputs": [],
      "source": [
        "\n",
        "univLabsDF = affilDF1.iloc[univLabs].copy()"
      ]
    },
    {
      "cell_type": "code",
      "execution_count": 1694,
      "metadata": {},
      "outputs": [],
      "source": [
        "univLabsDF.reset_index(inplace = True)"
      ]
    },
    {
      "cell_type": "code",
      "execution_count": 1695,
      "metadata": {},
      "outputs": [],
      "source": [
        "univLabsDF.drop(columns = ['index'], inplace = True)"
      ]
    },
    {
      "attachments": {},
      "cell_type": "markdown",
      "metadata": {},
      "source": [
        "# Load files from openAIRE"
      ]
    },
    {
      "cell_type": "code",
      "execution_count": 1696,
      "metadata": {},
      "outputs": [],
      "source": [
        "#with open('dixOpenAIRE_Alletc.pkl', 'rb') as f:\n",
        "#    dixOpenAIRE_Alletc = pickle.load(f)\n",
        "\n",
        "#with open('dixOpenAIRE_id.pkl', 'rb') as f:\n",
        "#    dixOpenAIRE_id = pickle.load(f)\n"
      ]
    },
    {
      "cell_type": "code",
      "execution_count": 1697,
      "metadata": {},
      "outputs": [],
      "source": [
        "with open('dixOpenOrgId.pkl', 'rb') as f:\n",
        "    dixOpenOrgId = pickle.load(f)\n"
      ]
    },
    {
      "attachments": {},
      "cell_type": "markdown",
      "metadata": {},
      "source": [
        "## Clean/modify the files"
      ]
    },
    {
      "cell_type": "code",
      "execution_count": 1698,
      "metadata": {},
      "outputs": [],
      "source": [
        "#dixOpenAIRE_Alletc1 =  {k.replace(',', ''): v for k, v in dixOpenAIRE_Alletc.items()}\n",
        "#dixOpenAIRE_id1 = {k.replace(',', ''): v for k, v in dixOpenAIRE_id.items()}"
      ]
    },
    {
      "cell_type": "code",
      "execution_count": 1699,
      "metadata": {},
      "outputs": [],
      "source": [
        "dixOpenOrgId1 = {k.replace(',', ''): v for k, v in dixOpenOrgId.items()}"
      ]
    },
    {
      "cell_type": "code",
      "execution_count": 1700,
      "metadata": {},
      "outputs": [],
      "source": [
        "dixOpenOrgId1 = {\n",
        "    replace_umlauts(key): value\n",
        "    for key, value in dixOpenOrgId1.items()\n",
        "}\n"
      ]
    },
    {
      "cell_type": "code",
      "execution_count": 1701,
      "metadata": {},
      "outputs": [],
      "source": [
        "def filter_key(key):\n",
        "    # Remove all non-alphanumeric characters except Greek letters and Chinese characters\n",
        "    modified_key = re.sub(r'[^\\w\\s,Α-Ωα-ωぁ-んァ-ン一-龯，]', '', key)\n",
        "    modified_key = re.sub(r'\\buniversit\\w*', 'universit', modified_key, flags=re.IGNORECASE)\n",
        "    return modified_key\n",
        "\n",
        "    \n",
        "def filter_dictionary_keys(dictionary):\n",
        "    filtered_dict = {}\n",
        "    for key, value in dictionary.items():\n",
        "        filtered_key = filter_key(key)\n",
        "        filtered_dict[filtered_key] = value\n",
        "    return filtered_dict\n",
        "\n",
        "\n",
        "#dixOpenAIRE_Alletc1 = filter_dictionary_keys(dixOpenAIRE_Alletc1)\n",
        "#dixOpenAIRE_id1 = filter_dictionary_keys(dixOpenAIRE_id1)\n",
        "dixOpenOrgId1 = filter_dictionary_keys(dixOpenOrgId1)\n",
        "\n"
      ]
    },
    {
      "cell_type": "code",
      "execution_count": 1702,
      "metadata": {},
      "outputs": [],
      "source": [
        "\n",
        "dixOpenOrgId2 = {}\n",
        "for key, value in dixOpenOrgId1.items():\n",
        "    updated_key = ' '.join([word for word in key.split() if word.lower() not in ['of', 'at', \"the\", 'de']])\n",
        "    dixOpenOrgId2[updated_key] = value\n"
      ]
    },
    {
      "cell_type": "code",
      "execution_count": 1703,
      "metadata": {},
      "outputs": [],
      "source": [
        "#del dixOpenAIRE_Alletc1['laboratory']\n",
        "#del dixOpenAIRE_Alletc1['university hospital']"
      ]
    },
    {
      "cell_type": "code",
      "execution_count": 1704,
      "metadata": {},
      "outputs": [],
      "source": [
        "#del dixOpenAIRE_id1['laboratory']\n",
        "#del dixOpenAIRE_id1['university hospital']"
      ]
    },
    {
      "cell_type": "code",
      "execution_count": 1705,
      "metadata": {},
      "outputs": [],
      "source": [
        "del dixOpenOrgId2['universit hospital']"
      ]
    },
    {
      "cell_type": "code",
      "execution_count": 1706,
      "metadata": {},
      "outputs": [],
      "source": [
        "del dixOpenOrgId2['universit school']"
      ]
    },
    {
      "cell_type": "code",
      "execution_count": 1707,
      "metadata": {},
      "outputs": [],
      "source": [
        "del dixOpenOrgId2['us']"
      ]
    },
    {
      "cell_type": "code",
      "execution_count": 1708,
      "metadata": {},
      "outputs": [],
      "source": [
        "del dixOpenOrgId2['ni universit']\n",
        "del dixOpenOrgId2['s v universit']"
      ]
    },
    {
      "cell_type": "code",
      "execution_count": 1709,
      "metadata": {},
      "outputs": [],
      "source": [
        "del dixOpenOrgId2['k l universit']\n"
      ]
    },
    {
      "cell_type": "code",
      "execution_count": 1710,
      "metadata": {},
      "outputs": [],
      "source": [
        "def findID(name):\n",
        "    lnames = []\n",
        "    for x in list(dixOpenOrgId2.keys()):\n",
        "        if name.lower() in x:\n",
        "            lnames.append(x)\n",
        "    return lnames"
      ]
    },
    {
      "attachments": {},
      "cell_type": "markdown",
      "metadata": {},
      "source": [
        "# MATCHINGS"
      ]
    },
    {
      "attachments": {},
      "cell_type": "markdown",
      "metadata": {},
      "source": [
        "## Helper functions"
      ]
    },
    {
      "attachments": {},
      "cell_type": "markdown",
      "metadata": {},
      "source": [
        "### Clean the matchings"
      ]
    },
    {
      "cell_type": "code",
      "execution_count": 1756,
      "metadata": {},
      "outputs": [],
      "source": [
        "def bestSimScore(l1, l2, l3, l4, simU, simG):\n",
        "    \"\"\"\n",
        "    Finds the best match between a 'key word' and several legal names from the OpenAIRE database.\n",
        "    ---> corrects special cases in the main map that follows\n",
        "\n",
        "    Args:\n",
        "        l1: List of light affiliations.\n",
        "        l2: number of candidates.\n",
        "        l3: List of pairs.\n",
        "        l4: mult\n",
        "\n",
        "    Returns:\n",
        "        List: Resulting list containing OpenAIRE names and their similarity scores.\n",
        "    \"\"\"\n",
        "    \n",
        "    vectorizer = CountVectorizer()\n",
        "    numUniv = sum([(l1[i].lower()).count('univ') for i in range(len(l1))])\n",
        "    result = []\n",
        "    for i in range(len(l1)):\n",
        "        best = [] \n",
        "        s = l1[i]\n",
        "       # s_contains_university = is_contained(\"university\", s.lower())  \n",
        "        \n",
        "       # if not is_contained(\"univ\", s.lower()):\n",
        "       #     continue  # Skip if s does not contain \"university\" or \"univ\"\n",
        "        \n",
        "    \n",
        "        for j in range(len(l3)):\n",
        "            x = l3[j][1] \n",
        "           \n",
        "            if [x, l3[j][2]] in result:\n",
        "                    continue\n",
        "            \n",
        "            if l4[l3[j][0]] == 1:\n",
        "               \n",
        "                if  is_contained('univ', x.lower()) and  l3[j][2]> simU:\n",
        "                    result.append([x, l3[j][2]])\n",
        "                elif  l3[j][2] >simG:\n",
        "                    result.append([x, l3[j][2]])\n",
        "\n",
        "                \n",
        "              \n",
        "            elif l3[j][2] >=0.99 and (is_contained(\"univ\", x.lower()) or is_contained(\"college\", x.lower()) or  is_contained(\"center\", x.lower()) or  is_contained(\"schule\", x.lower())): # If the similarity score of a pair (s,x) was 1, we store it to results list\n",
        "                result.append([l3[j][1], 1])\n",
        "                \n",
        "            else:\n",
        "        #        x_contains_university = is_contained(\"university\", x.lower())\n",
        "                if not is_contained(\"univ\", x.lower()):\n",
        "                    continue  # Skip if x does not contain \"university\" or \"univ\"\n",
        "                \n",
        "                if (is_contained('hosp', x.lower()) and not is_contained('hosp', s)) or (not is_contained('hosp', x.lower()) and is_contained('hosp', s)):\n",
        "                    continue\n",
        "                s_vector = vectorizer.fit_transform([s]).toarray() #Else we compute the similarity of s with the original affiiation name\n",
        "                x_vector = vectorizer.transform([x]).toarray()\n",
        "              #  s_vector1 =  vectorizer.transform([s]).toarray()\n",
        "              #  x_vector1 =  vectorizer.fit_transform([s]).toarray()\n",
        "                \n",
        "\n",
        "                # Compute similarity between the vectors\n",
        "                similarity = cosine_similarity(x_vector, s_vector)[0][0]\n",
        "                if similarity> 0.31:\n",
        "               # similarity1 = cosine_similarity(x_vector1, s_vector1)[0][0]\n",
        "                #similarity2 = Levenshtein.ratio(s,x)\n",
        "\n",
        "\n",
        "                    best.append([x, similarity])#(similarity+similarity2)/2])\n",
        "        \n",
        "        if best:\n",
        "            max_numbers = defaultdict(float)\n",
        "            for item in best:\n",
        "                string, number = item\n",
        "                max_numbers[string] = max(max_numbers[string], number)\n",
        "\n",
        "# Create a new list with the elements having the maximum number for each string\n",
        "            reduced_best = [[string, number] for string, number in best if number == max_numbers[string]]\n",
        "\n",
        "#            max_score = max(best, key=lambda x: x[1])[1]\n",
        "#            max_results = [(x[0], x[1]) for x in best if x[1] == max_score]\n",
        "           # if len(reduced_best) > 1:\n",
        "            reduced_best.sort(key=lambda x: x[1], reverse=True)\n",
        "            #reduced_best.sort(key=lambda x: (l2.index(x[0]), -x[1]), reverse=False)\n",
        "           #     result.append(reduced_best[-1])\n",
        "            #else:\n",
        "            result = result + reduced_best\n",
        "                \n",
        "    univ_list = []\n",
        "    other_list = []\n",
        "    \n",
        "    for r in result:\n",
        "        if is_contained('univ',r[0]):\n",
        "            univ_list.append(r)\n",
        "        else:\n",
        "            other_list.append(r)\n",
        "    \n",
        "    limit =  min(numUniv, l2)\n",
        "\n",
        "    if len(univ_list)> limit:\n",
        "        result = univ_list[:limit] + other_list\n",
        "                \n",
        "    return result"
      ]
    },
    {
      "attachments": {},
      "cell_type": "markdown",
      "metadata": {},
      "source": [
        "### Find rows with multiple mathcings"
      ]
    },
    {
      "cell_type": "code",
      "execution_count": 1757,
      "metadata": {},
      "outputs": [],
      "source": [
        "def index_multipleMatchings(df):\n",
        "    multipleMatchings = []\n",
        "    mult = []\n",
        "\n",
        "    for i in range(len(df)):\n",
        "        result_dict = {}\n",
        "        \n",
        "\n",
        "        for t in [t[0] for t in df.Pairs.iloc[i]]:\n",
        "            key = t\n",
        "            if key in result_dict:\n",
        "                result_dict[key] += 1\n",
        "                multipleMatchings.append(i)\n",
        "                \n",
        "            else:\n",
        "                result_dict[key] = 1\n",
        "        mult.append(result_dict)\n",
        "    return [list(set(multipleMatchings)), mult]\n",
        "                \n",
        "        "
      ]
    },
    {
      "attachments": {},
      "cell_type": "markdown",
      "metadata": {},
      "source": [
        "## Main map"
      ]
    },
    {
      "cell_type": "code",
      "execution_count": 1758,
      "metadata": {},
      "outputs": [],
      "source": [
        "def Doi_Ids(m, DF, dixOpenAIRE, simU, simG):\n",
        "    \n",
        "    \"\"\"\n",
        "    Matches affiliations in DataFrame 'DF' with names from dictionary 'dixOpenAIRE' and their openAIRE ids based on similarity scores.\n",
        "\n",
        "    Args:\n",
        "        m (int): The number of DOIs to check.\n",
        "        DF (DataFrame): The input DataFrame containing affiliation data.\n",
        "        dixOpenAIRE (dict): A dictionary of names from OpenAIRE.\n",
        "        simU (float): Similarity threshold for universities.\n",
        "        simG (float): Similarity threshold for non-universities.\n",
        "\n",
        "    Returns:\n",
        "        DataFrame: The final DataFrame with matched affiliations and their corresponding similarity scores.\n",
        "    \"\"\"\n",
        "    \n",
        "    lnamelist = list(dixOpenAIRE.keys())\n",
        "    dix = {}    # will store indeces and legalnames of organizations of the DOI { i : [legalname1, legalname2,...]}\n",
        "    deiktes = []  # stores indeces where a match is found\n",
        "    vectorizer = CountVectorizer()\n",
        "    similarity_ab = [] # stores lists of similarity scores of the mathces \n",
        "    pairs = [] #  pairs[i] =  [ [s,x,t] ] where (s,x) is a match and t the corresponding similarity score\n",
        "    \n",
        "    for k in range(m):\n",
        "        similar_k = []\n",
        "        pairs_k = []\n",
        "\n",
        "\n",
        "        for s in DF['affilSimpleNew'].iloc[k]:\n",
        "\n",
        "            if s in lnamelist:\n",
        "                deiktes.append(k)\n",
        "                similarity = 1\n",
        "                similar_k.append(similarity)\n",
        "                \n",
        "                pairs_k.append((s,s,similarity))\n",
        "\n",
        "                if k not in dix:\n",
        "                    dix[k] = [s]\n",
        "                else:\n",
        "                    dix[k].append(s)\n",
        "            else:\n",
        "\n",
        "                for x in lnamelist:\n",
        "                    \n",
        "                    if  is_contained(s, x):\n",
        "                        x_vector = vectorizer.fit_transform([x]).toarray()\n",
        "                        s_vector = vectorizer.transform([s]).toarray()\n",
        "\n",
        "                        # Compute similarity between the vectors\n",
        "                        similarity = cosine_similarity(x_vector, s_vector)[0][0]\n",
        "                        if similarity > min(simU, simG):\n",
        "                            if (is_contained('univ', s) and is_contained('univ', x)) and similarity > simU:\n",
        "                                similar_k.append(similarity)\n",
        "                                deiktes.append(k)\n",
        "                                pairs_k.append((s,x,similarity))\n",
        "\n",
        "                                if k not in dix:\n",
        "                                    dix[k] = [x]\n",
        "                                else:\n",
        "                                    dix[k].append(x)\n",
        "                            elif (not is_contained('univ', s) and not is_contained('univ', x)) and similarity > simG:\n",
        "                                similar_k.append(similarity)\n",
        "                                deiktes.append(k)\n",
        "                                pairs_k.append((s,x,similarity))\n",
        "\n",
        "                                if k not in dix:\n",
        "                                    dix[k] = [x]\n",
        "                                else:\n",
        "                                    dix[k].append(x)\n",
        "                    elif is_contained(x, s):\n",
        "                        if (is_contained('univ', s) and is_contained('univ', x)):\n",
        "\n",
        "                            if 'and' in s:\n",
        "                                list_s = s.split(' and ')\n",
        "                                for t in list_s:\n",
        "                                    if is_contained(x, t) and is_contained('univ', t):\n",
        "                                        t_vector = vectorizer.fit_transform([t]).toarray()\n",
        "                                        x_vector = vectorizer.transform([x]).toarray()\n",
        "\n",
        "                            # Compute similarity between the vectors\n",
        "                                        similarity = cosine_similarity(t_vector, x_vector)[0][0]\n",
        "                                        if similarity > simU:\n",
        "                                            similar_k.append(similarity)\n",
        "                                            deiktes.append(k)\n",
        "                                            pairs_k.append((s,x,similarity))\n",
        "\n",
        "                                            if k not in dix:\n",
        "                                                dix[k] = [x]\n",
        "                                            else:\n",
        "                                                dix[k].append(x)\n",
        "                            \n",
        "                            else: \n",
        "                                s_vector = vectorizer.fit_transform([s]).toarray()\n",
        "                                x_vector = vectorizer.transform([x]).toarray()\n",
        "\n",
        "                                # Compute similarity between the vectors\n",
        "                                similarity = cosine_similarity(s_vector, x_vector)[0][0]\n",
        "                                if similarity > simU: #max(0.82,sim):\n",
        "                                    similar_k.append(similarity)\n",
        "                                    deiktes.append(k)\n",
        "                                    pairs_k.append((s,x,similarity))\n",
        "\n",
        "                                    if k not in dix:\n",
        "                                        dix[k] = [x]\n",
        "                                    else:\n",
        "                                        dix[k].append(x)\n",
        "                        elif not is_contained('univ', s) and not is_contained('univ', x):\n",
        "                            if 'and' in s:\n",
        "                                list_s = s.split(' and ')\n",
        "                                for t in list_s:\n",
        "                                    if is_contained(x, t):\n",
        "                                        t_vector = vectorizer.fit_transform([t]).toarray()\n",
        "                                        x_vector = vectorizer.transform([x]).toarray()\n",
        "\n",
        "                            # Compute similarity between the vectors\n",
        "                                        similarity = cosine_similarity(t_vector, x_vector)[0][0]\n",
        "                                        if similarity > simG:\n",
        "                                            similar_k.append(similarity)\n",
        "                                            deiktes.append(k)\n",
        "                                            pairs_k.append((s,x,similarity))\n",
        "\n",
        "                                            if k not in dix:\n",
        "                                                dix[k] = [x]\n",
        "                                            else:\n",
        "                                                dix[k].append(x)\n",
        "                            \n",
        "                            else: \n",
        "                                s_vector = vectorizer.fit_transform([s]).toarray()\n",
        "                                x_vector = vectorizer.transform([x]).toarray()\n",
        "\n",
        "                                # Compute similarity between the vectors\n",
        "                                similarity = cosine_similarity(s_vector, x_vector)[0][0]\n",
        "                                if similarity > simG: #max(0.82,sim):\n",
        "                                    similar_k.append(similarity)\n",
        "                                    deiktes.append(k)\n",
        "                                    pairs_k.append((s,x,similarity))\n",
        "\n",
        "                                    if k not in dix:\n",
        "                                        dix[k] = [x]\n",
        "                                    else:\n",
        "                                        dix[k].append(x)\n",
        "                            \n",
        "        similarity_ab.append(similar_k)   \n",
        "        similarity_ab = [lst for lst in similarity_ab if lst != []]\n",
        "        pairs.append(pairs_k)\n",
        "        \n",
        "    \n",
        "    dixDoiAff = {DF['DOI'].iloc[key]: value for key, value in dix.items()} # dictionary {DOI : legalnames} \n",
        "    \n",
        "    #dixDoiPid1 = {key : [dixOpenAIRE[x] for x in value if x in  lnamelist] for key , value in dixDoiAff.items()}\n",
        "    \n",
        "   # dixDoiPid = {key : [dixOpenAIRE[x] for x in value] for key , value in dixDoiAff.items()} # dictionary {DOI : PIDs} \n",
        "    \n",
        "    \n",
        "    \n",
        "## Define the new Dataframe\n",
        "    \n",
        "    doiIdDF = pd.DataFrame()\n",
        "    doiIdDF['DOI'] = list(dixDoiAff.keys())\n",
        "    doiIdDF['Affiliations'] = list(DF['affiliations'].iloc[list(set(deiktes))])\n",
        "\n",
        "    doiIdDF['Unique affiliations'] = list(DF['uniqueAff2'].iloc[list(set(deiktes))])\n",
        "    doiIdDF['light affiliations'] = list(DF['lightAff'].iloc[list(set(deiktes))])\n",
        "\n",
        "    \n",
        "    doiIdDF['# Authors'] = list(DF['# authors'].iloc[list(set(deiktes))])\n",
        "\n",
        "\n",
        "    doiIdDF['# Unique affiliations'] = list(DF['# uniqueAff'].iloc[list(set(deiktes))])\n",
        "\n",
        "    doiIdDF['Candidates for matching'] = list(DF['affilSimpleNew'].iloc[list(set(deiktes))])\n",
        "    doiIdDF['Candidates old'] = list(DF['affilSimple'].iloc[list(set(deiktes))])\n",
        "\n",
        "\n",
        "    doiIdDF['Matched openAIRE names'] = list(dix.values())\n",
        "    doiIdDF['# Matched orgs'] = [len(list(dix.values())[i]) for i in range(len(list(dix.values())))]\n",
        "    \n",
        "\n",
        "    doiIdDF['Similarity score'] = similarity_ab\n",
        "    #perfectSim = [[1 if num >= 1 else 0 for num in inner_list] for inner_list in similarity_ab]\n",
        "\n",
        "    #doiIdDF['Perfect match'] = perfectSim\n",
        "    #perfectSimSum = [sum(x) for x in perfectSim]\n",
        "    #doiIdDF['Perfect sum'] = perfectSimSum\n",
        "    Pairs = [lst for lst in pairs if lst]\n",
        "    doiIdDF['Pairs'] = Pairs\n",
        "    doiIdDF['mult'] = index_multipleMatchings(doiIdDF)[1]\n",
        "    #doiIdDF['Cleaning'] =  list(DF['Cleaning'].iloc[list(set(deiktes))])\n",
        "\n",
        "\n",
        "    \n",
        "\n",
        "\n",
        "## Correct the matchings\n",
        "    needCheck = list(set([i for i in range(len(doiIdDF)) for k in list(doiIdDF['mult'].iloc[i].values()) if k>1]))\n",
        "    \n",
        "    #needCheck = [i for i  in range(len(doiIdDF)) if doiIdDF['# Matched orgs'].iloc[i] - max(doiIdDF['# Authors'].iloc[i],doiIdDF['# Unique affiliations'].iloc[i]) >0 or    i in index_multipleMatchings(doiIdDF)[0]]\n",
        "\n",
        "    ready = [i for i in range(len(doiIdDF)) if i not in needCheck]\n",
        "   \n",
        "    best = [ bestSimScore1(doiIdDF['light affiliations'].iloc[i], len(doiIdDF['Candidates for matching'].iloc[i]), doiIdDF['Pairs'].iloc[i],doiIdDF['mult'].iloc[i], simU, simG) for i in needCheck]\n",
        "    #best = [ bestSimScore(doiIdDF['light affiliations'].iloc[i], doiIdDF['Matched openAIRE names'].iloc[i], doiIdDF['Pairs'].iloc[i]) for i in needCheck]\n",
        "    best_o = []\n",
        "    best_s = []\n",
        "    \n",
        "    for x in best:\n",
        "        best_o.append([x[i][0]  for i in range(len(x))])\n",
        "        best_s.append([round(x[i][1],2)  for i in range(len(x))])\n",
        "    numMathced = [len(best_s[i]) for i in range(len(needCheck))]\n",
        "    \n",
        "\n",
        "    \n",
        "    dfFinal0 = (doiIdDF.iloc[ready]).copy()\n",
        "    dfFinal0['index'] = ready\n",
        "    \n",
        "    dfFinal1 = (doiIdDF.iloc[needCheck]).copy()\n",
        "    dfFinal1['index'] = needCheck\n",
        "    dfFinal1['Matched openAIRE names'] = best_o\n",
        "    dfFinal1['Similarity score'] = best_s\n",
        "    dfFinal1['# Matched orgs'] = numMathced\n",
        "    \n",
        "    finalDF =  pd.concat([dfFinal0, dfFinal1])\n",
        "    finalDF.set_index('index', inplace=True)\n",
        "    finalDF.sort_values('index', ascending=True, inplace = True)\n",
        "    \n",
        "    ids = [[dixOpenAIRE[x] for x in v] for v in finalDF['Matched openAIRE names']]\n",
        "    numIds = [len(x) for x in ids]\n",
        "\n",
        "    finalDF['IDs'] = ids\n",
        "    finalDF['# IDs'] = numIds\n",
        "    finalDF = finalDF[~(finalDF['# Matched orgs'] == 0)]\n",
        "    \n",
        "    finalDF = finalDF.reset_index(drop=True)\n",
        "    perc = 100*len(finalDF)/m\n",
        "\n",
        "\n",
        "\n",
        "    \n",
        "    \n",
        "    return [perc,finalDF,doiIdDF, needCheck]\n",
        "    \n"
      ]
    },
    {
      "cell_type": "code",
      "execution_count": 1759,
      "metadata": {},
      "outputs": [],
      "source": [
        "result = Doi_Ids(len(univLabsDF), univLabsDF, dixOpenOrgId2, 0.7,0.82)"
      ]
    },
    {
      "cell_type": "code",
      "execution_count": 1760,
      "metadata": {},
      "outputs": [
        {
          "data": {
            "text/plain": [
              "88.34355828220859"
            ]
          },
          "execution_count": 1760,
          "metadata": {},
          "output_type": "execute_result"
        }
      ],
      "source": [
        "result[0]"
      ]
    },
    {
      "attachments": {},
      "cell_type": "markdown",
      "metadata": {},
      "source": [
        "# HTML"
      ]
    },
    {
      "cell_type": "code",
      "execution_count": 1764,
      "metadata": {},
      "outputs": [],
      "source": [
        "finaldf = result[1]\n",
        "finalDF = finaldf[[\"Affiliations\", \"Unique affiliations\",'# Authors','# Unique affiliations', '# Matched orgs', 'Matched openAIRE names', 'Similarity score']]\n"
      ]
    },
    {
      "cell_type": "code",
      "execution_count": 1762,
      "metadata": {},
      "outputs": [],
      "source": [
        "def update_Z(row):\n",
        "    new_Z = []\n",
        "    for i in range(len(row['IDs'])):\n",
        "        entry = {'openaireId': row['IDs'][i], 'confidence': row['Similarity score'][i]}\n",
        "        new_Z.append(entry)\n",
        "    return new_Z\n",
        "\n",
        "# Update the values in column 'Z' using 'apply'\n",
        "finaldf['affiliations'] = finaldf.apply(update_Z, axis=1)\n"
      ]
    },
    {
      "cell_type": "code",
      "execution_count": 1763,
      "metadata": {},
      "outputs": [],
      "source": [
        "finaldf_output = finaldf[['DOI','affiliations']]\n",
        "finaldf_output = finaldf_output.rename(columns={'DOI': 'doi'}).copy()\n",
        "\n"
      ]
    },
    {
      "cell_type": "code",
      "execution_count": 1766,
      "metadata": {},
      "outputs": [
        {
          "data": {
            "text/markdown": [
              "App saved to ./test.html"
            ],
            "text/plain": [
              "<IPython.core.display.Markdown object>"
            ]
          },
          "metadata": {},
          "output_type": "display_data"
        }
      ],
      "source": [
        "app = dp.App(#dp.Page(title=\"Matchings [explained]\", blocks= [dp.Text('DOIs with aff. in Univ/Inst, Laboratories'), dp.DataTable(finalDF.drop(columns =['Candidates old']))]\n",
        "             #), \n",
        "             dp.Page(title=\"Matchings [final]\", \n",
        "                     blocks= [dp.Text('DOIs with aff. in Univ/Inst, Laboratories'), dp.Table(finalDF)]\n",
        "             )\n",
        "             )\n",
        "    \n",
        "\n",
        "\n",
        "   \n",
        "app.save(path=\"test.html\", open=True)\n"
      ]
    },
    {
      "attachments": {},
      "cell_type": "markdown",
      "metadata": {},
      "source": [
        "# JSON"
      ]
    },
    {
      "cell_type": "code",
      "execution_count": 1731,
      "metadata": {},
      "outputs": [],
      "source": [
        "match0 = finaldf_output.to_json(orient='records', lines=True)\n",
        "\n",
        "# Save the JSON to a file\n",
        "with open('match0.json', 'w') as f:\n",
        "    f.write(match0)"
      ]
    },
    {
      "attachments": {},
      "cell_type": "markdown",
      "metadata": {},
      "source": [
        "# proxeiro"
      ]
    },
    {
      "cell_type": "code",
      "execution_count": 1732,
      "metadata": {},
      "outputs": [
        {
          "data": {
            "text/plain": [
              "['centre provencealpescote dazur',\n",
              " 'institut des materiaux microelectronique et des nanosciences provence',\n",
              " 'universit provence']"
            ]
          },
          "execution_count": 1732,
          "metadata": {},
          "output_type": "execute_result"
        }
      ],
      "source": [
        "findID('provence')"
      ]
    },
    {
      "cell_type": "code",
      "execution_count": 1733,
      "metadata": {},
      "outputs": [
        {
          "data": {
            "text/plain": [
              "0.7071067811865475"
            ]
          },
          "execution_count": 1733,
          "metadata": {},
          "output_type": "execute_result"
        }
      ],
      "source": [
        "vectorizer = CountVectorizer()\n",
        "\n",
        "\n",
        "s = 'university provence'\n",
        "x = 'universite provence'\n",
        "\n",
        "s_vector = vectorizer.fit_transform([s]).toarray()\n",
        "x_vector = vectorizer.transform([x]).toarray()\n",
        "\n",
        "# Compute similarity between the vectors\n",
        "similarity = cosine_similarity(s_vector, x_vector)[0][0]\n",
        "similarity"
      ]
    },
    {
      "cell_type": "code",
      "execution_count": null,
      "metadata": {},
      "outputs": [],
      "source": []
    }
  ],
  "metadata": {
    "kernelspec": {
      "display_name": "base",
      "language": "python",
      "name": "python3"
    },
    "language_info": {
      "codemirror_mode": {
        "name": "ipython",
        "version": 3
      },
      "file_extension": ".py",
      "mimetype": "text/x-python",
      "name": "python",
      "nbconvert_exporter": "python",
      "pygments_lexer": "ipython3",
      "version": "3.9.13"
    },
    "name": "beginners_kit_zeppelin_notebook"
  },
  "nbformat": 4,
  "nbformat_minor": 2
}
