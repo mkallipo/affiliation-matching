{
  "cells": [
    {
      "attachments": {},
      "cell_type": "markdown",
      "metadata": {},
      "source": [
        "# Import packages"
      ]
    },
    {
      "cell_type": "code",
      "execution_count": 1,
      "metadata": {},
      "outputs": [],
      "source": [
        "import pandas as pd"
      ]
    },
    {
      "cell_type": "code",
      "execution_count": 2,
      "metadata": {},
      "outputs": [
        {
          "data": {
            "text/html": [
              "        <script type=\"text/javascript\">\n",
              "        window.PlotlyConfig = {MathJaxConfig: 'local'};\n",
              "        if (window.MathJax && window.MathJax.Hub && window.MathJax.Hub.Config) {window.MathJax.Hub.Config({SVG: {font: \"STIX-Web\"}});}\n",
              "        if (typeof require !== 'undefined') {\n",
              "        require.undef(\"plotly\");\n",
              "        requirejs.config({\n",
              "            paths: {\n",
              "                'plotly': ['https://cdn.plot.ly/plotly-2.14.0.min']\n",
              "            }\n",
              "        });\n",
              "        require(['plotly'], function(Plotly) {\n",
              "            window._Plotly = Plotly;\n",
              "        });\n",
              "        }\n",
              "        </script>\n",
              "        "
            ]
          },
          "metadata": {},
          "output_type": "display_data"
        }
      ],
      "source": [
        "import plotly\n",
        "import datapane as dp\n",
        "plotly.offline.init_notebook_mode(connected=True)"
      ]
    },
    {
      "cell_type": "code",
      "execution_count": 3,
      "metadata": {},
      "outputs": [],
      "source": [
        "import random"
      ]
    },
    {
      "cell_type": "code",
      "execution_count": 4,
      "metadata": {},
      "outputs": [],
      "source": [
        "import re\n",
        "import pickle\n",
        "\n",
        "\n",
        "from sklearn.feature_extraction.text import CountVectorizer\n",
        "from sklearn.metrics.pairwise import cosine_similarity"
      ]
    },
    {
      "attachments": {},
      "cell_type": "markdown",
      "metadata": {},
      "source": [
        "# Upload json files"
      ]
    },
    {
      "cell_type": "code",
      "execution_count": 5,
      "metadata": {},
      "outputs": [],
      "source": [
        "#files= ['0.json', '1.json', '2.json', '3.json', '4.json','42.json', '15693.json']\n",
        "files = ['0.json']\n",
        "# create an empty list to store the DataFrames\n",
        "dfsList = [pd.read_json(file, orient='records') for file in files]\n",
        "\n",
        "# combine all DataFrames into a single DataFrame\n",
        "crossrefDF = pd.concat(dfsList, ignore_index=True)\n"
      ]
    },
    {
      "cell_type": "code",
      "execution_count": 6,
      "metadata": {},
      "outputs": [
        {
          "data": {
            "text/html": [
              "<div>\n",
              "<style scoped>\n",
              "    .dataframe tbody tr th:only-of-type {\n",
              "        vertical-align: middle;\n",
              "    }\n",
              "\n",
              "    .dataframe tbody tr th {\n",
              "        vertical-align: top;\n",
              "    }\n",
              "\n",
              "    .dataframe thead th {\n",
              "        text-align: right;\n",
              "    }\n",
              "</style>\n",
              "<table border=\"1\" class=\"dataframe\">\n",
              "  <thead>\n",
              "    <tr style=\"text-align: right;\">\n",
              "      <th></th>\n",
              "      <th>items</th>\n",
              "    </tr>\n",
              "  </thead>\n",
              "  <tbody>\n",
              "    <tr>\n",
              "      <th>0</th>\n",
              "      <td>{'URL': 'http://dx.doi.org/10.1021/ac020069k',...</td>\n",
              "    </tr>\n",
              "    <tr>\n",
              "      <th>1</th>\n",
              "      <td>{'URL': 'http://dx.doi.org/10.1103/physrevc.65...</td>\n",
              "    </tr>\n",
              "    <tr>\n",
              "      <th>2</th>\n",
              "      <td>{'abstract': '&lt;jats:p&gt;\n",
              "            &lt;jats:bold&gt;...</td>\n",
              "    </tr>\n",
              "    <tr>\n",
              "      <th>3</th>\n",
              "      <td>{'URL': 'http://dx.doi.org/10.1093/jjco/hyf035...</td>\n",
              "    </tr>\n",
              "    <tr>\n",
              "      <th>4</th>\n",
              "      <td>{'abstract': '&lt;jats:p&gt;The integration of the I...</td>\n",
              "    </tr>\n",
              "    <tr>\n",
              "      <th>...</th>\n",
              "      <td>...</td>\n",
              "    </tr>\n",
              "    <tr>\n",
              "      <th>4995</th>\n",
              "      <td>{'URL': 'http://dx.doi.org/10.1053/tvjl.2002.0...</td>\n",
              "    </tr>\n",
              "    <tr>\n",
              "      <th>4996</th>\n",
              "      <td>{'abstract': '&lt;jats:p&gt;This article reports on ...</td>\n",
              "    </tr>\n",
              "    <tr>\n",
              "      <th>4997</th>\n",
              "      <td>{'abstract': '&lt;jats:p&gt; We present a collection...</td>\n",
              "    </tr>\n",
              "    <tr>\n",
              "      <th>4998</th>\n",
              "      <td>{'abstract': '&lt;jats:p&gt;Looks at the nature of w...</td>\n",
              "    </tr>\n",
              "    <tr>\n",
              "      <th>4999</th>\n",
              "      <td>{'URL': 'http://dx.doi.org/10.1016/0166-218x(9...</td>\n",
              "    </tr>\n",
              "  </tbody>\n",
              "</table>\n",
              "<p>5000 rows × 1 columns</p>\n",
              "</div>"
            ],
            "text/plain": [
              "                                                  items\n",
              "0     {'URL': 'http://dx.doi.org/10.1021/ac020069k',...\n",
              "1     {'URL': 'http://dx.doi.org/10.1103/physrevc.65...\n",
              "2     {'abstract': '<jats:p>\n",
              "            <jats:bold>...\n",
              "3     {'URL': 'http://dx.doi.org/10.1093/jjco/hyf035...\n",
              "4     {'abstract': '<jats:p>The integration of the I...\n",
              "...                                                 ...\n",
              "4995  {'URL': 'http://dx.doi.org/10.1053/tvjl.2002.0...\n",
              "4996  {'abstract': '<jats:p>This article reports on ...\n",
              "4997  {'abstract': '<jats:p> We present a collection...\n",
              "4998  {'abstract': '<jats:p>Looks at the nature of w...\n",
              "4999  {'URL': 'http://dx.doi.org/10.1016/0166-218x(9...\n",
              "\n",
              "[5000 rows x 1 columns]"
            ]
          },
          "execution_count": 6,
          "metadata": {},
          "output_type": "execute_result"
        }
      ],
      "source": [
        "crossrefDF"
      ]
    },
    {
      "attachments": {},
      "cell_type": "markdown",
      "metadata": {},
      "source": [
        "# Data preparation "
      ]
    },
    {
      "cell_type": "code",
      "execution_count": 7,
      "metadata": {},
      "outputs": [],
      "source": [
        "noAuthors = [i for i in range(len(crossrefDF)) if 'author' not in crossrefDF['items'][i]]\n",
        "\n",
        "Authors = [i for i in range(len(crossrefDF)) if 'author'  in crossrefDF['items'][i]]"
      ]
    },
    {
      "cell_type": "code",
      "execution_count": 8,
      "metadata": {},
      "outputs": [
        {
          "data": {
            "text/plain": [
              "True"
            ]
          },
          "execution_count": 8,
          "metadata": {},
          "output_type": "execute_result"
        }
      ],
      "source": [
        "len(noAuthors) + len(Authors) == len(crossrefDF)"
      ]
    },
    {
      "attachments": {},
      "cell_type": "markdown",
      "metadata": {},
      "source": [
        "## Rows with authors"
      ]
    },
    {
      "cell_type": "code",
      "execution_count": 9,
      "metadata": {},
      "outputs": [],
      "source": [
        "crossrefAuth = crossrefDF.iloc[Authors].copy()\n",
        "\n",
        "crossrefAuth.reset_index(inplace= True)\n",
        "crossrefAuth.drop(columns = ['index'], inplace = True)\n"
      ]
    },
    {
      "attachments": {},
      "cell_type": "markdown",
      "metadata": {},
      "source": [
        "## Extract 'DOI'"
      ]
    },
    {
      "cell_type": "code",
      "execution_count": 10,
      "metadata": {},
      "outputs": [],
      "source": [
        "crossrefAuth.loc[:, 'DOI'] = crossrefAuth['items'].apply(lambda x: x['DOI'])"
      ]
    },
    {
      "cell_type": "code",
      "execution_count": 11,
      "metadata": {},
      "outputs": [
        {
          "data": {
            "text/html": [
              "<div>\n",
              "<style scoped>\n",
              "    .dataframe tbody tr th:only-of-type {\n",
              "        vertical-align: middle;\n",
              "    }\n",
              "\n",
              "    .dataframe tbody tr th {\n",
              "        vertical-align: top;\n",
              "    }\n",
              "\n",
              "    .dataframe thead th {\n",
              "        text-align: right;\n",
              "    }\n",
              "</style>\n",
              "<table border=\"1\" class=\"dataframe\">\n",
              "  <thead>\n",
              "    <tr style=\"text-align: right;\">\n",
              "      <th></th>\n",
              "      <th>items</th>\n",
              "      <th>DOI</th>\n",
              "    </tr>\n",
              "  </thead>\n",
              "  <tbody>\n",
              "    <tr>\n",
              "      <th>0</th>\n",
              "      <td>{'URL': 'http://dx.doi.org/10.1021/ac020069k',...</td>\n",
              "      <td>10.1021/ac020069k</td>\n",
              "    </tr>\n",
              "    <tr>\n",
              "      <th>1</th>\n",
              "      <td>{'URL': 'http://dx.doi.org/10.1103/physrevc.65...</td>\n",
              "      <td>10.1103/physrevc.65.064904</td>\n",
              "    </tr>\n",
              "    <tr>\n",
              "      <th>2</th>\n",
              "      <td>{'abstract': '&lt;jats:p&gt;\n",
              "            &lt;jats:bold&gt;...</td>\n",
              "      <td>10.1161/01.cir.0000013846.72805.7e</td>\n",
              "    </tr>\n",
              "    <tr>\n",
              "      <th>3</th>\n",
              "      <td>{'URL': 'http://dx.doi.org/10.1093/jjco/hyf035...</td>\n",
              "      <td>10.1093/jjco/hyf035</td>\n",
              "    </tr>\n",
              "    <tr>\n",
              "      <th>4</th>\n",
              "      <td>{'abstract': '&lt;jats:p&gt;The integration of the I...</td>\n",
              "      <td>10.1108/14684520010357338</td>\n",
              "    </tr>\n",
              "  </tbody>\n",
              "</table>\n",
              "</div>"
            ],
            "text/plain": [
              "                                               items  \\\n",
              "0  {'URL': 'http://dx.doi.org/10.1021/ac020069k',...   \n",
              "1  {'URL': 'http://dx.doi.org/10.1103/physrevc.65...   \n",
              "2  {'abstract': '<jats:p>\n",
              "            <jats:bold>...   \n",
              "3  {'URL': 'http://dx.doi.org/10.1093/jjco/hyf035...   \n",
              "4  {'abstract': '<jats:p>The integration of the I...   \n",
              "\n",
              "                                  DOI  \n",
              "0                   10.1021/ac020069k  \n",
              "1          10.1103/physrevc.65.064904  \n",
              "2  10.1161/01.cir.0000013846.72805.7e  \n",
              "3                 10.1093/jjco/hyf035  \n",
              "4           10.1108/14684520010357338  "
            ]
          },
          "execution_count": 11,
          "metadata": {},
          "output_type": "execute_result"
        }
      ],
      "source": [
        "crossrefAuth.head()"
      ]
    },
    {
      "attachments": {},
      "cell_type": "markdown",
      "metadata": {},
      "source": [
        "## Extract 'authors' --- number of authors"
      ]
    },
    {
      "cell_type": "code",
      "execution_count": 12,
      "metadata": {},
      "outputs": [],
      "source": [
        "crossrefAuth.loc[:,'authors'] = crossrefAuth['items'].apply(lambda x: x['author'])\n"
      ]
    },
    {
      "cell_type": "code",
      "execution_count": 13,
      "metadata": {},
      "outputs": [
        {
          "data": {
            "text/html": [
              "<div>\n",
              "<style scoped>\n",
              "    .dataframe tbody tr th:only-of-type {\n",
              "        vertical-align: middle;\n",
              "    }\n",
              "\n",
              "    .dataframe tbody tr th {\n",
              "        vertical-align: top;\n",
              "    }\n",
              "\n",
              "    .dataframe thead th {\n",
              "        text-align: right;\n",
              "    }\n",
              "</style>\n",
              "<table border=\"1\" class=\"dataframe\">\n",
              "  <thead>\n",
              "    <tr style=\"text-align: right;\">\n",
              "      <th></th>\n",
              "      <th>items</th>\n",
              "      <th>DOI</th>\n",
              "      <th>authors</th>\n",
              "    </tr>\n",
              "  </thead>\n",
              "  <tbody>\n",
              "    <tr>\n",
              "      <th>0</th>\n",
              "      <td>{'URL': 'http://dx.doi.org/10.1021/ac020069k',...</td>\n",
              "      <td>10.1021/ac020069k</td>\n",
              "      <td>[{'given': 'Gi Hun', 'family': 'Seong', 'seque...</td>\n",
              "    </tr>\n",
              "    <tr>\n",
              "      <th>1</th>\n",
              "      <td>{'URL': 'http://dx.doi.org/10.1103/physrevc.65...</td>\n",
              "      <td>10.1103/physrevc.65.064904</td>\n",
              "      <td>[{'given': 'S. V.', 'family': 'Akkelin', 'sequ...</td>\n",
              "    </tr>\n",
              "    <tr>\n",
              "      <th>2</th>\n",
              "      <td>{'abstract': '&lt;jats:p&gt;\n",
              "            &lt;jats:bold&gt;...</td>\n",
              "      <td>10.1161/01.cir.0000013846.72805.7e</td>\n",
              "      <td>[{'given': 'Dinesh K.', 'family': 'Kalra', 'se...</td>\n",
              "    </tr>\n",
              "    <tr>\n",
              "      <th>3</th>\n",
              "      <td>{'URL': 'http://dx.doi.org/10.1093/jjco/hyf035...</td>\n",
              "      <td>10.1093/jjco/hyf035</td>\n",
              "      <td>[{'given': 'E.', 'family': 'Bakan', 'sequence'...</td>\n",
              "    </tr>\n",
              "    <tr>\n",
              "      <th>4</th>\n",
              "      <td>{'abstract': '&lt;jats:p&gt;The integration of the I...</td>\n",
              "      <td>10.1108/14684520010357338</td>\n",
              "      <td>[{'given': 'Kaba', 'family': 'Abdoulaye', 'seq...</td>\n",
              "    </tr>\n",
              "  </tbody>\n",
              "</table>\n",
              "</div>"
            ],
            "text/plain": [
              "                                               items  \\\n",
              "0  {'URL': 'http://dx.doi.org/10.1021/ac020069k',...   \n",
              "1  {'URL': 'http://dx.doi.org/10.1103/physrevc.65...   \n",
              "2  {'abstract': '<jats:p>\n",
              "            <jats:bold>...   \n",
              "3  {'URL': 'http://dx.doi.org/10.1093/jjco/hyf035...   \n",
              "4  {'abstract': '<jats:p>The integration of the I...   \n",
              "\n",
              "                                  DOI  \\\n",
              "0                   10.1021/ac020069k   \n",
              "1          10.1103/physrevc.65.064904   \n",
              "2  10.1161/01.cir.0000013846.72805.7e   \n",
              "3                 10.1093/jjco/hyf035   \n",
              "4           10.1108/14684520010357338   \n",
              "\n",
              "                                             authors  \n",
              "0  [{'given': 'Gi Hun', 'family': 'Seong', 'seque...  \n",
              "1  [{'given': 'S. V.', 'family': 'Akkelin', 'sequ...  \n",
              "2  [{'given': 'Dinesh K.', 'family': 'Kalra', 'se...  \n",
              "3  [{'given': 'E.', 'family': 'Bakan', 'sequence'...  \n",
              "4  [{'given': 'Kaba', 'family': 'Abdoulaye', 'seq...  "
            ]
          },
          "execution_count": 13,
          "metadata": {},
          "output_type": "execute_result"
        }
      ],
      "source": [
        "crossrefAuth.head()"
      ]
    },
    {
      "cell_type": "code",
      "execution_count": 14,
      "metadata": {},
      "outputs": [],
      "source": [
        "numAuthors = [len(crossrefAuth.iloc[i]['authors']) for i in range(len(crossrefAuth))]"
      ]
    },
    {
      "cell_type": "code",
      "execution_count": 15,
      "metadata": {},
      "outputs": [],
      "source": [
        "## yparxoun lathi  ---> kalytera number of affiliations\n",
        "crossrefAuth.loc[:,'# authors'] = numAuthors"
      ]
    },
    {
      "cell_type": "code",
      "execution_count": 16,
      "metadata": {},
      "outputs": [
        {
          "data": {
            "text/html": [
              "<div>\n",
              "<style scoped>\n",
              "    .dataframe tbody tr th:only-of-type {\n",
              "        vertical-align: middle;\n",
              "    }\n",
              "\n",
              "    .dataframe tbody tr th {\n",
              "        vertical-align: top;\n",
              "    }\n",
              "\n",
              "    .dataframe thead th {\n",
              "        text-align: right;\n",
              "    }\n",
              "</style>\n",
              "<table border=\"1\" class=\"dataframe\">\n",
              "  <thead>\n",
              "    <tr style=\"text-align: right;\">\n",
              "      <th></th>\n",
              "      <th>items</th>\n",
              "      <th>DOI</th>\n",
              "      <th>authors</th>\n",
              "      <th># authors</th>\n",
              "    </tr>\n",
              "  </thead>\n",
              "  <tbody>\n",
              "    <tr>\n",
              "      <th>0</th>\n",
              "      <td>{'URL': 'http://dx.doi.org/10.1021/ac020069k',...</td>\n",
              "      <td>10.1021/ac020069k</td>\n",
              "      <td>[{'given': 'Gi Hun', 'family': 'Seong', 'seque...</td>\n",
              "      <td>3</td>\n",
              "    </tr>\n",
              "    <tr>\n",
              "      <th>1</th>\n",
              "      <td>{'URL': 'http://dx.doi.org/10.1103/physrevc.65...</td>\n",
              "      <td>10.1103/physrevc.65.064904</td>\n",
              "      <td>[{'given': 'S. V.', 'family': 'Akkelin', 'sequ...</td>\n",
              "      <td>3</td>\n",
              "    </tr>\n",
              "    <tr>\n",
              "      <th>2</th>\n",
              "      <td>{'abstract': '&lt;jats:p&gt;\n",
              "            &lt;jats:bold&gt;...</td>\n",
              "      <td>10.1161/01.cir.0000013846.72805.7e</td>\n",
              "      <td>[{'given': 'Dinesh K.', 'family': 'Kalra', 'se...</td>\n",
              "      <td>10</td>\n",
              "    </tr>\n",
              "    <tr>\n",
              "      <th>3</th>\n",
              "      <td>{'URL': 'http://dx.doi.org/10.1093/jjco/hyf035...</td>\n",
              "      <td>10.1093/jjco/hyf035</td>\n",
              "      <td>[{'given': 'E.', 'family': 'Bakan', 'sequence'...</td>\n",
              "      <td>1</td>\n",
              "    </tr>\n",
              "    <tr>\n",
              "      <th>4</th>\n",
              "      <td>{'abstract': '&lt;jats:p&gt;The integration of the I...</td>\n",
              "      <td>10.1108/14684520010357338</td>\n",
              "      <td>[{'given': 'Kaba', 'family': 'Abdoulaye', 'seq...</td>\n",
              "      <td>2</td>\n",
              "    </tr>\n",
              "  </tbody>\n",
              "</table>\n",
              "</div>"
            ],
            "text/plain": [
              "                                               items  \\\n",
              "0  {'URL': 'http://dx.doi.org/10.1021/ac020069k',...   \n",
              "1  {'URL': 'http://dx.doi.org/10.1103/physrevc.65...   \n",
              "2  {'abstract': '<jats:p>\n",
              "            <jats:bold>...   \n",
              "3  {'URL': 'http://dx.doi.org/10.1093/jjco/hyf035...   \n",
              "4  {'abstract': '<jats:p>The integration of the I...   \n",
              "\n",
              "                                  DOI  \\\n",
              "0                   10.1021/ac020069k   \n",
              "1          10.1103/physrevc.65.064904   \n",
              "2  10.1161/01.cir.0000013846.72805.7e   \n",
              "3                 10.1093/jjco/hyf035   \n",
              "4           10.1108/14684520010357338   \n",
              "\n",
              "                                             authors  # authors  \n",
              "0  [{'given': 'Gi Hun', 'family': 'Seong', 'seque...          3  \n",
              "1  [{'given': 'S. V.', 'family': 'Akkelin', 'sequ...          3  \n",
              "2  [{'given': 'Dinesh K.', 'family': 'Kalra', 'se...         10  \n",
              "3  [{'given': 'E.', 'family': 'Bakan', 'sequence'...          1  \n",
              "4  [{'given': 'Kaba', 'family': 'Abdoulaye', 'seq...          2  "
            ]
          },
          "execution_count": 16,
          "metadata": {},
          "output_type": "execute_result"
        }
      ],
      "source": [
        "crossrefAuth.head()"
      ]
    },
    {
      "attachments": {},
      "cell_type": "markdown",
      "metadata": {},
      "source": [
        "## Extract 'affiliations' --- number of affiliations"
      ]
    },
    {
      "cell_type": "code",
      "execution_count": 17,
      "metadata": {},
      "outputs": [],
      "source": [
        "def getAff(k):\n",
        "   return [crossrefAuth['authors'][k][j]['affiliation'] for j in range(len(crossrefAuth['authors'][k]))]\n",
        "    "
      ]
    },
    {
      "cell_type": "code",
      "execution_count": 18,
      "metadata": {},
      "outputs": [],
      "source": [
        "Affiliations = [getAff(k) for k in range(len(crossrefAuth))]\n",
        "\n",
        "crossrefAuth.loc[:,'affiliations'] = Affiliations\n"
      ]
    },
    {
      "cell_type": "code",
      "execution_count": 19,
      "metadata": {},
      "outputs": [],
      "source": [
        "numAffil = [len(Affiliations[i]) for i in range(len(crossrefAuth))]"
      ]
    },
    {
      "cell_type": "code",
      "execution_count": 20,
      "metadata": {},
      "outputs": [],
      "source": [
        "crossrefAuth.loc[:,'# Affil'] = numAffil"
      ]
    },
    {
      "cell_type": "code",
      "execution_count": 21,
      "metadata": {},
      "outputs": [
        {
          "data": {
            "text/html": [
              "<div>\n",
              "<style scoped>\n",
              "    .dataframe tbody tr th:only-of-type {\n",
              "        vertical-align: middle;\n",
              "    }\n",
              "\n",
              "    .dataframe tbody tr th {\n",
              "        vertical-align: top;\n",
              "    }\n",
              "\n",
              "    .dataframe thead th {\n",
              "        text-align: right;\n",
              "    }\n",
              "</style>\n",
              "<table border=\"1\" class=\"dataframe\">\n",
              "  <thead>\n",
              "    <tr style=\"text-align: right;\">\n",
              "      <th></th>\n",
              "      <th>items</th>\n",
              "      <th>DOI</th>\n",
              "      <th>authors</th>\n",
              "      <th># authors</th>\n",
              "      <th>affiliations</th>\n",
              "      <th># Affil</th>\n",
              "    </tr>\n",
              "  </thead>\n",
              "  <tbody>\n",
              "    <tr>\n",
              "      <th>0</th>\n",
              "      <td>{'URL': 'http://dx.doi.org/10.1021/ac020069k',...</td>\n",
              "      <td>10.1021/ac020069k</td>\n",
              "      <td>[{'given': 'Gi Hun', 'family': 'Seong', 'seque...</td>\n",
              "      <td>3</td>\n",
              "      <td>[[{'name': 'Department of Chemistry, Texas A&amp;M...</td>\n",
              "      <td>3</td>\n",
              "    </tr>\n",
              "    <tr>\n",
              "      <th>1</th>\n",
              "      <td>{'URL': 'http://dx.doi.org/10.1103/physrevc.65...</td>\n",
              "      <td>10.1103/physrevc.65.064904</td>\n",
              "      <td>[{'given': 'S. V.', 'family': 'Akkelin', 'sequ...</td>\n",
              "      <td>3</td>\n",
              "      <td>[[], [], []]</td>\n",
              "      <td>3</td>\n",
              "    </tr>\n",
              "    <tr>\n",
              "      <th>2</th>\n",
              "      <td>{'abstract': '&lt;jats:p&gt;\n",
              "            &lt;jats:bold&gt;...</td>\n",
              "      <td>10.1161/01.cir.0000013846.72805.7e</td>\n",
              "      <td>[{'given': 'Dinesh K.', 'family': 'Kalra', 'se...</td>\n",
              "      <td>10</td>\n",
              "      <td>[[{'name': 'From the Section of Cardiology (D....</td>\n",
              "      <td>10</td>\n",
              "    </tr>\n",
              "    <tr>\n",
              "      <th>3</th>\n",
              "      <td>{'URL': 'http://dx.doi.org/10.1093/jjco/hyf035...</td>\n",
              "      <td>10.1093/jjco/hyf035</td>\n",
              "      <td>[{'given': 'E.', 'family': 'Bakan', 'sequence'...</td>\n",
              "      <td>1</td>\n",
              "      <td>[[]]</td>\n",
              "      <td>1</td>\n",
              "    </tr>\n",
              "    <tr>\n",
              "      <th>4</th>\n",
              "      <td>{'abstract': '&lt;jats:p&gt;The integration of the I...</td>\n",
              "      <td>10.1108/14684520010357338</td>\n",
              "      <td>[{'given': 'Kaba', 'family': 'Abdoulaye', 'seq...</td>\n",
              "      <td>2</td>\n",
              "      <td>[[], []]</td>\n",
              "      <td>2</td>\n",
              "    </tr>\n",
              "  </tbody>\n",
              "</table>\n",
              "</div>"
            ],
            "text/plain": [
              "                                               items  \\\n",
              "0  {'URL': 'http://dx.doi.org/10.1021/ac020069k',...   \n",
              "1  {'URL': 'http://dx.doi.org/10.1103/physrevc.65...   \n",
              "2  {'abstract': '<jats:p>\n",
              "            <jats:bold>...   \n",
              "3  {'URL': 'http://dx.doi.org/10.1093/jjco/hyf035...   \n",
              "4  {'abstract': '<jats:p>The integration of the I...   \n",
              "\n",
              "                                  DOI  \\\n",
              "0                   10.1021/ac020069k   \n",
              "1          10.1103/physrevc.65.064904   \n",
              "2  10.1161/01.cir.0000013846.72805.7e   \n",
              "3                 10.1093/jjco/hyf035   \n",
              "4           10.1108/14684520010357338   \n",
              "\n",
              "                                             authors  # authors  \\\n",
              "0  [{'given': 'Gi Hun', 'family': 'Seong', 'seque...          3   \n",
              "1  [{'given': 'S. V.', 'family': 'Akkelin', 'sequ...          3   \n",
              "2  [{'given': 'Dinesh K.', 'family': 'Kalra', 'se...         10   \n",
              "3  [{'given': 'E.', 'family': 'Bakan', 'sequence'...          1   \n",
              "4  [{'given': 'Kaba', 'family': 'Abdoulaye', 'seq...          2   \n",
              "\n",
              "                                        affiliations  # Affil  \n",
              "0  [[{'name': 'Department of Chemistry, Texas A&M...        3  \n",
              "1                                       [[], [], []]        3  \n",
              "2  [[{'name': 'From the Section of Cardiology (D....       10  \n",
              "3                                               [[]]        1  \n",
              "4                                           [[], []]        2  "
            ]
          },
          "execution_count": 21,
          "metadata": {},
          "output_type": "execute_result"
        }
      ],
      "source": [
        "crossrefAuth.head()"
      ]
    },
    {
      "attachments": {},
      "cell_type": "markdown",
      "metadata": {},
      "source": [
        "## Clean 'empty' affiliations"
      ]
    },
    {
      "cell_type": "code",
      "execution_count": 22,
      "metadata": {},
      "outputs": [],
      "source": [
        "possibleEmptyAff = []\n",
        "\n",
        "for k in range(len(crossrefAuth)):\n",
        "    if len(crossrefAuth['affiliations'][k][0]) == 0:\n",
        "        possibleEmptyAff.append(k)"
      ]
    },
    {
      "cell_type": "code",
      "execution_count": 23,
      "metadata": {},
      "outputs": [
        {
          "data": {
            "text/plain": [
              "3767"
            ]
          },
          "execution_count": 23,
          "metadata": {},
          "output_type": "execute_result"
        }
      ],
      "source": [
        "len(possibleEmptyAff)"
      ]
    },
    {
      "cell_type": "code",
      "execution_count": 24,
      "metadata": {},
      "outputs": [
        {
          "data": {
            "text/plain": [
              "[[],\n",
              " [],\n",
              " [],\n",
              " [],\n",
              " [{'name': 'Department of Organic and Polymeric Materials, Tokyo Institute of Technology, 2-12-1, Ohokayama, Meguro-ku, Tokyo 152-8552, Japan'}]]"
            ]
          },
          "execution_count": 24,
          "metadata": {},
          "output_type": "execute_result"
        }
      ],
      "source": [
        "crossrefAuth['affiliations'].iloc[2611]"
      ]
    },
    {
      "cell_type": "code",
      "execution_count": 25,
      "metadata": {},
      "outputs": [],
      "source": [
        "nonEmptyAff = []\n",
        "\n",
        "for k in possibleEmptyAff:\n",
        "    for j in range(len(crossrefAuth['affiliations'].iloc[k])):\n",
        "        if len(crossrefAuth['affiliations'].iloc[k][j]) != 0:\n",
        "            nonEmptyAff.append(k)\n",
        "    \n",
        "    "
      ]
    },
    {
      "cell_type": "code",
      "execution_count": 26,
      "metadata": {},
      "outputs": [],
      "source": [
        "\n",
        "FinalEmptyyAff=  [x for x in possibleEmptyAff if x not in nonEmptyAff] "
      ]
    },
    {
      "cell_type": "code",
      "execution_count": 27,
      "metadata": {},
      "outputs": [],
      "source": [
        "FinalNonEmptyAff = [x for x in range(len(crossrefAuth)) if x not in FinalEmptyyAff]"
      ]
    },
    {
      "attachments": {},
      "cell_type": "markdown",
      "metadata": {},
      "source": [
        "# affilDF: crossrefAuth subdataframe with nonpempty affiliation lists"
      ]
    },
    {
      "cell_type": "code",
      "execution_count": 28,
      "metadata": {},
      "outputs": [],
      "source": [
        "affilDF = crossrefAuth.iloc[FinalNonEmptyAff].copy()\n",
        "affilDF.reset_index(inplace = True)\n",
        "affilDF.drop(columns = ['index'], inplace = True)"
      ]
    },
    {
      "attachments": {},
      "cell_type": "markdown",
      "metadata": {},
      "source": [
        "## (still some cleaning: cases with empty brackets [{}])"
      ]
    },
    {
      "cell_type": "code",
      "execution_count": 29,
      "metadata": {},
      "outputs": [
        {
          "data": {
            "text/html": [
              "<div>\n",
              "<style scoped>\n",
              "    .dataframe tbody tr th:only-of-type {\n",
              "        vertical-align: middle;\n",
              "    }\n",
              "\n",
              "    .dataframe tbody tr th {\n",
              "        vertical-align: top;\n",
              "    }\n",
              "\n",
              "    .dataframe thead th {\n",
              "        text-align: right;\n",
              "    }\n",
              "</style>\n",
              "<table border=\"1\" class=\"dataframe\">\n",
              "  <thead>\n",
              "    <tr style=\"text-align: right;\">\n",
              "      <th></th>\n",
              "      <th>items</th>\n",
              "      <th>DOI</th>\n",
              "      <th>authors</th>\n",
              "      <th># authors</th>\n",
              "      <th>affiliations</th>\n",
              "      <th># Affil</th>\n",
              "    </tr>\n",
              "  </thead>\n",
              "  <tbody>\n",
              "  </tbody>\n",
              "</table>\n",
              "</div>"
            ],
            "text/plain": [
              "Empty DataFrame\n",
              "Columns: [items, DOI, authors, # authors, affiliations, # Affil]\n",
              "Index: []"
            ]
          },
          "execution_count": 29,
          "metadata": {},
          "output_type": "execute_result"
        }
      ],
      "source": [
        "affilDF[affilDF['DOI'] == '10.48130/emst-2022-0020']"
      ]
    },
    {
      "cell_type": "code",
      "execution_count": 30,
      "metadata": {},
      "outputs": [],
      "source": [
        "for k in range(len(affilDF)):\n",
        "    if len(affilDF['affiliations'][k][0]) != 0 and affilDF['affiliations'][k][0][0] == {}:\n",
        "        print(k)"
      ]
    },
    {
      "cell_type": "code",
      "execution_count": 31,
      "metadata": {},
      "outputs": [],
      "source": [
        "emptyBrackets = [k for k in range(len(affilDF)) if len(affilDF['affiliations'][k][0]) != 0 and affilDF['affiliations'][k][0][0] == {}]"
      ]
    },
    {
      "cell_type": "code",
      "execution_count": 32,
      "metadata": {},
      "outputs": [
        {
          "data": {
            "text/html": [
              "<div>\n",
              "<style scoped>\n",
              "    .dataframe tbody tr th:only-of-type {\n",
              "        vertical-align: middle;\n",
              "    }\n",
              "\n",
              "    .dataframe tbody tr th {\n",
              "        vertical-align: top;\n",
              "    }\n",
              "\n",
              "    .dataframe thead th {\n",
              "        text-align: right;\n",
              "    }\n",
              "</style>\n",
              "<table border=\"1\" class=\"dataframe\">\n",
              "  <thead>\n",
              "    <tr style=\"text-align: right;\">\n",
              "      <th></th>\n",
              "      <th>items</th>\n",
              "      <th>DOI</th>\n",
              "      <th>authors</th>\n",
              "      <th># authors</th>\n",
              "      <th>affiliations</th>\n",
              "      <th># Affil</th>\n",
              "    </tr>\n",
              "  </thead>\n",
              "  <tbody>\n",
              "  </tbody>\n",
              "</table>\n",
              "</div>"
            ],
            "text/plain": [
              "Empty DataFrame\n",
              "Columns: [items, DOI, authors, # authors, affiliations, # Affil]\n",
              "Index: []"
            ]
          },
          "execution_count": 32,
          "metadata": {},
          "output_type": "execute_result"
        }
      ],
      "source": [
        "affilDF.iloc[emptyBrackets]"
      ]
    },
    {
      "cell_type": "code",
      "execution_count": 33,
      "metadata": {},
      "outputs": [
        {
          "data": {
            "text/html": [
              "<div>\n",
              "<style scoped>\n",
              "    .dataframe tbody tr th:only-of-type {\n",
              "        vertical-align: middle;\n",
              "    }\n",
              "\n",
              "    .dataframe tbody tr th {\n",
              "        vertical-align: top;\n",
              "    }\n",
              "\n",
              "    .dataframe thead th {\n",
              "        text-align: right;\n",
              "    }\n",
              "</style>\n",
              "<table border=\"1\" class=\"dataframe\">\n",
              "  <thead>\n",
              "    <tr style=\"text-align: right;\">\n",
              "      <th></th>\n",
              "      <th>items</th>\n",
              "      <th>DOI</th>\n",
              "      <th>authors</th>\n",
              "      <th># authors</th>\n",
              "      <th>affiliations</th>\n",
              "      <th># Affil</th>\n",
              "    </tr>\n",
              "  </thead>\n",
              "  <tbody>\n",
              "    <tr>\n",
              "      <th>0</th>\n",
              "      <td>{'URL': 'http://dx.doi.org/10.1021/ac020069k',...</td>\n",
              "      <td>10.1021/ac020069k</td>\n",
              "      <td>[{'given': 'Gi Hun', 'family': 'Seong', 'seque...</td>\n",
              "      <td>3</td>\n",
              "      <td>[[{'name': 'Department of Chemistry, Texas A&amp;M...</td>\n",
              "      <td>3</td>\n",
              "    </tr>\n",
              "    <tr>\n",
              "      <th>1</th>\n",
              "      <td>{'abstract': '&lt;jats:p&gt;\n",
              "            &lt;jats:bold&gt;...</td>\n",
              "      <td>10.1161/01.cir.0000013846.72805.7e</td>\n",
              "      <td>[{'given': 'Dinesh K.', 'family': 'Kalra', 'se...</td>\n",
              "      <td>10</td>\n",
              "      <td>[[{'name': 'From the Section of Cardiology (D....</td>\n",
              "      <td>10</td>\n",
              "    </tr>\n",
              "    <tr>\n",
              "      <th>2</th>\n",
              "      <td>{'abstract': '&lt;jats:p&gt;Hyperhomocysteinemia (hH...</td>\n",
              "      <td>10.1161/hy02t2.102992</td>\n",
              "      <td>[{'given': 'Ningjun', 'family': 'Li', 'sequenc...</td>\n",
              "      <td>3</td>\n",
              "      <td>[[{'name': 'From the Department of Physiology,...</td>\n",
              "      <td>3</td>\n",
              "    </tr>\n",
              "    <tr>\n",
              "      <th>3</th>\n",
              "      <td>{'abstract': '&lt;jats:p&gt;\n",
              "            The nuclear...</td>\n",
              "      <td>10.1126/science.1073633</td>\n",
              "      <td>[{'given': 'Jianping', 'family': 'Hu', 'sequen...</td>\n",
              "      <td>6</td>\n",
              "      <td>[[{'name': 'Plant Biology Laboratory,'}, {'nam...</td>\n",
              "      <td>6</td>\n",
              "    </tr>\n",
              "    <tr>\n",
              "      <th>4</th>\n",
              "      <td>{'URL': 'http://dx.doi.org/10.1089/10872910260...</td>\n",
              "      <td>10.1089/10872910260066679</td>\n",
              "      <td>[{'given': 'Edward E.', 'family': 'Eaton', 'se...</td>\n",
              "      <td>5</td>\n",
              "      <td>[[{'name': 'Albert Einstein College of Medicin...</td>\n",
              "      <td>5</td>\n",
              "    </tr>\n",
              "    <tr>\n",
              "      <th>...</th>\n",
              "      <td>...</td>\n",
              "      <td>...</td>\n",
              "      <td>...</td>\n",
              "      <td>...</td>\n",
              "      <td>...</td>\n",
              "      <td>...</td>\n",
              "    </tr>\n",
              "    <tr>\n",
              "      <th>882</th>\n",
              "      <td>{'URL': 'http://dx.doi.org/10.1021/ic0255961',...</td>\n",
              "      <td>10.1021/ic0255961</td>\n",
              "      <td>[{'given': 'Fatima', 'family': 'Setifi', 'sequ...</td>\n",
              "      <td>11</td>\n",
              "      <td>[[{'name': 'Laboratoire de Chimie du Solide et...</td>\n",
              "      <td>11</td>\n",
              "    </tr>\n",
              "    <tr>\n",
              "      <th>883</th>\n",
              "      <td>{'URL': 'http://dx.doi.org/10.1021/jf011259j',...</td>\n",
              "      <td>10.1021/jf011259j</td>\n",
              "      <td>[{'given': 'Alexandre G.', 'family': 'Torres',...</td>\n",
              "      <td>3</td>\n",
              "      <td>[[{'name': 'Laboratório de Bioquímica Nutricio...</td>\n",
              "      <td>3</td>\n",
              "    </tr>\n",
              "    <tr>\n",
              "      <th>884</th>\n",
              "      <td>{'URL': 'http://dx.doi.org/10.1021/jp014423e',...</td>\n",
              "      <td>10.1021/jp014423e</td>\n",
              "      <td>[{'given': 'Keisaku', 'family': 'Kimura', 'seq...</td>\n",
              "      <td>3</td>\n",
              "      <td>[[{'name': 'Department of Material Science, Hi...</td>\n",
              "      <td>3</td>\n",
              "    </tr>\n",
              "    <tr>\n",
              "      <th>885</th>\n",
              "      <td>{'abstract': '&lt;jats:p&gt; The actin filament-asso...</td>\n",
              "      <td>10.1091/mbc.e01-12-0148</td>\n",
              "      <td>[{'given': 'Yong', 'family': 'Qian', 'sequence...</td>\n",
              "      <td>12</td>\n",
              "      <td>[[{'name': 'The Mary Babb Randolph Cancer Cent...</td>\n",
              "      <td>12</td>\n",
              "    </tr>\n",
              "    <tr>\n",
              "      <th>886</th>\n",
              "      <td>{'abstract': '&lt;jats:p&gt; We present a collection...</td>\n",
              "      <td>10.1142/s0217979297000812</td>\n",
              "      <td>[{'given': 'Hans', 'family': 'De Raedt', 'sequ...</td>\n",
              "      <td>3</td>\n",
              "      <td>[[{'name': 'Institute for Theoretical Physics ...</td>\n",
              "      <td>3</td>\n",
              "    </tr>\n",
              "  </tbody>\n",
              "</table>\n",
              "<p>887 rows × 6 columns</p>\n",
              "</div>"
            ],
            "text/plain": [
              "                                                 items  \\\n",
              "0    {'URL': 'http://dx.doi.org/10.1021/ac020069k',...   \n",
              "1    {'abstract': '<jats:p>\n",
              "            <jats:bold>...   \n",
              "2    {'abstract': '<jats:p>Hyperhomocysteinemia (hH...   \n",
              "3    {'abstract': '<jats:p>\n",
              "            The nuclear...   \n",
              "4    {'URL': 'http://dx.doi.org/10.1089/10872910260...   \n",
              "..                                                 ...   \n",
              "882  {'URL': 'http://dx.doi.org/10.1021/ic0255961',...   \n",
              "883  {'URL': 'http://dx.doi.org/10.1021/jf011259j',...   \n",
              "884  {'URL': 'http://dx.doi.org/10.1021/jp014423e',...   \n",
              "885  {'abstract': '<jats:p> The actin filament-asso...   \n",
              "886  {'abstract': '<jats:p> We present a collection...   \n",
              "\n",
              "                                    DOI  \\\n",
              "0                     10.1021/ac020069k   \n",
              "1    10.1161/01.cir.0000013846.72805.7e   \n",
              "2                 10.1161/hy02t2.102992   \n",
              "3               10.1126/science.1073633   \n",
              "4             10.1089/10872910260066679   \n",
              "..                                  ...   \n",
              "882                   10.1021/ic0255961   \n",
              "883                   10.1021/jf011259j   \n",
              "884                   10.1021/jp014423e   \n",
              "885             10.1091/mbc.e01-12-0148   \n",
              "886           10.1142/s0217979297000812   \n",
              "\n",
              "                                               authors  # authors  \\\n",
              "0    [{'given': 'Gi Hun', 'family': 'Seong', 'seque...          3   \n",
              "1    [{'given': 'Dinesh K.', 'family': 'Kalra', 'se...         10   \n",
              "2    [{'given': 'Ningjun', 'family': 'Li', 'sequenc...          3   \n",
              "3    [{'given': 'Jianping', 'family': 'Hu', 'sequen...          6   \n",
              "4    [{'given': 'Edward E.', 'family': 'Eaton', 'se...          5   \n",
              "..                                                 ...        ...   \n",
              "882  [{'given': 'Fatima', 'family': 'Setifi', 'sequ...         11   \n",
              "883  [{'given': 'Alexandre G.', 'family': 'Torres',...          3   \n",
              "884  [{'given': 'Keisaku', 'family': 'Kimura', 'seq...          3   \n",
              "885  [{'given': 'Yong', 'family': 'Qian', 'sequence...         12   \n",
              "886  [{'given': 'Hans', 'family': 'De Raedt', 'sequ...          3   \n",
              "\n",
              "                                          affiliations  # Affil  \n",
              "0    [[{'name': 'Department of Chemistry, Texas A&M...        3  \n",
              "1    [[{'name': 'From the Section of Cardiology (D....       10  \n",
              "2    [[{'name': 'From the Department of Physiology,...        3  \n",
              "3    [[{'name': 'Plant Biology Laboratory,'}, {'nam...        6  \n",
              "4    [[{'name': 'Albert Einstein College of Medicin...        5  \n",
              "..                                                 ...      ...  \n",
              "882  [[{'name': 'Laboratoire de Chimie du Solide et...       11  \n",
              "883  [[{'name': 'Laboratório de Bioquímica Nutricio...        3  \n",
              "884  [[{'name': 'Department of Material Science, Hi...        3  \n",
              "885  [[{'name': 'The Mary Babb Randolph Cancer Cent...       12  \n",
              "886  [[{'name': 'Institute for Theoretical Physics ...        3  \n",
              "\n",
              "[887 rows x 6 columns]"
            ]
          },
          "execution_count": 33,
          "metadata": {},
          "output_type": "execute_result"
        }
      ],
      "source": [
        "affilDF.copy()"
      ]
    },
    {
      "cell_type": "code",
      "execution_count": 34,
      "metadata": {},
      "outputs": [],
      "source": [
        "affilDF.drop(emptyBrackets, inplace = True)"
      ]
    },
    {
      "cell_type": "code",
      "execution_count": 35,
      "metadata": {},
      "outputs": [],
      "source": [
        "affilDF.reset_index(inplace = True)"
      ]
    },
    {
      "cell_type": "code",
      "execution_count": 36,
      "metadata": {},
      "outputs": [
        {
          "data": {
            "text/html": [
              "<div>\n",
              "<style scoped>\n",
              "    .dataframe tbody tr th:only-of-type {\n",
              "        vertical-align: middle;\n",
              "    }\n",
              "\n",
              "    .dataframe tbody tr th {\n",
              "        vertical-align: top;\n",
              "    }\n",
              "\n",
              "    .dataframe thead th {\n",
              "        text-align: right;\n",
              "    }\n",
              "</style>\n",
              "<table border=\"1\" class=\"dataframe\">\n",
              "  <thead>\n",
              "    <tr style=\"text-align: right;\">\n",
              "      <th></th>\n",
              "      <th>index</th>\n",
              "      <th>items</th>\n",
              "      <th>DOI</th>\n",
              "      <th>authors</th>\n",
              "      <th># authors</th>\n",
              "      <th>affiliations</th>\n",
              "      <th># Affil</th>\n",
              "    </tr>\n",
              "  </thead>\n",
              "  <tbody>\n",
              "    <tr>\n",
              "      <th>0</th>\n",
              "      <td>0</td>\n",
              "      <td>{'URL': 'http://dx.doi.org/10.1021/ac020069k',...</td>\n",
              "      <td>10.1021/ac020069k</td>\n",
              "      <td>[{'given': 'Gi Hun', 'family': 'Seong', 'seque...</td>\n",
              "      <td>3</td>\n",
              "      <td>[[{'name': 'Department of Chemistry, Texas A&amp;M...</td>\n",
              "      <td>3</td>\n",
              "    </tr>\n",
              "    <tr>\n",
              "      <th>1</th>\n",
              "      <td>1</td>\n",
              "      <td>{'abstract': '&lt;jats:p&gt;\n",
              "            &lt;jats:bold&gt;...</td>\n",
              "      <td>10.1161/01.cir.0000013846.72805.7e</td>\n",
              "      <td>[{'given': 'Dinesh K.', 'family': 'Kalra', 'se...</td>\n",
              "      <td>10</td>\n",
              "      <td>[[{'name': 'From the Section of Cardiology (D....</td>\n",
              "      <td>10</td>\n",
              "    </tr>\n",
              "    <tr>\n",
              "      <th>2</th>\n",
              "      <td>2</td>\n",
              "      <td>{'abstract': '&lt;jats:p&gt;Hyperhomocysteinemia (hH...</td>\n",
              "      <td>10.1161/hy02t2.102992</td>\n",
              "      <td>[{'given': 'Ningjun', 'family': 'Li', 'sequenc...</td>\n",
              "      <td>3</td>\n",
              "      <td>[[{'name': 'From the Department of Physiology,...</td>\n",
              "      <td>3</td>\n",
              "    </tr>\n",
              "    <tr>\n",
              "      <th>3</th>\n",
              "      <td>3</td>\n",
              "      <td>{'abstract': '&lt;jats:p&gt;\n",
              "            The nuclear...</td>\n",
              "      <td>10.1126/science.1073633</td>\n",
              "      <td>[{'given': 'Jianping', 'family': 'Hu', 'sequen...</td>\n",
              "      <td>6</td>\n",
              "      <td>[[{'name': 'Plant Biology Laboratory,'}, {'nam...</td>\n",
              "      <td>6</td>\n",
              "    </tr>\n",
              "    <tr>\n",
              "      <th>4</th>\n",
              "      <td>4</td>\n",
              "      <td>{'URL': 'http://dx.doi.org/10.1089/10872910260...</td>\n",
              "      <td>10.1089/10872910260066679</td>\n",
              "      <td>[{'given': 'Edward E.', 'family': 'Eaton', 'se...</td>\n",
              "      <td>5</td>\n",
              "      <td>[[{'name': 'Albert Einstein College of Medicin...</td>\n",
              "      <td>5</td>\n",
              "    </tr>\n",
              "    <tr>\n",
              "      <th>...</th>\n",
              "      <td>...</td>\n",
              "      <td>...</td>\n",
              "      <td>...</td>\n",
              "      <td>...</td>\n",
              "      <td>...</td>\n",
              "      <td>...</td>\n",
              "      <td>...</td>\n",
              "    </tr>\n",
              "    <tr>\n",
              "      <th>882</th>\n",
              "      <td>882</td>\n",
              "      <td>{'URL': 'http://dx.doi.org/10.1021/ic0255961',...</td>\n",
              "      <td>10.1021/ic0255961</td>\n",
              "      <td>[{'given': 'Fatima', 'family': 'Setifi', 'sequ...</td>\n",
              "      <td>11</td>\n",
              "      <td>[[{'name': 'Laboratoire de Chimie du Solide et...</td>\n",
              "      <td>11</td>\n",
              "    </tr>\n",
              "    <tr>\n",
              "      <th>883</th>\n",
              "      <td>883</td>\n",
              "      <td>{'URL': 'http://dx.doi.org/10.1021/jf011259j',...</td>\n",
              "      <td>10.1021/jf011259j</td>\n",
              "      <td>[{'given': 'Alexandre G.', 'family': 'Torres',...</td>\n",
              "      <td>3</td>\n",
              "      <td>[[{'name': 'Laboratório de Bioquímica Nutricio...</td>\n",
              "      <td>3</td>\n",
              "    </tr>\n",
              "    <tr>\n",
              "      <th>884</th>\n",
              "      <td>884</td>\n",
              "      <td>{'URL': 'http://dx.doi.org/10.1021/jp014423e',...</td>\n",
              "      <td>10.1021/jp014423e</td>\n",
              "      <td>[{'given': 'Keisaku', 'family': 'Kimura', 'seq...</td>\n",
              "      <td>3</td>\n",
              "      <td>[[{'name': 'Department of Material Science, Hi...</td>\n",
              "      <td>3</td>\n",
              "    </tr>\n",
              "    <tr>\n",
              "      <th>885</th>\n",
              "      <td>885</td>\n",
              "      <td>{'abstract': '&lt;jats:p&gt; The actin filament-asso...</td>\n",
              "      <td>10.1091/mbc.e01-12-0148</td>\n",
              "      <td>[{'given': 'Yong', 'family': 'Qian', 'sequence...</td>\n",
              "      <td>12</td>\n",
              "      <td>[[{'name': 'The Mary Babb Randolph Cancer Cent...</td>\n",
              "      <td>12</td>\n",
              "    </tr>\n",
              "    <tr>\n",
              "      <th>886</th>\n",
              "      <td>886</td>\n",
              "      <td>{'abstract': '&lt;jats:p&gt; We present a collection...</td>\n",
              "      <td>10.1142/s0217979297000812</td>\n",
              "      <td>[{'given': 'Hans', 'family': 'De Raedt', 'sequ...</td>\n",
              "      <td>3</td>\n",
              "      <td>[[{'name': 'Institute for Theoretical Physics ...</td>\n",
              "      <td>3</td>\n",
              "    </tr>\n",
              "  </tbody>\n",
              "</table>\n",
              "<p>887 rows × 7 columns</p>\n",
              "</div>"
            ],
            "text/plain": [
              "     index                                              items  \\\n",
              "0        0  {'URL': 'http://dx.doi.org/10.1021/ac020069k',...   \n",
              "1        1  {'abstract': '<jats:p>\n",
              "            <jats:bold>...   \n",
              "2        2  {'abstract': '<jats:p>Hyperhomocysteinemia (hH...   \n",
              "3        3  {'abstract': '<jats:p>\n",
              "            The nuclear...   \n",
              "4        4  {'URL': 'http://dx.doi.org/10.1089/10872910260...   \n",
              "..     ...                                                ...   \n",
              "882    882  {'URL': 'http://dx.doi.org/10.1021/ic0255961',...   \n",
              "883    883  {'URL': 'http://dx.doi.org/10.1021/jf011259j',...   \n",
              "884    884  {'URL': 'http://dx.doi.org/10.1021/jp014423e',...   \n",
              "885    885  {'abstract': '<jats:p> The actin filament-asso...   \n",
              "886    886  {'abstract': '<jats:p> We present a collection...   \n",
              "\n",
              "                                    DOI  \\\n",
              "0                     10.1021/ac020069k   \n",
              "1    10.1161/01.cir.0000013846.72805.7e   \n",
              "2                 10.1161/hy02t2.102992   \n",
              "3               10.1126/science.1073633   \n",
              "4             10.1089/10872910260066679   \n",
              "..                                  ...   \n",
              "882                   10.1021/ic0255961   \n",
              "883                   10.1021/jf011259j   \n",
              "884                   10.1021/jp014423e   \n",
              "885             10.1091/mbc.e01-12-0148   \n",
              "886           10.1142/s0217979297000812   \n",
              "\n",
              "                                               authors  # authors  \\\n",
              "0    [{'given': 'Gi Hun', 'family': 'Seong', 'seque...          3   \n",
              "1    [{'given': 'Dinesh K.', 'family': 'Kalra', 'se...         10   \n",
              "2    [{'given': 'Ningjun', 'family': 'Li', 'sequenc...          3   \n",
              "3    [{'given': 'Jianping', 'family': 'Hu', 'sequen...          6   \n",
              "4    [{'given': 'Edward E.', 'family': 'Eaton', 'se...          5   \n",
              "..                                                 ...        ...   \n",
              "882  [{'given': 'Fatima', 'family': 'Setifi', 'sequ...         11   \n",
              "883  [{'given': 'Alexandre G.', 'family': 'Torres',...          3   \n",
              "884  [{'given': 'Keisaku', 'family': 'Kimura', 'seq...          3   \n",
              "885  [{'given': 'Yong', 'family': 'Qian', 'sequence...         12   \n",
              "886  [{'given': 'Hans', 'family': 'De Raedt', 'sequ...          3   \n",
              "\n",
              "                                          affiliations  # Affil  \n",
              "0    [[{'name': 'Department of Chemistry, Texas A&M...        3  \n",
              "1    [[{'name': 'From the Section of Cardiology (D....       10  \n",
              "2    [[{'name': 'From the Department of Physiology,...        3  \n",
              "3    [[{'name': 'Plant Biology Laboratory,'}, {'nam...        6  \n",
              "4    [[{'name': 'Albert Einstein College of Medicin...        5  \n",
              "..                                                 ...      ...  \n",
              "882  [[{'name': 'Laboratoire de Chimie du Solide et...       11  \n",
              "883  [[{'name': 'Laboratório de Bioquímica Nutricio...        3  \n",
              "884  [[{'name': 'Department of Material Science, Hi...        3  \n",
              "885  [[{'name': 'The Mary Babb Randolph Cancer Cent...       12  \n",
              "886  [[{'name': 'Institute for Theoretical Physics ...        3  \n",
              "\n",
              "[887 rows x 7 columns]"
            ]
          },
          "execution_count": 36,
          "metadata": {},
          "output_type": "execute_result"
        }
      ],
      "source": [
        "affilDF.copy()"
      ]
    },
    {
      "cell_type": "code",
      "execution_count": 37,
      "metadata": {},
      "outputs": [],
      "source": [
        "affilDF.drop(columns = ['index'], inplace = True)"
      ]
    },
    {
      "attachments": {},
      "cell_type": "markdown",
      "metadata": {},
      "source": [
        "# Clean affiliations "
      ]
    },
    {
      "attachments": {},
      "cell_type": "markdown",
      "metadata": {},
      "source": [
        "## is_contained(a,b) map : returns true when a is a substring of b "
      ]
    },
    {
      "cell_type": "code",
      "execution_count": 38,
      "metadata": {},
      "outputs": [],
      "source": [
        "def is_contained(s, w):\n",
        "    words = s.split()  # Split the string 's' into a list of words\n",
        "    for word in words:\n",
        "        if word not in w:  # If a word from 's' is not found in 'w'\n",
        "            return False  # Return False immediately\n",
        "    return True  # If all words from 's' are found in 'w', return True"
      ]
    },
    {
      "attachments": {},
      "cell_type": "markdown",
      "metadata": {},
      "source": [
        "## 1. \"Unique\" affiliations --- number of unique affiliations"
      ]
    },
    {
      "cell_type": "code",
      "execution_count": 39,
      "metadata": {},
      "outputs": [],
      "source": [
        "uniqueAff = [] \n",
        "\n",
        "for i in range(len(affilDF)):\n",
        "    uniqueAff.append(list(set([x[0] for x in [list(d.values()) for d in  [item for sublist in affilDF['affiliations'].iloc[i] for item in sublist]]])))\n"
      ]
    },
    {
      "cell_type": "code",
      "execution_count": 40,
      "metadata": {},
      "outputs": [],
      "source": [
        "affilDF.loc[:,'uniqueAff'] = uniqueAff"
      ]
    },
    {
      "cell_type": "code",
      "execution_count": 41,
      "metadata": {},
      "outputs": [],
      "source": [
        "numUniqueAff = [len(affilDF['uniqueAff'].iloc[i]) for i in range(len(affilDF))]"
      ]
    },
    {
      "cell_type": "code",
      "execution_count": 42,
      "metadata": {},
      "outputs": [],
      "source": [
        "affilDF.loc[:,'# uniqueAff'] = numUniqueAff"
      ]
    },
    {
      "cell_type": "code",
      "execution_count": 43,
      "metadata": {},
      "outputs": [
        {
          "data": {
            "text/html": [
              "<div>\n",
              "<style scoped>\n",
              "    .dataframe tbody tr th:only-of-type {\n",
              "        vertical-align: middle;\n",
              "    }\n",
              "\n",
              "    .dataframe tbody tr th {\n",
              "        vertical-align: top;\n",
              "    }\n",
              "\n",
              "    .dataframe thead th {\n",
              "        text-align: right;\n",
              "    }\n",
              "</style>\n",
              "<table border=\"1\" class=\"dataframe\">\n",
              "  <thead>\n",
              "    <tr style=\"text-align: right;\">\n",
              "      <th></th>\n",
              "      <th>items</th>\n",
              "      <th>DOI</th>\n",
              "      <th>authors</th>\n",
              "      <th># authors</th>\n",
              "      <th>affiliations</th>\n",
              "      <th># Affil</th>\n",
              "      <th>uniqueAff</th>\n",
              "      <th># uniqueAff</th>\n",
              "    </tr>\n",
              "  </thead>\n",
              "  <tbody>\n",
              "    <tr>\n",
              "      <th>0</th>\n",
              "      <td>{'URL': 'http://dx.doi.org/10.1021/ac020069k',...</td>\n",
              "      <td>10.1021/ac020069k</td>\n",
              "      <td>[{'given': 'Gi Hun', 'family': 'Seong', 'seque...</td>\n",
              "      <td>3</td>\n",
              "      <td>[[{'name': 'Department of Chemistry, Texas A&amp;M...</td>\n",
              "      <td>3</td>\n",
              "      <td>[Department of Chemistry, Texas A&amp;M University...</td>\n",
              "      <td>1</td>\n",
              "    </tr>\n",
              "    <tr>\n",
              "      <th>1</th>\n",
              "      <td>{'abstract': '&lt;jats:p&gt;\n",
              "            &lt;jats:bold&gt;...</td>\n",
              "      <td>10.1161/01.cir.0000013846.72805.7e</td>\n",
              "      <td>[{'given': 'Dinesh K.', 'family': 'Kalra', 'se...</td>\n",
              "      <td>10</td>\n",
              "      <td>[[{'name': 'From the Section of Cardiology (D....</td>\n",
              "      <td>10</td>\n",
              "      <td>[From the Section of Cardiology (D.K.K., X.Z.,...</td>\n",
              "      <td>1</td>\n",
              "    </tr>\n",
              "    <tr>\n",
              "      <th>2</th>\n",
              "      <td>{'abstract': '&lt;jats:p&gt;Hyperhomocysteinemia (hH...</td>\n",
              "      <td>10.1161/hy02t2.102992</td>\n",
              "      <td>[{'given': 'Ningjun', 'family': 'Li', 'sequenc...</td>\n",
              "      <td>3</td>\n",
              "      <td>[[{'name': 'From the Department of Physiology,...</td>\n",
              "      <td>3</td>\n",
              "      <td>[From the Department of Physiology, Medical Co...</td>\n",
              "      <td>1</td>\n",
              "    </tr>\n",
              "    <tr>\n",
              "      <th>3</th>\n",
              "      <td>{'abstract': '&lt;jats:p&gt;\n",
              "            The nuclear...</td>\n",
              "      <td>10.1126/science.1073633</td>\n",
              "      <td>[{'given': 'Jianping', 'family': 'Hu', 'sequen...</td>\n",
              "      <td>6</td>\n",
              "      <td>[[{'name': 'Plant Biology Laboratory,'}, {'nam...</td>\n",
              "      <td>6</td>\n",
              "      <td>[Plant Biology Laboratory,, Laboratory of Neur...</td>\n",
              "      <td>3</td>\n",
              "    </tr>\n",
              "    <tr>\n",
              "      <th>4</th>\n",
              "      <td>{'URL': 'http://dx.doi.org/10.1089/10872910260...</td>\n",
              "      <td>10.1089/10872910260066679</td>\n",
              "      <td>[{'given': 'Edward E.', 'family': 'Eaton', 'se...</td>\n",
              "      <td>5</td>\n",
              "      <td>[[{'name': 'Albert Einstein College of Medicin...</td>\n",
              "      <td>5</td>\n",
              "      <td>[Albert Einstein College of Medicine, Bronx, N...</td>\n",
              "      <td>4</td>\n",
              "    </tr>\n",
              "  </tbody>\n",
              "</table>\n",
              "</div>"
            ],
            "text/plain": [
              "                                               items  \\\n",
              "0  {'URL': 'http://dx.doi.org/10.1021/ac020069k',...   \n",
              "1  {'abstract': '<jats:p>\n",
              "            <jats:bold>...   \n",
              "2  {'abstract': '<jats:p>Hyperhomocysteinemia (hH...   \n",
              "3  {'abstract': '<jats:p>\n",
              "            The nuclear...   \n",
              "4  {'URL': 'http://dx.doi.org/10.1089/10872910260...   \n",
              "\n",
              "                                  DOI  \\\n",
              "0                   10.1021/ac020069k   \n",
              "1  10.1161/01.cir.0000013846.72805.7e   \n",
              "2               10.1161/hy02t2.102992   \n",
              "3             10.1126/science.1073633   \n",
              "4           10.1089/10872910260066679   \n",
              "\n",
              "                                             authors  # authors  \\\n",
              "0  [{'given': 'Gi Hun', 'family': 'Seong', 'seque...          3   \n",
              "1  [{'given': 'Dinesh K.', 'family': 'Kalra', 'se...         10   \n",
              "2  [{'given': 'Ningjun', 'family': 'Li', 'sequenc...          3   \n",
              "3  [{'given': 'Jianping', 'family': 'Hu', 'sequen...          6   \n",
              "4  [{'given': 'Edward E.', 'family': 'Eaton', 'se...          5   \n",
              "\n",
              "                                        affiliations  # Affil  \\\n",
              "0  [[{'name': 'Department of Chemistry, Texas A&M...        3   \n",
              "1  [[{'name': 'From the Section of Cardiology (D....       10   \n",
              "2  [[{'name': 'From the Department of Physiology,...        3   \n",
              "3  [[{'name': 'Plant Biology Laboratory,'}, {'nam...        6   \n",
              "4  [[{'name': 'Albert Einstein College of Medicin...        5   \n",
              "\n",
              "                                           uniqueAff  # uniqueAff  \n",
              "0  [Department of Chemistry, Texas A&M University...            1  \n",
              "1  [From the Section of Cardiology (D.K.K., X.Z.,...            1  \n",
              "2  [From the Department of Physiology, Medical Co...            1  \n",
              "3  [Plant Biology Laboratory,, Laboratory of Neur...            3  \n",
              "4  [Albert Einstein College of Medicine, Bronx, N...            4  "
            ]
          },
          "execution_count": 43,
          "metadata": {},
          "output_type": "execute_result"
        }
      ],
      "source": [
        "affilDF.head()"
      ]
    },
    {
      "attachments": {},
      "cell_type": "markdown",
      "metadata": {},
      "source": [
        "## 2. Remove stop words ['from', 'the']"
      ]
    },
    {
      "cell_type": "code",
      "execution_count": 44,
      "metadata": {},
      "outputs": [],
      "source": [
        "stopWords = ['from', 'the', 'From', 'The']"
      ]
    },
    {
      "cell_type": "code",
      "execution_count": 45,
      "metadata": {},
      "outputs": [],
      "source": [
        "def remove_stop_words(text):\n",
        "    words = text.split()\n",
        "    filtered_words = [word for word in words if word not in stopWords]\n",
        "    return ' '.join(filtered_words)\n",
        "\n",
        "\n",
        "# apply the function to the column  affilDF['uniqueAff'] to create column affilDF.loc[:,'uniqueAff1']\n",
        "\n",
        "affilDF.loc[:,'uniqueAff1'] = affilDF['uniqueAff'].apply(lambda x: [remove_stop_words(s) for s in x])\n"
      ]
    },
    {
      "attachments": {},
      "cell_type": "markdown",
      "metadata": {},
      "source": [
        "## 3. Remove parenthesis "
      ]
    },
    {
      "cell_type": "code",
      "execution_count": 46,
      "metadata": {},
      "outputs": [],
      "source": [
        "def remove_parentheses(text):\n",
        "   return re.sub(r'\\([^()]*\\)', '', text)\n",
        "\n",
        "# apply the function to each list element of column affilDF['uniqueAff1'] to remove substrings inside parentheses\n",
        "\n",
        "affilDF.loc[:,'uniqueAff1'] = affilDF['uniqueAff1'].apply(lambda x: [remove_parentheses(s) for s in x])\n"
      ]
    },
    {
      "attachments": {},
      "cell_type": "markdown",
      "metadata": {},
      "source": [
        "## 4. Remove @#$%characters "
      ]
    },
    {
      "cell_type": "code",
      "execution_count": 47,
      "metadata": {},
      "outputs": [],
      "source": [
        "affNoSymbols = []\n",
        "\n",
        "for i in range(len(list(affilDF['uniqueAff1']))):\n",
        "    L = list(affilDF['uniqueAff1'])[i]\n",
        "    for i in range(len(L)):\n",
        "        L[i] = re.sub(r'[^\\w\\s,Α-Ωα-ωぁ-んァ-ン一-龯，]', '', L[i])\n",
        "    affNoSymbols.append(L)\n"
      ]
    },
    {
      "cell_type": "code",
      "execution_count": 48,
      "metadata": {},
      "outputs": [],
      "source": [
        "affNoSymbols = [[item for item in inner_list if item != \"inc\"] for inner_list in affNoSymbols]\n"
      ]
    },
    {
      "cell_type": "code",
      "execution_count": 49,
      "metadata": {},
      "outputs": [],
      "source": [
        "affilDF['uniqueAff1'] = affNoSymbols\n"
      ]
    },
    {
      "attachments": {},
      "cell_type": "markdown",
      "metadata": {},
      "source": [
        "## 5. Check 'sub'-affiliations (affiliations that are contained in other affiliations of the same DOI)"
      ]
    },
    {
      "cell_type": "code",
      "execution_count": 50,
      "metadata": {},
      "outputs": [],
      "source": [
        "newAff0 = []\n",
        "\n",
        "for k in range(len(affilDF)):\n",
        "    \n",
        "    L2 = []\n",
        "    for s1 in affilDF['uniqueAff1'].iloc[k]:\n",
        "        is_substring = False\n",
        "        for s2 in affilDF['uniqueAff1'].iloc[k]:\n",
        "            if s1 != s2 and s1 in s2:\n",
        "                is_substring = True\n",
        "                break\n",
        "        if not is_substring:\n",
        "            L2.append(s1)\n",
        "    newAff0.append(L2)"
      ]
    },
    {
      "cell_type": "code",
      "execution_count": 51,
      "metadata": {},
      "outputs": [],
      "source": [
        "newAffList = [list(set(newAff0[k])) for k in range(len(newAff0))]"
      ]
    },
    {
      "cell_type": "code",
      "execution_count": 52,
      "metadata": {},
      "outputs": [],
      "source": [
        "affilDF['uniqueAff2'] = newAffList"
      ]
    },
    {
      "cell_type": "code",
      "execution_count": 53,
      "metadata": {},
      "outputs": [
        {
          "data": {
            "text/html": [
              "<div>\n",
              "<style scoped>\n",
              "    .dataframe tbody tr th:only-of-type {\n",
              "        vertical-align: middle;\n",
              "    }\n",
              "\n",
              "    .dataframe tbody tr th {\n",
              "        vertical-align: top;\n",
              "    }\n",
              "\n",
              "    .dataframe thead th {\n",
              "        text-align: right;\n",
              "    }\n",
              "</style>\n",
              "<table border=\"1\" class=\"dataframe\">\n",
              "  <thead>\n",
              "    <tr style=\"text-align: right;\">\n",
              "      <th></th>\n",
              "      <th>items</th>\n",
              "      <th>DOI</th>\n",
              "      <th>authors</th>\n",
              "      <th># authors</th>\n",
              "      <th>affiliations</th>\n",
              "      <th># Affil</th>\n",
              "      <th>uniqueAff</th>\n",
              "      <th># uniqueAff</th>\n",
              "      <th>uniqueAff1</th>\n",
              "      <th>uniqueAff2</th>\n",
              "    </tr>\n",
              "  </thead>\n",
              "  <tbody>\n",
              "    <tr>\n",
              "      <th>0</th>\n",
              "      <td>{'URL': 'http://dx.doi.org/10.1021/ac020069k',...</td>\n",
              "      <td>10.1021/ac020069k</td>\n",
              "      <td>[{'given': 'Gi Hun', 'family': 'Seong', 'seque...</td>\n",
              "      <td>3</td>\n",
              "      <td>[[{'name': 'Department of Chemistry, Texas A&amp;M...</td>\n",
              "      <td>3</td>\n",
              "      <td>[Department of Chemistry, Texas A&amp;M University...</td>\n",
              "      <td>1</td>\n",
              "      <td>[Department of Chemistry, Texas AM University,...</td>\n",
              "      <td>[Department of Chemistry, Texas AM University,...</td>\n",
              "    </tr>\n",
              "    <tr>\n",
              "      <th>1</th>\n",
              "      <td>{'abstract': '&lt;jats:p&gt;\n",
              "            &lt;jats:bold&gt;...</td>\n",
              "      <td>10.1161/01.cir.0000013846.72805.7e</td>\n",
              "      <td>[{'given': 'Dinesh K.', 'family': 'Kalra', 'se...</td>\n",
              "      <td>10</td>\n",
              "      <td>[[{'name': 'From the Section of Cardiology (D....</td>\n",
              "      <td>10</td>\n",
              "      <td>[From the Section of Cardiology (D.K.K., X.Z.,...</td>\n",
              "      <td>1</td>\n",
              "      <td>[Section of Cardiology  and Echocardiography L...</td>\n",
              "      <td>[Section of Cardiology  and Echocardiography L...</td>\n",
              "    </tr>\n",
              "    <tr>\n",
              "      <th>2</th>\n",
              "      <td>{'abstract': '&lt;jats:p&gt;Hyperhomocysteinemia (hH...</td>\n",
              "      <td>10.1161/hy02t2.102992</td>\n",
              "      <td>[{'given': 'Ningjun', 'family': 'Li', 'sequenc...</td>\n",
              "      <td>3</td>\n",
              "      <td>[[{'name': 'From the Department of Physiology,...</td>\n",
              "      <td>3</td>\n",
              "      <td>[From the Department of Physiology, Medical Co...</td>\n",
              "      <td>1</td>\n",
              "      <td>[Department of Physiology, Medical College of ...</td>\n",
              "      <td>[Department of Physiology, Medical College of ...</td>\n",
              "    </tr>\n",
              "  </tbody>\n",
              "</table>\n",
              "</div>"
            ],
            "text/plain": [
              "                                               items  \\\n",
              "0  {'URL': 'http://dx.doi.org/10.1021/ac020069k',...   \n",
              "1  {'abstract': '<jats:p>\n",
              "            <jats:bold>...   \n",
              "2  {'abstract': '<jats:p>Hyperhomocysteinemia (hH...   \n",
              "\n",
              "                                  DOI  \\\n",
              "0                   10.1021/ac020069k   \n",
              "1  10.1161/01.cir.0000013846.72805.7e   \n",
              "2               10.1161/hy02t2.102992   \n",
              "\n",
              "                                             authors  # authors  \\\n",
              "0  [{'given': 'Gi Hun', 'family': 'Seong', 'seque...          3   \n",
              "1  [{'given': 'Dinesh K.', 'family': 'Kalra', 'se...         10   \n",
              "2  [{'given': 'Ningjun', 'family': 'Li', 'sequenc...          3   \n",
              "\n",
              "                                        affiliations  # Affil  \\\n",
              "0  [[{'name': 'Department of Chemistry, Texas A&M...        3   \n",
              "1  [[{'name': 'From the Section of Cardiology (D....       10   \n",
              "2  [[{'name': 'From the Department of Physiology,...        3   \n",
              "\n",
              "                                           uniqueAff  # uniqueAff  \\\n",
              "0  [Department of Chemistry, Texas A&M University...            1   \n",
              "1  [From the Section of Cardiology (D.K.K., X.Z.,...            1   \n",
              "2  [From the Department of Physiology, Medical Co...            1   \n",
              "\n",
              "                                          uniqueAff1  \\\n",
              "0  [Department of Chemistry, Texas AM University,...   \n",
              "1  [Section of Cardiology  and Echocardiography L...   \n",
              "2  [Department of Physiology, Medical College of ...   \n",
              "\n",
              "                                          uniqueAff2  \n",
              "0  [Department of Chemistry, Texas AM University,...  \n",
              "1  [Section of Cardiology  and Echocardiography L...  \n",
              "2  [Department of Physiology, Medical College of ...  "
            ]
          },
          "execution_count": 53,
          "metadata": {},
          "output_type": "execute_result"
        }
      ],
      "source": [
        "affilDF.head(3)"
      ]
    },
    {
      "attachments": {},
      "cell_type": "markdown",
      "metadata": {},
      "source": [
        "## 6. Split strings where ',' or ';' appears    | Apply .lower()"
      ]
    },
    {
      "cell_type": "code",
      "execution_count": 252,
      "metadata": {},
      "outputs": [],
      "source": [
        "def substringsDict(string):\n",
        "    \n",
        "    split_strings = [re.sub(r'^[\\s.]+|[\\s.]+$', '', s.strip()) for s in re.split(r'[,;]', string)]\n",
        "    dict_string = {i: split_strings[i] for i in range(len(split_strings)) if split_strings[i]}\n",
        "    dict_string = {key: value.lower() for key, value in dict_string.items()}\n",
        "\n",
        "    return dict_string\n"
      ]
    },
    {
      "cell_type": "code",
      "execution_count": 253,
      "metadata": {},
      "outputs": [],
      "source": [
        "newAffkomma = []\n",
        "\n",
        "for k in range(len(affilDF)):\n",
        "    \n",
        "    new_list = []\n",
        "    for item in affilDF['uniqueAff2'].iloc[k]:\n",
        "        new_list.append(substringsDict(item))\n",
        "\n",
        "    newAffkomma.append(new_list)\n",
        "\n"
      ]
    },
    {
      "cell_type": "code",
      "execution_count": 254,
      "metadata": {},
      "outputs": [],
      "source": [
        "affilDF['uniqueAff4'] = [list(x[0].values()) for x in newAffkomma]"
      ]
    },
    {
      "cell_type": "code",
      "execution_count": 255,
      "metadata": {},
      "outputs": [],
      "source": [
        "removeList = ['university','research institute','laboratory' , 'universit','gmbh', 'inc', 'university of', 'research center', \n",
        "'university college','national institute of', 'school of medicine', \"university school\", 'graduate school of', 'graduate school of engineering', \n",
        "'institute of tropical medicine', 'institute of virology', 'faculty of medicine','laboratory', 'university park', 'institute of science']"
      ]
    },
    {
      "attachments": {},
      "cell_type": "markdown",
      "metadata": {},
      "source": [
        "# Labels based on legalnames of openAIRE's organizations"
      ]
    },
    {
      "cell_type": "code",
      "execution_count": 256,
      "metadata": {},
      "outputs": [],
      "source": [
        "uniList = ['institu', 'istituto','univ', 'college', 'center', 'centre' , 'cnrs', 'faculty','school' , 'academy' , 'école', 'hochschule' , 'ecole' ]\n",
        "\n",
        "labList = ['lab']\n",
        "\n",
        "hosplList = ['hospital' ,'clinic', 'hôpital']\n",
        "\n",
        "gmbhList = ['gmbh', 'company' , 'industr', 'etaireia' , 'corporation', 'inc']\n",
        "\n",
        "musList =  ['museum', 'library']\n",
        "\n",
        "foundList =  ['foundation' , 'association','organization' ,'society', 'group' ]\n",
        "\n",
        "deptList = ['district' , 'federation'  , 'government' , 'municipal' , 'county', 'ministry','council', 'agency']\n",
        "\n",
        "unknownList = ['unknown']\n",
        "\n",
        "#######   Dictionaries ##########\n",
        "\n",
        "uniDict = {k: 'Univ/Inst' for k in uniList}   \n",
        "\n",
        "labDict = {k: 'Laboratory' for k in labList} \n",
        "\n",
        "hosplDict = {k: 'Hospital' for k in hosplList}   \n",
        "\n",
        "gmbhDict = {k: 'Company' for k in gmbhList}   \n",
        "\n",
        "musDict = {k: 'Museum' for k in musList}   \n",
        "\n",
        "#schoolDict = {k: 'School' for k in schoolList}   \n",
        "\n",
        "foundDict = {k: 'Foundation' for k in foundList}   \n",
        "\n",
        "deptDict = {k: 'Government' for k in deptList}   \n",
        "\n",
        "unknownDict =  {k: 'Unknown' for k in unknownList}   \n",
        "\n",
        "categDictsList = [uniDict, labDict, hosplDict, gmbhDict, musDict, #schoolDict, \n",
        "                  foundDict, deptDict, unknownDict]\n",
        "\n",
        "################# Final Dictionary #####################\n",
        "\n",
        "categDicts = {}\n",
        "i = 0\n",
        "while i in range(len(categDictsList)):\n",
        "    categDicts.update(categDictsList[i])\n",
        "    i = i+1\n",
        "    \n",
        "    \n"
      ]
    },
    {
      "attachments": {},
      "cell_type": "markdown",
      "metadata": {},
      "source": [
        "## affiliationsDict"
      ]
    },
    {
      "cell_type": "code",
      "execution_count": 257,
      "metadata": {},
      "outputs": [],
      "source": [
        "affiliationsDict = {}\n",
        "\n",
        "for i in range(len(affilDF)):\n",
        "    affiliationsDict[i] = affilDF['uniqueAff4'].iloc[i]\n",
        "    \n"
      ]
    },
    {
      "cell_type": "code",
      "execution_count": 258,
      "metadata": {},
      "outputs": [],
      "source": [
        "d_new = {}\n",
        "\n",
        "# iterate over the keys of affiliationsDict\n",
        "for k in range(len(affiliationsDict)):\n",
        "    # get the list associated with the current key in affiliationsDict\n",
        "    L = affiliationsDict.get(k, [])\n",
        "    \n",
        "    # apply the mapping using a list comprehension\n",
        "    mapped_list = [[s, v] for s in L for k2, v in categDicts.items() if k2 in s]\n",
        "    \n",
        "    # add the mapped list to the new dictionary d_new\n",
        "    d_new[k] = mapped_list"
      ]
    },
    {
      "cell_type": "code",
      "execution_count": 259,
      "metadata": {},
      "outputs": [],
      "source": [
        "affilDF['Dictionary'] = d_new"
      ]
    },
    {
      "attachments": {},
      "cell_type": "markdown",
      "metadata": {},
      "source": [
        "## What is not included "
      ]
    },
    {
      "cell_type": "code",
      "execution_count": 260,
      "metadata": {},
      "outputs": [],
      "source": [
        "notInList = [i for i in range(len(affilDF)) if len(affilDF['Dictionary'].iloc[i]) == 0]\n",
        "    "
      ]
    },
    {
      "cell_type": "code",
      "execution_count": 261,
      "metadata": {},
      "outputs": [
        {
          "data": {
            "text/html": [
              "<div>\n",
              "<style scoped>\n",
              "    .dataframe tbody tr th:only-of-type {\n",
              "        vertical-align: middle;\n",
              "    }\n",
              "\n",
              "    .dataframe tbody tr th {\n",
              "        vertical-align: top;\n",
              "    }\n",
              "\n",
              "    .dataframe thead th {\n",
              "        text-align: right;\n",
              "    }\n",
              "</style>\n",
              "<table border=\"1\" class=\"dataframe\">\n",
              "  <thead>\n",
              "    <tr style=\"text-align: right;\">\n",
              "      <th></th>\n",
              "      <th>items</th>\n",
              "      <th>DOI</th>\n",
              "      <th>authors</th>\n",
              "      <th># authors</th>\n",
              "      <th>affiliations</th>\n",
              "      <th># Affil</th>\n",
              "      <th>uniqueAff</th>\n",
              "      <th># uniqueAff</th>\n",
              "      <th>uniqueAff1</th>\n",
              "      <th>uniqueAff2</th>\n",
              "      <th>uniqueAff4</th>\n",
              "      <th>Dictionary</th>\n",
              "    </tr>\n",
              "  </thead>\n",
              "  <tbody>\n",
              "    <tr>\n",
              "      <th>5</th>\n",
              "      <td>{'URL': 'http://dx.doi.org/10.1126/science.296...</td>\n",
              "      <td>10.1126/science.296.5576.2123a</td>\n",
              "      <td>[{'given': 'Wayne', 'family': 'Kondro', 'seque...</td>\n",
              "      <td>1</td>\n",
              "      <td>[[{'name': 'Wayne Kondro writes from Ottawa.'}]]</td>\n",
              "      <td>1</td>\n",
              "      <td>[Wayne Kondro writes from Ottawa.]</td>\n",
              "      <td>1</td>\n",
              "      <td>[Wayne Kondro writes Ottawa]</td>\n",
              "      <td>[Wayne Kondro writes Ottawa]</td>\n",
              "      <td>[wayne kondro writes ottawa]</td>\n",
              "      <td>[]</td>\n",
              "    </tr>\n",
              "    <tr>\n",
              "      <th>6</th>\n",
              "      <td>{'URL': 'http://dx.doi.org/10.1046/j.1440-1665...</td>\n",
              "      <td>10.1046/j.1440-1665.2002.t01-1-00428.x</td>\n",
              "      <td>[{'given': 'Bob', 'family': 'Adler', 'sequence...</td>\n",
              "      <td>1</td>\n",
              "      <td>[[{'name': 'Melbourne, Victoria'}]]</td>\n",
              "      <td>1</td>\n",
              "      <td>[Melbourne, Victoria]</td>\n",
              "      <td>1</td>\n",
              "      <td>[Melbourne, Victoria]</td>\n",
              "      <td>[Melbourne, Victoria]</td>\n",
              "      <td>[melbourne, victoria]</td>\n",
              "      <td>[]</td>\n",
              "    </tr>\n",
              "    <tr>\n",
              "      <th>7</th>\n",
              "      <td>{'abstract': '&lt;jats:p&gt;Nonresonant manipulation...</td>\n",
              "      <td>10.1126/science.1072245</td>\n",
              "      <td>[{'given': 'Thilo M.', 'family': 'Brill', 'seq...</td>\n",
              "      <td>8</td>\n",
              "      <td>[[{'name': 'Schlumberger-Doll Research, 36 Old...</td>\n",
              "      <td>8</td>\n",
              "      <td>[Schlumberger-Doll Research, 36 Old Quarry Roa...</td>\n",
              "      <td>1</td>\n",
              "      <td>[SchlumbergerDoll Research, 36 Old Quarry Road...</td>\n",
              "      <td>[SchlumbergerDoll Research, 36 Old Quarry Road...</td>\n",
              "      <td>[schlumbergerdoll research, 36 old quarry road...</td>\n",
              "      <td>[]</td>\n",
              "    </tr>\n",
              "    <tr>\n",
              "      <th>11</th>\n",
              "      <td>{'URL': 'http://dx.doi.org/10.1161/01.cir.0000...</td>\n",
              "      <td>10.1161/01.cir.0000019680.58760.ac</td>\n",
              "      <td>[{'given': 'Ruth', 'family': 'SoRelle', 'seque...</td>\n",
              "      <td>1</td>\n",
              "      <td>[[{'name': 'Circulation Newswriter'}]]</td>\n",
              "      <td>1</td>\n",
              "      <td>[Circulation Newswriter]</td>\n",
              "      <td>1</td>\n",
              "      <td>[Circulation Newswriter]</td>\n",
              "      <td>[Circulation Newswriter]</td>\n",
              "      <td>[circulation newswriter]</td>\n",
              "      <td>[]</td>\n",
              "    </tr>\n",
              "    <tr>\n",
              "      <th>23</th>\n",
              "      <td>{'URL': 'http://dx.doi.org/10.1021/op0255130',...</td>\n",
              "      <td>10.1021/op0255130</td>\n",
              "      <td>[{'given': 'Bryan H.', 'family': 'Landis', 'se...</td>\n",
              "      <td>4</td>\n",
              "      <td>[[{'name': 'Bioprocess and Formulation Technol...</td>\n",
              "      <td>4</td>\n",
              "      <td>[Bioprocess and Formulation Technology, Pharma...</td>\n",
              "      <td>1</td>\n",
              "      <td>[Bioprocess and Formulation Technology, Pharma...</td>\n",
              "      <td>[Bioprocess and Formulation Technology, Pharma...</td>\n",
              "      <td>[bioprocess and formulation technology, pharma...</td>\n",
              "      <td>[]</td>\n",
              "    </tr>\n",
              "    <tr>\n",
              "      <th>...</th>\n",
              "      <td>...</td>\n",
              "      <td>...</td>\n",
              "      <td>...</td>\n",
              "      <td>...</td>\n",
              "      <td>...</td>\n",
              "      <td>...</td>\n",
              "      <td>...</td>\n",
              "      <td>...</td>\n",
              "      <td>...</td>\n",
              "      <td>...</td>\n",
              "      <td>...</td>\n",
              "      <td>...</td>\n",
              "    </tr>\n",
              "    <tr>\n",
              "      <th>794</th>\n",
              "      <td>{'URL': 'http://dx.doi.org/10.1149/1.1391937',...</td>\n",
              "      <td>10.1149/1.1391937</td>\n",
              "      <td>[{'given': 'Patricia A.', 'family': 'O'Neil', ...</td>\n",
              "      <td>5</td>\n",
              "      <td>[[{'name': 'Department of Electrical and Compu...</td>\n",
              "      <td>5</td>\n",
              "      <td>[Department of Electrical and Computer Enginee...</td>\n",
              "      <td>2</td>\n",
              "      <td>[Department of Electrical and Computer Enginee...</td>\n",
              "      <td>[Department of Electrical and Computer Enginee...</td>\n",
              "      <td>[department of electrical and computer enginee...</td>\n",
              "      <td>[]</td>\n",
              "    </tr>\n",
              "    <tr>\n",
              "      <th>802</th>\n",
              "      <td>{'URL': 'http://dx.doi.org/10.1161/01.cir.0000...</td>\n",
              "      <td>10.1161/01.cir.0000013182.44212.7a</td>\n",
              "      <td>[{'given': 'Paolo', 'family': 'Ferrari', 'sequ...</td>\n",
              "      <td>1</td>\n",
              "      <td>[[{'name': 'Division of Nephrology and Hyperte...</td>\n",
              "      <td>1</td>\n",
              "      <td>[Division of Nephrology and Hypertension, Inse...</td>\n",
              "      <td>1</td>\n",
              "      <td>[Division of Nephrology and Hypertension, Inse...</td>\n",
              "      <td>[Division of Nephrology and Hypertension, Inse...</td>\n",
              "      <td>[division of nephrology and hypertension, inse...</td>\n",
              "      <td>[]</td>\n",
              "    </tr>\n",
              "    <tr>\n",
              "      <th>816</th>\n",
              "      <td>{'abstract': '&lt;jats:p&gt;\n",
              "            &lt;jats:bold&gt;...</td>\n",
              "      <td>10.1161/hs0202.102950</td>\n",
              "      <td>[{'given': 'John R.', 'family': 'Toomey', 'seq...</td>\n",
              "      <td>9</td>\n",
              "      <td>[[{'name': 'From the Departments of Cardiovasc...</td>\n",
              "      <td>9</td>\n",
              "      <td>[From the Departments of Cardiovascular Pharma...</td>\n",
              "      <td>1</td>\n",
              "      <td>[Departments of Cardiovascular Pharmacology , ...</td>\n",
              "      <td>[Departments of Cardiovascular Pharmacology , ...</td>\n",
              "      <td>[departments of cardiovascular pharmacology, n...</td>\n",
              "      <td>[]</td>\n",
              "    </tr>\n",
              "    <tr>\n",
              "      <th>836</th>\n",
              "      <td>{'URL': 'http://dx.doi.org/10.1105/tpc.3.3.259...</td>\n",
              "      <td>10.1105/tpc.3.3.259</td>\n",
              "      <td>[{'given': 'J F', 'family': 'Manen', 'sequence...</td>\n",
              "      <td>6</td>\n",
              "      <td>[[{'name': 'Jardin Botanique, Genève, Switzerl...</td>\n",
              "      <td>6</td>\n",
              "      <td>[Jardin Botanique, Genève, Switzerland.]</td>\n",
              "      <td>1</td>\n",
              "      <td>[Jardin Botanique, Genève, Switzerland]</td>\n",
              "      <td>[Jardin Botanique, Genève, Switzerland]</td>\n",
              "      <td>[jardin botanique, genève, switzerland]</td>\n",
              "      <td>[]</td>\n",
              "    </tr>\n",
              "    <tr>\n",
              "      <th>873</th>\n",
              "      <td>{'URL': 'http://dx.doi.org/10.1145/506218.5062...</td>\n",
              "      <td>10.1145/506218.506253</td>\n",
              "      <td>[{'given': 'Lauren', 'family': 'Weinstein', 's...</td>\n",
              "      <td>1</td>\n",
              "      <td>[[{'name': 'ACM Committee on Computers and Pub...</td>\n",
              "      <td>1</td>\n",
              "      <td>[ACM Committee on Computers and Public Policy]</td>\n",
              "      <td>1</td>\n",
              "      <td>[ACM Committee on Computers and Public Policy]</td>\n",
              "      <td>[ACM Committee on Computers and Public Policy]</td>\n",
              "      <td>[acm committee on computers and public policy]</td>\n",
              "      <td>[]</td>\n",
              "    </tr>\n",
              "  </tbody>\n",
              "</table>\n",
              "<p>67 rows × 12 columns</p>\n",
              "</div>"
            ],
            "text/plain": [
              "                                                 items  \\\n",
              "5    {'URL': 'http://dx.doi.org/10.1126/science.296...   \n",
              "6    {'URL': 'http://dx.doi.org/10.1046/j.1440-1665...   \n",
              "7    {'abstract': '<jats:p>Nonresonant manipulation...   \n",
              "11   {'URL': 'http://dx.doi.org/10.1161/01.cir.0000...   \n",
              "23   {'URL': 'http://dx.doi.org/10.1021/op0255130',...   \n",
              "..                                                 ...   \n",
              "794  {'URL': 'http://dx.doi.org/10.1149/1.1391937',...   \n",
              "802  {'URL': 'http://dx.doi.org/10.1161/01.cir.0000...   \n",
              "816  {'abstract': '<jats:p>\n",
              "            <jats:bold>...   \n",
              "836  {'URL': 'http://dx.doi.org/10.1105/tpc.3.3.259...   \n",
              "873  {'URL': 'http://dx.doi.org/10.1145/506218.5062...   \n",
              "\n",
              "                                        DOI  \\\n",
              "5            10.1126/science.296.5576.2123a   \n",
              "6    10.1046/j.1440-1665.2002.t01-1-00428.x   \n",
              "7                   10.1126/science.1072245   \n",
              "11       10.1161/01.cir.0000019680.58760.ac   \n",
              "23                        10.1021/op0255130   \n",
              "..                                      ...   \n",
              "794                       10.1149/1.1391937   \n",
              "802      10.1161/01.cir.0000013182.44212.7a   \n",
              "816                   10.1161/hs0202.102950   \n",
              "836                     10.1105/tpc.3.3.259   \n",
              "873                   10.1145/506218.506253   \n",
              "\n",
              "                                               authors  # authors  \\\n",
              "5    [{'given': 'Wayne', 'family': 'Kondro', 'seque...          1   \n",
              "6    [{'given': 'Bob', 'family': 'Adler', 'sequence...          1   \n",
              "7    [{'given': 'Thilo M.', 'family': 'Brill', 'seq...          8   \n",
              "11   [{'given': 'Ruth', 'family': 'SoRelle', 'seque...          1   \n",
              "23   [{'given': 'Bryan H.', 'family': 'Landis', 'se...          4   \n",
              "..                                                 ...        ...   \n",
              "794  [{'given': 'Patricia A.', 'family': 'O'Neil', ...          5   \n",
              "802  [{'given': 'Paolo', 'family': 'Ferrari', 'sequ...          1   \n",
              "816  [{'given': 'John R.', 'family': 'Toomey', 'seq...          9   \n",
              "836  [{'given': 'J F', 'family': 'Manen', 'sequence...          6   \n",
              "873  [{'given': 'Lauren', 'family': 'Weinstein', 's...          1   \n",
              "\n",
              "                                          affiliations  # Affil  \\\n",
              "5     [[{'name': 'Wayne Kondro writes from Ottawa.'}]]        1   \n",
              "6                  [[{'name': 'Melbourne, Victoria'}]]        1   \n",
              "7    [[{'name': 'Schlumberger-Doll Research, 36 Old...        8   \n",
              "11              [[{'name': 'Circulation Newswriter'}]]        1   \n",
              "23   [[{'name': 'Bioprocess and Formulation Technol...        4   \n",
              "..                                                 ...      ...   \n",
              "794  [[{'name': 'Department of Electrical and Compu...        5   \n",
              "802  [[{'name': 'Division of Nephrology and Hyperte...        1   \n",
              "816  [[{'name': 'From the Departments of Cardiovasc...        9   \n",
              "836  [[{'name': 'Jardin Botanique, Genève, Switzerl...        6   \n",
              "873  [[{'name': 'ACM Committee on Computers and Pub...        1   \n",
              "\n",
              "                                             uniqueAff  # uniqueAff  \\\n",
              "5                   [Wayne Kondro writes from Ottawa.]            1   \n",
              "6                                [Melbourne, Victoria]            1   \n",
              "7    [Schlumberger-Doll Research, 36 Old Quarry Roa...            1   \n",
              "11                            [Circulation Newswriter]            1   \n",
              "23   [Bioprocess and Formulation Technology, Pharma...            1   \n",
              "..                                                 ...          ...   \n",
              "794  [Department of Electrical and Computer Enginee...            2   \n",
              "802  [Division of Nephrology and Hypertension, Inse...            1   \n",
              "816  [From the Departments of Cardiovascular Pharma...            1   \n",
              "836           [Jardin Botanique, Genève, Switzerland.]            1   \n",
              "873     [ACM Committee on Computers and Public Policy]            1   \n",
              "\n",
              "                                            uniqueAff1  \\\n",
              "5                         [Wayne Kondro writes Ottawa]   \n",
              "6                                [Melbourne, Victoria]   \n",
              "7    [SchlumbergerDoll Research, 36 Old Quarry Road...   \n",
              "11                            [Circulation Newswriter]   \n",
              "23   [Bioprocess and Formulation Technology, Pharma...   \n",
              "..                                                 ...   \n",
              "794  [Department of Electrical and Computer Enginee...   \n",
              "802  [Division of Nephrology and Hypertension, Inse...   \n",
              "816  [Departments of Cardiovascular Pharmacology , ...   \n",
              "836            [Jardin Botanique, Genève, Switzerland]   \n",
              "873     [ACM Committee on Computers and Public Policy]   \n",
              "\n",
              "                                            uniqueAff2  \\\n",
              "5                         [Wayne Kondro writes Ottawa]   \n",
              "6                                [Melbourne, Victoria]   \n",
              "7    [SchlumbergerDoll Research, 36 Old Quarry Road...   \n",
              "11                            [Circulation Newswriter]   \n",
              "23   [Bioprocess and Formulation Technology, Pharma...   \n",
              "..                                                 ...   \n",
              "794  [Department of Electrical and Computer Enginee...   \n",
              "802  [Division of Nephrology and Hypertension, Inse...   \n",
              "816  [Departments of Cardiovascular Pharmacology , ...   \n",
              "836            [Jardin Botanique, Genève, Switzerland]   \n",
              "873     [ACM Committee on Computers and Public Policy]   \n",
              "\n",
              "                                            uniqueAff4 Dictionary  \n",
              "5                         [wayne kondro writes ottawa]         []  \n",
              "6                                [melbourne, victoria]         []  \n",
              "7    [schlumbergerdoll research, 36 old quarry road...         []  \n",
              "11                            [circulation newswriter]         []  \n",
              "23   [bioprocess and formulation technology, pharma...         []  \n",
              "..                                                 ...        ...  \n",
              "794  [department of electrical and computer enginee...         []  \n",
              "802  [division of nephrology and hypertension, inse...         []  \n",
              "816  [departments of cardiovascular pharmacology, n...         []  \n",
              "836            [jardin botanique, genève, switzerland]         []  \n",
              "873     [acm committee on computers and public policy]         []  \n",
              "\n",
              "[67 rows x 12 columns]"
            ]
          },
          "execution_count": 261,
          "metadata": {},
          "output_type": "execute_result"
        }
      ],
      "source": [
        "affilDF.iloc[notInList]"
      ]
    },
    {
      "cell_type": "code",
      "execution_count": 262,
      "metadata": {},
      "outputs": [
        {
          "data": {
            "text/plain": [
              "820"
            ]
          },
          "execution_count": 262,
          "metadata": {},
          "output_type": "execute_result"
        }
      ],
      "source": [
        "len(affilDF)  - len(notInList)"
      ]
    },
    {
      "cell_type": "code",
      "execution_count": 263,
      "metadata": {},
      "outputs": [
        {
          "data": {
            "text/plain": [
              "67"
            ]
          },
          "execution_count": 263,
          "metadata": {},
          "output_type": "execute_result"
        }
      ],
      "source": [
        "len(notInList)"
      ]
    },
    {
      "attachments": {},
      "cell_type": "markdown",
      "metadata": {},
      "source": [
        "# affilDF1 ['DOI', 'affiliations', 'Dictionary','uniqueAff4', 'uniqueAff2','# authors','# uniqueAff']"
      ]
    },
    {
      "cell_type": "code",
      "execution_count": 264,
      "metadata": {},
      "outputs": [],
      "source": [
        "affilDF1 = affilDF[['DOI', 'affiliations', 'Dictionary','uniqueAff4', 'uniqueAff2','# authors','# uniqueAff']]"
      ]
    },
    {
      "attachments": {},
      "cell_type": "markdown",
      "metadata": {},
      "source": [
        "## New column: category based on the labels "
      ]
    },
    {
      "cell_type": "code",
      "execution_count": 265,
      "metadata": {},
      "outputs": [],
      "source": [
        "category = [', '.join(list(set([x[1] for x in affilDF1['Dictionary'].iloc[i]]))) for i in range(len(affilDF1))]\n",
        "    \n"
      ]
    },
    {
      "cell_type": "code",
      "execution_count": 266,
      "metadata": {},
      "outputs": [],
      "source": [
        "affilDF1 = affilDF1.copy()"
      ]
    },
    {
      "cell_type": "code",
      "execution_count": 267,
      "metadata": {},
      "outputs": [],
      "source": [
        "affilDF1.loc[:, 'category'] = category\n"
      ]
    },
    {
      "attachments": {},
      "cell_type": "markdown",
      "metadata": {},
      "source": [
        "### new label: rest"
      ]
    },
    {
      "cell_type": "code",
      "execution_count": 268,
      "metadata": {},
      "outputs": [],
      "source": [
        "for i in range(len(affilDF1)):\n",
        "    if len(affilDF1['category'].iloc[i]) == 0:\n",
        "        affilDF1.iloc[i, affilDF1.columns.get_loc('category')] = 'Rest'\n"
      ]
    },
    {
      "cell_type": "code",
      "execution_count": 269,
      "metadata": {},
      "outputs": [],
      "source": [
        "affiliationsSimple = [list(set([x[0] for x in affilDF1['Dictionary'].iloc[i]])) for i in range(len(affilDF1))]"
      ]
    },
    {
      "cell_type": "code",
      "execution_count": 270,
      "metadata": {},
      "outputs": [],
      "source": [
        "city_names = [\"Aberdeen\", \"Abilene\", \"Akron\", \"Albany\", \"Albuquerque\", \"Alexandria\", \"Allentown\", \"Amarillo\", \"Anaheim\", \"Anchorage\", \"Ann Arbor\", \"Antioch\", \"Apple Valley\", \"Appleton\", \"Arlington\", \"Arvada\", \"Asheville\", \"Athens\", \"Atlanta\", \"Atlantic City\", \"Augusta\", \"Aurora\", \"Austin\", \"Bakersfield\", \"Baltimore\", \"Barnstable\", \"Baton Rouge\", \"Beaumont\", \"Bel Air\", \"Bellevue\", \"Berkeley\", \"Bethlehem\", \"Billings\", \"Birmingham\", \"Bloomington\", \"Boise\", \"Boise City\", \"Bonita Springs\", \"Boston\", \"Boulder\", \"Bradenton\", \"Bremerton\", \"Bridgeport\", \"Brighton\", \"Brownsville\", \"Bryan\", \"Buffalo\", \"Burbank\", \"Burlington\", \"Cambridge\", \"Canton\", \"Cape Coral\", \"Carrollton\", \"Cary\", \"Cathedral City\", \"Cedar Rapids\", \"Champaign\", \"Chandler\", \"Charleston\", \"Charlotte\", \"Chattanooga\", \"Chesapeake\", \"Chicago\", \"Chula Vista\", \"Cincinnati\", \"Clarke County\", \"Clarksville\", \"Clearwater\", \"Cleveland\", \"College Station\", \"Colorado Springs\", \"Columbia\", \"Columbus\", \"Concord\", \"Coral Springs\", \"Corona\", \"Corpus Christi\", \"Costa Mesa\", \"Dallas\", \"Daly City\", \"Danbury\", \"Davenport\", \"Davidson County\", \"Dayton\", \"Daytona Beach\", \"Deltona\", \"Denton\", \"Denver\", \"Des Moines\", \"Detroit\", \"Downey\", \"Duluth\", \"Durham\", \"El Monte\", \"El Paso\", \"Elizabeth\", \"Elk Grove\", \"Elkhart\", \"Erie\", \"Escondido\", \"Eugene\", \"Evansville\", \"Fairfield\", \"Fargo\", \"Fayetteville\", \"Fitchburg\", \"Flint\", \"Fontana\", \"Fort Collins\", \"Fort Lauderdale\", \"Fort Smith\", \"Fort Walton Beach\", \"Fort Wayne\", \"Fort Worth\", \"Frederick\", \"Fremont\", \"Fresno\", \"Fullerton\", \"Gainesville\", \"Garden Grove\", \"Garland\", \"Gastonia\", \"Gilbert\", \"Glendale\", \"Grand Prairie\", \"Grand Rapids\", \"Grayslake\", \"Green Bay\", \"GreenBay\", \"Greensboro\", \"Greenville\", \"Gulfport-Biloxi\", \"Hagerstown\", \"Hampton\", \"Harlingen\", \"Harrisburg\", \"Hartford\", \"Havre de Grace\", \"Hayward\", \"Hemet\", \"Henderson\", \"Hesperia\", \"Hialeah\", \"Hickory\", \"High Point\", \"Hollywood\", \"Honolulu\", \"Houma\", \"Houston\", \"Howell\", \"Huntington\", \"Huntington Beach\", \"Huntsville\", \"Independence\", \"Indianapolis\", \"Inglewood\", \"Irvine\", \"Irving\", \"Jackson\", \"Jacksonville\", \"Jefferson\", \"Jersey City\", \"Johnson City\", \"Joliet\", \"Kailua\", \"Kalamazoo\", \"Kaneohe\", \"Kansas City\", \"Kennewick\", \"Kenosha\", \"Killeen\", \"Kissimmee\", \"Knoxville\", \"Lacey\", \"Lafayette\", \"Lake Charles\", \"Lakeland\", \"Lakewood\", \"Lancaster\", \"Lansing\", \"Laredo\", \"Las Cruces\", \"Las Vegas\", \"Layton\", \"Leominster\", \"Lewisville\", \"Lexington\", \"Lincoln\", \"Little Rock\", \"Long Beach\", \"Lorain\", \"Los Angeles\", \"Louisville\", \"Lowell\", \"Lubbock\", \"Macon\", \"Madison\", \"Manchester\", \"Marina\", \"Marysville\", \"McAllen\", \"McHenry\", \"Medford\", \"Melbourne\", \"Memphis\", \"Merced\", \"Mesa\", \"Mesquite\", \"Miami\", \"Milwaukee\", \"Minneapolis\", \"Miramar\", \"Mission Viejo\", \"Mobile\", \"Modesto\", \"Monroe\", \"Monterey\", \"Montgomery\", \"Moreno Valley\", \"Murfreesboro\", \"Murrieta\", \"Muskegon\", \"Myrtle Beach\", \"Naperville\", \"Naples\", \"Nashua\", \"Nashville\", \"New Bedford\", \"New Haven\", \"New London\", \"New Orleans\", \"New York\", \"New York City\", \"Newark\", \"Newburgh\", \"Newport News\", \"Norfolk\", \"Normal\", \"Norman\", \"North Charleston\", \"North Las Vegas\", \"North Port\", \"Norwalk\", \"Norwich\", \"Oakland\", \"Ocala\", \"Oceanside\", \"Odessa\", \"Ogden\", \"Oklahoma City\", \"Olathe\", \"Olympia\", \"Omaha\", \"Ontario\", \"Orange\", \"Orem\", \"Orlando\", \"Overland Park\", \"Oxnard\", \"Palm Bay\", \"Palm Springs\", \"Palmdale\", \"Panama City\", \"Pasadena\", \"Paterson\", \"Pembroke Pines\", \"Pensacola\", \"Peoria\", \"Philadelphia\", \"Phoenix\", \"Pittsburgh\", \"Plano\", \"Pomona\", \"Pompano Beach\", \"Port Arthur\", \"Port Orange\", \"Port Saint Lucie\", \"Port St. Lucie\", \"Portland\", \"Portsmouth\", \"Poughkeepsie\", \"Providence\", \"Provo\", \"Pueblo\", \"Punta Gorda\", \"Racine\", \"Raleigh\", \"Rancho Cucamonga\", \"Reading\", \"Redding\", \"Reno\", \"Richland\", \"Richmond\", \"Richmond County\", \"Riverside\", \"Roanoke\", \"Rochester\", \"Rockford\", \"Roseville\", \"Round Lake Beach\", \"Sacramento\", \"Saginaw\", \"Saint Louis\", \"Saint Paul\", \"Saint Petersburg\", \"Salem\", \"Salinas\", \"Salt Lake City\", \"San Antonio\", \"San Bernardino\", \"San Buenaventura\", \"San Diego\", \"San Francisco\", \"San Jose\", \"Santa Ana\", \"Santa Barbara\", \"Santa Clara\", \"Santa Clarita\", \"Santa Cruz\", \"Santa Maria\", \"Santa Rosa\", \"Sarasota\", \"Savannah\", \"Scottsdale\", \"Scranton\", \"Seaside\", \"Seattle\", \"Sebastian\", \"Shreveport\", \"Simi Valley\", \"Sioux City\", \"Sioux Falls\", \"South Bend\", \"South Lyon\", \"Spartanburg\", \"Spokane\", \"Springdale\", \"Springfield\", \"St. Louis\", \"St. Paul\", \"St. Petersburg\", \"Stamford\", \"Sterling Heights\", \"Stockton\", \"Sunnyvale\", \"Syracuse\", \"Tacoma\", \"Tallahassee\", \"Tampa\", \"Temecula\", \"Tempe\", \"Thornton\", \"Thousand Oaks\", \"Toledo\", \"Topeka\", \"Torrance\", \"Trenton\", \"Tucson\", \"Tulsa\", \"Tuscaloosa\", \"Tyler\", \"Utica\", \"Vallejo\", \"Vancouver\", \"Vero Beach\", \"Victorville\", \"Virginia Beach\", \"Visalia\", \"Waco\", \"Warren\", \"Washington\", \"Waterbury\", \"Waterloo\", \"West Covina\", \"West Valley City\", \"Westminster\", \"Wichita\", \"Wilmington\", \"Winston\", \"Winter Haven\", \"Worcester\", \"Yakima\", \"Yonkers\", \"York\", \"Youngstown\"]\n",
        "\n",
        "city_names = [x.lower() for x in city_names]"
      ]
    },
    {
      "cell_type": "code",
      "execution_count": 271,
      "metadata": {},
      "outputs": [],
      "source": [
        "new_affiliations = []\n",
        "for x in affiliationsSimple:\n",
        "    new_x = []\n",
        "    for elem in x:\n",
        "        if elem not in city_names:\n",
        "            new_x.append(elem)\n",
        "    new_affiliations.append(new_x)\n",
        "\n"
      ]
    },
    {
      "cell_type": "code",
      "execution_count": 272,
      "metadata": {},
      "outputs": [],
      "source": [
        "affilDF1.loc[:,'affilSimple'] = new_affiliations"
      ]
    },
    {
      "cell_type": "code",
      "execution_count": 273,
      "metadata": {},
      "outputs": [
        {
          "data": {
            "text/html": [
              "<div>\n",
              "<style scoped>\n",
              "    .dataframe tbody tr th:only-of-type {\n",
              "        vertical-align: middle;\n",
              "    }\n",
              "\n",
              "    .dataframe tbody tr th {\n",
              "        vertical-align: top;\n",
              "    }\n",
              "\n",
              "    .dataframe thead th {\n",
              "        text-align: right;\n",
              "    }\n",
              "</style>\n",
              "<table border=\"1\" class=\"dataframe\">\n",
              "  <thead>\n",
              "    <tr style=\"text-align: right;\">\n",
              "      <th></th>\n",
              "      <th>DOI</th>\n",
              "      <th>affiliations</th>\n",
              "      <th>Dictionary</th>\n",
              "      <th>uniqueAff4</th>\n",
              "      <th>uniqueAff2</th>\n",
              "      <th># authors</th>\n",
              "      <th># uniqueAff</th>\n",
              "      <th>category</th>\n",
              "      <th>affilSimple</th>\n",
              "    </tr>\n",
              "  </thead>\n",
              "  <tbody>\n",
              "    <tr>\n",
              "      <th>0</th>\n",
              "      <td>10.1021/ac020069k</td>\n",
              "      <td>[[{'name': 'Department of Chemistry, Texas A&amp;M...</td>\n",
              "      <td>[[texas am university, Univ/Inst], [college st...</td>\n",
              "      <td>[department of chemistry, texas am university,...</td>\n",
              "      <td>[Department of Chemistry, Texas AM University,...</td>\n",
              "      <td>3</td>\n",
              "      <td>1</td>\n",
              "      <td>Univ/Inst</td>\n",
              "      <td>[texas am university]</td>\n",
              "    </tr>\n",
              "    <tr>\n",
              "      <th>1</th>\n",
              "      <td>10.1161/01.cir.0000013846.72805.7e</td>\n",
              "      <td>[[{'name': 'From the Section of Cardiology (D....</td>\n",
              "      <td>[[section of cardiology  and echocardiography ...</td>\n",
              "      <td>[section of cardiology  and echocardiography l...</td>\n",
              "      <td>[Section of Cardiology  and Echocardiography L...</td>\n",
              "      <td>10</td>\n",
              "      <td>1</td>\n",
              "      <td>Laboratory, Univ/Inst</td>\n",
              "      <td>[baylor college of medicine, section of cardio...</td>\n",
              "    </tr>\n",
              "    <tr>\n",
              "      <th>2</th>\n",
              "      <td>10.1161/hy02t2.102992</td>\n",
              "      <td>[[{'name': 'From the Department of Physiology,...</td>\n",
              "      <td>[[medical college of wisconsin, Univ/Inst], [t...</td>\n",
              "      <td>[department of physiology, medical college of ...</td>\n",
              "      <td>[Department of Physiology, Medical College of ...</td>\n",
              "      <td>3</td>\n",
              "      <td>1</td>\n",
              "      <td>Univ/Inst</td>\n",
              "      <td>[medical college of wisconsin, huazhong univer...</td>\n",
              "    </tr>\n",
              "    <tr>\n",
              "      <th>3</th>\n",
              "      <td>10.1126/science.1073633</td>\n",
              "      <td>[[{'name': 'Plant Biology Laboratory,'}, {'nam...</td>\n",
              "      <td>[[howard hughes medical institute, Univ/Inst]]</td>\n",
              "      <td>[howard hughes medical institute]</td>\n",
              "      <td>[Howard Hughes Medical Institute,, Plant Biolo...</td>\n",
              "      <td>6</td>\n",
              "      <td>3</td>\n",
              "      <td>Univ/Inst</td>\n",
              "      <td>[howard hughes medical institute]</td>\n",
              "    </tr>\n",
              "    <tr>\n",
              "      <th>4</th>\n",
              "      <td>10.1089/10872910260066679</td>\n",
              "      <td>[[{'name': 'Albert Einstein College of Medicin...</td>\n",
              "      <td>[[albert einstein college of medicine, Univ/In...</td>\n",
              "      <td>[albert einstein college of medicine, bronx, n...</td>\n",
              "      <td>[Albert Einstein College of Medicine, Bronx, N...</td>\n",
              "      <td>5</td>\n",
              "      <td>4</td>\n",
              "      <td>Univ/Inst</td>\n",
              "      <td>[new york and jacobi medical center, albert ei...</td>\n",
              "    </tr>\n",
              "  </tbody>\n",
              "</table>\n",
              "</div>"
            ],
            "text/plain": [
              "                                  DOI  \\\n",
              "0                   10.1021/ac020069k   \n",
              "1  10.1161/01.cir.0000013846.72805.7e   \n",
              "2               10.1161/hy02t2.102992   \n",
              "3             10.1126/science.1073633   \n",
              "4           10.1089/10872910260066679   \n",
              "\n",
              "                                        affiliations  \\\n",
              "0  [[{'name': 'Department of Chemistry, Texas A&M...   \n",
              "1  [[{'name': 'From the Section of Cardiology (D....   \n",
              "2  [[{'name': 'From the Department of Physiology,...   \n",
              "3  [[{'name': 'Plant Biology Laboratory,'}, {'nam...   \n",
              "4  [[{'name': 'Albert Einstein College of Medicin...   \n",
              "\n",
              "                                          Dictionary  \\\n",
              "0  [[texas am university, Univ/Inst], [college st...   \n",
              "1  [[section of cardiology  and echocardiography ...   \n",
              "2  [[medical college of wisconsin, Univ/Inst], [t...   \n",
              "3     [[howard hughes medical institute, Univ/Inst]]   \n",
              "4  [[albert einstein college of medicine, Univ/In...   \n",
              "\n",
              "                                          uniqueAff4  \\\n",
              "0  [department of chemistry, texas am university,...   \n",
              "1  [section of cardiology  and echocardiography l...   \n",
              "2  [department of physiology, medical college of ...   \n",
              "3                  [howard hughes medical institute]   \n",
              "4  [albert einstein college of medicine, bronx, n...   \n",
              "\n",
              "                                          uniqueAff2  # authors  # uniqueAff  \\\n",
              "0  [Department of Chemistry, Texas AM University,...          3            1   \n",
              "1  [Section of Cardiology  and Echocardiography L...         10            1   \n",
              "2  [Department of Physiology, Medical College of ...          3            1   \n",
              "3  [Howard Hughes Medical Institute,, Plant Biolo...          6            3   \n",
              "4  [Albert Einstein College of Medicine, Bronx, N...          5            4   \n",
              "\n",
              "                category                                        affilSimple  \n",
              "0              Univ/Inst                              [texas am university]  \n",
              "1  Laboratory, Univ/Inst  [baylor college of medicine, section of cardio...  \n",
              "2              Univ/Inst  [medical college of wisconsin, huazhong univer...  \n",
              "3              Univ/Inst                  [howard hughes medical institute]  \n",
              "4              Univ/Inst  [new york and jacobi medical center, albert ei...  "
            ]
          },
          "execution_count": 273,
          "metadata": {},
          "output_type": "execute_result"
        }
      ],
      "source": [
        "affilDF1.head()"
      ]
    },
    {
      "cell_type": "code",
      "execution_count": 274,
      "metadata": {},
      "outputs": [
        {
          "data": {
            "text/plain": [
              "67"
            ]
          },
          "execution_count": 274,
          "metadata": {},
          "output_type": "execute_result"
        }
      ],
      "source": [
        "len(affilDF1[affilDF1['category'] == 'Rest'])"
      ]
    },
    {
      "attachments": {},
      "cell_type": "markdown",
      "metadata": {},
      "source": [
        "# UNIVS & LABS"
      ]
    },
    {
      "cell_type": "code",
      "execution_count": 275,
      "metadata": {},
      "outputs": [],
      "source": [
        "univLabs = [i for i in range(len(affilDF1)) if 'Laboratory' in affilDF1['category'].iloc[i] \n",
        "            or 'Univ/Inst' in  affilDF1['category'].iloc[i]]"
      ]
    },
    {
      "cell_type": "code",
      "execution_count": 276,
      "metadata": {},
      "outputs": [],
      "source": [
        "\n",
        "univLabsDF = affilDF1.iloc[univLabs].copy()"
      ]
    },
    {
      "cell_type": "code",
      "execution_count": 277,
      "metadata": {},
      "outputs": [],
      "source": [
        "univLabsDF.reset_index(inplace = True)"
      ]
    },
    {
      "cell_type": "code",
      "execution_count": 278,
      "metadata": {},
      "outputs": [],
      "source": [
        "univLabsDF.drop(columns = ['index'], inplace = True)"
      ]
    },
    {
      "attachments": {},
      "cell_type": "markdown",
      "metadata": {},
      "source": [
        "# Load files from openAIRE"
      ]
    },
    {
      "cell_type": "code",
      "execution_count": 279,
      "metadata": {},
      "outputs": [],
      "source": [
        "with open('dixOpenAIRE_Alletc.pkl', 'rb') as f:\n",
        "    dixOpenAIRE_Alletc = pickle.load(f)\n"
      ]
    },
    {
      "cell_type": "code",
      "execution_count": 280,
      "metadata": {},
      "outputs": [],
      "source": [
        "with open('dixOpenAIRE_id.pkl', 'rb') as f:\n",
        "    dixOpenAIRE_id = pickle.load(f)\n"
      ]
    },
    {
      "cell_type": "code",
      "execution_count": 281,
      "metadata": {},
      "outputs": [],
      "source": [
        "with open('dixOpenOrgId.pkl', 'rb') as f:\n",
        "    dixOpenOrgId = pickle.load(f)\n"
      ]
    },
    {
      "attachments": {},
      "cell_type": "markdown",
      "metadata": {},
      "source": [
        "## Clean/modify the files"
      ]
    },
    {
      "cell_type": "code",
      "execution_count": 282,
      "metadata": {},
      "outputs": [],
      "source": [
        "dixOpenAIRE_Alletc1 =  {k.replace(',', ''): v for k, v in dixOpenAIRE_Alletc.items()}"
      ]
    },
    {
      "cell_type": "code",
      "execution_count": 283,
      "metadata": {},
      "outputs": [],
      "source": [
        "dixOpenAIRE_id1 = {k.replace(',', ''): v for k, v in dixOpenAIRE_id.items()}"
      ]
    },
    {
      "cell_type": "code",
      "execution_count": 284,
      "metadata": {},
      "outputs": [],
      "source": [
        "dixOpenOrgId1 = {k.replace(',', ''): v for k, v in dixOpenOrgId.items()}"
      ]
    },
    {
      "cell_type": "code",
      "execution_count": 285,
      "metadata": {},
      "outputs": [],
      "source": [
        "def filter_key(key):\n",
        "    # Remove all non-alphanumeric characters except Greek letters and Chinese characters\n",
        "    return re.sub(r'[^\\w\\s,Α-Ωα-ωぁ-んァ-ン一-龯，]', '', key)\n",
        "\n",
        "def filter_dictionary_keys(dictionary):\n",
        "    filtered_dict = {}\n",
        "    for key, value in dictionary.items():\n",
        "        filtered_key = filter_key(key)\n",
        "        filtered_dict[filtered_key] = value\n",
        "    return filtered_dict\n",
        "\n",
        "\n",
        "dixOpenAIRE_Alletc1 = filter_dictionary_keys(dixOpenAIRE_Alletc1)\n",
        "dixOpenAIRE_id1 = filter_dictionary_keys(dixOpenAIRE_id1)\n",
        "dixOpenOrgId1 = filter_dictionary_keys(dixOpenOrgId1)\n",
        "\n"
      ]
    },
    {
      "cell_type": "code",
      "execution_count": 286,
      "metadata": {},
      "outputs": [],
      "source": [
        "del dixOpenAIRE_Alletc1['laboratory']\n",
        "del dixOpenAIRE_Alletc1['university hospital']"
      ]
    },
    {
      "cell_type": "code",
      "execution_count": 287,
      "metadata": {},
      "outputs": [],
      "source": [
        "del dixOpenAIRE_id1['laboratory']\n",
        "del dixOpenAIRE_id1['university hospital']"
      ]
    },
    {
      "cell_type": "code",
      "execution_count": 288,
      "metadata": {},
      "outputs": [],
      "source": [
        "del dixOpenOrgId1['university hospital']"
      ]
    },
    {
      "attachments": {},
      "cell_type": "markdown",
      "metadata": {},
      "source": [
        "# MATCHINGS"
      ]
    },
    {
      "attachments": {},
      "cell_type": "markdown",
      "metadata": {},
      "source": [
        "## Helper functions"
      ]
    },
    {
      "attachments": {},
      "cell_type": "markdown",
      "metadata": {},
      "source": [
        " Correct the matchings"
      ]
    },
    {
      "cell_type": "code",
      "execution_count": 289,
      "metadata": {},
      "outputs": [],
      "source": [
        "def bestSimScore(l1, l2, l3):\n",
        "    \"\"\"\n",
        "    Finds the best match between a 'key word' and several legal names from the OpenAIRE database.\n",
        "    ---> corrects special cases in the main map that follows\n",
        "\n",
        "    Args:\n",
        "        l1: List of unique affiliations.\n",
        "        l2: List of matched OpenAIRE names.\n",
        "        l3: List of pairs.\n",
        "\n",
        "    Returns:\n",
        "        List: Resulting list containing OpenAIRE names and their similarity scores.\n",
        "    \"\"\"\n",
        "    \n",
        "    vectorizer = CountVectorizer()\n",
        "    numUniv = sum([(l1[i].lower()).count('univ') for i in range(len(l1))])\n",
        "    result = []\n",
        "    for i in range(len(l1)):\n",
        "        best = [] \n",
        "        s = l1[i]\n",
        "       # s_contains_university = is_contained(\"university\", s.lower())  \n",
        "        \n",
        "        if not is_contained(\"univ\", s.lower()):\n",
        "            continue  # Skip if s does not contain \"university\" or \"univ\"\n",
        "        \n",
        "    \n",
        "        for j in range(len(l2)):\n",
        "            x = l2[j]  \n",
        "              \n",
        "            if l3[j][2] >=0.99 and (is_contained(\"univ\", x.lower()) or is_contained(\"college\", x.lower()) or  is_contained(\"center\", x.lower())): # If the similarity score of a pair (s,x) was 1, we store it to results list\n",
        "                result.append([l2[j], 1])\n",
        "                \n",
        "            else:\n",
        "        #        x_contains_university = is_contained(\"university\", x.lower())\n",
        "                if not is_contained(\"univ\", x.lower()):\n",
        "                    continue  # Skip if x does not contain \"university\" or \"univ\"\n",
        "                \n",
        "            \n",
        "                x_vector = vectorizer.fit_transform([x]).toarray() #Else we compute the similarity of s with the original affiiation name\n",
        "                s_vector = vectorizer.transform([s]).toarray()\n",
        "\n",
        "                # Compute similarity between the vectors\n",
        "                similarity = cosine_similarity(x_vector, s_vector)[0][0]\n",
        "\n",
        "                best.append([l2[j], similarity])\n",
        "        \n",
        "        if best:\n",
        "            max_score = max(best, key=lambda x: x[1])[1]\n",
        "            max_results = [(x[0], x[1]) for x in best if x[1] == max_score]\n",
        "            if len(max_results) > 1:\n",
        "                max_results.sort(key=lambda x: (l2.index(x[0]), -x[1]), reverse=False)\n",
        "                result.append(max_results[-1])\n",
        "            else:\n",
        "                result.append(max_results[0])\n",
        "                \n",
        "    univ_list = []\n",
        "    other_list = []\n",
        "    \n",
        "    for r in result:\n",
        "        if is_contained('univ',r[0]):\n",
        "            univ_list.append(r)\n",
        "        else:\n",
        "            other_list.append(r)\n",
        "            \n",
        "    if len(univ_list)> numUniv:\n",
        "        result = univ_list[:numUniv] + other_list\n",
        "                \n",
        "    return result"
      ]
    },
    {
      "attachments": {},
      "cell_type": "markdown",
      "metadata": {},
      "source": [
        "### find rows with multiple mathcings"
      ]
    },
    {
      "cell_type": "code",
      "execution_count": 291,
      "metadata": {},
      "outputs": [],
      "source": [
        "def index_multipleMatchings(df):\n",
        "    multipleMatchings = []\n",
        "\n",
        "    for i in range(len(df)):\n",
        "        result_dict = {}\n",
        "\n",
        "        for t in [t[0] for t in df.Pairs.iloc[i]]:\n",
        "            key = t\n",
        "            if key in result_dict:\n",
        "                result_dict[key] += 1\n",
        "                multipleMatchings.append(i)\n",
        "                \n",
        "            else:\n",
        "                result_dict[key] = 1\n",
        "    return list(set(multipleMatchings))\n",
        "                \n",
        "        "
      ]
    },
    {
      "attachments": {},
      "cell_type": "markdown",
      "metadata": {},
      "source": [
        "## Main map"
      ]
    },
    {
      "cell_type": "code",
      "execution_count": 292,
      "metadata": {},
      "outputs": [],
      "source": [
        "def Doi_Ids(m, DF, dixOpenAIRE, simU, simG):\n",
        "    \n",
        "    \"\"\"\n",
        "    Matches affiliations in DataFrame 'DF' with names from dictionary 'dixOpenAIRE' and their openAIRE ids based on similarity scores.\n",
        "\n",
        "    Args:\n",
        "        m (int): The number of DOIs to check.\n",
        "        DF (DataFrame): The input DataFrame containing affiliation data.\n",
        "        dixOpenAIRE (dict): A dictionary of names from OpenAIRE.\n",
        "        simU (float): Similarity threshold for universities.\n",
        "        simG (float): Similarity threshold for non-universities.\n",
        "\n",
        "    Returns:\n",
        "        DataFrame: The final DataFrame with matched affiliations and their corresponding similarity scores.\n",
        "    \"\"\"\n",
        "    \n",
        "    lnamelist = list(dixOpenAIRE.keys())\n",
        "    dix = {}    # will store indeces and legalnames of organizations of the DOI { i : [legalname1, legalname2,...]}\n",
        "    deiktes = []  # stores indeces where a match is found\n",
        "    vectorizer = CountVectorizer()\n",
        "    similarity_ab = [] # stores lists of similarity scores of the mathces \n",
        "    pairs = [] #  pairs[i] =  [ [s,x,t] ] where (s,x) is a match and t the corresponding similarity score\n",
        "    \n",
        "    for k in range(m):\n",
        "        similar_k = []\n",
        "        pairs_k = []\n",
        "        numMathcings_k =[]\n",
        "\n",
        "\n",
        "        for s in DF['affilSimple'].iloc[k]:\n",
        "            count_s = 0\n",
        "\n",
        "            if s in lnamelist:\n",
        "                deiktes.append(k)\n",
        "                similarity = 1\n",
        "                similar_k.append(similarity)\n",
        "                \n",
        "                pairs_k.append((s,s,similarity))\n",
        "                count_s += 1\n",
        "\n",
        "                if k not in dix:\n",
        "                    dix[k] = [s]\n",
        "                else:\n",
        "                    dix[k].append(s)\n",
        "            else:\n",
        "\n",
        "                for x in lnamelist:\n",
        "                    \n",
        "                    if  is_contained(s, x):\n",
        "                        x_vector = vectorizer.fit_transform([x]).toarray()\n",
        "                        s_vector = vectorizer.transform([s]).toarray()\n",
        "\n",
        "                        # Compute similarity between the vectors\n",
        "                        similarity = cosine_similarity(x_vector, s_vector)[0][0]\n",
        "                        if similarity > min(simU, simG):\n",
        "                            if (is_contained('univ', s) and is_contained('univ', x)) and similarity > simU:\n",
        "                                similar_k.append(similarity)\n",
        "                                deiktes.append(k)\n",
        "                                pairs_k.append((s,x,similarity))\n",
        "                                count_s = count_s+1\n",
        "\n",
        "\n",
        "                                if k not in dix:\n",
        "                                    dix[k] = [x]\n",
        "                                else:\n",
        "                                    dix[k].append(x)\n",
        "                            elif (not is_contained('univ', s) and not is_contained('univ', x)) and similarity > simG:\n",
        "                                similar_k.append(similarity)\n",
        "                                deiktes.append(k)\n",
        "                                pairs_k.append((s,x,similarity))\n",
        "                                count_s += 1\n",
        "\n",
        "\n",
        "                                if k not in dix:\n",
        "                                    dix[k] = [x]\n",
        "                                else:\n",
        "                                    dix[k].append(x)\n",
        "                    elif is_contained(x, s):\n",
        "                        if (is_contained('univ', s) and is_contained('univ', x)):\n",
        "\n",
        "                            if 'and' in s:\n",
        "                                list_s = s.split(' and ')\n",
        "                                for t in list_s:\n",
        "                                    if is_contained(x, t) and is_contained('univ', t):\n",
        "                                        t_vector = vectorizer.fit_transform([t]).toarray()\n",
        "                                        x_vector = vectorizer.transform([x]).toarray()\n",
        "\n",
        "                            # Compute similarity between the vectors\n",
        "                                        similarity = cosine_similarity(t_vector, x_vector)[0][0]\n",
        "                                        if similarity > simU:\n",
        "                                            similar_k.append(similarity)\n",
        "                                            deiktes.append(k)\n",
        "                                            pairs_k.append((s,x,similarity))\n",
        "                                            count_s += 1\n",
        "\n",
        "\n",
        "\n",
        "                                            if k not in dix:\n",
        "                                                dix[k] = [x]\n",
        "                                            else:\n",
        "                                                dix[k].append(x)\n",
        "                            \n",
        "                            else: \n",
        "                                s_vector = vectorizer.fit_transform([s]).toarray()\n",
        "                                x_vector = vectorizer.transform([x]).toarray()\n",
        "\n",
        "                                # Compute similarity between the vectors\n",
        "                                similarity = cosine_similarity(s_vector, x_vector)[0][0]\n",
        "                                if similarity > 0.81: #max(0.82,sim):\n",
        "                                    similar_k.append(similarity)\n",
        "                                    deiktes.append(k)\n",
        "                                    pairs_k.append((s,x,similarity))\n",
        "                                    count_s += 1 \n",
        "\n",
        "\n",
        "\n",
        "                                    if k not in dix:\n",
        "                                        dix[k] = [x]\n",
        "                                    else:\n",
        "                                        dix[k].append(x)\n",
        "                        elif not is_contained('univ', s) and not is_contained('univ', x):\n",
        "                            if 'and' in s:\n",
        "                                list_s = s.split(' and ')\n",
        "                                for t in list_s:\n",
        "                                    if is_contained(x, t):\n",
        "                                        t_vector = vectorizer.fit_transform([t]).toarray()\n",
        "                                        x_vector = vectorizer.transform([x]).toarray()\n",
        "\n",
        "                            # Compute similarity between the vectors\n",
        "                                        similarity = cosine_similarity(t_vector, x_vector)[0][0]\n",
        "                                        if similarity > simG:\n",
        "                                            similar_k.append(similarity)\n",
        "                                            deiktes.append(k)\n",
        "                                            pairs_k.append((s,x,similarity))\n",
        "                                            count_s +=1\n",
        "\n",
        "\n",
        "\n",
        "                                            if k not in dix:\n",
        "                                                dix[k] = [x]\n",
        "                                            else:\n",
        "                                                dix[k].append(x)\n",
        "                            \n",
        "                            else: \n",
        "                                s_vector = vectorizer.fit_transform([s]).toarray()\n",
        "                                x_vector = vectorizer.transform([x]).toarray()\n",
        "\n",
        "                                # Compute similarity between the vectors\n",
        "                                similarity = cosine_similarity(s_vector, x_vector)[0][0]\n",
        "                                if similarity > simG: #max(0.82,sim):\n",
        "                                    similar_k.append(similarity)\n",
        "                                    deiktes.append(k)\n",
        "                                    pairs_k.append((s,x,similarity))\n",
        "                                    count_s +=1\n",
        "\n",
        "                                    if k not in dix:\n",
        "                                        dix[k] = [x]\n",
        "                                    else:\n",
        "                                        dix[k].append(x)\n",
        "                            \n",
        "        similarity_ab.append(similar_k)   \n",
        "        similarity_ab = [lst for lst in similarity_ab if lst != []]\n",
        "        pairs.append(pairs_k)\n",
        "        \n",
        "    perc = 100*len(dix)/m\n",
        "    \n",
        "    dixDoiAff = {DF['DOI'].iloc[key]: value for key, value in dix.items()} # dictionary {DOI : legalnames} \n",
        "    \n",
        "    #dixDoiPid1 = {key : [dixOpenAIRE[x] for x in value if x in  lnamelist] for key , value in dixDoiAff.items()}\n",
        "    \n",
        "   # dixDoiPid = {key : [dixOpenAIRE[x] for x in value] for key , value in dixDoiAff.items()} # dictionary {DOI : PIDs} \n",
        "    \n",
        "    \n",
        "    \n",
        "## Define the new Dataframe\n",
        "    \n",
        "    doiIdDF = pd.DataFrame()\n",
        "    doiIdDF['DOI'] = list(dixDoiAff.keys())\n",
        "    doiIdDF['Affiliations'] = list(DF['affiliations'].iloc[list(set(deiktes))])\n",
        "\n",
        "    doiIdDF['Unique affiliations'] = list(DF['uniqueAff2'].iloc[list(set(deiktes))])\n",
        "    \n",
        "    doiIdDF['# Authors'] = list(DF['# authors'].iloc[list(set(deiktes))])\n",
        "\n",
        "\n",
        "    doiIdDF['# Unique affiliations'] = list(DF['# uniqueAff'].iloc[list(set(deiktes))])\n",
        "\n",
        "    doiIdDF['Candidates for matching'] = list(DF['affilSimple'].iloc[list(set(deiktes))])\n",
        "\n",
        "    doiIdDF['Matched openAIRE names'] = list(dix.values())\n",
        "    doiIdDF['# Matched orgs'] = [len(list(dix.values())[i]) for i in range(len(list(dix.values())))]\n",
        "    \n",
        "\n",
        "    doiIdDF['Similarity score'] = similarity_ab\n",
        "    perfectSim = [[1 if num >= 1 else 0 for num in inner_list] for inner_list in similarity_ab]\n",
        "\n",
        "    doiIdDF['Perfect match'] = perfectSim\n",
        "    perfectSimSum = [sum(x) for x in perfectSim]\n",
        "    doiIdDF['Perfect sum'] = perfectSimSum\n",
        "    Pairs = [lst for lst in pairs if lst]\n",
        "    doiIdDF['Pairs'] = Pairs\n",
        "    \n",
        "\n",
        "\n",
        "## Correct the matchings\n",
        "    \n",
        "    needCheck = [i for i  in range(len(doiIdDF)) if doiIdDF['# Matched orgs'].iloc[i] - max(doiIdDF['# Authors'].iloc[i],doiIdDF['# Unique affiliations'].iloc[i]) >0 or    i in index_multipleMatchings(doiIdDF)]\n",
        "\n",
        "    ready = [i for i in range(len(doiIdDF)) if i not in needCheck]\n",
        "   \n",
        "    best = [ bestSimScore(doiIdDF['Unique affiliations'].iloc[i], doiIdDF['Matched openAIRE names'].iloc[i], doiIdDF['Pairs'].iloc[i]) for i in needCheck]\n",
        "    best_o = []\n",
        "    best_s = []\n",
        "    \n",
        "    for x in best:\n",
        "        best_o.append([x[i][0]  for i in range(len(x))])\n",
        "        best_s.append([round(x[i][1],2)  for i in range(len(x))])\n",
        "    numMathced = [len(best_s[i]) for i in range(len(needCheck))]\n",
        "    \n",
        "\n",
        "    \n",
        "    dfFinal0 = (doiIdDF.iloc[ready]).copy()\n",
        "    dfFinal0['index'] = ready\n",
        "    \n",
        "    dfFinal1 = (doiIdDF.iloc[needCheck]).copy()\n",
        "    dfFinal1['index'] = needCheck\n",
        "    dfFinal1['Matched openAIRE names'] = best_o\n",
        "    dfFinal1['Similarity score'] = best_s\n",
        "    dfFinal1['# Matched orgs'] = numMathced\n",
        "    \n",
        "    finalDF =  pd.concat([dfFinal0, dfFinal1])\n",
        "    finalDF.set_index('index', inplace=True)\n",
        "    finalDF.sort_values('index', ascending=True, inplace = True)\n",
        "    \n",
        "    ids = [[dixOpenAIRE[x] for x in v] for v in finalDF['Matched openAIRE names']]\n",
        "    numIds = [len(x) for x in ids]\n",
        "\n",
        "    finalDF['IDs'] = ids\n",
        "    finalDF['# IDs'] = numIds\n",
        "# Assuming you want to remove rows where the 'column_name' meets a specific condition\n",
        "    finalDF = finalDF[~(finalDF['# Matched orgs'] == 0)]\n",
        "    finalDF = finalDF.reset_index(drop=True)\n",
        "\n",
        "\n",
        "    \n",
        "    \n",
        "    return [perc, finalDF, doiIdDF]\n",
        "    \n"
      ]
    },
    {
      "cell_type": "code",
      "execution_count": 293,
      "metadata": {},
      "outputs": [],
      "source": [
        "result = Doi_Ids(len(univLabsDF), univLabsDF, dixOpenOrgId1, 0.7,0.82)"
      ]
    },
    {
      "attachments": {},
      "cell_type": "markdown",
      "metadata": {},
      "source": [
        "# HTML"
      ]
    },
    {
      "cell_type": "code",
      "execution_count": 294,
      "metadata": {},
      "outputs": [],
      "source": [
        "mydf = result[1]\n",
        "myDF = mydf[[\"DOI\", \"Unique affiliations\",'# Authors','# Unique affiliations', '# Matched orgs','Candidates for matching', 'Matched openAIRE names', 'Similarity score']]\n"
      ]
    },
    {
      "cell_type": "code",
      "execution_count": 295,
      "metadata": {},
      "outputs": [],
      "source": [
        "def update_Z(row):\n",
        "    new_Z = []\n",
        "    for i in range(len(row['IDs'])):\n",
        "        entry = {'openaireId': row['IDs'][i], 'confidence': row['Similarity score'][i]}\n",
        "        new_Z.append(entry)\n",
        "    return new_Z\n",
        "\n",
        "# Update the values in column 'Z' using 'apply'\n",
        "mydf['affiliations'] = mydf.apply(update_Z, axis=1)\n"
      ]
    },
    {
      "cell_type": "code",
      "execution_count": 296,
      "metadata": {},
      "outputs": [],
      "source": [
        "myDF_output = mydf[['DOI','affiliations']]\n",
        "myDF_output = myDF_output.rename(columns={'DOI': 'doi'}).copy()\n",
        "\n"
      ]
    },
    {
      "cell_type": "code",
      "execution_count": 297,
      "metadata": {},
      "outputs": [
        {
          "data": {
            "text/plain": [
              "613"
            ]
          },
          "execution_count": 297,
          "metadata": {},
          "output_type": "execute_result"
        }
      ],
      "source": [
        "len(mydf)"
      ]
    },
    {
      "cell_type": "code",
      "execution_count": 298,
      "metadata": {},
      "outputs": [
        {
          "data": {
            "text/markdown": [
              "App saved to ./test.html"
            ],
            "text/plain": [
              "<IPython.core.display.Markdown object>"
            ]
          },
          "metadata": {},
          "output_type": "display_data"
        }
      ],
      "source": [
        "app = dp.App(dp.Page(title=\"Matchings [explained]\", blocks= [dp.Text('Matched '+str(result[0])+'%'), dp.Text('DOIs with aff. in Univ/Inst, Laboratories'), dp.Table(myDF)]\n",
        "             ), \n",
        "           #  dp.Page(title=\"Final matchings\", blocks= [dp.Text('Matched '+str(result[0])+'%'), dp.Text('DOIs with aff. in Univ/Inst, Laboratories'), dp.Table(myDF_output)]\n",
        "             #)\n",
        "             )\n",
        "    \n",
        "\n",
        "\n",
        "   \n",
        "app.save(path=\"test.html\", open=True)"
      ]
    },
    {
      "attachments": {},
      "cell_type": "markdown",
      "metadata": {},
      "source": [
        "# JSON"
      ]
    },
    {
      "cell_type": "code",
      "execution_count": 299,
      "metadata": {},
      "outputs": [],
      "source": [
        "json0 = myDF_output.to_json(orient='records')\n",
        "\n",
        "# Save the JSON to a file\n",
        "with open('json0.json', 'w') as f:\n",
        "    f.write(json0)"
      ]
    }
  ],
  "metadata": {
    "kernelspec": {
      "display_name": "base",
      "language": "python",
      "name": "python3"
    },
    "language_info": {
      "codemirror_mode": {
        "name": "ipython",
        "version": 3
      },
      "file_extension": ".py",
      "mimetype": "text/x-python",
      "name": "python",
      "nbconvert_exporter": "python",
      "pygments_lexer": "ipython3",
      "version": "3.9.13"
    },
    "name": "beginners_kit_zeppelin_notebook"
  },
  "nbformat": 4,
  "nbformat_minor": 2
}
