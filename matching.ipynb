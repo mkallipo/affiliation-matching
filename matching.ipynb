{
  "cells": [
    {
      "attachments": {},
      "cell_type": "markdown",
      "metadata": {},
      "source": [
        "# Import packages"
      ]
    },
    {
      "cell_type": "code",
      "execution_count": 1,
      "metadata": {},
      "outputs": [],
      "source": [
        "import pandas as pd"
      ]
    },
    {
      "cell_type": "code",
      "execution_count": 2,
      "metadata": {},
      "outputs": [
        {
          "data": {
            "text/html": [
              "        <script type=\"text/javascript\">\n",
              "        window.PlotlyConfig = {MathJaxConfig: 'local'};\n",
              "        if (window.MathJax && window.MathJax.Hub && window.MathJax.Hub.Config) {window.MathJax.Hub.Config({SVG: {font: \"STIX-Web\"}});}\n",
              "        if (typeof require !== 'undefined') {\n",
              "        require.undef(\"plotly\");\n",
              "        requirejs.config({\n",
              "            paths: {\n",
              "                'plotly': ['https://cdn.plot.ly/plotly-2.14.0.min']\n",
              "            }\n",
              "        });\n",
              "        require(['plotly'], function(Plotly) {\n",
              "            window._Plotly = Plotly;\n",
              "        });\n",
              "        }\n",
              "        </script>\n",
              "        "
            ]
          },
          "metadata": {},
          "output_type": "display_data"
        }
      ],
      "source": [
        "import plotly\n",
        "import plotly.express as px\n",
        "\n",
        "import datapane as dp\n",
        "plotly.offline.init_notebook_mode(connected=True)"
      ]
    },
    {
      "cell_type": "code",
      "execution_count": 3,
      "metadata": {},
      "outputs": [],
      "source": [
        "import re\n",
        "import pickle\n",
        "\n",
        "\n",
        "from sklearn.feature_extraction.text import CountVectorizer\n",
        "from sklearn.metrics.pairwise import cosine_similarity"
      ]
    },
    {
      "attachments": {},
      "cell_type": "markdown",
      "metadata": {},
      "source": [
        "# Upload json files"
      ]
    },
    {
      "cell_type": "code",
      "execution_count": 4,
      "metadata": {},
      "outputs": [],
      "source": [
        "#files= ['0.json', '1.json', '2.json', '3.json', '4.json','42.json', '15693.json']\n",
        "files = ['0.json','42.json']\n",
        "# create an empty list to store the DataFrames\n",
        "dfsList = [pd.read_json(file, orient='records') for file in files]\n",
        "\n",
        "# combine all DataFrames into a single DataFrame\n",
        "crossrefDF = pd.concat(dfsList, ignore_index=True)\n"
      ]
    },
    {
      "cell_type": "code",
      "execution_count": 5,
      "metadata": {},
      "outputs": [
        {
          "data": {
            "text/html": [
              "<div>\n",
              "<style scoped>\n",
              "    .dataframe tbody tr th:only-of-type {\n",
              "        vertical-align: middle;\n",
              "    }\n",
              "\n",
              "    .dataframe tbody tr th {\n",
              "        vertical-align: top;\n",
              "    }\n",
              "\n",
              "    .dataframe thead th {\n",
              "        text-align: right;\n",
              "    }\n",
              "</style>\n",
              "<table border=\"1\" class=\"dataframe\">\n",
              "  <thead>\n",
              "    <tr style=\"text-align: right;\">\n",
              "      <th></th>\n",
              "      <th>items</th>\n",
              "    </tr>\n",
              "  </thead>\n",
              "  <tbody>\n",
              "    <tr>\n",
              "      <th>0</th>\n",
              "      <td>{'URL': 'http://dx.doi.org/10.1021/ac020069k',...</td>\n",
              "    </tr>\n",
              "    <tr>\n",
              "      <th>1</th>\n",
              "      <td>{'URL': 'http://dx.doi.org/10.1103/physrevc.65...</td>\n",
              "    </tr>\n",
              "    <tr>\n",
              "      <th>2</th>\n",
              "      <td>{'abstract': '&lt;jats:p&gt;\n",
              "            &lt;jats:bold&gt;...</td>\n",
              "    </tr>\n",
              "    <tr>\n",
              "      <th>3</th>\n",
              "      <td>{'URL': 'http://dx.doi.org/10.1093/jjco/hyf035...</td>\n",
              "    </tr>\n",
              "    <tr>\n",
              "      <th>4</th>\n",
              "      <td>{'abstract': '&lt;jats:p&gt;The integration of the I...</td>\n",
              "    </tr>\n",
              "    <tr>\n",
              "      <th>...</th>\n",
              "      <td>...</td>\n",
              "    </tr>\n",
              "    <tr>\n",
              "      <th>9995</th>\n",
              "      <td>{'URL': 'http://dx.doi.org/10.1016/j.phytol.20...</td>\n",
              "    </tr>\n",
              "    <tr>\n",
              "      <th>9996</th>\n",
              "      <td>{'URL': 'http://dx.doi.org/10.1016/j.spl.2022....</td>\n",
              "    </tr>\n",
              "    <tr>\n",
              "      <th>9997</th>\n",
              "      <td>{'URL': 'http://dx.doi.org/10.1016/j.amjoto.20...</td>\n",
              "    </tr>\n",
              "    <tr>\n",
              "      <th>9998</th>\n",
              "      <td>{'URL': 'http://dx.doi.org/10.1016/j.apenergy....</td>\n",
              "    </tr>\n",
              "    <tr>\n",
              "      <th>9999</th>\n",
              "      <td>{'URL': 'http://dx.doi.org/10.1016/j.jcis.2022...</td>\n",
              "    </tr>\n",
              "  </tbody>\n",
              "</table>\n",
              "<p>10000 rows × 1 columns</p>\n",
              "</div>"
            ],
            "text/plain": [
              "                                                  items\n",
              "0     {'URL': 'http://dx.doi.org/10.1021/ac020069k',...\n",
              "1     {'URL': 'http://dx.doi.org/10.1103/physrevc.65...\n",
              "2     {'abstract': '<jats:p>\n",
              "            <jats:bold>...\n",
              "3     {'URL': 'http://dx.doi.org/10.1093/jjco/hyf035...\n",
              "4     {'abstract': '<jats:p>The integration of the I...\n",
              "...                                                 ...\n",
              "9995  {'URL': 'http://dx.doi.org/10.1016/j.phytol.20...\n",
              "9996  {'URL': 'http://dx.doi.org/10.1016/j.spl.2022....\n",
              "9997  {'URL': 'http://dx.doi.org/10.1016/j.amjoto.20...\n",
              "9998  {'URL': 'http://dx.doi.org/10.1016/j.apenergy....\n",
              "9999  {'URL': 'http://dx.doi.org/10.1016/j.jcis.2022...\n",
              "\n",
              "[10000 rows x 1 columns]"
            ]
          },
          "execution_count": 5,
          "metadata": {},
          "output_type": "execute_result"
        }
      ],
      "source": [
        "crossrefDF"
      ]
    },
    {
      "cell_type": "code",
      "execution_count": 6,
      "metadata": {},
      "outputs": [],
      "source": [
        "noAuthors = [i for i in range(len(crossrefDF)) if 'author' not in crossrefDF['items'][i]]\n",
        "\n",
        "Authors = [i for i in range(len(crossrefDF)) if 'author'  in crossrefDF['items'][i]]"
      ]
    },
    {
      "cell_type": "code",
      "execution_count": 7,
      "metadata": {},
      "outputs": [
        {
          "data": {
            "text/plain": [
              "True"
            ]
          },
          "execution_count": 7,
          "metadata": {},
          "output_type": "execute_result"
        }
      ],
      "source": [
        "len(noAuthors) + len(Authors) == len(crossrefDF)"
      ]
    },
    {
      "attachments": {},
      "cell_type": "markdown",
      "metadata": {},
      "source": [
        "## Rows with authors"
      ]
    },
    {
      "cell_type": "code",
      "execution_count": 8,
      "metadata": {},
      "outputs": [],
      "source": [
        "crossrefAuth = crossrefDF.iloc[Authors].copy()\n",
        "\n",
        "crossrefAuth.reset_index(inplace= True)\n",
        "crossrefAuth.drop(columns = ['index'], inplace = True)\n"
      ]
    },
    {
      "cell_type": "code",
      "execution_count": 9,
      "metadata": {},
      "outputs": [
        {
          "data": {
            "text/html": [
              "<div>\n",
              "<style scoped>\n",
              "    .dataframe tbody tr th:only-of-type {\n",
              "        vertical-align: middle;\n",
              "    }\n",
              "\n",
              "    .dataframe tbody tr th {\n",
              "        vertical-align: top;\n",
              "    }\n",
              "\n",
              "    .dataframe thead th {\n",
              "        text-align: right;\n",
              "    }\n",
              "</style>\n",
              "<table border=\"1\" class=\"dataframe\">\n",
              "  <thead>\n",
              "    <tr style=\"text-align: right;\">\n",
              "      <th></th>\n",
              "      <th>items</th>\n",
              "    </tr>\n",
              "  </thead>\n",
              "  <tbody>\n",
              "    <tr>\n",
              "      <th>0</th>\n",
              "      <td>{'URL': 'http://dx.doi.org/10.1021/ac020069k',...</td>\n",
              "    </tr>\n",
              "    <tr>\n",
              "      <th>1</th>\n",
              "      <td>{'URL': 'http://dx.doi.org/10.1103/physrevc.65...</td>\n",
              "    </tr>\n",
              "    <tr>\n",
              "      <th>2</th>\n",
              "      <td>{'abstract': '&lt;jats:p&gt;\n",
              "            &lt;jats:bold&gt;...</td>\n",
              "    </tr>\n",
              "    <tr>\n",
              "      <th>3</th>\n",
              "      <td>{'URL': 'http://dx.doi.org/10.1093/jjco/hyf035...</td>\n",
              "    </tr>\n",
              "    <tr>\n",
              "      <th>4</th>\n",
              "      <td>{'abstract': '&lt;jats:p&gt;The integration of the I...</td>\n",
              "    </tr>\n",
              "    <tr>\n",
              "      <th>...</th>\n",
              "      <td>...</td>\n",
              "    </tr>\n",
              "    <tr>\n",
              "      <th>9142</th>\n",
              "      <td>{'URL': 'http://dx.doi.org/10.1016/j.phytol.20...</td>\n",
              "    </tr>\n",
              "    <tr>\n",
              "      <th>9143</th>\n",
              "      <td>{'URL': 'http://dx.doi.org/10.1016/j.spl.2022....</td>\n",
              "    </tr>\n",
              "    <tr>\n",
              "      <th>9144</th>\n",
              "      <td>{'URL': 'http://dx.doi.org/10.1016/j.amjoto.20...</td>\n",
              "    </tr>\n",
              "    <tr>\n",
              "      <th>9145</th>\n",
              "      <td>{'URL': 'http://dx.doi.org/10.1016/j.apenergy....</td>\n",
              "    </tr>\n",
              "    <tr>\n",
              "      <th>9146</th>\n",
              "      <td>{'URL': 'http://dx.doi.org/10.1016/j.jcis.2022...</td>\n",
              "    </tr>\n",
              "  </tbody>\n",
              "</table>\n",
              "<p>9147 rows × 1 columns</p>\n",
              "</div>"
            ],
            "text/plain": [
              "                                                  items\n",
              "0     {'URL': 'http://dx.doi.org/10.1021/ac020069k',...\n",
              "1     {'URL': 'http://dx.doi.org/10.1103/physrevc.65...\n",
              "2     {'abstract': '<jats:p>\n",
              "            <jats:bold>...\n",
              "3     {'URL': 'http://dx.doi.org/10.1093/jjco/hyf035...\n",
              "4     {'abstract': '<jats:p>The integration of the I...\n",
              "...                                                 ...\n",
              "9142  {'URL': 'http://dx.doi.org/10.1016/j.phytol.20...\n",
              "9143  {'URL': 'http://dx.doi.org/10.1016/j.spl.2022....\n",
              "9144  {'URL': 'http://dx.doi.org/10.1016/j.amjoto.20...\n",
              "9145  {'URL': 'http://dx.doi.org/10.1016/j.apenergy....\n",
              "9146  {'URL': 'http://dx.doi.org/10.1016/j.jcis.2022...\n",
              "\n",
              "[9147 rows x 1 columns]"
            ]
          },
          "execution_count": 9,
          "metadata": {},
          "output_type": "execute_result"
        }
      ],
      "source": [
        "crossrefAuth"
      ]
    },
    {
      "attachments": {},
      "cell_type": "markdown",
      "metadata": {},
      "source": [
        "## Extract 'DOI'"
      ]
    },
    {
      "cell_type": "code",
      "execution_count": 10,
      "metadata": {},
      "outputs": [],
      "source": [
        "crossrefAuth.loc[:, 'DOI'] = crossrefAuth['items'].apply(lambda x: x['DOI'])"
      ]
    },
    {
      "cell_type": "code",
      "execution_count": 11,
      "metadata": {},
      "outputs": [
        {
          "data": {
            "text/html": [
              "<div>\n",
              "<style scoped>\n",
              "    .dataframe tbody tr th:only-of-type {\n",
              "        vertical-align: middle;\n",
              "    }\n",
              "\n",
              "    .dataframe tbody tr th {\n",
              "        vertical-align: top;\n",
              "    }\n",
              "\n",
              "    .dataframe thead th {\n",
              "        text-align: right;\n",
              "    }\n",
              "</style>\n",
              "<table border=\"1\" class=\"dataframe\">\n",
              "  <thead>\n",
              "    <tr style=\"text-align: right;\">\n",
              "      <th></th>\n",
              "      <th>items</th>\n",
              "      <th>DOI</th>\n",
              "    </tr>\n",
              "  </thead>\n",
              "  <tbody>\n",
              "    <tr>\n",
              "      <th>0</th>\n",
              "      <td>{'URL': 'http://dx.doi.org/10.1021/ac020069k',...</td>\n",
              "      <td>10.1021/ac020069k</td>\n",
              "    </tr>\n",
              "    <tr>\n",
              "      <th>1</th>\n",
              "      <td>{'URL': 'http://dx.doi.org/10.1103/physrevc.65...</td>\n",
              "      <td>10.1103/physrevc.65.064904</td>\n",
              "    </tr>\n",
              "    <tr>\n",
              "      <th>2</th>\n",
              "      <td>{'abstract': '&lt;jats:p&gt;\n",
              "            &lt;jats:bold&gt;...</td>\n",
              "      <td>10.1161/01.cir.0000013846.72805.7e</td>\n",
              "    </tr>\n",
              "    <tr>\n",
              "      <th>3</th>\n",
              "      <td>{'URL': 'http://dx.doi.org/10.1093/jjco/hyf035...</td>\n",
              "      <td>10.1093/jjco/hyf035</td>\n",
              "    </tr>\n",
              "    <tr>\n",
              "      <th>4</th>\n",
              "      <td>{'abstract': '&lt;jats:p&gt;The integration of the I...</td>\n",
              "      <td>10.1108/14684520010357338</td>\n",
              "    </tr>\n",
              "  </tbody>\n",
              "</table>\n",
              "</div>"
            ],
            "text/plain": [
              "                                               items  \\\n",
              "0  {'URL': 'http://dx.doi.org/10.1021/ac020069k',...   \n",
              "1  {'URL': 'http://dx.doi.org/10.1103/physrevc.65...   \n",
              "2  {'abstract': '<jats:p>\n",
              "            <jats:bold>...   \n",
              "3  {'URL': 'http://dx.doi.org/10.1093/jjco/hyf035...   \n",
              "4  {'abstract': '<jats:p>The integration of the I...   \n",
              "\n",
              "                                  DOI  \n",
              "0                   10.1021/ac020069k  \n",
              "1          10.1103/physrevc.65.064904  \n",
              "2  10.1161/01.cir.0000013846.72805.7e  \n",
              "3                 10.1093/jjco/hyf035  \n",
              "4           10.1108/14684520010357338  "
            ]
          },
          "execution_count": 11,
          "metadata": {},
          "output_type": "execute_result"
        }
      ],
      "source": [
        "crossrefAuth.head()"
      ]
    },
    {
      "attachments": {},
      "cell_type": "markdown",
      "metadata": {},
      "source": [
        "## Extract 'authors' --- number of authors"
      ]
    },
    {
      "cell_type": "code",
      "execution_count": 12,
      "metadata": {},
      "outputs": [],
      "source": [
        "crossrefAuth.loc[:,'authors'] = crossrefAuth['items'].apply(lambda x: x['author'])\n"
      ]
    },
    {
      "cell_type": "code",
      "execution_count": 13,
      "metadata": {},
      "outputs": [
        {
          "data": {
            "text/html": [
              "<div>\n",
              "<style scoped>\n",
              "    .dataframe tbody tr th:only-of-type {\n",
              "        vertical-align: middle;\n",
              "    }\n",
              "\n",
              "    .dataframe tbody tr th {\n",
              "        vertical-align: top;\n",
              "    }\n",
              "\n",
              "    .dataframe thead th {\n",
              "        text-align: right;\n",
              "    }\n",
              "</style>\n",
              "<table border=\"1\" class=\"dataframe\">\n",
              "  <thead>\n",
              "    <tr style=\"text-align: right;\">\n",
              "      <th></th>\n",
              "      <th>items</th>\n",
              "      <th>DOI</th>\n",
              "      <th>authors</th>\n",
              "    </tr>\n",
              "  </thead>\n",
              "  <tbody>\n",
              "    <tr>\n",
              "      <th>0</th>\n",
              "      <td>{'URL': 'http://dx.doi.org/10.1021/ac020069k',...</td>\n",
              "      <td>10.1021/ac020069k</td>\n",
              "      <td>[{'given': 'Gi Hun', 'family': 'Seong', 'seque...</td>\n",
              "    </tr>\n",
              "    <tr>\n",
              "      <th>1</th>\n",
              "      <td>{'URL': 'http://dx.doi.org/10.1103/physrevc.65...</td>\n",
              "      <td>10.1103/physrevc.65.064904</td>\n",
              "      <td>[{'given': 'S. V.', 'family': 'Akkelin', 'sequ...</td>\n",
              "    </tr>\n",
              "    <tr>\n",
              "      <th>2</th>\n",
              "      <td>{'abstract': '&lt;jats:p&gt;\n",
              "            &lt;jats:bold&gt;...</td>\n",
              "      <td>10.1161/01.cir.0000013846.72805.7e</td>\n",
              "      <td>[{'given': 'Dinesh K.', 'family': 'Kalra', 'se...</td>\n",
              "    </tr>\n",
              "    <tr>\n",
              "      <th>3</th>\n",
              "      <td>{'URL': 'http://dx.doi.org/10.1093/jjco/hyf035...</td>\n",
              "      <td>10.1093/jjco/hyf035</td>\n",
              "      <td>[{'given': 'E.', 'family': 'Bakan', 'sequence'...</td>\n",
              "    </tr>\n",
              "    <tr>\n",
              "      <th>4</th>\n",
              "      <td>{'abstract': '&lt;jats:p&gt;The integration of the I...</td>\n",
              "      <td>10.1108/14684520010357338</td>\n",
              "      <td>[{'given': 'Kaba', 'family': 'Abdoulaye', 'seq...</td>\n",
              "    </tr>\n",
              "  </tbody>\n",
              "</table>\n",
              "</div>"
            ],
            "text/plain": [
              "                                               items  \\\n",
              "0  {'URL': 'http://dx.doi.org/10.1021/ac020069k',...   \n",
              "1  {'URL': 'http://dx.doi.org/10.1103/physrevc.65...   \n",
              "2  {'abstract': '<jats:p>\n",
              "            <jats:bold>...   \n",
              "3  {'URL': 'http://dx.doi.org/10.1093/jjco/hyf035...   \n",
              "4  {'abstract': '<jats:p>The integration of the I...   \n",
              "\n",
              "                                  DOI  \\\n",
              "0                   10.1021/ac020069k   \n",
              "1          10.1103/physrevc.65.064904   \n",
              "2  10.1161/01.cir.0000013846.72805.7e   \n",
              "3                 10.1093/jjco/hyf035   \n",
              "4           10.1108/14684520010357338   \n",
              "\n",
              "                                             authors  \n",
              "0  [{'given': 'Gi Hun', 'family': 'Seong', 'seque...  \n",
              "1  [{'given': 'S. V.', 'family': 'Akkelin', 'sequ...  \n",
              "2  [{'given': 'Dinesh K.', 'family': 'Kalra', 'se...  \n",
              "3  [{'given': 'E.', 'family': 'Bakan', 'sequence'...  \n",
              "4  [{'given': 'Kaba', 'family': 'Abdoulaye', 'seq...  "
            ]
          },
          "execution_count": 13,
          "metadata": {},
          "output_type": "execute_result"
        }
      ],
      "source": [
        "crossrefAuth.head()"
      ]
    },
    {
      "cell_type": "code",
      "execution_count": 14,
      "metadata": {},
      "outputs": [],
      "source": [
        "numAuthors = [len(crossrefAuth.iloc[i]['authors']) for i in range(len(crossrefAuth))]"
      ]
    },
    {
      "cell_type": "code",
      "execution_count": 15,
      "metadata": {},
      "outputs": [],
      "source": [
        "## yparxoun lathi  ---> kalytera number of affiliations\n",
        "crossrefAuth.loc[:,'# authors'] = numAuthors"
      ]
    },
    {
      "cell_type": "code",
      "execution_count": 16,
      "metadata": {},
      "outputs": [
        {
          "data": {
            "text/html": [
              "<div>\n",
              "<style scoped>\n",
              "    .dataframe tbody tr th:only-of-type {\n",
              "        vertical-align: middle;\n",
              "    }\n",
              "\n",
              "    .dataframe tbody tr th {\n",
              "        vertical-align: top;\n",
              "    }\n",
              "\n",
              "    .dataframe thead th {\n",
              "        text-align: right;\n",
              "    }\n",
              "</style>\n",
              "<table border=\"1\" class=\"dataframe\">\n",
              "  <thead>\n",
              "    <tr style=\"text-align: right;\">\n",
              "      <th></th>\n",
              "      <th>items</th>\n",
              "      <th>DOI</th>\n",
              "      <th>authors</th>\n",
              "      <th># authors</th>\n",
              "    </tr>\n",
              "  </thead>\n",
              "  <tbody>\n",
              "    <tr>\n",
              "      <th>0</th>\n",
              "      <td>{'URL': 'http://dx.doi.org/10.1021/ac020069k',...</td>\n",
              "      <td>10.1021/ac020069k</td>\n",
              "      <td>[{'given': 'Gi Hun', 'family': 'Seong', 'seque...</td>\n",
              "      <td>3</td>\n",
              "    </tr>\n",
              "    <tr>\n",
              "      <th>1</th>\n",
              "      <td>{'URL': 'http://dx.doi.org/10.1103/physrevc.65...</td>\n",
              "      <td>10.1103/physrevc.65.064904</td>\n",
              "      <td>[{'given': 'S. V.', 'family': 'Akkelin', 'sequ...</td>\n",
              "      <td>3</td>\n",
              "    </tr>\n",
              "    <tr>\n",
              "      <th>2</th>\n",
              "      <td>{'abstract': '&lt;jats:p&gt;\n",
              "            &lt;jats:bold&gt;...</td>\n",
              "      <td>10.1161/01.cir.0000013846.72805.7e</td>\n",
              "      <td>[{'given': 'Dinesh K.', 'family': 'Kalra', 'se...</td>\n",
              "      <td>10</td>\n",
              "    </tr>\n",
              "    <tr>\n",
              "      <th>3</th>\n",
              "      <td>{'URL': 'http://dx.doi.org/10.1093/jjco/hyf035...</td>\n",
              "      <td>10.1093/jjco/hyf035</td>\n",
              "      <td>[{'given': 'E.', 'family': 'Bakan', 'sequence'...</td>\n",
              "      <td>1</td>\n",
              "    </tr>\n",
              "    <tr>\n",
              "      <th>4</th>\n",
              "      <td>{'abstract': '&lt;jats:p&gt;The integration of the I...</td>\n",
              "      <td>10.1108/14684520010357338</td>\n",
              "      <td>[{'given': 'Kaba', 'family': 'Abdoulaye', 'seq...</td>\n",
              "      <td>2</td>\n",
              "    </tr>\n",
              "  </tbody>\n",
              "</table>\n",
              "</div>"
            ],
            "text/plain": [
              "                                               items  \\\n",
              "0  {'URL': 'http://dx.doi.org/10.1021/ac020069k',...   \n",
              "1  {'URL': 'http://dx.doi.org/10.1103/physrevc.65...   \n",
              "2  {'abstract': '<jats:p>\n",
              "            <jats:bold>...   \n",
              "3  {'URL': 'http://dx.doi.org/10.1093/jjco/hyf035...   \n",
              "4  {'abstract': '<jats:p>The integration of the I...   \n",
              "\n",
              "                                  DOI  \\\n",
              "0                   10.1021/ac020069k   \n",
              "1          10.1103/physrevc.65.064904   \n",
              "2  10.1161/01.cir.0000013846.72805.7e   \n",
              "3                 10.1093/jjco/hyf035   \n",
              "4           10.1108/14684520010357338   \n",
              "\n",
              "                                             authors  # authors  \n",
              "0  [{'given': 'Gi Hun', 'family': 'Seong', 'seque...          3  \n",
              "1  [{'given': 'S. V.', 'family': 'Akkelin', 'sequ...          3  \n",
              "2  [{'given': 'Dinesh K.', 'family': 'Kalra', 'se...         10  \n",
              "3  [{'given': 'E.', 'family': 'Bakan', 'sequence'...          1  \n",
              "4  [{'given': 'Kaba', 'family': 'Abdoulaye', 'seq...          2  "
            ]
          },
          "execution_count": 16,
          "metadata": {},
          "output_type": "execute_result"
        }
      ],
      "source": [
        "crossrefAuth.head()"
      ]
    },
    {
      "attachments": {},
      "cell_type": "markdown",
      "metadata": {},
      "source": [
        "## Extract 'affiliations' --- number of affiliations"
      ]
    },
    {
      "cell_type": "code",
      "execution_count": 17,
      "metadata": {},
      "outputs": [],
      "source": [
        "def getAff(k):\n",
        "   return [crossrefAuth['authors'][k][j]['affiliation'] for j in range(len(crossrefAuth['authors'][k]))]\n",
        "    "
      ]
    },
    {
      "cell_type": "code",
      "execution_count": 18,
      "metadata": {},
      "outputs": [],
      "source": [
        "Affiliations = [getAff(k) for k in range(len(crossrefAuth))]\n",
        "\n",
        "crossrefAuth.loc[:,'affiliations'] = Affiliations"
      ]
    },
    {
      "cell_type": "code",
      "execution_count": 19,
      "metadata": {},
      "outputs": [],
      "source": [
        "numAffil = [len(Affiliations[i]) for i in range(len(crossrefAuth))]"
      ]
    },
    {
      "cell_type": "code",
      "execution_count": 20,
      "metadata": {},
      "outputs": [],
      "source": [
        "crossrefAuth.loc[:,'# Affil'] = numAffil"
      ]
    },
    {
      "cell_type": "code",
      "execution_count": 21,
      "metadata": {},
      "outputs": [
        {
          "data": {
            "text/html": [
              "<div>\n",
              "<style scoped>\n",
              "    .dataframe tbody tr th:only-of-type {\n",
              "        vertical-align: middle;\n",
              "    }\n",
              "\n",
              "    .dataframe tbody tr th {\n",
              "        vertical-align: top;\n",
              "    }\n",
              "\n",
              "    .dataframe thead th {\n",
              "        text-align: right;\n",
              "    }\n",
              "</style>\n",
              "<table border=\"1\" class=\"dataframe\">\n",
              "  <thead>\n",
              "    <tr style=\"text-align: right;\">\n",
              "      <th></th>\n",
              "      <th>items</th>\n",
              "      <th>DOI</th>\n",
              "      <th>authors</th>\n",
              "      <th># authors</th>\n",
              "      <th>affiliations</th>\n",
              "      <th># Affil</th>\n",
              "    </tr>\n",
              "  </thead>\n",
              "  <tbody>\n",
              "    <tr>\n",
              "      <th>0</th>\n",
              "      <td>{'URL': 'http://dx.doi.org/10.1021/ac020069k',...</td>\n",
              "      <td>10.1021/ac020069k</td>\n",
              "      <td>[{'given': 'Gi Hun', 'family': 'Seong', 'seque...</td>\n",
              "      <td>3</td>\n",
              "      <td>[[{'name': 'Department of Chemistry, Texas A&amp;M...</td>\n",
              "      <td>3</td>\n",
              "    </tr>\n",
              "    <tr>\n",
              "      <th>1</th>\n",
              "      <td>{'URL': 'http://dx.doi.org/10.1103/physrevc.65...</td>\n",
              "      <td>10.1103/physrevc.65.064904</td>\n",
              "      <td>[{'given': 'S. V.', 'family': 'Akkelin', 'sequ...</td>\n",
              "      <td>3</td>\n",
              "      <td>[[], [], []]</td>\n",
              "      <td>3</td>\n",
              "    </tr>\n",
              "    <tr>\n",
              "      <th>2</th>\n",
              "      <td>{'abstract': '&lt;jats:p&gt;\n",
              "            &lt;jats:bold&gt;...</td>\n",
              "      <td>10.1161/01.cir.0000013846.72805.7e</td>\n",
              "      <td>[{'given': 'Dinesh K.', 'family': 'Kalra', 'se...</td>\n",
              "      <td>10</td>\n",
              "      <td>[[{'name': 'From the Section of Cardiology (D....</td>\n",
              "      <td>10</td>\n",
              "    </tr>\n",
              "    <tr>\n",
              "      <th>3</th>\n",
              "      <td>{'URL': 'http://dx.doi.org/10.1093/jjco/hyf035...</td>\n",
              "      <td>10.1093/jjco/hyf035</td>\n",
              "      <td>[{'given': 'E.', 'family': 'Bakan', 'sequence'...</td>\n",
              "      <td>1</td>\n",
              "      <td>[[]]</td>\n",
              "      <td>1</td>\n",
              "    </tr>\n",
              "    <tr>\n",
              "      <th>4</th>\n",
              "      <td>{'abstract': '&lt;jats:p&gt;The integration of the I...</td>\n",
              "      <td>10.1108/14684520010357338</td>\n",
              "      <td>[{'given': 'Kaba', 'family': 'Abdoulaye', 'seq...</td>\n",
              "      <td>2</td>\n",
              "      <td>[[], []]</td>\n",
              "      <td>2</td>\n",
              "    </tr>\n",
              "  </tbody>\n",
              "</table>\n",
              "</div>"
            ],
            "text/plain": [
              "                                               items  \\\n",
              "0  {'URL': 'http://dx.doi.org/10.1021/ac020069k',...   \n",
              "1  {'URL': 'http://dx.doi.org/10.1103/physrevc.65...   \n",
              "2  {'abstract': '<jats:p>\n",
              "            <jats:bold>...   \n",
              "3  {'URL': 'http://dx.doi.org/10.1093/jjco/hyf035...   \n",
              "4  {'abstract': '<jats:p>The integration of the I...   \n",
              "\n",
              "                                  DOI  \\\n",
              "0                   10.1021/ac020069k   \n",
              "1          10.1103/physrevc.65.064904   \n",
              "2  10.1161/01.cir.0000013846.72805.7e   \n",
              "3                 10.1093/jjco/hyf035   \n",
              "4           10.1108/14684520010357338   \n",
              "\n",
              "                                             authors  # authors  \\\n",
              "0  [{'given': 'Gi Hun', 'family': 'Seong', 'seque...          3   \n",
              "1  [{'given': 'S. V.', 'family': 'Akkelin', 'sequ...          3   \n",
              "2  [{'given': 'Dinesh K.', 'family': 'Kalra', 'se...         10   \n",
              "3  [{'given': 'E.', 'family': 'Bakan', 'sequence'...          1   \n",
              "4  [{'given': 'Kaba', 'family': 'Abdoulaye', 'seq...          2   \n",
              "\n",
              "                                        affiliations  # Affil  \n",
              "0  [[{'name': 'Department of Chemistry, Texas A&M...        3  \n",
              "1                                       [[], [], []]        3  \n",
              "2  [[{'name': 'From the Section of Cardiology (D....       10  \n",
              "3                                               [[]]        1  \n",
              "4                                           [[], []]        2  "
            ]
          },
          "execution_count": 21,
          "metadata": {},
          "output_type": "execute_result"
        }
      ],
      "source": [
        "crossrefAuth.head()"
      ]
    },
    {
      "attachments": {},
      "cell_type": "markdown",
      "metadata": {},
      "source": [
        "## Clean 'empty' affiliations"
      ]
    },
    {
      "cell_type": "code",
      "execution_count": 22,
      "metadata": {},
      "outputs": [],
      "source": [
        "possibleEmptyAff = []\n",
        "\n",
        "for k in range(len(crossrefAuth)):\n",
        "    if len(crossrefAuth['affiliations'][k][0]) == 0:\n",
        "        possibleEmptyAff.append(k)"
      ]
    },
    {
      "cell_type": "code",
      "execution_count": 23,
      "metadata": {},
      "outputs": [
        {
          "data": {
            "text/plain": [
              "6686"
            ]
          },
          "execution_count": 23,
          "metadata": {},
          "output_type": "execute_result"
        }
      ],
      "source": [
        "len(possibleEmptyAff)"
      ]
    },
    {
      "cell_type": "code",
      "execution_count": 24,
      "metadata": {},
      "outputs": [
        {
          "data": {
            "text/plain": [
              "[[],\n",
              " [],\n",
              " [],\n",
              " [],\n",
              " [{'name': 'Department of Organic and Polymeric Materials, Tokyo Institute of Technology, 2-12-1, Ohokayama, Meguro-ku, Tokyo 152-8552, Japan'}]]"
            ]
          },
          "execution_count": 24,
          "metadata": {},
          "output_type": "execute_result"
        }
      ],
      "source": [
        "crossrefAuth['affiliations'].iloc[2611]"
      ]
    },
    {
      "cell_type": "code",
      "execution_count": 25,
      "metadata": {},
      "outputs": [],
      "source": [
        "nonEmptyAff = []\n",
        "\n",
        "for k in possibleEmptyAff:\n",
        "    for j in range(len(crossrefAuth['affiliations'].iloc[k])):\n",
        "        if len(crossrefAuth['affiliations'].iloc[k][j]) != 0:\n",
        "            nonEmptyAff.append(k)\n",
        "    \n",
        "    "
      ]
    },
    {
      "cell_type": "code",
      "execution_count": 26,
      "metadata": {},
      "outputs": [],
      "source": [
        "\n",
        "FinalEmptyyAff=  [x for x in possibleEmptyAff if x not in nonEmptyAff] "
      ]
    },
    {
      "cell_type": "code",
      "execution_count": 27,
      "metadata": {},
      "outputs": [],
      "source": [
        "FinalNonEmptyAff = [x for x in range(len(crossrefAuth)) if x not in FinalEmptyyAff]"
      ]
    },
    {
      "attachments": {},
      "cell_type": "markdown",
      "metadata": {},
      "source": [
        "# affilDF: crossrefAuth subdataframe with nonpempty affiliation lists"
      ]
    },
    {
      "cell_type": "code",
      "execution_count": 28,
      "metadata": {},
      "outputs": [],
      "source": [
        "affilDF = crossrefAuth.iloc[FinalNonEmptyAff].copy()\n",
        "affilDF.reset_index(inplace = True)\n",
        "affilDF.drop(columns = ['index'], inplace = True)"
      ]
    },
    {
      "attachments": {},
      "cell_type": "markdown",
      "metadata": {},
      "source": [
        "## (still some cleaning: cases with empty brackets [{}])"
      ]
    },
    {
      "cell_type": "code",
      "execution_count": 29,
      "metadata": {},
      "outputs": [
        {
          "data": {
            "text/html": [
              "<div>\n",
              "<style scoped>\n",
              "    .dataframe tbody tr th:only-of-type {\n",
              "        vertical-align: middle;\n",
              "    }\n",
              "\n",
              "    .dataframe tbody tr th {\n",
              "        vertical-align: top;\n",
              "    }\n",
              "\n",
              "    .dataframe thead th {\n",
              "        text-align: right;\n",
              "    }\n",
              "</style>\n",
              "<table border=\"1\" class=\"dataframe\">\n",
              "  <thead>\n",
              "    <tr style=\"text-align: right;\">\n",
              "      <th></th>\n",
              "      <th>items</th>\n",
              "      <th>DOI</th>\n",
              "      <th>authors</th>\n",
              "      <th># authors</th>\n",
              "      <th>affiliations</th>\n",
              "      <th># Affil</th>\n",
              "    </tr>\n",
              "  </thead>\n",
              "  <tbody>\n",
              "    <tr>\n",
              "      <th>1991</th>\n",
              "      <td>{'URL': 'http://dx.doi.org/10.48130/emst-2022-...</td>\n",
              "      <td>10.48130/emst-2022-0020</td>\n",
              "      <td>[{'given': 'Xiangyu (Dale)', 'family': 'Li', '...</td>\n",
              "      <td>4</td>\n",
              "      <td>[[{}], [], [], []]</td>\n",
              "      <td>4</td>\n",
              "    </tr>\n",
              "  </tbody>\n",
              "</table>\n",
              "</div>"
            ],
            "text/plain": [
              "                                                  items  \\\n",
              "1991  {'URL': 'http://dx.doi.org/10.48130/emst-2022-...   \n",
              "\n",
              "                          DOI  \\\n",
              "1991  10.48130/emst-2022-0020   \n",
              "\n",
              "                                                authors  # authors  \\\n",
              "1991  [{'given': 'Xiangyu (Dale)', 'family': 'Li', '...          4   \n",
              "\n",
              "            affiliations  # Affil  \n",
              "1991  [[{}], [], [], []]        4  "
            ]
          },
          "execution_count": 29,
          "metadata": {},
          "output_type": "execute_result"
        }
      ],
      "source": [
        "affilDF[affilDF['DOI'] == '10.48130/emst-2022-0020']"
      ]
    },
    {
      "cell_type": "code",
      "execution_count": 30,
      "metadata": {},
      "outputs": [
        {
          "name": "stdout",
          "output_type": "stream",
          "text": [
            "1991\n",
            "1992\n"
          ]
        }
      ],
      "source": [
        "for k in range(len(affilDF)):\n",
        "    if len(affilDF['affiliations'][k][0]) != 0 and affilDF['affiliations'][k][0][0] == {}:\n",
        "        print(k)"
      ]
    },
    {
      "cell_type": "code",
      "execution_count": 31,
      "metadata": {},
      "outputs": [],
      "source": [
        "emptyBrackets = [k for k in range(len(affilDF)) if len(affilDF['affiliations'][k][0]) != 0 and affilDF['affiliations'][k][0][0] == {}]"
      ]
    },
    {
      "cell_type": "code",
      "execution_count": 32,
      "metadata": {},
      "outputs": [
        {
          "data": {
            "text/html": [
              "<div>\n",
              "<style scoped>\n",
              "    .dataframe tbody tr th:only-of-type {\n",
              "        vertical-align: middle;\n",
              "    }\n",
              "\n",
              "    .dataframe tbody tr th {\n",
              "        vertical-align: top;\n",
              "    }\n",
              "\n",
              "    .dataframe thead th {\n",
              "        text-align: right;\n",
              "    }\n",
              "</style>\n",
              "<table border=\"1\" class=\"dataframe\">\n",
              "  <thead>\n",
              "    <tr style=\"text-align: right;\">\n",
              "      <th></th>\n",
              "      <th>items</th>\n",
              "      <th>DOI</th>\n",
              "      <th>authors</th>\n",
              "      <th># authors</th>\n",
              "      <th>affiliations</th>\n",
              "      <th># Affil</th>\n",
              "    </tr>\n",
              "  </thead>\n",
              "  <tbody>\n",
              "    <tr>\n",
              "      <th>1991</th>\n",
              "      <td>{'URL': 'http://dx.doi.org/10.48130/emst-2022-...</td>\n",
              "      <td>10.48130/emst-2022-0020</td>\n",
              "      <td>[{'given': 'Xiangyu (Dale)', 'family': 'Li', '...</td>\n",
              "      <td>4</td>\n",
              "      <td>[[{}], [], [], []]</td>\n",
              "      <td>4</td>\n",
              "    </tr>\n",
              "    <tr>\n",
              "      <th>1992</th>\n",
              "      <td>{'URL': 'http://dx.doi.org/10.48130/emst-2022-...</td>\n",
              "      <td>10.48130/emst-2022-0018</td>\n",
              "      <td>[{'given': 'Fan', 'family': 'Yang', 'sequence'...</td>\n",
              "      <td>2</td>\n",
              "      <td>[[{}], []]</td>\n",
              "      <td>2</td>\n",
              "    </tr>\n",
              "  </tbody>\n",
              "</table>\n",
              "</div>"
            ],
            "text/plain": [
              "                                                  items  \\\n",
              "1991  {'URL': 'http://dx.doi.org/10.48130/emst-2022-...   \n",
              "1992  {'URL': 'http://dx.doi.org/10.48130/emst-2022-...   \n",
              "\n",
              "                          DOI  \\\n",
              "1991  10.48130/emst-2022-0020   \n",
              "1992  10.48130/emst-2022-0018   \n",
              "\n",
              "                                                authors  # authors  \\\n",
              "1991  [{'given': 'Xiangyu (Dale)', 'family': 'Li', '...          4   \n",
              "1992  [{'given': 'Fan', 'family': 'Yang', 'sequence'...          2   \n",
              "\n",
              "            affiliations  # Affil  \n",
              "1991  [[{}], [], [], []]        4  \n",
              "1992          [[{}], []]        2  "
            ]
          },
          "execution_count": 32,
          "metadata": {},
          "output_type": "execute_result"
        }
      ],
      "source": [
        "affilDF.iloc[emptyBrackets]"
      ]
    },
    {
      "cell_type": "code",
      "execution_count": 33,
      "metadata": {},
      "outputs": [
        {
          "data": {
            "text/html": [
              "<div>\n",
              "<style scoped>\n",
              "    .dataframe tbody tr th:only-of-type {\n",
              "        vertical-align: middle;\n",
              "    }\n",
              "\n",
              "    .dataframe tbody tr th {\n",
              "        vertical-align: top;\n",
              "    }\n",
              "\n",
              "    .dataframe thead th {\n",
              "        text-align: right;\n",
              "    }\n",
              "</style>\n",
              "<table border=\"1\" class=\"dataframe\">\n",
              "  <thead>\n",
              "    <tr style=\"text-align: right;\">\n",
              "      <th></th>\n",
              "      <th>items</th>\n",
              "      <th>DOI</th>\n",
              "      <th>authors</th>\n",
              "      <th># authors</th>\n",
              "      <th>affiliations</th>\n",
              "      <th># Affil</th>\n",
              "    </tr>\n",
              "  </thead>\n",
              "  <tbody>\n",
              "    <tr>\n",
              "      <th>0</th>\n",
              "      <td>{'URL': 'http://dx.doi.org/10.1021/ac020069k',...</td>\n",
              "      <td>10.1021/ac020069k</td>\n",
              "      <td>[{'given': 'Gi Hun', 'family': 'Seong', 'seque...</td>\n",
              "      <td>3</td>\n",
              "      <td>[[{'name': 'Department of Chemistry, Texas A&amp;M...</td>\n",
              "      <td>3</td>\n",
              "    </tr>\n",
              "    <tr>\n",
              "      <th>1</th>\n",
              "      <td>{'abstract': '&lt;jats:p&gt;\n",
              "            &lt;jats:bold&gt;...</td>\n",
              "      <td>10.1161/01.cir.0000013846.72805.7e</td>\n",
              "      <td>[{'given': 'Dinesh K.', 'family': 'Kalra', 'se...</td>\n",
              "      <td>10</td>\n",
              "      <td>[[{'name': 'From the Section of Cardiology (D....</td>\n",
              "      <td>10</td>\n",
              "    </tr>\n",
              "    <tr>\n",
              "      <th>2</th>\n",
              "      <td>{'abstract': '&lt;jats:p&gt;Hyperhomocysteinemia (hH...</td>\n",
              "      <td>10.1161/hy02t2.102992</td>\n",
              "      <td>[{'given': 'Ningjun', 'family': 'Li', 'sequenc...</td>\n",
              "      <td>3</td>\n",
              "      <td>[[{'name': 'From the Department of Physiology,...</td>\n",
              "      <td>3</td>\n",
              "    </tr>\n",
              "    <tr>\n",
              "      <th>3</th>\n",
              "      <td>{'abstract': '&lt;jats:p&gt;\n",
              "            The nuclear...</td>\n",
              "      <td>10.1126/science.1073633</td>\n",
              "      <td>[{'given': 'Jianping', 'family': 'Hu', 'sequen...</td>\n",
              "      <td>6</td>\n",
              "      <td>[[{'name': 'Plant Biology Laboratory,'}, {'nam...</td>\n",
              "      <td>6</td>\n",
              "    </tr>\n",
              "    <tr>\n",
              "      <th>4</th>\n",
              "      <td>{'URL': 'http://dx.doi.org/10.1089/10872910260...</td>\n",
              "      <td>10.1089/10872910260066679</td>\n",
              "      <td>[{'given': 'Edward E.', 'family': 'Eaton', 'se...</td>\n",
              "      <td>5</td>\n",
              "      <td>[[{'name': 'Albert Einstein College of Medicin...</td>\n",
              "      <td>5</td>\n",
              "    </tr>\n",
              "    <tr>\n",
              "      <th>...</th>\n",
              "      <td>...</td>\n",
              "      <td>...</td>\n",
              "      <td>...</td>\n",
              "      <td>...</td>\n",
              "      <td>...</td>\n",
              "      <td>...</td>\n",
              "    </tr>\n",
              "    <tr>\n",
              "      <th>2461</th>\n",
              "      <td>{'URL': 'http://dx.doi.org/10.1248/yakushi.22-...</td>\n",
              "      <td>10.1248/yakushi.22-00149</td>\n",
              "      <td>[{'given': 'Rei', 'family': 'Honda', 'sequence...</td>\n",
              "      <td>6</td>\n",
              "      <td>[[{'name': 'Laboratory of Physical Chemistry, ...</td>\n",
              "      <td>6</td>\n",
              "    </tr>\n",
              "    <tr>\n",
              "      <th>2462</th>\n",
              "      <td>{'URL': 'http://dx.doi.org/10.12951/jvcs.2021-...</td>\n",
              "      <td>10.12951/jvcs.2021-008</td>\n",
              "      <td>[{'given': 'Miki', 'family': 'Endo', 'sequence...</td>\n",
              "      <td>4</td>\n",
              "      <td>[[{'name': 'Ikejiriohashi Pet Clinic'}], [{'na...</td>\n",
              "      <td>4</td>\n",
              "    </tr>\n",
              "    <tr>\n",
              "      <th>2463</th>\n",
              "      <td>{'URL': 'http://dx.doi.org/10.1299/transjsme.2...</td>\n",
              "      <td>10.1299/transjsme.22-00206</td>\n",
              "      <td>[{'given': 'Shigemitsu', 'family': 'KITA', 'se...</td>\n",
              "      <td>3</td>\n",
              "      <td>[[{'name': 'Central Japan Railway Company'}], ...</td>\n",
              "      <td>3</td>\n",
              "    </tr>\n",
              "    <tr>\n",
              "      <th>2464</th>\n",
              "      <td>{'URL': 'http://dx.doi.org/10.1109/access.2022...</td>\n",
              "      <td>10.1109/access.2022.3232463</td>\n",
              "      <td>[{'given': 'Joshua H.', 'family': 'Tyler', 'se...</td>\n",
              "      <td>5</td>\n",
              "      <td>[[{'name': 'Department of Electrical Engineeri...</td>\n",
              "      <td>5</td>\n",
              "    </tr>\n",
              "    <tr>\n",
              "      <th>2465</th>\n",
              "      <td>{'URL': 'http://dx.doi.org/10.1109/access.2022...</td>\n",
              "      <td>10.1109/access.2022.3232175</td>\n",
              "      <td>[{'ORCID': 'http://orcid.org/0000-0002-5572-08...</td>\n",
              "      <td>3</td>\n",
              "      <td>[[{'name': 'Air Force Early Warning Academy, W...</td>\n",
              "      <td>3</td>\n",
              "    </tr>\n",
              "  </tbody>\n",
              "</table>\n",
              "<p>2466 rows × 6 columns</p>\n",
              "</div>"
            ],
            "text/plain": [
              "                                                  items  \\\n",
              "0     {'URL': 'http://dx.doi.org/10.1021/ac020069k',...   \n",
              "1     {'abstract': '<jats:p>\n",
              "            <jats:bold>...   \n",
              "2     {'abstract': '<jats:p>Hyperhomocysteinemia (hH...   \n",
              "3     {'abstract': '<jats:p>\n",
              "            The nuclear...   \n",
              "4     {'URL': 'http://dx.doi.org/10.1089/10872910260...   \n",
              "...                                                 ...   \n",
              "2461  {'URL': 'http://dx.doi.org/10.1248/yakushi.22-...   \n",
              "2462  {'URL': 'http://dx.doi.org/10.12951/jvcs.2021-...   \n",
              "2463  {'URL': 'http://dx.doi.org/10.1299/transjsme.2...   \n",
              "2464  {'URL': 'http://dx.doi.org/10.1109/access.2022...   \n",
              "2465  {'URL': 'http://dx.doi.org/10.1109/access.2022...   \n",
              "\n",
              "                                     DOI  \\\n",
              "0                      10.1021/ac020069k   \n",
              "1     10.1161/01.cir.0000013846.72805.7e   \n",
              "2                  10.1161/hy02t2.102992   \n",
              "3                10.1126/science.1073633   \n",
              "4              10.1089/10872910260066679   \n",
              "...                                  ...   \n",
              "2461            10.1248/yakushi.22-00149   \n",
              "2462              10.12951/jvcs.2021-008   \n",
              "2463          10.1299/transjsme.22-00206   \n",
              "2464         10.1109/access.2022.3232463   \n",
              "2465         10.1109/access.2022.3232175   \n",
              "\n",
              "                                                authors  # authors  \\\n",
              "0     [{'given': 'Gi Hun', 'family': 'Seong', 'seque...          3   \n",
              "1     [{'given': 'Dinesh K.', 'family': 'Kalra', 'se...         10   \n",
              "2     [{'given': 'Ningjun', 'family': 'Li', 'sequenc...          3   \n",
              "3     [{'given': 'Jianping', 'family': 'Hu', 'sequen...          6   \n",
              "4     [{'given': 'Edward E.', 'family': 'Eaton', 'se...          5   \n",
              "...                                                 ...        ...   \n",
              "2461  [{'given': 'Rei', 'family': 'Honda', 'sequence...          6   \n",
              "2462  [{'given': 'Miki', 'family': 'Endo', 'sequence...          4   \n",
              "2463  [{'given': 'Shigemitsu', 'family': 'KITA', 'se...          3   \n",
              "2464  [{'given': 'Joshua H.', 'family': 'Tyler', 'se...          5   \n",
              "2465  [{'ORCID': 'http://orcid.org/0000-0002-5572-08...          3   \n",
              "\n",
              "                                           affiliations  # Affil  \n",
              "0     [[{'name': 'Department of Chemistry, Texas A&M...        3  \n",
              "1     [[{'name': 'From the Section of Cardiology (D....       10  \n",
              "2     [[{'name': 'From the Department of Physiology,...        3  \n",
              "3     [[{'name': 'Plant Biology Laboratory,'}, {'nam...        6  \n",
              "4     [[{'name': 'Albert Einstein College of Medicin...        5  \n",
              "...                                                 ...      ...  \n",
              "2461  [[{'name': 'Laboratory of Physical Chemistry, ...        6  \n",
              "2462  [[{'name': 'Ikejiriohashi Pet Clinic'}], [{'na...        4  \n",
              "2463  [[{'name': 'Central Japan Railway Company'}], ...        3  \n",
              "2464  [[{'name': 'Department of Electrical Engineeri...        5  \n",
              "2465  [[{'name': 'Air Force Early Warning Academy, W...        3  \n",
              "\n",
              "[2466 rows x 6 columns]"
            ]
          },
          "execution_count": 33,
          "metadata": {},
          "output_type": "execute_result"
        }
      ],
      "source": [
        "affilDF.copy()"
      ]
    },
    {
      "cell_type": "code",
      "execution_count": 34,
      "metadata": {},
      "outputs": [],
      "source": [
        "affilDF.drop(emptyBrackets, inplace = True)"
      ]
    },
    {
      "cell_type": "code",
      "execution_count": 35,
      "metadata": {},
      "outputs": [],
      "source": [
        "affilDF.reset_index(inplace = True)"
      ]
    },
    {
      "cell_type": "code",
      "execution_count": 36,
      "metadata": {},
      "outputs": [
        {
          "data": {
            "text/html": [
              "<div>\n",
              "<style scoped>\n",
              "    .dataframe tbody tr th:only-of-type {\n",
              "        vertical-align: middle;\n",
              "    }\n",
              "\n",
              "    .dataframe tbody tr th {\n",
              "        vertical-align: top;\n",
              "    }\n",
              "\n",
              "    .dataframe thead th {\n",
              "        text-align: right;\n",
              "    }\n",
              "</style>\n",
              "<table border=\"1\" class=\"dataframe\">\n",
              "  <thead>\n",
              "    <tr style=\"text-align: right;\">\n",
              "      <th></th>\n",
              "      <th>index</th>\n",
              "      <th>items</th>\n",
              "      <th>DOI</th>\n",
              "      <th>authors</th>\n",
              "      <th># authors</th>\n",
              "      <th>affiliations</th>\n",
              "      <th># Affil</th>\n",
              "    </tr>\n",
              "  </thead>\n",
              "  <tbody>\n",
              "    <tr>\n",
              "      <th>0</th>\n",
              "      <td>0</td>\n",
              "      <td>{'URL': 'http://dx.doi.org/10.1021/ac020069k',...</td>\n",
              "      <td>10.1021/ac020069k</td>\n",
              "      <td>[{'given': 'Gi Hun', 'family': 'Seong', 'seque...</td>\n",
              "      <td>3</td>\n",
              "      <td>[[{'name': 'Department of Chemistry, Texas A&amp;M...</td>\n",
              "      <td>3</td>\n",
              "    </tr>\n",
              "    <tr>\n",
              "      <th>1</th>\n",
              "      <td>1</td>\n",
              "      <td>{'abstract': '&lt;jats:p&gt;\n",
              "            &lt;jats:bold&gt;...</td>\n",
              "      <td>10.1161/01.cir.0000013846.72805.7e</td>\n",
              "      <td>[{'given': 'Dinesh K.', 'family': 'Kalra', 'se...</td>\n",
              "      <td>10</td>\n",
              "      <td>[[{'name': 'From the Section of Cardiology (D....</td>\n",
              "      <td>10</td>\n",
              "    </tr>\n",
              "    <tr>\n",
              "      <th>2</th>\n",
              "      <td>2</td>\n",
              "      <td>{'abstract': '&lt;jats:p&gt;Hyperhomocysteinemia (hH...</td>\n",
              "      <td>10.1161/hy02t2.102992</td>\n",
              "      <td>[{'given': 'Ningjun', 'family': 'Li', 'sequenc...</td>\n",
              "      <td>3</td>\n",
              "      <td>[[{'name': 'From the Department of Physiology,...</td>\n",
              "      <td>3</td>\n",
              "    </tr>\n",
              "    <tr>\n",
              "      <th>3</th>\n",
              "      <td>3</td>\n",
              "      <td>{'abstract': '&lt;jats:p&gt;\n",
              "            The nuclear...</td>\n",
              "      <td>10.1126/science.1073633</td>\n",
              "      <td>[{'given': 'Jianping', 'family': 'Hu', 'sequen...</td>\n",
              "      <td>6</td>\n",
              "      <td>[[{'name': 'Plant Biology Laboratory,'}, {'nam...</td>\n",
              "      <td>6</td>\n",
              "    </tr>\n",
              "    <tr>\n",
              "      <th>4</th>\n",
              "      <td>4</td>\n",
              "      <td>{'URL': 'http://dx.doi.org/10.1089/10872910260...</td>\n",
              "      <td>10.1089/10872910260066679</td>\n",
              "      <td>[{'given': 'Edward E.', 'family': 'Eaton', 'se...</td>\n",
              "      <td>5</td>\n",
              "      <td>[[{'name': 'Albert Einstein College of Medicin...</td>\n",
              "      <td>5</td>\n",
              "    </tr>\n",
              "    <tr>\n",
              "      <th>...</th>\n",
              "      <td>...</td>\n",
              "      <td>...</td>\n",
              "      <td>...</td>\n",
              "      <td>...</td>\n",
              "      <td>...</td>\n",
              "      <td>...</td>\n",
              "      <td>...</td>\n",
              "    </tr>\n",
              "    <tr>\n",
              "      <th>2459</th>\n",
              "      <td>2461</td>\n",
              "      <td>{'URL': 'http://dx.doi.org/10.1248/yakushi.22-...</td>\n",
              "      <td>10.1248/yakushi.22-00149</td>\n",
              "      <td>[{'given': 'Rei', 'family': 'Honda', 'sequence...</td>\n",
              "      <td>6</td>\n",
              "      <td>[[{'name': 'Laboratory of Physical Chemistry, ...</td>\n",
              "      <td>6</td>\n",
              "    </tr>\n",
              "    <tr>\n",
              "      <th>2460</th>\n",
              "      <td>2462</td>\n",
              "      <td>{'URL': 'http://dx.doi.org/10.12951/jvcs.2021-...</td>\n",
              "      <td>10.12951/jvcs.2021-008</td>\n",
              "      <td>[{'given': 'Miki', 'family': 'Endo', 'sequence...</td>\n",
              "      <td>4</td>\n",
              "      <td>[[{'name': 'Ikejiriohashi Pet Clinic'}], [{'na...</td>\n",
              "      <td>4</td>\n",
              "    </tr>\n",
              "    <tr>\n",
              "      <th>2461</th>\n",
              "      <td>2463</td>\n",
              "      <td>{'URL': 'http://dx.doi.org/10.1299/transjsme.2...</td>\n",
              "      <td>10.1299/transjsme.22-00206</td>\n",
              "      <td>[{'given': 'Shigemitsu', 'family': 'KITA', 'se...</td>\n",
              "      <td>3</td>\n",
              "      <td>[[{'name': 'Central Japan Railway Company'}], ...</td>\n",
              "      <td>3</td>\n",
              "    </tr>\n",
              "    <tr>\n",
              "      <th>2462</th>\n",
              "      <td>2464</td>\n",
              "      <td>{'URL': 'http://dx.doi.org/10.1109/access.2022...</td>\n",
              "      <td>10.1109/access.2022.3232463</td>\n",
              "      <td>[{'given': 'Joshua H.', 'family': 'Tyler', 'se...</td>\n",
              "      <td>5</td>\n",
              "      <td>[[{'name': 'Department of Electrical Engineeri...</td>\n",
              "      <td>5</td>\n",
              "    </tr>\n",
              "    <tr>\n",
              "      <th>2463</th>\n",
              "      <td>2465</td>\n",
              "      <td>{'URL': 'http://dx.doi.org/10.1109/access.2022...</td>\n",
              "      <td>10.1109/access.2022.3232175</td>\n",
              "      <td>[{'ORCID': 'http://orcid.org/0000-0002-5572-08...</td>\n",
              "      <td>3</td>\n",
              "      <td>[[{'name': 'Air Force Early Warning Academy, W...</td>\n",
              "      <td>3</td>\n",
              "    </tr>\n",
              "  </tbody>\n",
              "</table>\n",
              "<p>2464 rows × 7 columns</p>\n",
              "</div>"
            ],
            "text/plain": [
              "      index                                              items  \\\n",
              "0         0  {'URL': 'http://dx.doi.org/10.1021/ac020069k',...   \n",
              "1         1  {'abstract': '<jats:p>\n",
              "            <jats:bold>...   \n",
              "2         2  {'abstract': '<jats:p>Hyperhomocysteinemia (hH...   \n",
              "3         3  {'abstract': '<jats:p>\n",
              "            The nuclear...   \n",
              "4         4  {'URL': 'http://dx.doi.org/10.1089/10872910260...   \n",
              "...     ...                                                ...   \n",
              "2459   2461  {'URL': 'http://dx.doi.org/10.1248/yakushi.22-...   \n",
              "2460   2462  {'URL': 'http://dx.doi.org/10.12951/jvcs.2021-...   \n",
              "2461   2463  {'URL': 'http://dx.doi.org/10.1299/transjsme.2...   \n",
              "2462   2464  {'URL': 'http://dx.doi.org/10.1109/access.2022...   \n",
              "2463   2465  {'URL': 'http://dx.doi.org/10.1109/access.2022...   \n",
              "\n",
              "                                     DOI  \\\n",
              "0                      10.1021/ac020069k   \n",
              "1     10.1161/01.cir.0000013846.72805.7e   \n",
              "2                  10.1161/hy02t2.102992   \n",
              "3                10.1126/science.1073633   \n",
              "4              10.1089/10872910260066679   \n",
              "...                                  ...   \n",
              "2459            10.1248/yakushi.22-00149   \n",
              "2460              10.12951/jvcs.2021-008   \n",
              "2461          10.1299/transjsme.22-00206   \n",
              "2462         10.1109/access.2022.3232463   \n",
              "2463         10.1109/access.2022.3232175   \n",
              "\n",
              "                                                authors  # authors  \\\n",
              "0     [{'given': 'Gi Hun', 'family': 'Seong', 'seque...          3   \n",
              "1     [{'given': 'Dinesh K.', 'family': 'Kalra', 'se...         10   \n",
              "2     [{'given': 'Ningjun', 'family': 'Li', 'sequenc...          3   \n",
              "3     [{'given': 'Jianping', 'family': 'Hu', 'sequen...          6   \n",
              "4     [{'given': 'Edward E.', 'family': 'Eaton', 'se...          5   \n",
              "...                                                 ...        ...   \n",
              "2459  [{'given': 'Rei', 'family': 'Honda', 'sequence...          6   \n",
              "2460  [{'given': 'Miki', 'family': 'Endo', 'sequence...          4   \n",
              "2461  [{'given': 'Shigemitsu', 'family': 'KITA', 'se...          3   \n",
              "2462  [{'given': 'Joshua H.', 'family': 'Tyler', 'se...          5   \n",
              "2463  [{'ORCID': 'http://orcid.org/0000-0002-5572-08...          3   \n",
              "\n",
              "                                           affiliations  # Affil  \n",
              "0     [[{'name': 'Department of Chemistry, Texas A&M...        3  \n",
              "1     [[{'name': 'From the Section of Cardiology (D....       10  \n",
              "2     [[{'name': 'From the Department of Physiology,...        3  \n",
              "3     [[{'name': 'Plant Biology Laboratory,'}, {'nam...        6  \n",
              "4     [[{'name': 'Albert Einstein College of Medicin...        5  \n",
              "...                                                 ...      ...  \n",
              "2459  [[{'name': 'Laboratory of Physical Chemistry, ...        6  \n",
              "2460  [[{'name': 'Ikejiriohashi Pet Clinic'}], [{'na...        4  \n",
              "2461  [[{'name': 'Central Japan Railway Company'}], ...        3  \n",
              "2462  [[{'name': 'Department of Electrical Engineeri...        5  \n",
              "2463  [[{'name': 'Air Force Early Warning Academy, W...        3  \n",
              "\n",
              "[2464 rows x 7 columns]"
            ]
          },
          "execution_count": 36,
          "metadata": {},
          "output_type": "execute_result"
        }
      ],
      "source": [
        "affilDF.copy()"
      ]
    },
    {
      "cell_type": "code",
      "execution_count": 37,
      "metadata": {},
      "outputs": [],
      "source": [
        "affilDF.drop(columns = ['index'], inplace = True)"
      ]
    },
    {
      "attachments": {},
      "cell_type": "markdown",
      "metadata": {},
      "source": [
        "# Clean affiliations "
      ]
    },
    {
      "attachments": {},
      "cell_type": "markdown",
      "metadata": {},
      "source": [
        "## 1. \"Unique\" affiliations --- number of unique affiliations"
      ]
    },
    {
      "cell_type": "code",
      "execution_count": 38,
      "metadata": {},
      "outputs": [],
      "source": [
        "uniqueAff = [] \n",
        "\n",
        "for i in range(len(affilDF)):\n",
        "    uniqueAff.append(list(set([x[0] for x in [list(d.values()) for d in  [item for sublist in affilDF['affiliations'].iloc[i] for item in sublist]]])))\n"
      ]
    },
    {
      "cell_type": "code",
      "execution_count": 39,
      "metadata": {},
      "outputs": [],
      "source": [
        "affilDF.loc[:,'uniqueAff'] = uniqueAff"
      ]
    },
    {
      "cell_type": "code",
      "execution_count": 40,
      "metadata": {},
      "outputs": [],
      "source": [
        "numUniqueAff = [len(affilDF['uniqueAff'].iloc[i]) for i in range(len(affilDF))]"
      ]
    },
    {
      "cell_type": "code",
      "execution_count": 41,
      "metadata": {},
      "outputs": [],
      "source": [
        "affilDF.loc[:,'# uniqueAff'] = numUniqueAff"
      ]
    },
    {
      "cell_type": "code",
      "execution_count": 42,
      "metadata": {},
      "outputs": [
        {
          "data": {
            "text/html": [
              "<div>\n",
              "<style scoped>\n",
              "    .dataframe tbody tr th:only-of-type {\n",
              "        vertical-align: middle;\n",
              "    }\n",
              "\n",
              "    .dataframe tbody tr th {\n",
              "        vertical-align: top;\n",
              "    }\n",
              "\n",
              "    .dataframe thead th {\n",
              "        text-align: right;\n",
              "    }\n",
              "</style>\n",
              "<table border=\"1\" class=\"dataframe\">\n",
              "  <thead>\n",
              "    <tr style=\"text-align: right;\">\n",
              "      <th></th>\n",
              "      <th>items</th>\n",
              "      <th>DOI</th>\n",
              "      <th>authors</th>\n",
              "      <th># authors</th>\n",
              "      <th>affiliations</th>\n",
              "      <th># Affil</th>\n",
              "      <th>uniqueAff</th>\n",
              "      <th># uniqueAff</th>\n",
              "    </tr>\n",
              "  </thead>\n",
              "  <tbody>\n",
              "    <tr>\n",
              "      <th>0</th>\n",
              "      <td>{'URL': 'http://dx.doi.org/10.1021/ac020069k',...</td>\n",
              "      <td>10.1021/ac020069k</td>\n",
              "      <td>[{'given': 'Gi Hun', 'family': 'Seong', 'seque...</td>\n",
              "      <td>3</td>\n",
              "      <td>[[{'name': 'Department of Chemistry, Texas A&amp;M...</td>\n",
              "      <td>3</td>\n",
              "      <td>[Department of Chemistry, Texas A&amp;M University...</td>\n",
              "      <td>1</td>\n",
              "    </tr>\n",
              "    <tr>\n",
              "      <th>1</th>\n",
              "      <td>{'abstract': '&lt;jats:p&gt;\n",
              "            &lt;jats:bold&gt;...</td>\n",
              "      <td>10.1161/01.cir.0000013846.72805.7e</td>\n",
              "      <td>[{'given': 'Dinesh K.', 'family': 'Kalra', 'se...</td>\n",
              "      <td>10</td>\n",
              "      <td>[[{'name': 'From the Section of Cardiology (D....</td>\n",
              "      <td>10</td>\n",
              "      <td>[From the Section of Cardiology (D.K.K., X.Z.,...</td>\n",
              "      <td>1</td>\n",
              "    </tr>\n",
              "    <tr>\n",
              "      <th>2</th>\n",
              "      <td>{'abstract': '&lt;jats:p&gt;Hyperhomocysteinemia (hH...</td>\n",
              "      <td>10.1161/hy02t2.102992</td>\n",
              "      <td>[{'given': 'Ningjun', 'family': 'Li', 'sequenc...</td>\n",
              "      <td>3</td>\n",
              "      <td>[[{'name': 'From the Department of Physiology,...</td>\n",
              "      <td>3</td>\n",
              "      <td>[From the Department of Physiology, Medical Co...</td>\n",
              "      <td>1</td>\n",
              "    </tr>\n",
              "    <tr>\n",
              "      <th>3</th>\n",
              "      <td>{'abstract': '&lt;jats:p&gt;\n",
              "            The nuclear...</td>\n",
              "      <td>10.1126/science.1073633</td>\n",
              "      <td>[{'given': 'Jianping', 'family': 'Hu', 'sequen...</td>\n",
              "      <td>6</td>\n",
              "      <td>[[{'name': 'Plant Biology Laboratory,'}, {'nam...</td>\n",
              "      <td>6</td>\n",
              "      <td>[Howard Hughes Medical Institute,, Laboratory ...</td>\n",
              "      <td>3</td>\n",
              "    </tr>\n",
              "    <tr>\n",
              "      <th>4</th>\n",
              "      <td>{'URL': 'http://dx.doi.org/10.1089/10872910260...</td>\n",
              "      <td>10.1089/10872910260066679</td>\n",
              "      <td>[{'given': 'Edward E.', 'family': 'Eaton', 'se...</td>\n",
              "      <td>5</td>\n",
              "      <td>[[{'name': 'Albert Einstein College of Medicin...</td>\n",
              "      <td>5</td>\n",
              "      <td>[Albert Einstein College of Medicine, Bronx, N...</td>\n",
              "      <td>4</td>\n",
              "    </tr>\n",
              "  </tbody>\n",
              "</table>\n",
              "</div>"
            ],
            "text/plain": [
              "                                               items  \\\n",
              "0  {'URL': 'http://dx.doi.org/10.1021/ac020069k',...   \n",
              "1  {'abstract': '<jats:p>\n",
              "            <jats:bold>...   \n",
              "2  {'abstract': '<jats:p>Hyperhomocysteinemia (hH...   \n",
              "3  {'abstract': '<jats:p>\n",
              "            The nuclear...   \n",
              "4  {'URL': 'http://dx.doi.org/10.1089/10872910260...   \n",
              "\n",
              "                                  DOI  \\\n",
              "0                   10.1021/ac020069k   \n",
              "1  10.1161/01.cir.0000013846.72805.7e   \n",
              "2               10.1161/hy02t2.102992   \n",
              "3             10.1126/science.1073633   \n",
              "4           10.1089/10872910260066679   \n",
              "\n",
              "                                             authors  # authors  \\\n",
              "0  [{'given': 'Gi Hun', 'family': 'Seong', 'seque...          3   \n",
              "1  [{'given': 'Dinesh K.', 'family': 'Kalra', 'se...         10   \n",
              "2  [{'given': 'Ningjun', 'family': 'Li', 'sequenc...          3   \n",
              "3  [{'given': 'Jianping', 'family': 'Hu', 'sequen...          6   \n",
              "4  [{'given': 'Edward E.', 'family': 'Eaton', 'se...          5   \n",
              "\n",
              "                                        affiliations  # Affil  \\\n",
              "0  [[{'name': 'Department of Chemistry, Texas A&M...        3   \n",
              "1  [[{'name': 'From the Section of Cardiology (D....       10   \n",
              "2  [[{'name': 'From the Department of Physiology,...        3   \n",
              "3  [[{'name': 'Plant Biology Laboratory,'}, {'nam...        6   \n",
              "4  [[{'name': 'Albert Einstein College of Medicin...        5   \n",
              "\n",
              "                                           uniqueAff  # uniqueAff  \n",
              "0  [Department of Chemistry, Texas A&M University...            1  \n",
              "1  [From the Section of Cardiology (D.K.K., X.Z.,...            1  \n",
              "2  [From the Department of Physiology, Medical Co...            1  \n",
              "3  [Howard Hughes Medical Institute,, Laboratory ...            3  \n",
              "4  [Albert Einstein College of Medicine, Bronx, N...            4  "
            ]
          },
          "execution_count": 42,
          "metadata": {},
          "output_type": "execute_result"
        }
      ],
      "source": [
        "affilDF.head()"
      ]
    },
    {
      "attachments": {},
      "cell_type": "markdown",
      "metadata": {},
      "source": [
        "## 2. Remove stop words ['from', 'the']"
      ]
    },
    {
      "cell_type": "code",
      "execution_count": 43,
      "metadata": {},
      "outputs": [],
      "source": [
        "stopWords = ['from', 'the', 'From', 'The']"
      ]
    },
    {
      "cell_type": "code",
      "execution_count": 44,
      "metadata": {},
      "outputs": [],
      "source": [
        "def remove_stop_words(text):\n",
        "    words = text.split()\n",
        "    filtered_words = [word for word in words if word not in stopWords]\n",
        "    return ' '.join(filtered_words)\n",
        "\n",
        "\n",
        "# apply the function to the column  affilDF['uniqueAff'] to create column affilDF.loc[:,'uniqueAff1']\n",
        "\n",
        "affilDF.loc[:,'uniqueAff1'] = affilDF['uniqueAff'].apply(lambda x: [remove_stop_words(s) for s in x])\n"
      ]
    },
    {
      "attachments": {},
      "cell_type": "markdown",
      "metadata": {},
      "source": [
        "## 3. Remove parenthesis "
      ]
    },
    {
      "cell_type": "code",
      "execution_count": 45,
      "metadata": {},
      "outputs": [],
      "source": [
        "def remove_parentheses(text):\n",
        "   return re.sub(r'\\([^()]*\\)', '', text)\n",
        "\n",
        "# apply the function to each list element of column affilDF['uniqueAff1'] to remove substrings inside parentheses\n",
        "\n",
        "affilDF.loc[:,'uniqueAff1'] = affilDF['uniqueAff1'].apply(lambda x: [remove_parentheses(s) for s in x])\n"
      ]
    },
    {
      "attachments": {},
      "cell_type": "markdown",
      "metadata": {},
      "source": [
        "## 4. Remove @#$%characters "
      ]
    },
    {
      "cell_type": "code",
      "execution_count": 46,
      "metadata": {},
      "outputs": [],
      "source": [
        "affNoSymbols = []\n",
        "\n",
        "for i in range(len(list(affilDF['uniqueAff1']))):\n",
        "    L = list(affilDF['uniqueAff1'])[i]\n",
        "    for i in range(len(L)):\n",
        "        L[i] = re.sub(r'[^\\w\\s,Α-Ωα-ωぁ-んァ-ン一-龯，]', '', L[i])\n",
        "    affNoSymbols.append(L)\n"
      ]
    },
    {
      "cell_type": "code",
      "execution_count": 47,
      "metadata": {},
      "outputs": [],
      "source": [
        "affNoSymbols = [[item for item in inner_list if item != \"inc\"] for inner_list in affNoSymbols]\n"
      ]
    },
    {
      "cell_type": "code",
      "execution_count": 48,
      "metadata": {},
      "outputs": [],
      "source": [
        "affilDF['uniqueAff1'] = affNoSymbols\n"
      ]
    },
    {
      "attachments": {},
      "cell_type": "markdown",
      "metadata": {},
      "source": [
        "## 5. Check 'sub'-affiliations (affiliations that are contained in other affiliations of the same DOI)"
      ]
    },
    {
      "cell_type": "code",
      "execution_count": 49,
      "metadata": {},
      "outputs": [],
      "source": [
        "newAff0 = []\n",
        "\n",
        "for k in range(len(affilDF)):\n",
        "    \n",
        "    L2 = []\n",
        "    for s1 in affilDF['uniqueAff1'].iloc[k]:\n",
        "        is_substring = False\n",
        "        for s2 in affilDF['uniqueAff1'].iloc[k]:\n",
        "            if s1 != s2 and s1 in s2:\n",
        "                is_substring = True\n",
        "                break\n",
        "        if not is_substring:\n",
        "            L2.append(s1)\n",
        "    newAff0.append(L2)"
      ]
    },
    {
      "cell_type": "code",
      "execution_count": 50,
      "metadata": {},
      "outputs": [],
      "source": [
        "newAffList = [list(set(newAff0[k])) for k in range(len(newAff0))]"
      ]
    },
    {
      "cell_type": "code",
      "execution_count": 51,
      "metadata": {},
      "outputs": [],
      "source": [
        "affilDF['uniqueAff2'] = newAffList"
      ]
    },
    {
      "cell_type": "code",
      "execution_count": 52,
      "metadata": {},
      "outputs": [
        {
          "data": {
            "text/html": [
              "<div>\n",
              "<style scoped>\n",
              "    .dataframe tbody tr th:only-of-type {\n",
              "        vertical-align: middle;\n",
              "    }\n",
              "\n",
              "    .dataframe tbody tr th {\n",
              "        vertical-align: top;\n",
              "    }\n",
              "\n",
              "    .dataframe thead th {\n",
              "        text-align: right;\n",
              "    }\n",
              "</style>\n",
              "<table border=\"1\" class=\"dataframe\">\n",
              "  <thead>\n",
              "    <tr style=\"text-align: right;\">\n",
              "      <th></th>\n",
              "      <th>items</th>\n",
              "      <th>DOI</th>\n",
              "      <th>authors</th>\n",
              "      <th># authors</th>\n",
              "      <th>affiliations</th>\n",
              "      <th># Affil</th>\n",
              "      <th>uniqueAff</th>\n",
              "      <th># uniqueAff</th>\n",
              "      <th>uniqueAff1</th>\n",
              "      <th>uniqueAff2</th>\n",
              "    </tr>\n",
              "  </thead>\n",
              "  <tbody>\n",
              "    <tr>\n",
              "      <th>0</th>\n",
              "      <td>{'URL': 'http://dx.doi.org/10.1021/ac020069k',...</td>\n",
              "      <td>10.1021/ac020069k</td>\n",
              "      <td>[{'given': 'Gi Hun', 'family': 'Seong', 'seque...</td>\n",
              "      <td>3</td>\n",
              "      <td>[[{'name': 'Department of Chemistry, Texas A&amp;M...</td>\n",
              "      <td>3</td>\n",
              "      <td>[Department of Chemistry, Texas A&amp;M University...</td>\n",
              "      <td>1</td>\n",
              "      <td>[Department of Chemistry, Texas AM University,...</td>\n",
              "      <td>[Department of Chemistry, Texas AM University,...</td>\n",
              "    </tr>\n",
              "    <tr>\n",
              "      <th>1</th>\n",
              "      <td>{'abstract': '&lt;jats:p&gt;\n",
              "            &lt;jats:bold&gt;...</td>\n",
              "      <td>10.1161/01.cir.0000013846.72805.7e</td>\n",
              "      <td>[{'given': 'Dinesh K.', 'family': 'Kalra', 'se...</td>\n",
              "      <td>10</td>\n",
              "      <td>[[{'name': 'From the Section of Cardiology (D....</td>\n",
              "      <td>10</td>\n",
              "      <td>[From the Section of Cardiology (D.K.K., X.Z.,...</td>\n",
              "      <td>1</td>\n",
              "      <td>[Section of Cardiology  and Echocardiography L...</td>\n",
              "      <td>[Section of Cardiology  and Echocardiography L...</td>\n",
              "    </tr>\n",
              "    <tr>\n",
              "      <th>2</th>\n",
              "      <td>{'abstract': '&lt;jats:p&gt;Hyperhomocysteinemia (hH...</td>\n",
              "      <td>10.1161/hy02t2.102992</td>\n",
              "      <td>[{'given': 'Ningjun', 'family': 'Li', 'sequenc...</td>\n",
              "      <td>3</td>\n",
              "      <td>[[{'name': 'From the Department of Physiology,...</td>\n",
              "      <td>3</td>\n",
              "      <td>[From the Department of Physiology, Medical Co...</td>\n",
              "      <td>1</td>\n",
              "      <td>[Department of Physiology, Medical College of ...</td>\n",
              "      <td>[Department of Physiology, Medical College of ...</td>\n",
              "    </tr>\n",
              "  </tbody>\n",
              "</table>\n",
              "</div>"
            ],
            "text/plain": [
              "                                               items  \\\n",
              "0  {'URL': 'http://dx.doi.org/10.1021/ac020069k',...   \n",
              "1  {'abstract': '<jats:p>\n",
              "            <jats:bold>...   \n",
              "2  {'abstract': '<jats:p>Hyperhomocysteinemia (hH...   \n",
              "\n",
              "                                  DOI  \\\n",
              "0                   10.1021/ac020069k   \n",
              "1  10.1161/01.cir.0000013846.72805.7e   \n",
              "2               10.1161/hy02t2.102992   \n",
              "\n",
              "                                             authors  # authors  \\\n",
              "0  [{'given': 'Gi Hun', 'family': 'Seong', 'seque...          3   \n",
              "1  [{'given': 'Dinesh K.', 'family': 'Kalra', 'se...         10   \n",
              "2  [{'given': 'Ningjun', 'family': 'Li', 'sequenc...          3   \n",
              "\n",
              "                                        affiliations  # Affil  \\\n",
              "0  [[{'name': 'Department of Chemistry, Texas A&M...        3   \n",
              "1  [[{'name': 'From the Section of Cardiology (D....       10   \n",
              "2  [[{'name': 'From the Department of Physiology,...        3   \n",
              "\n",
              "                                           uniqueAff  # uniqueAff  \\\n",
              "0  [Department of Chemistry, Texas A&M University...            1   \n",
              "1  [From the Section of Cardiology (D.K.K., X.Z.,...            1   \n",
              "2  [From the Department of Physiology, Medical Co...            1   \n",
              "\n",
              "                                          uniqueAff1  \\\n",
              "0  [Department of Chemistry, Texas AM University,...   \n",
              "1  [Section of Cardiology  and Echocardiography L...   \n",
              "2  [Department of Physiology, Medical College of ...   \n",
              "\n",
              "                                          uniqueAff2  \n",
              "0  [Department of Chemistry, Texas AM University,...  \n",
              "1  [Section of Cardiology  and Echocardiography L...  \n",
              "2  [Department of Physiology, Medical College of ...  "
            ]
          },
          "execution_count": 52,
          "metadata": {},
          "output_type": "execute_result"
        }
      ],
      "source": [
        "affilDF.head(3)"
      ]
    },
    {
      "attachments": {},
      "cell_type": "markdown",
      "metadata": {},
      "source": [
        "## 6. Split strings where ',' or ';' appears"
      ]
    },
    {
      "cell_type": "code",
      "execution_count": 53,
      "metadata": {},
      "outputs": [],
      "source": [
        "newAffkomma = []\n",
        "\n",
        "for k in range(len(affilDF)):\n",
        "    \n",
        "    new_list = []\n",
        "    for item in affilDF['uniqueAff2'].iloc[k]:\n",
        "        for s in re.split(r'[;,]', item):\n",
        "            new_list.append(s.strip())\n",
        "\n",
        "    newAffkomma.append(new_list)\n",
        "\n"
      ]
    },
    {
      "cell_type": "code",
      "execution_count": 54,
      "metadata": {},
      "outputs": [],
      "source": [
        "for i in range(len(newAffkomma)):\n",
        "        j= 0\n",
        "        while j < len(newAffkomma[i]):\n",
        "                if len(newAffkomma[i][j]) > 0 and newAffkomma[i][j][-1] in [',','.',' ']:\n",
        "                        newAffkomma[i][j] = newAffkomma[i][j][:-1]\n",
        "                        \n",
        "                if len(newAffkomma[i][j]) > 1 and newAffkomma[i][j][0] == ' ' and newAffkomma[i][j][1] == ' ' : \n",
        "                        newAffkomma[i][j] = newAffkomma[i][j][2:] \n",
        "                                    \n",
        "                elif len(newAffkomma[i][j]) > 0 and newAffkomma[i][j][0] == ' ': \n",
        "                        newAffkomma[i][j] = newAffkomma[i][j][1:] \n",
        "                      \n",
        "\n",
        "\n",
        "                j = j+1"
      ]
    },
    {
      "cell_type": "code",
      "execution_count": 55,
      "metadata": {},
      "outputs": [],
      "source": [
        "newAffkomma_1 = [[s for s in lst if s != ''] for lst in newAffkomma]\n"
      ]
    },
    {
      "cell_type": "code",
      "execution_count": 56,
      "metadata": {},
      "outputs": [],
      "source": [
        "affilDF.loc[:,'uniqueAff4'] = newAffkomma_1"
      ]
    },
    {
      "attachments": {},
      "cell_type": "markdown",
      "metadata": {},
      "source": [
        "## 7. lower()"
      ]
    },
    {
      "cell_type": "code",
      "execution_count": 57,
      "metadata": {},
      "outputs": [],
      "source": [
        "removeList = ['university','research institute','laboratory' , 'universit','gmbh', 'inc', 'university of', 'research center', \n",
        "'university college','national institute of', 'school of medicine', \"university school\", 'graduate school of', 'graduate school of engineering', \n",
        "'institute of tropical medicine', 'institute of virology', 'faculty of medicine','laboratory']"
      ]
    },
    {
      "cell_type": "code",
      "execution_count": 58,
      "metadata": {},
      "outputs": [],
      "source": [
        "uniqueAff4_low = [[x.lower() for x in affilDF['uniqueAff4'].iloc[i] if x.lower() not in  removeList] for i in range(len(affilDF))] "
      ]
    },
    {
      "cell_type": "code",
      "execution_count": 59,
      "metadata": {},
      "outputs": [],
      "source": [
        "affilDF['uniqueAff4'] = uniqueAff4_low\n"
      ]
    },
    {
      "attachments": {},
      "cell_type": "markdown",
      "metadata": {},
      "source": [
        "# Labels based on legalnames of openAIRE's organizations"
      ]
    },
    {
      "cell_type": "code",
      "execution_count": 60,
      "metadata": {},
      "outputs": [],
      "source": [
        "uniList = ['institu', 'istituto','univ', 'college', 'center', 'centre' , 'cnrs', 'faculty','school' , 'academy' , 'école', 'hochschule' , 'ecole' ]\n",
        "\n",
        "labList = ['lab']\n",
        "\n",
        "hosplList = ['hospital' ,'clinic', 'hôpital']\n",
        "\n",
        "gmbhList = ['gmbh', 'company' , 'industr', 'etaireia' , 'corporation', 'inc']\n",
        "\n",
        "musList =  ['museum', 'library']\n",
        "\n",
        "foundList =  ['foundation' , 'association','organization' ,'society', 'group' ]\n",
        "\n",
        "deptList = ['district' , 'federation'  , 'government' , 'municipal' , 'county', 'ministry','council', 'agency']\n",
        "\n",
        "unknownList = ['unknown']\n",
        "\n",
        "#######   Dictionaries ##########\n",
        "\n",
        "uniDict = {k: 'Univ/Inst' for k in uniList}   \n",
        "\n",
        "labDict = {k: 'Laboratory' for k in labList} \n",
        "\n",
        "hosplDict = {k: 'Hospital' for k in hosplList}   \n",
        "\n",
        "gmbhDict = {k: 'Company' for k in gmbhList}   \n",
        "\n",
        "musDict = {k: 'Museum' for k in musList}   \n",
        "\n",
        "#schoolDict = {k: 'School' for k in schoolList}   \n",
        "\n",
        "foundDict = {k: 'Foundation' for k in foundList}   \n",
        "\n",
        "deptDict = {k: 'Government' for k in deptList}   \n",
        "\n",
        "unknownDict =  {k: 'Unknown' for k in unknownList}   \n",
        "\n",
        "categDictsList = [uniDict, labDict, hosplDict, gmbhDict, musDict, #schoolDict, \n",
        "                  foundDict, deptDict, unknownDict]\n",
        "\n",
        "################# Final Dictionary #####################\n",
        "\n",
        "categDicts = {}\n",
        "i = 0\n",
        "while i in range(len(categDictsList)):\n",
        "    categDicts.update(categDictsList[i])\n",
        "    i = i+1\n",
        "    \n",
        "    \n"
      ]
    },
    {
      "attachments": {},
      "cell_type": "markdown",
      "metadata": {},
      "source": [
        "## affiliationsDict"
      ]
    },
    {
      "cell_type": "code",
      "execution_count": 61,
      "metadata": {},
      "outputs": [],
      "source": [
        "affiliationsDict = {}\n",
        "\n",
        "for i in range(len(affilDF)):\n",
        "    affiliationsDict[i] = affilDF['uniqueAff4'].iloc[i]\n",
        "    \n"
      ]
    },
    {
      "cell_type": "code",
      "execution_count": 62,
      "metadata": {},
      "outputs": [],
      "source": [
        "d_new = {}\n",
        "\n",
        "# iterate over the keys of affiliationsDict\n",
        "for k in range(len(affiliationsDict)):\n",
        "    # get the list associated with the current key in affiliationsDict\n",
        "    L = affiliationsDict.get(k, [])\n",
        "    \n",
        "    # apply the mapping using a list comprehension\n",
        "    mapped_list = [[s, v] for s in L for k2, v in categDicts.items() if k2 in s]\n",
        "    \n",
        "    # add the mapped list to the new dictionary d_new\n",
        "    d_new[k] = mapped_list"
      ]
    },
    {
      "cell_type": "code",
      "execution_count": 63,
      "metadata": {},
      "outputs": [],
      "source": [
        "affilDF['Dictionary'] = d_new"
      ]
    },
    {
      "attachments": {},
      "cell_type": "markdown",
      "metadata": {},
      "source": [
        "## What is not included "
      ]
    },
    {
      "cell_type": "code",
      "execution_count": 64,
      "metadata": {},
      "outputs": [],
      "source": [
        "notInList = [i for i in range(len(affilDF)) if len(affilDF['Dictionary'].iloc[i]) == 0]\n",
        "    "
      ]
    },
    {
      "cell_type": "code",
      "execution_count": 65,
      "metadata": {},
      "outputs": [
        {
          "data": {
            "text/html": [
              "<div>\n",
              "<style scoped>\n",
              "    .dataframe tbody tr th:only-of-type {\n",
              "        vertical-align: middle;\n",
              "    }\n",
              "\n",
              "    .dataframe tbody tr th {\n",
              "        vertical-align: top;\n",
              "    }\n",
              "\n",
              "    .dataframe thead th {\n",
              "        text-align: right;\n",
              "    }\n",
              "</style>\n",
              "<table border=\"1\" class=\"dataframe\">\n",
              "  <thead>\n",
              "    <tr style=\"text-align: right;\">\n",
              "      <th></th>\n",
              "      <th>items</th>\n",
              "      <th>DOI</th>\n",
              "      <th>authors</th>\n",
              "      <th># authors</th>\n",
              "      <th>affiliations</th>\n",
              "      <th># Affil</th>\n",
              "      <th>uniqueAff</th>\n",
              "      <th># uniqueAff</th>\n",
              "      <th>uniqueAff1</th>\n",
              "      <th>uniqueAff2</th>\n",
              "      <th>uniqueAff4</th>\n",
              "      <th>Dictionary</th>\n",
              "    </tr>\n",
              "  </thead>\n",
              "  <tbody>\n",
              "    <tr>\n",
              "      <th>5</th>\n",
              "      <td>{'URL': 'http://dx.doi.org/10.1126/science.296...</td>\n",
              "      <td>10.1126/science.296.5576.2123a</td>\n",
              "      <td>[{'given': 'Wayne', 'family': 'Kondro', 'seque...</td>\n",
              "      <td>1</td>\n",
              "      <td>[[{'name': 'Wayne Kondro writes from Ottawa.'}]]</td>\n",
              "      <td>1</td>\n",
              "      <td>[Wayne Kondro writes from Ottawa.]</td>\n",
              "      <td>1</td>\n",
              "      <td>[Wayne Kondro writes Ottawa]</td>\n",
              "      <td>[Wayne Kondro writes Ottawa]</td>\n",
              "      <td>[wayne kondro writes ottawa]</td>\n",
              "      <td>[]</td>\n",
              "    </tr>\n",
              "    <tr>\n",
              "      <th>6</th>\n",
              "      <td>{'URL': 'http://dx.doi.org/10.1046/j.1440-1665...</td>\n",
              "      <td>10.1046/j.1440-1665.2002.t01-1-00428.x</td>\n",
              "      <td>[{'given': 'Bob', 'family': 'Adler', 'sequence...</td>\n",
              "      <td>1</td>\n",
              "      <td>[[{'name': 'Melbourne, Victoria'}]]</td>\n",
              "      <td>1</td>\n",
              "      <td>[Melbourne, Victoria]</td>\n",
              "      <td>1</td>\n",
              "      <td>[Melbourne, Victoria]</td>\n",
              "      <td>[Melbourne, Victoria]</td>\n",
              "      <td>[melbourne, victoria]</td>\n",
              "      <td>[]</td>\n",
              "    </tr>\n",
              "    <tr>\n",
              "      <th>7</th>\n",
              "      <td>{'abstract': '&lt;jats:p&gt;Nonresonant manipulation...</td>\n",
              "      <td>10.1126/science.1072245</td>\n",
              "      <td>[{'given': 'Thilo M.', 'family': 'Brill', 'seq...</td>\n",
              "      <td>8</td>\n",
              "      <td>[[{'name': 'Schlumberger-Doll Research, 36 Old...</td>\n",
              "      <td>8</td>\n",
              "      <td>[Schlumberger-Doll Research, 36 Old Quarry Roa...</td>\n",
              "      <td>1</td>\n",
              "      <td>[SchlumbergerDoll Research, 36 Old Quarry Road...</td>\n",
              "      <td>[SchlumbergerDoll Research, 36 Old Quarry Road...</td>\n",
              "      <td>[schlumbergerdoll research, 36 old quarry road...</td>\n",
              "      <td>[]</td>\n",
              "    </tr>\n",
              "    <tr>\n",
              "      <th>11</th>\n",
              "      <td>{'URL': 'http://dx.doi.org/10.1161/01.cir.0000...</td>\n",
              "      <td>10.1161/01.cir.0000019680.58760.ac</td>\n",
              "      <td>[{'given': 'Ruth', 'family': 'SoRelle', 'seque...</td>\n",
              "      <td>1</td>\n",
              "      <td>[[{'name': 'Circulation Newswriter'}]]</td>\n",
              "      <td>1</td>\n",
              "      <td>[Circulation Newswriter]</td>\n",
              "      <td>1</td>\n",
              "      <td>[Circulation Newswriter]</td>\n",
              "      <td>[Circulation Newswriter]</td>\n",
              "      <td>[circulation newswriter]</td>\n",
              "      <td>[]</td>\n",
              "    </tr>\n",
              "    <tr>\n",
              "      <th>23</th>\n",
              "      <td>{'URL': 'http://dx.doi.org/10.1021/op0255130',...</td>\n",
              "      <td>10.1021/op0255130</td>\n",
              "      <td>[{'given': 'Bryan H.', 'family': 'Landis', 'se...</td>\n",
              "      <td>4</td>\n",
              "      <td>[[{'name': 'Bioprocess and Formulation Technol...</td>\n",
              "      <td>4</td>\n",
              "      <td>[Bioprocess and Formulation Technology, Pharma...</td>\n",
              "      <td>1</td>\n",
              "      <td>[Bioprocess and Formulation Technology, Pharma...</td>\n",
              "      <td>[Bioprocess and Formulation Technology, Pharma...</td>\n",
              "      <td>[bioprocess and formulation technology, pharma...</td>\n",
              "      <td>[]</td>\n",
              "    </tr>\n",
              "    <tr>\n",
              "      <th>...</th>\n",
              "      <td>...</td>\n",
              "      <td>...</td>\n",
              "      <td>...</td>\n",
              "      <td>...</td>\n",
              "      <td>...</td>\n",
              "      <td>...</td>\n",
              "      <td>...</td>\n",
              "      <td>...</td>\n",
              "      <td>...</td>\n",
              "      <td>...</td>\n",
              "      <td>...</td>\n",
              "      <td>...</td>\n",
              "    </tr>\n",
              "    <tr>\n",
              "      <th>2401</th>\n",
              "      <td>{'URL': 'http://dx.doi.org/10.1109/ieem55944.2...</td>\n",
              "      <td>10.1109/ieem55944.2022.9989784</td>\n",
              "      <td>[{'given': 'F. I.', 'family': 'Mahlidah', 'seq...</td>\n",
              "      <td>4</td>\n",
              "      <td>[[{'name': 'Bank Rakyat Indonesia (BRI),Digita...</td>\n",
              "      <td>4</td>\n",
              "      <td>[Bank Rakyat Indonesia (BRI),BRILink Network D...</td>\n",
              "      <td>2</td>\n",
              "      <td>[Bank Rakyat Indonesia ,BRILink Network Divisi...</td>\n",
              "      <td>[Bank Rakyat Indonesia ,Digital Banking Develo...</td>\n",
              "      <td>[bank rakyat indonesia, digital banking develo...</td>\n",
              "      <td>[]</td>\n",
              "    </tr>\n",
              "    <tr>\n",
              "      <th>2420</th>\n",
              "      <td>{'URL': 'http://dx.doi.org/10.1109/issrew55968...</td>\n",
              "      <td>10.1109/issrew55968.2022.00047</td>\n",
              "      <td>[{'given': 'Noah', 'family': 'Lee', 'sequence'...</td>\n",
              "      <td>3</td>\n",
              "      <td>[[{'name': 'Meta Platforms, Inc.,Menlo Park,US...</td>\n",
              "      <td>3</td>\n",
              "      <td>[Meta Platforms, Inc.,Bellevue,USA, Meta Platf...</td>\n",
              "      <td>2</td>\n",
              "      <td>[Meta Platforms, Inc,Bellevue,USA, Meta Platfo...</td>\n",
              "      <td>[Meta Platforms, Inc,Bellevue,USA, Meta Platfo...</td>\n",
              "      <td>[meta platforms, bellevue, usa, meta platforms...</td>\n",
              "      <td>[]</td>\n",
              "    </tr>\n",
              "    <tr>\n",
              "      <th>2424</th>\n",
              "      <td>{'URL': 'http://dx.doi.org/10.1109/iros47612.2...</td>\n",
              "      <td>10.1109/iros47612.2022.9981351</td>\n",
              "      <td>[{'given': 'Hamza', 'family': 'Khan', 'sequenc...</td>\n",
              "      <td>7</td>\n",
              "      <td>[[{'name': 'Retrocausal, Inc.,Redmond,WA,USA,9...</td>\n",
              "      <td>7</td>\n",
              "      <td>[Retrocausal, Inc.,Redmond,WA,USA,98052]</td>\n",
              "      <td>1</td>\n",
              "      <td>[Retrocausal, Inc,Redmond,WA,USA,98052]</td>\n",
              "      <td>[Retrocausal, Inc,Redmond,WA,USA,98052]</td>\n",
              "      <td>[retrocausal, redmond, wa, usa, 98052]</td>\n",
              "      <td>[]</td>\n",
              "    </tr>\n",
              "    <tr>\n",
              "      <th>2455</th>\n",
              "      <td>{'URL': 'http://dx.doi.org/10.4009/jsdt.55.740...</td>\n",
              "      <td>10.4009/jsdt.55.740</td>\n",
              "      <td>[{'given': 'Masaki', 'family': 'Ohya', 'sequen...</td>\n",
              "      <td>1</td>\n",
              "      <td>[[{'name': '和歌山県立医科大学腎臓内科学講座'}]]</td>\n",
              "      <td>1</td>\n",
              "      <td>[和歌山県立医科大学腎臓内科学講座]</td>\n",
              "      <td>1</td>\n",
              "      <td>[和歌山県立医科大学腎臓内科学講座]</td>\n",
              "      <td>[和歌山県立医科大学腎臓内科学講座]</td>\n",
              "      <td>[和歌山県立医科大学腎臓内科学講座]</td>\n",
              "      <td>[]</td>\n",
              "    </tr>\n",
              "    <tr>\n",
              "      <th>2456</th>\n",
              "      <td>{'URL': 'http://dx.doi.org/10.4011/shikizai.95...</td>\n",
              "      <td>10.4011/shikizai.95.392</td>\n",
              "      <td>[{'given': 'Shingo', 'family': 'NAKANE', 'sequ...</td>\n",
              "      <td>1</td>\n",
              "      <td>[[{'name': 'Nippon Electric Glass Co.,Ltd.'}]]</td>\n",
              "      <td>1</td>\n",
              "      <td>[Nippon Electric Glass Co.,Ltd.]</td>\n",
              "      <td>1</td>\n",
              "      <td>[Nippon Electric Glass Co,Ltd]</td>\n",
              "      <td>[Nippon Electric Glass Co,Ltd]</td>\n",
              "      <td>[nippon electric glass co, ltd]</td>\n",
              "      <td>[]</td>\n",
              "    </tr>\n",
              "  </tbody>\n",
              "</table>\n",
              "<p>210 rows × 12 columns</p>\n",
              "</div>"
            ],
            "text/plain": [
              "                                                  items  \\\n",
              "5     {'URL': 'http://dx.doi.org/10.1126/science.296...   \n",
              "6     {'URL': 'http://dx.doi.org/10.1046/j.1440-1665...   \n",
              "7     {'abstract': '<jats:p>Nonresonant manipulation...   \n",
              "11    {'URL': 'http://dx.doi.org/10.1161/01.cir.0000...   \n",
              "23    {'URL': 'http://dx.doi.org/10.1021/op0255130',...   \n",
              "...                                                 ...   \n",
              "2401  {'URL': 'http://dx.doi.org/10.1109/ieem55944.2...   \n",
              "2420  {'URL': 'http://dx.doi.org/10.1109/issrew55968...   \n",
              "2424  {'URL': 'http://dx.doi.org/10.1109/iros47612.2...   \n",
              "2455  {'URL': 'http://dx.doi.org/10.4009/jsdt.55.740...   \n",
              "2456  {'URL': 'http://dx.doi.org/10.4011/shikizai.95...   \n",
              "\n",
              "                                         DOI  \\\n",
              "5             10.1126/science.296.5576.2123a   \n",
              "6     10.1046/j.1440-1665.2002.t01-1-00428.x   \n",
              "7                    10.1126/science.1072245   \n",
              "11        10.1161/01.cir.0000019680.58760.ac   \n",
              "23                         10.1021/op0255130   \n",
              "...                                      ...   \n",
              "2401          10.1109/ieem55944.2022.9989784   \n",
              "2420          10.1109/issrew55968.2022.00047   \n",
              "2424          10.1109/iros47612.2022.9981351   \n",
              "2455                     10.4009/jsdt.55.740   \n",
              "2456                 10.4011/shikizai.95.392   \n",
              "\n",
              "                                                authors  # authors  \\\n",
              "5     [{'given': 'Wayne', 'family': 'Kondro', 'seque...          1   \n",
              "6     [{'given': 'Bob', 'family': 'Adler', 'sequence...          1   \n",
              "7     [{'given': 'Thilo M.', 'family': 'Brill', 'seq...          8   \n",
              "11    [{'given': 'Ruth', 'family': 'SoRelle', 'seque...          1   \n",
              "23    [{'given': 'Bryan H.', 'family': 'Landis', 'se...          4   \n",
              "...                                                 ...        ...   \n",
              "2401  [{'given': 'F. I.', 'family': 'Mahlidah', 'seq...          4   \n",
              "2420  [{'given': 'Noah', 'family': 'Lee', 'sequence'...          3   \n",
              "2424  [{'given': 'Hamza', 'family': 'Khan', 'sequenc...          7   \n",
              "2455  [{'given': 'Masaki', 'family': 'Ohya', 'sequen...          1   \n",
              "2456  [{'given': 'Shingo', 'family': 'NAKANE', 'sequ...          1   \n",
              "\n",
              "                                           affiliations  # Affil  \\\n",
              "5      [[{'name': 'Wayne Kondro writes from Ottawa.'}]]        1   \n",
              "6                   [[{'name': 'Melbourne, Victoria'}]]        1   \n",
              "7     [[{'name': 'Schlumberger-Doll Research, 36 Old...        8   \n",
              "11               [[{'name': 'Circulation Newswriter'}]]        1   \n",
              "23    [[{'name': 'Bioprocess and Formulation Technol...        4   \n",
              "...                                                 ...      ...   \n",
              "2401  [[{'name': 'Bank Rakyat Indonesia (BRI),Digita...        4   \n",
              "2420  [[{'name': 'Meta Platforms, Inc.,Menlo Park,US...        3   \n",
              "2424  [[{'name': 'Retrocausal, Inc.,Redmond,WA,USA,9...        7   \n",
              "2455                   [[{'name': '和歌山県立医科大学腎臓内科学講座'}]]        1   \n",
              "2456     [[{'name': 'Nippon Electric Glass Co.,Ltd.'}]]        1   \n",
              "\n",
              "                                              uniqueAff  # uniqueAff  \\\n",
              "5                    [Wayne Kondro writes from Ottawa.]            1   \n",
              "6                                 [Melbourne, Victoria]            1   \n",
              "7     [Schlumberger-Doll Research, 36 Old Quarry Roa...            1   \n",
              "11                             [Circulation Newswriter]            1   \n",
              "23    [Bioprocess and Formulation Technology, Pharma...            1   \n",
              "...                                                 ...          ...   \n",
              "2401  [Bank Rakyat Indonesia (BRI),BRILink Network D...            2   \n",
              "2420  [Meta Platforms, Inc.,Bellevue,USA, Meta Platf...            2   \n",
              "2424           [Retrocausal, Inc.,Redmond,WA,USA,98052]            1   \n",
              "2455                                 [和歌山県立医科大学腎臓内科学講座]            1   \n",
              "2456                   [Nippon Electric Glass Co.,Ltd.]            1   \n",
              "\n",
              "                                             uniqueAff1  \\\n",
              "5                          [Wayne Kondro writes Ottawa]   \n",
              "6                                 [Melbourne, Victoria]   \n",
              "7     [SchlumbergerDoll Research, 36 Old Quarry Road...   \n",
              "11                             [Circulation Newswriter]   \n",
              "23    [Bioprocess and Formulation Technology, Pharma...   \n",
              "...                                                 ...   \n",
              "2401  [Bank Rakyat Indonesia ,BRILink Network Divisi...   \n",
              "2420  [Meta Platforms, Inc,Bellevue,USA, Meta Platfo...   \n",
              "2424            [Retrocausal, Inc,Redmond,WA,USA,98052]   \n",
              "2455                                 [和歌山県立医科大学腎臓内科学講座]   \n",
              "2456                     [Nippon Electric Glass Co,Ltd]   \n",
              "\n",
              "                                             uniqueAff2  \\\n",
              "5                          [Wayne Kondro writes Ottawa]   \n",
              "6                                 [Melbourne, Victoria]   \n",
              "7     [SchlumbergerDoll Research, 36 Old Quarry Road...   \n",
              "11                             [Circulation Newswriter]   \n",
              "23    [Bioprocess and Formulation Technology, Pharma...   \n",
              "...                                                 ...   \n",
              "2401  [Bank Rakyat Indonesia ,Digital Banking Develo...   \n",
              "2420  [Meta Platforms, Inc,Bellevue,USA, Meta Platfo...   \n",
              "2424            [Retrocausal, Inc,Redmond,WA,USA,98052]   \n",
              "2455                                 [和歌山県立医科大学腎臓内科学講座]   \n",
              "2456                     [Nippon Electric Glass Co,Ltd]   \n",
              "\n",
              "                                             uniqueAff4 Dictionary  \n",
              "5                          [wayne kondro writes ottawa]         []  \n",
              "6                                 [melbourne, victoria]         []  \n",
              "7     [schlumbergerdoll research, 36 old quarry road...         []  \n",
              "11                             [circulation newswriter]         []  \n",
              "23    [bioprocess and formulation technology, pharma...         []  \n",
              "...                                                 ...        ...  \n",
              "2401  [bank rakyat indonesia, digital banking develo...         []  \n",
              "2420  [meta platforms, bellevue, usa, meta platforms...         []  \n",
              "2424             [retrocausal, redmond, wa, usa, 98052]         []  \n",
              "2455                                 [和歌山県立医科大学腎臓内科学講座]         []  \n",
              "2456                    [nippon electric glass co, ltd]         []  \n",
              "\n",
              "[210 rows x 12 columns]"
            ]
          },
          "execution_count": 65,
          "metadata": {},
          "output_type": "execute_result"
        }
      ],
      "source": [
        "affilDF.iloc[notInList]"
      ]
    },
    {
      "cell_type": "code",
      "execution_count": 66,
      "metadata": {},
      "outputs": [
        {
          "data": {
            "text/plain": [
              "2254"
            ]
          },
          "execution_count": 66,
          "metadata": {},
          "output_type": "execute_result"
        }
      ],
      "source": [
        "len(affilDF)  - len(notInList)"
      ]
    },
    {
      "cell_type": "code",
      "execution_count": 67,
      "metadata": {},
      "outputs": [
        {
          "data": {
            "text/plain": [
              "210"
            ]
          },
          "execution_count": 67,
          "metadata": {},
          "output_type": "execute_result"
        }
      ],
      "source": [
        "len(notInList)"
      ]
    },
    {
      "attachments": {},
      "cell_type": "markdown",
      "metadata": {},
      "source": [
        "# affilDF1 ['DOI', 'affiliations', 'Dictionary','uniqueAff4', 'uniqueAff2','# authors','# uniqueAff']"
      ]
    },
    {
      "cell_type": "code",
      "execution_count": 68,
      "metadata": {},
      "outputs": [],
      "source": [
        "affilDF1 = affilDF[['DOI', 'affiliations', 'Dictionary','uniqueAff4', 'uniqueAff2','# authors','# uniqueAff']]"
      ]
    },
    {
      "attachments": {},
      "cell_type": "markdown",
      "metadata": {},
      "source": [
        "## New column: category based on the labels "
      ]
    },
    {
      "cell_type": "code",
      "execution_count": 69,
      "metadata": {},
      "outputs": [],
      "source": [
        "category = [', '.join(list(set([x[1] for x in affilDF1['Dictionary'].iloc[i]]))) for i in range(len(affilDF1))]\n",
        "    \n"
      ]
    },
    {
      "cell_type": "code",
      "execution_count": 70,
      "metadata": {},
      "outputs": [],
      "source": [
        "affilDF1 = affilDF1.copy()"
      ]
    },
    {
      "cell_type": "code",
      "execution_count": 71,
      "metadata": {},
      "outputs": [],
      "source": [
        "affilDF1.loc[:, 'category'] = category\n"
      ]
    },
    {
      "attachments": {},
      "cell_type": "markdown",
      "metadata": {},
      "source": [
        "### new label: rest"
      ]
    },
    {
      "cell_type": "code",
      "execution_count": 72,
      "metadata": {},
      "outputs": [],
      "source": [
        "for i in range(len(affilDF1)):\n",
        "    if len(affilDF1['category'].iloc[i]) == 0:\n",
        "        affilDF1.iloc[i, affilDF1.columns.get_loc('category')] = 'Rest'\n"
      ]
    },
    {
      "cell_type": "code",
      "execution_count": 73,
      "metadata": {},
      "outputs": [],
      "source": [
        "affiliationsSimple = [list(set([x[0] for x in affilDF1['Dictionary'].iloc[i]])) for i in range(len(affilDF1))]"
      ]
    },
    {
      "cell_type": "code",
      "execution_count": 74,
      "metadata": {},
      "outputs": [],
      "source": [
        "city_names = [\"Aberdeen\", \"Abilene\", \"Akron\", \"Albany\", \"Albuquerque\", \"Alexandria\", \"Allentown\", \"Amarillo\", \"Anaheim\", \"Anchorage\", \"Ann Arbor\", \"Antioch\", \"Apple Valley\", \"Appleton\", \"Arlington\", \"Arvada\", \"Asheville\", \"Athens\", \"Atlanta\", \"Atlantic City\", \"Augusta\", \"Aurora\", \"Austin\", \"Bakersfield\", \"Baltimore\", \"Barnstable\", \"Baton Rouge\", \"Beaumont\", \"Bel Air\", \"Bellevue\", \"Berkeley\", \"Bethlehem\", \"Billings\", \"Birmingham\", \"Bloomington\", \"Boise\", \"Boise City\", \"Bonita Springs\", \"Boston\", \"Boulder\", \"Bradenton\", \"Bremerton\", \"Bridgeport\", \"Brighton\", \"Brownsville\", \"Bryan\", \"Buffalo\", \"Burbank\", \"Burlington\", \"Cambridge\", \"Canton\", \"Cape Coral\", \"Carrollton\", \"Cary\", \"Cathedral City\", \"Cedar Rapids\", \"Champaign\", \"Chandler\", \"Charleston\", \"Charlotte\", \"Chattanooga\", \"Chesapeake\", \"Chicago\", \"Chula Vista\", \"Cincinnati\", \"Clarke County\", \"Clarksville\", \"Clearwater\", \"Cleveland\", \"College Station\", \"Colorado Springs\", \"Columbia\", \"Columbus\", \"Concord\", \"Coral Springs\", \"Corona\", \"Corpus Christi\", \"Costa Mesa\", \"Dallas\", \"Daly City\", \"Danbury\", \"Davenport\", \"Davidson County\", \"Dayton\", \"Daytona Beach\", \"Deltona\", \"Denton\", \"Denver\", \"Des Moines\", \"Detroit\", \"Downey\", \"Duluth\", \"Durham\", \"El Monte\", \"El Paso\", \"Elizabeth\", \"Elk Grove\", \"Elkhart\", \"Erie\", \"Escondido\", \"Eugene\", \"Evansville\", \"Fairfield\", \"Fargo\", \"Fayetteville\", \"Fitchburg\", \"Flint\", \"Fontana\", \"Fort Collins\", \"Fort Lauderdale\", \"Fort Smith\", \"Fort Walton Beach\", \"Fort Wayne\", \"Fort Worth\", \"Frederick\", \"Fremont\", \"Fresno\", \"Fullerton\", \"Gainesville\", \"Garden Grove\", \"Garland\", \"Gastonia\", \"Gilbert\", \"Glendale\", \"Grand Prairie\", \"Grand Rapids\", \"Grayslake\", \"Green Bay\", \"GreenBay\", \"Greensboro\", \"Greenville\", \"Gulfport-Biloxi\", \"Hagerstown\", \"Hampton\", \"Harlingen\", \"Harrisburg\", \"Hartford\", \"Havre de Grace\", \"Hayward\", \"Hemet\", \"Henderson\", \"Hesperia\", \"Hialeah\", \"Hickory\", \"High Point\", \"Hollywood\", \"Honolulu\", \"Houma\", \"Houston\", \"Howell\", \"Huntington\", \"Huntington Beach\", \"Huntsville\", \"Independence\", \"Indianapolis\", \"Inglewood\", \"Irvine\", \"Irving\", \"Jackson\", \"Jacksonville\", \"Jefferson\", \"Jersey City\", \"Johnson City\", \"Joliet\", \"Kailua\", \"Kalamazoo\", \"Kaneohe\", \"Kansas City\", \"Kennewick\", \"Kenosha\", \"Killeen\", \"Kissimmee\", \"Knoxville\", \"Lacey\", \"Lafayette\", \"Lake Charles\", \"Lakeland\", \"Lakewood\", \"Lancaster\", \"Lansing\", \"Laredo\", \"Las Cruces\", \"Las Vegas\", \"Layton\", \"Leominster\", \"Lewisville\", \"Lexington\", \"Lincoln\", \"Little Rock\", \"Long Beach\", \"Lorain\", \"Los Angeles\", \"Louisville\", \"Lowell\", \"Lubbock\", \"Macon\", \"Madison\", \"Manchester\", \"Marina\", \"Marysville\", \"McAllen\", \"McHenry\", \"Medford\", \"Melbourne\", \"Memphis\", \"Merced\", \"Mesa\", \"Mesquite\", \"Miami\", \"Milwaukee\", \"Minneapolis\", \"Miramar\", \"Mission Viejo\", \"Mobile\", \"Modesto\", \"Monroe\", \"Monterey\", \"Montgomery\", \"Moreno Valley\", \"Murfreesboro\", \"Murrieta\", \"Muskegon\", \"Myrtle Beach\", \"Naperville\", \"Naples\", \"Nashua\", \"Nashville\", \"New Bedford\", \"New Haven\", \"New London\", \"New Orleans\", \"New York\", \"New York City\", \"Newark\", \"Newburgh\", \"Newport News\", \"Norfolk\", \"Normal\", \"Norman\", \"North Charleston\", \"North Las Vegas\", \"North Port\", \"Norwalk\", \"Norwich\", \"Oakland\", \"Ocala\", \"Oceanside\", \"Odessa\", \"Ogden\", \"Oklahoma City\", \"Olathe\", \"Olympia\", \"Omaha\", \"Ontario\", \"Orange\", \"Orem\", \"Orlando\", \"Overland Park\", \"Oxnard\", \"Palm Bay\", \"Palm Springs\", \"Palmdale\", \"Panama City\", \"Pasadena\", \"Paterson\", \"Pembroke Pines\", \"Pensacola\", \"Peoria\", \"Philadelphia\", \"Phoenix\", \"Pittsburgh\", \"Plano\", \"Pomona\", \"Pompano Beach\", \"Port Arthur\", \"Port Orange\", \"Port Saint Lucie\", \"Port St. Lucie\", \"Portland\", \"Portsmouth\", \"Poughkeepsie\", \"Providence\", \"Provo\", \"Pueblo\", \"Punta Gorda\", \"Racine\", \"Raleigh\", \"Rancho Cucamonga\", \"Reading\", \"Redding\", \"Reno\", \"Richland\", \"Richmond\", \"Richmond County\", \"Riverside\", \"Roanoke\", \"Rochester\", \"Rockford\", \"Roseville\", \"Round Lake Beach\", \"Sacramento\", \"Saginaw\", \"Saint Louis\", \"Saint Paul\", \"Saint Petersburg\", \"Salem\", \"Salinas\", \"Salt Lake City\", \"San Antonio\", \"San Bernardino\", \"San Buenaventura\", \"San Diego\", \"San Francisco\", \"San Jose\", \"Santa Ana\", \"Santa Barbara\", \"Santa Clara\", \"Santa Clarita\", \"Santa Cruz\", \"Santa Maria\", \"Santa Rosa\", \"Sarasota\", \"Savannah\", \"Scottsdale\", \"Scranton\", \"Seaside\", \"Seattle\", \"Sebastian\", \"Shreveport\", \"Simi Valley\", \"Sioux City\", \"Sioux Falls\", \"South Bend\", \"South Lyon\", \"Spartanburg\", \"Spokane\", \"Springdale\", \"Springfield\", \"St. Louis\", \"St. Paul\", \"St. Petersburg\", \"Stamford\", \"Sterling Heights\", \"Stockton\", \"Sunnyvale\", \"Syracuse\", \"Tacoma\", \"Tallahassee\", \"Tampa\", \"Temecula\", \"Tempe\", \"Thornton\", \"Thousand Oaks\", \"Toledo\", \"Topeka\", \"Torrance\", \"Trenton\", \"Tucson\", \"Tulsa\", \"Tuscaloosa\", \"Tyler\", \"Utica\", \"Vallejo\", \"Vancouver\", \"Vero Beach\", \"Victorville\", \"Virginia Beach\", \"Visalia\", \"Waco\", \"Warren\", \"Washington\", \"Waterbury\", \"Waterloo\", \"West Covina\", \"West Valley City\", \"Westminster\", \"Wichita\", \"Wilmington\", \"Winston\", \"Winter Haven\", \"Worcester\", \"Yakima\", \"Yonkers\", \"York\", \"Youngstown\"]\n",
        "\n",
        "city_names = [x.lower() for x in city_names]"
      ]
    },
    {
      "cell_type": "code",
      "execution_count": 75,
      "metadata": {},
      "outputs": [],
      "source": [
        "new_affiliations = []\n",
        "for x in affiliationsSimple:\n",
        "    new_x = []\n",
        "    for elem in x:\n",
        "        if elem not in city_names:\n",
        "            new_x.append(elem)\n",
        "    new_affiliations.append(new_x)\n",
        "\n"
      ]
    },
    {
      "cell_type": "code",
      "execution_count": 76,
      "metadata": {},
      "outputs": [],
      "source": [
        "affilDF1.loc[:,'affilSimple'] = new_affiliations"
      ]
    },
    {
      "cell_type": "code",
      "execution_count": 77,
      "metadata": {},
      "outputs": [
        {
          "data": {
            "text/plain": [
              "210"
            ]
          },
          "execution_count": 77,
          "metadata": {},
          "output_type": "execute_result"
        }
      ],
      "source": [
        "len(affilDF1[affilDF1['category'] == 'Rest'])"
      ]
    },
    {
      "attachments": {},
      "cell_type": "markdown",
      "metadata": {},
      "source": [
        "# UNIVS & LABS"
      ]
    },
    {
      "cell_type": "code",
      "execution_count": 78,
      "metadata": {},
      "outputs": [],
      "source": [
        "univLabs = [i for i in range(len(affilDF1)) if 'Laboratory' in affilDF1['category'].iloc[i] \n",
        "            or 'Univ/Inst' in  affilDF1['category'].iloc[i]]"
      ]
    },
    {
      "cell_type": "code",
      "execution_count": 79,
      "metadata": {},
      "outputs": [],
      "source": [
        "\n",
        "univLabsDF = affilDF1.iloc[univLabs].copy()"
      ]
    },
    {
      "cell_type": "code",
      "execution_count": 80,
      "metadata": {},
      "outputs": [],
      "source": [
        "univLabsDF.reset_index(inplace = True)"
      ]
    },
    {
      "cell_type": "code",
      "execution_count": 81,
      "metadata": {},
      "outputs": [],
      "source": [
        "univLabsDF.drop(columns = ['index'], inplace = True)"
      ]
    },
    {
      "attachments": {},
      "cell_type": "markdown",
      "metadata": {},
      "source": [
        "# Load files from openAIRE"
      ]
    },
    {
      "cell_type": "code",
      "execution_count": 82,
      "metadata": {},
      "outputs": [],
      "source": [
        "with open('dixOpenAIRE_Alletc.pkl', 'rb') as f:\n",
        "    dixOpenAIRE_Alletc = pickle.load(f)\n"
      ]
    },
    {
      "attachments": {},
      "cell_type": "markdown",
      "metadata": {},
      "source": [
        "## Clean/modify the files"
      ]
    },
    {
      "cell_type": "code",
      "execution_count": 83,
      "metadata": {},
      "outputs": [],
      "source": [
        "dixOpenAIRE_Alletc1 =  {k.replace(',', ''): v for k, v in dixOpenAIRE_Alletc.items()}"
      ]
    },
    {
      "cell_type": "code",
      "execution_count": 84,
      "metadata": {},
      "outputs": [],
      "source": [
        "del dixOpenAIRE_Alletc1['laboratory']"
      ]
    },
    {
      "cell_type": "code",
      "execution_count": 85,
      "metadata": {},
      "outputs": [],
      "source": [
        "del dixOpenAIRE_Alletc1['university hospital']"
      ]
    },
    {
      "attachments": {},
      "cell_type": "markdown",
      "metadata": {},
      "source": [
        "# MATCHINGS"
      ]
    },
    {
      "attachments": {},
      "cell_type": "markdown",
      "metadata": {},
      "source": [
        "## Helper functions"
      ]
    },
    {
      "attachments": {},
      "cell_type": "markdown",
      "metadata": {},
      "source": [
        "### 'is_contained'"
      ]
    },
    {
      "cell_type": "code",
      "execution_count": 86,
      "metadata": {},
      "outputs": [],
      "source": [
        "def is_contained(s, w):\n",
        "    words = s.split()  # Split the string 's' into a list of words\n",
        "    for word in words:\n",
        "        if word not in w:  # If a word from 's' is not found in 'w'\n",
        "            return False  # Return False immediately\n",
        "    return True  # If all words from 's' are found in 'w', return True"
      ]
    },
    {
      "cell_type": "code",
      "execution_count": 87,
      "metadata": {},
      "outputs": [
        {
          "data": {
            "text/plain": [
              "1"
            ]
          },
          "execution_count": 87,
          "metadata": {},
          "output_type": "execute_result"
        }
      ],
      "source": [
        "'dfsdfdsfsf university sffgsdg'.count('university')"
      ]
    },
    {
      "cell_type": "code",
      "execution_count": 88,
      "metadata": {},
      "outputs": [],
      "source": [
        "l1 = ['university og gfdg', 'univ sdfdsfs dsfsdf', 'sdfdfsdf university', 'sdfdsf']"
      ]
    },
    {
      "cell_type": "code",
      "execution_count": 89,
      "metadata": {},
      "outputs": [
        {
          "data": {
            "text/plain": [
              "3"
            ]
          },
          "execution_count": 89,
          "metadata": {},
          "output_type": "execute_result"
        }
      ],
      "source": [
        "numUniv = sum([l1[i].count('univ') for i in range(len(l1))])\n",
        "numUniv\n"
      ]
    },
    {
      "cell_type": "code",
      "execution_count": 90,
      "metadata": {},
      "outputs": [
        {
          "data": {
            "text/plain": [
              "True"
            ]
          },
          "execution_count": 90,
          "metadata": {},
          "output_type": "execute_result"
        }
      ],
      "source": [
        "is_contained(\"univ\", 'university of athens')"
      ]
    },
    {
      "attachments": {},
      "cell_type": "markdown",
      "metadata": {},
      "source": [
        "### Correct the matchings"
      ]
    },
    {
      "cell_type": "code",
      "execution_count": 91,
      "metadata": {},
      "outputs": [],
      "source": [
        "def bestSimScore(l1, l2, l3):\n",
        "    vectorizer = CountVectorizer()\n",
        "    # l1 = ['Unique affiliations'].iloc[i]]\n",
        "    # l2 =  ['Matched openAIRE names'].iloc[i])]\n",
        "    # l3 = [pairs.iloc[i]]\n",
        "    numUniv = sum([(l1[i].lower()).count('univ') for i in range(len(l1))])\n",
        "    result = []\n",
        "    for i in range(len(l1)):\n",
        "        best = [] \n",
        "        s = l1[i]\n",
        "       # s_contains_university = is_contained(\"university\", s.lower())  \n",
        "        \n",
        "        if not is_contained(\"univ\", s.lower()):\n",
        "            continue  # Skip if s does not contain \"university\" or \"univ\"\n",
        "        \n",
        "    \n",
        "        for j in range(len(l2)):\n",
        "            x = l2[j]  \n",
        "              \n",
        "            if l3[j][2] >=0.99 and (is_contained(\"univ\", x.lower()) or is_contained(\"college\", x.lower()) or  is_contained(\"center\", x.lower())): # If the similarity score of a pair (s,x) was 1, we store it to results list\n",
        "                result.append([l2[j], 1])\n",
        "                \n",
        "            else:\n",
        "        #        x_contains_university = is_contained(\"university\", x.lower())\n",
        "                if not is_contained(\"univ\", x.lower()):\n",
        "                    continue  # Skip if x does not contain \"university\" or \"univ\"\n",
        "                \n",
        "            \n",
        "                x_vector = vectorizer.fit_transform([x]).toarray() #Else we compute the similarity of s with the original affiiation name\n",
        "                s_vector = vectorizer.transform([s]).toarray()\n",
        "\n",
        "                # Compute similarity between the vectors\n",
        "                similarity = cosine_similarity(x_vector, s_vector)[0][0]\n",
        "\n",
        "                best.append([l2[j], similarity])\n",
        "        \n",
        "        if best:\n",
        "            max_score = max(best, key=lambda x: x[1])[1]\n",
        "            max_results = [(x[0], x[1]) for x in best if x[1] == max_score]\n",
        "            if len(max_results) > 1:\n",
        "                max_results.sort(key=lambda x: (l2.index(x[0]), -x[1]), reverse=False)\n",
        "                result.append(max_results[-1])\n",
        "            else:\n",
        "                result.append(max_results[0])\n",
        "                \n",
        "    univ_list = []\n",
        "    other_list = []\n",
        "    \n",
        "    for r in result:\n",
        "        if is_contained('univ',r[0]):\n",
        "            univ_list.append(r)\n",
        "        else:\n",
        "            other_list.append(r)\n",
        "            \n",
        "    if len(univ_list)> numUniv:\n",
        "        result = univ_list[:numUniv] + other_list\n",
        "                \n",
        "    return result"
      ]
    },
    {
      "attachments": {},
      "cell_type": "markdown",
      "metadata": {},
      "source": [
        "## Main map"
      ]
    },
    {
      "cell_type": "code",
      "execution_count": 92,
      "metadata": {},
      "outputs": [],
      "source": [
        "def Doi_Pid(m, DF, dixOpenAIRE, simU, simG):\n",
        "    \n",
        "    \"\"\"\n",
        "    Matches affiliations in DataFrame 'DF' with names from dictionary 'dixOpenAIRE' and their PIDs based on similarity scores.\n",
        "\n",
        "    Args:\n",
        "        m (int): The number of DOIs to check.\n",
        "        DF (DataFrame): The input DataFrame containing affiliation data.\n",
        "        dixOpenAIRE (dict): A dictionary of names from OpenAIRE.\n",
        "        simU (float): Similarity threshold for universities.\n",
        "        simG (float): Similarity threshold for non-universities.\n",
        "\n",
        "    Returns:\n",
        "        DataFrame: The final DataFrame with matched affiliations and their corresponding similarity scores.\n",
        "    \"\"\"\n",
        "    \n",
        "    lnamelist = list(dixOpenAIRE.keys())\n",
        "    dix = {}\n",
        "    deiktes = []\n",
        "    vectorizer = CountVectorizer()\n",
        "    similarity_ab = []\n",
        "    pairs = []\n",
        "\n",
        "    for k in range(m):\n",
        "        similar_k = []\n",
        "        pairs_k = []\n",
        "\n",
        "        for s in DF['affilSimple'].iloc[k]:\n",
        "            if s in lnamelist:\n",
        "                deiktes.append(k)\n",
        "                similarity = 1\n",
        "                similar_k.append(similarity)\n",
        "                \n",
        "                pairs_k.append((s,s,similarity))\n",
        "                if k not in dix:\n",
        "                    dix[k] = [s]\n",
        "                else:\n",
        "                    dix[k].append(s)\n",
        "            else:\n",
        "\n",
        "                for x in lnamelist:\n",
        "                    \n",
        "                    if  is_contained(s, x):\n",
        "                        x_vector = vectorizer.fit_transform([x]).toarray()\n",
        "                        s_vector = vectorizer.transform([s]).toarray()\n",
        "\n",
        "                        # Compute similarity between the vectors\n",
        "                        similarity = cosine_similarity(x_vector, s_vector)[0][0]\n",
        "                        if similarity > min(simU, simG):\n",
        "                            if (is_contained('univ', s) and is_contained('univ', x)) and similarity> simU:\n",
        "                                similar_k.append(similarity)\n",
        "                                deiktes.append(k)\n",
        "                                pairs_k.append((s,x,similarity))\n",
        "\n",
        "\n",
        "                                if k not in dix:\n",
        "                                    dix[k] = [x]\n",
        "                                else:\n",
        "                                    dix[k].append(x)\n",
        "                            elif (not is_contained('univ', s) and not is_contained('univ', x)) and similarity> simG:\n",
        "                                similar_k.append(similarity)\n",
        "                                deiktes.append(k)\n",
        "                                pairs_k.append((s,x,similarity))\n",
        "\n",
        "\n",
        "                                if k not in dix:\n",
        "                                    dix[k] = [x]\n",
        "                                else:\n",
        "                                    dix[k].append(x)\n",
        "                    elif is_contained(x, s):\n",
        "                        if (is_contained('univ', s) and is_contained('univ', x)):\n",
        "\n",
        "                            if 'and' in s:\n",
        "                                list_s = s.split(' and ')\n",
        "                                for t in list_s:\n",
        "                                    if is_contained(x, t) and is_contained('univ', t):\n",
        "                                        t_vector = vectorizer.fit_transform([t]).toarray()\n",
        "                                        x_vector = vectorizer.transform([x]).toarray()\n",
        "\n",
        "                            # Compute similarity between the vectors\n",
        "                                        similarity = cosine_similarity(t_vector, x_vector)[0][0]\n",
        "                                        if similarity > simU:\n",
        "                                            similar_k.append(similarity)\n",
        "                                            deiktes.append(k)\n",
        "                                            pairs_k.append((s,x,similarity))\n",
        "\n",
        "\n",
        "                                            if k not in dix:\n",
        "                                                dix[k] = [x]\n",
        "                                            else:\n",
        "                                                dix[k].append(x)\n",
        "                            \n",
        "                            else: \n",
        "                                s_vector = vectorizer.fit_transform([s]).toarray()\n",
        "                                x_vector = vectorizer.transform([x]).toarray()\n",
        "\n",
        "                                # Compute similarity between the vectors\n",
        "                                similarity = cosine_similarity(s_vector, x_vector)[0][0]\n",
        "                                if similarity > 0.81: #max(0.82,sim):\n",
        "                                    similar_k.append(similarity)\n",
        "                                    deiktes.append(k)\n",
        "                                    pairs_k.append((s,x,similarity))\n",
        "\n",
        "\n",
        "                                    if k not in dix:\n",
        "                                        dix[k] = [x]\n",
        "                                    else:\n",
        "                                        dix[k].append(x)\n",
        "                        elif not is_contained('univ', s) and not is_contained('univ', x):\n",
        "                            if 'and' in s:\n",
        "                                list_s = s.split(' and ')\n",
        "                                for t in list_s:\n",
        "                                    if is_contained(x, t):\n",
        "                                        t_vector = vectorizer.fit_transform([t]).toarray()\n",
        "                                        x_vector = vectorizer.transform([x]).toarray()\n",
        "\n",
        "                            # Compute similarity between the vectors\n",
        "                                        similarity = cosine_similarity(t_vector, x_vector)[0][0]\n",
        "                                        if similarity > simG:\n",
        "                                            similar_k.append(similarity)\n",
        "                                            deiktes.append(k)\n",
        "                                            pairs_k.append((s,x,similarity))\n",
        "\n",
        "\n",
        "                                            if k not in dix:\n",
        "                                                dix[k] = [x]\n",
        "                                            else:\n",
        "                                                dix[k].append(x)\n",
        "                            \n",
        "                            else: \n",
        "                                s_vector = vectorizer.fit_transform([s]).toarray()\n",
        "                                x_vector = vectorizer.transform([x]).toarray()\n",
        "\n",
        "                                # Compute similarity between the vectors\n",
        "                                similarity = cosine_similarity(s_vector, x_vector)[0][0]\n",
        "                                if similarity > simG: #max(0.82,sim):\n",
        "                                    similar_k.append(similarity)\n",
        "                                    deiktes.append(k)\n",
        "                                    pairs_k.append((s,x,similarity))\n",
        "\n",
        "\n",
        "                                    if k not in dix:\n",
        "                                        dix[k] = [x]\n",
        "                                    else:\n",
        "                                        dix[k].append(x)\n",
        "                            \n",
        "        similarity_ab.append(similar_k)   \n",
        "        similarity_ab = [lst for lst in similarity_ab if lst != []]\n",
        "        pairs.append(pairs_k)\n",
        "        \n",
        "    perc = 100*len(dix)/m\n",
        "    \n",
        "    dixDoiAff = {DF['DOI'].iloc[key]: value for key, value in dix.items()}\n",
        "    dixDoiPid = {key : [dixOpenAIRE[x] for x in value if x in  lnamelist] for key , value in dixDoiAff.items()}\n",
        "    \n",
        "    dixDoiPid = {key : [dixOpenAIRE[x] for x in value] for key , value in dixDoiAff.items()}\n",
        "    \n",
        "## Define the new Dataframe\n",
        "    \n",
        "    doiPidDF = pd.DataFrame()\n",
        "    doiPidDF['DOI'] = list(dixDoiPid.keys())\n",
        "    doiPidDF['Affiliations'] = list(DF['affiliations'].iloc[list(set(deiktes))])\n",
        "\n",
        "    doiPidDF['Unique affiliations'] = list(DF['uniqueAff2'].iloc[list(set(deiktes))])\n",
        "    \n",
        "    doiPidDF['# Authors'] = list(DF['# authors'].iloc[list(set(deiktes))])\n",
        "\n",
        "\n",
        "    doiPidDF['# Unique affiliations'] = list(DF['# uniqueAff'].iloc[list(set(deiktes))])\n",
        "\n",
        "    doiPidDF['Candidates for matching'] = list(DF['affilSimple'].iloc[list(set(deiktes))])\n",
        "\n",
        "    doiPidDF['Matched openAIRE names'] = list(dix.values())\n",
        "    doiPidDF['# Matched PIDs'] = [len(list(dix.values())[i]) for i in range(len(list(dix.values())))]\n",
        "\n",
        "    doiPidDF['Similarity score'] = similarity_ab\n",
        "    perfectSim = [[1 if num >= 1 else 0 for num in inner_list] for inner_list in similarity_ab]\n",
        "\n",
        "    doiPidDF['Perfect match'] = perfectSim\n",
        "    perfectSimSum = [sum(x) for x in perfectSim]\n",
        "    doiPidDF['Perfect sum'] = perfectSimSum\n",
        "    Pairs = [lst for lst in pairs if lst]\n",
        "    doiPidDF['Pairs'] = Pairs\n",
        "    \n",
        "\n",
        "\n",
        "## Correct the matchings\n",
        "    \n",
        "    needCheck = [i for i  in range(len(doiPidDF)) if doiPidDF['# Matched PIDs'].iloc[i] - max(doiPidDF['# Authors'].iloc[i],doiPidDF['# Unique affiliations'].iloc[i]) >0]\n",
        "    ready = [i for i in range(len(doiPidDF)) if i not in needCheck]\n",
        "   \n",
        "    best = [ bestSimScore(doiPidDF['Unique affiliations'].iloc[i], doiPidDF['Matched openAIRE names'].iloc[i], doiPidDF['Pairs'].iloc[i]) for i in needCheck]\n",
        "    best_o = []\n",
        "    best_s = []\n",
        "    \n",
        "    for x in best:\n",
        "        best_o.append([x[i][0]  for i in range(len(x))])\n",
        "        best_s.append([round(x[i][1],2)  for i in range(len(x))])\n",
        "    numMathced = [len(best_s[i]) for i in range(len(needCheck))]\n",
        "    \n",
        "\n",
        "    \n",
        "    dfFinal0 = (doiPidDF.iloc[ready]).copy()\n",
        "    dfFinal0['index'] = ready\n",
        "    \n",
        "    dfFinal2 = (doiPidDF.iloc[needCheck]).copy()\n",
        "    dfFinal2['index'] = needCheck\n",
        "    dfFinal2['Matched openAIRE names'] = best_o\n",
        "    dfFinal2['Similarity score'] = best_s\n",
        "    dfFinal2['# Matched PIDs'] = numMathced\n",
        "    \n",
        "    finalDF =  pd.concat([dfFinal0, dfFinal2])\n",
        "    finalDF.set_index('index', inplace=True)\n",
        "    finalDF.sort_values('index', ascending=True, inplace = True)\n",
        "\n",
        "    \n",
        "    \n",
        "    return [perc, finalDF]\n",
        "    \n"
      ]
    },
    {
      "cell_type": "code",
      "execution_count": 93,
      "metadata": {},
      "outputs": [],
      "source": [
        "result = Doi_Pid(150, univLabsDF, dixOpenAIRE_Alletc1, 0.7,0.82)"
      ]
    },
    {
      "attachments": {},
      "cell_type": "markdown",
      "metadata": {},
      "source": [
        "# HTML"
      ]
    },
    {
      "cell_type": "code",
      "execution_count": 96,
      "metadata": {},
      "outputs": [],
      "source": [
        "mydf = result[1]\n",
        "myDF = mydf[[\"Unique affiliations\",'# Authors','# Unique affiliations', '# Matched PIDs','Candidates for matching', 'Matched openAIRE names', 'Similarity score']]"
      ]
    },
    {
      "cell_type": "code",
      "execution_count": 97,
      "metadata": {},
      "outputs": [
        {
          "data": {
            "text/markdown": [
              "App saved to ./matching4.html"
            ],
            "text/plain": [
              "<IPython.core.display.Markdown object>"
            ]
          },
          "metadata": {},
          "output_type": "display_data"
        }
      ],
      "source": [
        "app = dp.App(dp.Page(title=\"matching\", blocks= [dp.Text('Matched '+str(result[0])+'%'), dp.Text('DOIs with aff. in Univ/Inst, Laboratories'), dp.Table(myDF),  \n",
        "                                               \n",
        "                     ]\n",
        "             ))\n",
        "    \n",
        "\n",
        "\n",
        "   \n",
        "app.save(path=\"matching4.html\", open=True)"
      ]
    },
    {
      "cell_type": "code",
      "execution_count": null,
      "metadata": {},
      "outputs": [],
      "source": []
    }
  ],
  "metadata": {
    "kernelspec": {
      "display_name": "base",
      "language": "python",
      "name": "python3"
    },
    "language_info": {
      "codemirror_mode": {
        "name": "ipython",
        "version": 3
      },
      "file_extension": ".py",
      "mimetype": "text/x-python",
      "name": "python",
      "nbconvert_exporter": "python",
      "pygments_lexer": "ipython3",
      "version": "3.9.13"
    },
    "name": "beginners_kit_zeppelin_notebook"
  },
  "nbformat": 4,
  "nbformat_minor": 2
}
